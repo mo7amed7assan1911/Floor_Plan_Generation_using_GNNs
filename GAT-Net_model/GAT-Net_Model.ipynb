{
 "cells": [
  {
   "cell_type": "markdown",
   "id": "831d3947",
   "metadata": {
    "papermill": {
     "duration": 0.010915,
     "end_time": "2023-04-30T10:20:23.556178",
     "exception": false,
     "start_time": "2023-04-30T10:20:23.545263",
     "status": "completed"
    },
    "tags": []
   },
   "source": [
    "# GAT-Net model\n",
    "## A Residual Graph Attention Network for Floor Plan Analysis.\n",
    "\n",
    "### Table of Contents\n",
    "<ul>\n",
    "<li><a href=\"#intro\">Introduction</a></li>\n",
    "    <ul>\n",
    "        <li><a href=\"#Imports\">Imports</a></li>\n",
    "        <li><a href=\"#func\">Functions used</a></li>\n",
    "    </ul>\n",
    "<li><a href=\"#wrangling\">Data Wrangling</a></li>\n",
    "<li><a href=\"#model\">GAT-Net model</a></li>\n",
    "    <ul>\n",
    "        <li><a href=\"#dataLoader\">Data Loader</a></li>\n",
    "        <li><a href=\"#archi\">Architecture</a></li>\n",
    "        <li><a href=\"#train\">Training</a></li> \n",
    "    </ul>\n",
    "</ul>"
   ]
  },
  {
   "cell_type": "markdown",
   "id": "4fb79d23",
   "metadata": {
    "papermill": {
     "duration": 0.009277,
     "end_time": "2023-04-30T10:20:23.575117",
     "exception": false,
     "start_time": "2023-04-30T10:20:23.565840",
     "status": "completed"
    },
    "tags": []
   },
   "source": [
    "<a id='intro'></a>\n",
    "## Introduction\n",
    "\n",
    "* In this notebook, we will implement the GAT-Net model for floor plan analysis and room size estimation.\n",
    "* The model is trained on:\n",
    "   * The graph version of the RPlan dataset.\n",
    "     * The Image - Source version - of Rplan dataset is [here](http://staff.ustc.edu.cn/~fuxm/projects/DeepLayout/index.html)\n",
    "     * The Graph version of RPlan dataset is created using the generating-graphs notebook. You can find it [here]()\n",
    "   * Nvidia P100 GPU.\n",
    "   * Core of the model is the Graph Attention Network (GAT) layers.\n",
    "\n",
    "> The Graph version of RPlan dataset is created using the generating-graphs.ipynb notebook. **You can find it in the Creating_Data folder.**"
   ]
  },
  {
   "cell_type": "markdown",
   "id": "dcb4f19a",
   "metadata": {
    "papermill": {
     "duration": 0.009341,
     "end_time": "2023-04-30T10:20:23.623523",
     "exception": false,
     "start_time": "2023-04-30T10:20:23.614182",
     "status": "completed"
    },
    "tags": []
   },
   "source": [
    "<a id='Imports'></a>\n",
    "### Imports"
   ]
  },
  {
   "cell_type": "code",
   "execution_count": 1,
   "id": "a7b7187a",
   "metadata": {
    "execution": {
     "iopub.execute_input": "2023-04-30T10:20:23.643406Z",
     "iopub.status.busy": "2023-04-30T10:20:23.643135Z",
     "iopub.status.idle": "2023-04-30T10:20:46.497421Z",
     "shell.execute_reply": "2023-04-30T10:20:46.496130Z"
    },
    "papermill": {
     "duration": 22.867114,
     "end_time": "2023-04-30T10:20:46.500051",
     "exception": false,
     "start_time": "2023-04-30T10:20:23.632937",
     "status": "completed"
    },
    "tags": []
   },
   "outputs": [],
   "source": [
    "# Only for kaggle\n",
    "# !pip install torch_geometric"
   ]
  },
  {
   "cell_type": "code",
   "execution_count": 2,
   "id": "098eda3a",
   "metadata": {
    "execution": {
     "iopub.execute_input": "2023-04-30T10:20:46.524574Z",
     "iopub.status.busy": "2023-04-30T10:20:46.524264Z",
     "iopub.status.idle": "2023-04-30T10:20:56.397717Z",
     "shell.execute_reply": "2023-04-30T10:20:56.396511Z"
    },
    "papermill": {
     "duration": 9.888635,
     "end_time": "2023-04-30T10:20:56.400264",
     "exception": false,
     "start_time": "2023-04-30T10:20:46.511629",
     "status": "completed"
    },
    "tags": []
   },
   "outputs": [],
   "source": [
    "# Not included packages in kaggle\n",
    "\n",
    "# Install torch_geometric\n",
    "# !pip install /kaggle/input/torch-geometric/torch_sparse-0.6.16-cp37-cp37m-linux_x86_64.whl -q\n",
    "# !pip install /kaggle/input/torch-geometric/torch_scatter-2.1.0-cp37-cp37m-linux_x86_64.whl -q\n",
    "\n",
    "# # # library for getting distinct colores\n",
    "# !pip install distinctipy -q"
   ]
  },
  {
   "cell_type": "code",
   "execution_count": 2,
   "id": "6967b981",
   "metadata": {
    "execution": {
     "iopub.execute_input": "2023-04-30T10:20:56.428440Z",
     "iopub.status.busy": "2023-04-30T10:20:56.427796Z",
     "iopub.status.idle": "2023-04-30T10:20:59.738575Z",
     "shell.execute_reply": "2023-04-30T10:20:59.737533Z"
    },
    "papermill": {
     "duration": 3.32986,
     "end_time": "2023-04-30T10:20:59.741263",
     "exception": false,
     "start_time": "2023-04-30T10:20:56.411403",
     "status": "completed"
    },
    "tags": []
   },
   "outputs": [],
   "source": [
    "# for data wrangling\n",
    "import pickle\n",
    "import networkx as nx\n",
    "import matplotlib.pyplot as plt\n",
    "import numpy as np\n",
    "import pandas as pd\n",
    "import distinctipy\n",
    "from torch_geometric.utils import from_networkx\n",
    "\n",
    "# to show advance in for loops\n",
    "from tqdm import tqdm\n",
    "\n",
    "# Using pytorch geometric\n",
    "import torch\n",
    "import torch.nn as nn\n",
    "from torch_geometric.loader import DataLoader\n",
    "from torch_geometric.data import Data, Batch\n",
    "from torch.utils.data import Dataset\n",
    "import torch_geometric.transforms as T\n",
    "\n",
    "\n",
    "# For the GNN model\n",
    "import torch.nn.functional as F\n",
    "from torch_geometric.nn import GATConv\n",
    "\n",
    "# for my pc\n",
    "url_living_to_all = \"D:\\Grad\\Planify_Dataset\\Planify_Graphs_Scaled\\Graphs_living_to_all.pkl\"\n",
    "url_boundary = r\"D:\\Grad\\Planify_Dataset\\Planify_Graphs_Scaled\\boundaries.pkl\"\n",
    "\n",
    "# # for kaggle\n",
    "# url_real = \"/kaggle/input/planify-graphs-all-forms/graphs/Graphs_real.pkl\"\n",
    "# url_boundary = \"/kaggle/input/planify-graphs-all-forms/graphs/boundaries.pkl\""
   ]
  },
  {
   "cell_type": "markdown",
   "id": "f2d6dcd5",
   "metadata": {
    "papermill": {
     "duration": 0.010786,
     "end_time": "2023-04-30T10:20:59.763577",
     "exception": false,
     "start_time": "2023-04-30T10:20:59.752791",
     "status": "completed"
    },
    "tags": []
   },
   "source": [
    "<a id='func'></a>\n",
    "### Functions used"
   ]
  },
  {
   "cell_type": "code",
   "execution_count": 3,
   "id": "0010597f",
   "metadata": {
    "execution": {
     "iopub.execute_input": "2023-04-30T10:20:59.788185Z",
     "iopub.status.busy": "2023-04-30T10:20:59.786378Z",
     "iopub.status.idle": "2023-04-30T10:21:00.014641Z",
     "shell.execute_reply": "2023-04-30T10:21:00.013566Z"
    },
    "papermill": {
     "duration": 0.242503,
     "end_time": "2023-04-30T10:21:00.017098",
     "exception": false,
     "start_time": "2023-04-30T10:20:59.774595",
     "status": "completed"
    },
    "tags": []
   },
   "outputs": [],
   "source": [
    "geoms_columns = ['inner', 'living', 'master', 'kitchen', 'bathroom', 'dining', 'child', 'study',\n",
    "                   'second_room', 'guest', 'balcony', 'storage', 'wall-in',\n",
    "                    'outer_wall', 'front', 'inner_wall', 'interior',\n",
    "                   'front_door', 'outer_wall', 'entrance']\n",
    "\n",
    "N = len(geoms_columns)\n",
    "colors = (np.array(distinctipy.get_colors(N)) * 255).astype(np.uint8)\n",
    "room_color = {room_name: colors[i] for i, room_name in enumerate(geoms_columns)}"
   ]
  },
  {
   "cell_type": "code",
   "execution_count": 4,
   "id": "dec61c20",
   "metadata": {
    "execution": {
     "iopub.execute_input": "2023-04-30T10:21:00.041382Z",
     "iopub.status.busy": "2023-04-30T10:21:00.040532Z",
     "iopub.status.idle": "2023-04-30T10:21:00.059768Z",
     "shell.execute_reply": "2023-04-30T10:21:00.058870Z"
    },
    "papermill": {
     "duration": 0.033794,
     "end_time": "2023-04-30T10:21:00.062053",
     "exception": false,
     "start_time": "2023-04-30T10:21:00.028259",
     "status": "completed"
    },
    "tags": []
   },
   "outputs": [],
   "source": [
    "def draw_graph_nodes(G, living_to_all=False):\n",
    "    #  nodes positions for drawing, note that we invert the y pos\n",
    "    pos = {node: (G.nodes[node]['actualCentroid_x'], -G.nodes[node]['actualCentroid_y']) for node in G.nodes}\n",
    "    \n",
    "    scales = [G.nodes[node]['roomSize'] * 10000 for node in G] \n",
    "    color_map = [room_color[G.nodes[node]['roomType_name']]/255 for node in G]\n",
    "    edge_labels = nx.get_edge_attributes(G, 'distance')\n",
    "\n",
    "    \n",
    "    nx.draw_networkx_nodes(G, pos=pos, node_size=scales, node_color=color_map);\n",
    "    nx.draw_networkx_edges(G, pos=pos, edge_color='b');\n",
    "    nx.draw_networkx_labels(G, pos=pos, font_size=8);\n",
    "\n",
    "    if living_to_all:\n",
    "        nx.draw_networkx_edge_labels(G, pos=pos, edge_labels=edge_labels)\n",
    "\n",
    "    \n",
    "    # # Drawing the graph inside a good boundary.\n",
    "    # x_coords  = [pos[node][0] for node in pos]\n",
    "    # y_coords  = [pos[node][1] for node in pos]\n",
    "    # threshold = max(scales) / 100\n",
    "    \n",
    "    # plt.xlim(min(x_coords) - threshold, max(x_coords) + threshold)\n",
    "    plt.xlim(-10, 266)\n",
    "    plt.ylim(-266, 10)\n",
    "    \n",
    "\n",
    "def draw_graph_boundary(G):\n",
    "    #  nodes positions for drawing, note that we invert the y pos\n",
    "    pos = {node: (G.nodes[node]['centroid'][0], -G.nodes[node]['centroid'][1])  for node in G.nodes}\n",
    "    \n",
    "    door_color = '#90EE90'\n",
    "    other_nodes_color = '#0A2A5B'\n",
    "    color_map = [door_color if G.nodes[node]['type'] == 1 else other_nodes_color for node in G.nodes]\n",
    "    \n",
    "    # nx.draw(G, pos=pos, with_labels=True, node_color=color_map, font_color='w', font_size=12)\n",
    "    nx.draw_networkx_nodes(G, pos=pos, node_size=150, node_color=color_map);\n",
    "    nx.draw_networkx_edges(G, pos=pos)\n",
    "    \n",
    "    plt.xlim(-10, 266)\n",
    "    plt.ylim(-266, 10)\n",
    "    \n",
    "    \n",
    "# For statistics\n",
    "def get_max_min_x_y(graphs):\n",
    "    max_x = 0\n",
    "    max_y = 0\n",
    "    min_x = float('inf')\n",
    "    min_y = float('inf')\n",
    "    \n",
    "    for G in tqdm(graphs, desc=\"Getting maximum x, y\", total=len(graphs)):\n",
    "        max_x_in_graph = G.x.T[1].max().item()\n",
    "        max_y_in_graph = G.x.T[2].max().item()\n",
    "        \n",
    "        min_x_in_graph = G.x.T[1].min().item()\n",
    "        min_y_in_graph = G.x.T[2].min().item()\n",
    "        \n",
    "        if max_x_in_graph > max_x:\n",
    "            max_x = max_x_in_graph\n",
    "        if max_y_in_graph > max_y:\n",
    "            max_y = max_y_in_graph\n",
    "            \n",
    "        if min_x_in_graph < min_x:\n",
    "            min_x = min_x_in_graph\n",
    "        if min_y_in_graph < min_y:\n",
    "            min_y = min_y_in_graph\n",
    "            \n",
    "    values = {'max_x': max_x, 'max_y': max_y, 'min_x': min_x, 'min_y': min_y}\n",
    "    return values\n",
    "\n",
    "\n",
    "def get_all_x_y(graphs):\n",
    "    \"\"\"Get all values of x and y from all graphs\n",
    "        Input: list of graphs\n",
    "        Output: x and y as pandas series\n",
    "    \"\"\"\n",
    "    x = []\n",
    "    y = []\n",
    "    for i, G in tqdm(enumerate(graphs), desc=\"getting all Xs, Ys\", total=len(graphs)):\n",
    "        for i in range(len(G.x)):\n",
    "            x.append(G.x[i][1].item())\n",
    "            y.append(G.x[i][2].item())\n",
    "            \n",
    "\n",
    "    x = pd.Series(x)\n",
    "    y = pd.Series(y)\n",
    "\n",
    "    return x, y\n",
    "\n",
    "def boxplot_centrValues(x, y):\n",
    "    fig, ax = plt.subplots()\n",
    "\n",
    "    # Plot the boxplots\n",
    "    ax.boxplot([x, y])\n",
    "\n",
    "    # Set the xtick labels\n",
    "    ax.set_xticklabels(['x', 'y'])\n",
    "\n",
    "    # Add axis labels and title\n",
    "    ax.set_xlabel('Data')\n",
    "    ax.set_ylabel('Value')\n",
    "    ax.set_title('Boxplot of x and y in all graphs')\n",
    "\n",
    "    # Show the plot\n",
    "    plt.show()\n",
    "    \n",
    "\n",
    "def plot_histograms(x, y):\n",
    "    x.hist(density=True, bins=100, alpha=0.6, label='x');\n",
    "    y.hist(density=True, bins=100, alpha=0.3, label='y');\n",
    "    plt.legend();\n",
    "    plt.title('Distribution of x and y');"
   ]
  },
  {
   "cell_type": "markdown",
   "id": "67041bbd",
   "metadata": {
    "papermill": {
     "duration": 0.011018,
     "end_time": "2023-04-30T10:21:00.083940",
     "exception": false,
     "start_time": "2023-04-30T10:21:00.072922",
     "status": "completed"
    },
    "tags": []
   },
   "source": [
    "<a id='wrangling'></a>\n",
    "## Data wrangling\n"
   ]
  },
  {
   "cell_type": "code",
   "execution_count": 5,
   "id": "48d14a4b",
   "metadata": {
    "execution": {
     "iopub.execute_input": "2023-04-30T10:21:00.107384Z",
     "iopub.status.busy": "2023-04-30T10:21:00.106613Z",
     "iopub.status.idle": "2023-04-30T10:21:04.295344Z",
     "shell.execute_reply": "2023-04-30T10:21:04.293732Z"
    },
    "papermill": {
     "duration": 4.202569,
     "end_time": "2023-04-30T10:21:04.297604",
     "exception": false,
     "start_time": "2023-04-30T10:21:00.095035",
     "status": "completed"
    },
    "tags": []
   },
   "outputs": [
    {
     "name": "stdout",
     "output_type": "stream",
     "text": [
      "Graph with 8 nodes and 7 edges\n"
     ]
    }
   ],
   "source": [
    "with open(url_living_to_all, 'rb') as f:\n",
    "    Graphs = pickle.load(f)\n",
    "    \n",
    "G = Graphs[1911]\n",
    "print(G)"
   ]
  },
  {
   "cell_type": "markdown",
   "id": "a0b4d39a",
   "metadata": {
    "papermill": {
     "duration": 0.011121,
     "end_time": "2023-04-30T10:21:04.320103",
     "exception": false,
     "start_time": "2023-04-30T10:21:04.308982",
     "status": "completed"
    },
    "tags": []
   },
   "source": [
    "> Considering boundaries"
   ]
  },
  {
   "cell_type": "code",
   "execution_count": 6,
   "id": "99d9e666",
   "metadata": {
    "execution": {
     "iopub.execute_input": "2023-04-30T10:21:04.343164Z",
     "iopub.status.busy": "2023-04-30T10:21:04.342870Z",
     "iopub.status.idle": "2023-04-30T10:21:12.011657Z",
     "shell.execute_reply": "2023-04-30T10:21:12.009518Z"
    },
    "papermill": {
     "duration": 7.683332,
     "end_time": "2023-04-30T10:21:12.014190",
     "exception": false,
     "start_time": "2023-04-30T10:21:04.330858",
     "status": "completed"
    },
    "tags": []
   },
   "outputs": [
    {
     "name": "stdout",
     "output_type": "stream",
     "text": [
      "Graph with 9 nodes and 9 edges\n"
     ]
    }
   ],
   "source": [
    "with open(url_boundary, 'rb') as f:\n",
    "    boundaries = pickle.load(f)\n",
    "    \n",
    "b = boundaries[1911]\n",
    "print(b)"
   ]
  },
  {
   "cell_type": "code",
   "execution_count": 8,
   "id": "f4d23815",
   "metadata": {
    "execution": {
     "iopub.execute_input": "2023-04-30T10:21:12.037806Z",
     "iopub.status.busy": "2023-04-30T10:21:12.037487Z",
     "iopub.status.idle": "2023-04-30T10:21:12.041780Z",
     "shell.execute_reply": "2023-04-30T10:21:12.040656Z"
    },
    "papermill": {
     "duration": 0.020873,
     "end_time": "2023-04-30T10:21:12.046291",
     "exception": false,
     "start_time": "2023-04-30T10:21:12.025418",
     "status": "completed"
    },
    "tags": []
   },
   "outputs": [
    {
     "data": {
      "image/png": "[encoded data removed]",
      "text/plain": [
       "<Figure size 640x480 with 1 Axes>"
      ]
     },
     "metadata": {},
     "output_type": "display_data"
    }
   ],
   "source": [
    "draw_graph_boundary(b)\n",
    "draw_graph_nodes(G)"
   ]
  },
  {
   "cell_type": "code",
   "execution_count": 9,
   "id": "8abc8a29",
   "metadata": {
    "execution": {
     "iopub.execute_input": "2023-04-30T10:21:12.098602Z",
     "iopub.status.busy": "2023-04-30T10:21:12.097652Z",
     "iopub.status.idle": "2023-04-30T10:22:11.218901Z",
     "shell.execute_reply": "2023-04-30T10:22:11.217753Z"
    },
    "papermill": {
     "duration": 59.146567,
     "end_time": "2023-04-30T10:22:11.222383",
     "exception": false,
     "start_time": "2023-04-30T10:21:12.075816",
     "status": "completed"
    },
    "tags": []
   },
   "outputs": [
    {
     "data": {
      "text/plain": [
       "Data(edge_index=[2, 8], roomType_name=[5], rec_w=[5], rec_h=[5], roomSize=[5], x=[5, 3], edge_attr=[8, 1])"
      ]
     },
     "execution_count": 9,
     "metadata": {},
     "output_type": "execute_result"
    }
   ],
   "source": [
    "def convert_networkx_Graphs_to_pyTorchGraphs(G):\n",
    "    \"\"\" Converting networkx graphs to pytorchGeo graphs\n",
    "    \"\"\"\n",
    "    features = ['roomType_embd', 'actualCentroid_x', 'actualCentroid_y']\n",
    "    G_new = from_networkx(G, group_node_attrs=features, group_edge_attrs=['distance'])\n",
    "    return G_new\n",
    "\n",
    "Graphs_pyTorch = list(map(convert_networkx_Graphs_to_pyTorchGraphs, Graphs))\n",
    "\n",
    "Graphs_pyTorch[0]"
   ]
  },
  {
   "cell_type": "code",
   "execution_count": 10,
   "id": "4ba11eec",
   "metadata": {
    "execution": {
     "iopub.execute_input": "2023-04-30T10:22:11.304144Z",
     "iopub.status.busy": "2023-04-30T10:22:11.303488Z",
     "iopub.status.idle": "2023-04-30T10:23:08.775545Z",
     "shell.execute_reply": "2023-04-30T10:23:08.774350Z"
    },
    "papermill": {
     "duration": 57.515212,
     "end_time": "2023-04-30T10:23:08.778152",
     "exception": false,
     "start_time": "2023-04-30T10:22:11.262940",
     "status": "completed"
    },
    "tags": []
   },
   "outputs": [
    {
     "data": {
      "text/plain": [
       "Data(edge_index=[2, 18], x=[9, 3], edge_attr=[18, 1])"
      ]
     },
     "execution_count": 10,
     "metadata": {},
     "output_type": "execute_result"
    }
   ],
   "source": [
    "def convert_networkx_Boundaries_to_pyTorchGraphs(b):\n",
    "    \"\"\"Converting networkx boundary graphs to PyTorchGeo graphs\n",
    "    \"\"\"\n",
    "    b_new = from_networkx(b, group_node_attrs=['type', 'centroid'], group_edge_attrs=['distance'])\n",
    "    return b_new\n",
    "\n",
    "Boundaries_pyTorch = list(map(convert_networkx_Boundaries_to_pyTorchGraphs, boundaries))\n",
    "\n",
    "Boundaries_pyTorch[0]"
   ]
  },
  {
   "cell_type": "markdown",
   "id": "53665fd1",
   "metadata": {
    "papermill": {
     "duration": 0.067906,
     "end_time": "2023-04-30T10:23:08.913931",
     "exception": false,
     "start_time": "2023-04-30T10:23:08.846025",
     "status": "completed"
    },
    "tags": []
   },
   "source": [
    "> Some statistics, To make normalization for x and y but to be able to get back to the real values"
   ]
  },
  {
   "cell_type": "code",
   "execution_count": 13,
   "id": "76f404ef",
   "metadata": {
    "execution": {
     "iopub.execute_input": "2023-04-30T10:23:13.105816Z",
     "iopub.status.busy": "2023-04-30T10:23:13.105458Z",
     "iopub.status.idle": "2023-04-30T10:23:18.484661Z",
     "shell.execute_reply": "2023-04-30T10:23:18.483369Z"
    },
    "papermill": {
     "duration": 5.452174,
     "end_time": "2023-04-30T10:23:18.486999",
     "exception": false,
     "start_time": "2023-04-30T10:23:13.034825",
     "status": "completed"
    },
    "tags": []
   },
   "outputs": [
    {
     "name": "stderr",
     "output_type": "stream",
     "text": [
      "getting all Xs, Ys: 100%|██████████| 80787/80787 [00:07<00:00, 10650.82it/s]\n"
     ]
    },
    {
     "data": {
      "text/plain": [
       "(247.42583732057415, 247.84313725490196, 10.666666666666666, 8.577319587628866)"
      ]
     },
     "execution_count": 13,
     "metadata": {},
     "output_type": "execute_result"
    }
   ],
   "source": [
    "G_x, G_y = get_all_x_y(Graphs_pyTorch)\n",
    "G_x.max(), G_y.max(), G_x.min(), G_y.min()"
   ]
  },
  {
   "cell_type": "code",
   "execution_count": 14,
   "id": "409ecb64",
   "metadata": {
    "execution": {
     "iopub.execute_input": "2023-04-30T10:23:18.634896Z",
     "iopub.status.busy": "2023-04-30T10:23:18.633637Z",
     "iopub.status.idle": "2023-04-30T10:23:18.867413Z",
     "shell.execute_reply": "2023-04-30T10:23:18.866363Z"
    },
    "papermill": {
     "duration": 0.309931,
     "end_time": "2023-04-30T10:23:18.869814",
     "exception": false,
     "start_time": "2023-04-30T10:23:18.559883",
     "status": "completed"
    },
    "tags": []
   },
   "outputs": [
    {
     "data": {
      "image/png": "[encoded data removed]",
      "text/plain": [
       "<Figure size 640x480 with 1 Axes>"
      ]
     },
     "metadata": {},
     "output_type": "display_data"
    }
   ],
   "source": [
    "# making box plot for x and y for the graphs\n",
    "boxplot_centrValues(G_x, G_y)"
   ]
  },
  {
   "cell_type": "code",
   "execution_count": 15,
   "id": "8cd930ec",
   "metadata": {
    "execution": {
     "iopub.execute_input": "2023-04-30T10:23:19.018307Z",
     "iopub.status.busy": "2023-04-30T10:23:19.017286Z",
     "iopub.status.idle": "2023-04-30T10:23:19.676715Z",
     "shell.execute_reply": "2023-04-30T10:23:19.675689Z"
    },
    "papermill": {
     "duration": 0.735423,
     "end_time": "2023-04-30T10:23:19.678881",
     "exception": false,
     "start_time": "2023-04-30T10:23:18.943458",
     "status": "completed"
    },
    "tags": []
   },
   "outputs": [
    {
     "data": {
      "image/png": "[encoded data removed]",
      "text/plain": [
       "<Figure size 640x480 with 1 Axes>"
      ]
     },
     "metadata": {},
     "output_type": "display_data"
    }
   ],
   "source": [
    "plot_histograms(G_x, G_y)"
   ]
  },
  {
   "cell_type": "markdown",
   "id": "d52c4dd2",
   "metadata": {
    "papermill": {
     "duration": 0.072487,
     "end_time": "2023-04-30T10:23:19.824165",
     "exception": false,
     "start_time": "2023-04-30T10:23:19.751678",
     "status": "completed"
    },
    "tags": []
   },
   "source": [
    "> And we saw the box plots so there is no outliers, and the distribution is normal\n",
    "> \n",
    "> We will use z-score normalization, by taking a general mean and std for each of x and y"
   ]
  },
  {
   "cell_type": "code",
   "execution_count": 16,
   "id": "32ba3c27",
   "metadata": {
    "execution": {
     "iopub.execute_input": "2023-04-30T10:23:19.973287Z",
     "iopub.status.busy": "2023-04-30T10:23:19.972099Z",
     "iopub.status.idle": "2023-04-30T10:23:19.991607Z",
     "shell.execute_reply": "2023-04-30T10:23:19.990616Z"
    },
    "papermill": {
     "duration": 0.096711,
     "end_time": "2023-04-30T10:23:19.994004",
     "exception": false,
     "start_time": "2023-04-30T10:23:19.897293",
     "status": "completed"
    },
    "tags": []
   },
   "outputs": [
    {
     "name": "stdout",
     "output_type": "stream",
     "text": [
      "And we saw the box plots so there is no outliers, and the distribution is normal\n",
      "We will use z-score normalization\n"
     ]
    }
   ],
   "source": [
    "# print(f\"Maximun x: {max_x}, Maximum y: {max_y}, Minimum x: {min_x}, Minimum y: {min_y}\")\n",
    "print(\"And we saw the box plots so there is no outliers, and the distribution is normal\")\n",
    "G_x_mean = G_x.mean()\n",
    "G_y_mean = G_y.mean()\n",
    "G_x_std  = G_x.std()\n",
    "G_y_std  = G_y.std()\n",
    "print(\"We will use z-score normalization\")"
   ]
  },
  {
   "cell_type": "markdown",
   "id": "5fbedeca",
   "metadata": {
    "papermill": {
     "duration": 0.152433,
     "end_time": "2023-04-30T10:23:20.235823",
     "exception": false,
     "start_time": "2023-04-30T10:23:20.083390",
     "status": "completed"
    },
    "tags": []
   },
   "source": [
    "> There are many types of `rooms` but we will give them a defualt number = 1.\n",
    "> So, also we will decrease the embedings to be between 0:6"
   ]
  },
  {
   "cell_type": "code",
   "execution_count": 17,
   "id": "959f3b14",
   "metadata": {
    "execution": {
     "iopub.execute_input": "2023-04-30T10:23:20.383438Z",
     "iopub.status.busy": "2023-04-30T10:23:20.383079Z",
     "iopub.status.idle": "2023-04-30T10:23:24.561008Z",
     "shell.execute_reply": "2023-04-30T10:23:24.559730Z"
    },
    "papermill": {
     "duration": 4.256402,
     "end_time": "2023-04-30T10:23:24.565462",
     "exception": false,
     "start_time": "2023-04-30T10:23:20.309060",
     "status": "completed"
    },
    "tags": []
   },
   "outputs": [
    {
     "name": "stdout",
     "output_type": "stream",
     "text": [
      "Befor: G_1 embedings are: tensor([[  0.0000, 114.4449, 153.2065],\n",
      "        [  1.0000, 207.2296, 196.9931],\n",
      "        [  2.0000,  26.6358,  34.7746],\n",
      "        [  3.0000, 222.7052, 140.5780],\n",
      "        [  3.0000, 117.2607, 101.8013],\n",
      "        [  7.0000, 163.5824, 101.4260],\n",
      "        [  7.0000, 134.9086, 201.0376]], dtype=torch.float64)\n"
     ]
    },
    {
     "name": "stderr",
     "output_type": "stream",
     "text": [
      "100%|██████████| 80787/80787 [00:06<00:00, 12848.97it/s]"
     ]
    },
    {
     "name": "stdout",
     "output_type": "stream",
     "text": [
      "After: G_1 embedings are: tensor([[  0.0000, 114.4449, 153.2065],\n",
      "        [  1.0000, 207.2296, 196.9931],\n",
      "        [  2.0000,  26.6358,  34.7746],\n",
      "        [  3.0000, 222.7052, 140.5780],\n",
      "        [  3.0000, 117.2607, 101.8013],\n",
      "        [  1.0000, 163.5824, 101.4260],\n",
      "        [  1.0000, 134.9086, 201.0376]], dtype=torch.float64)\n"
     ]
    },
    {
     "name": "stderr",
     "output_type": "stream",
     "text": [
      "\n"
     ]
    }
   ],
   "source": [
    "print(f'Befor: G_1 embedings are: {Graphs_pyTorch[1].x}')\n",
    "for G in tqdm(Graphs_pyTorch, total=len(Graphs_pyTorch)):\n",
    "    for j ,value in enumerate(G.x):\n",
    "        type_ = int(value[0].item())\n",
    "        \n",
    "        if type_ in [1, 4, 5, 6, 7, 8]:\n",
    "            G.x[j][0] = 1\n",
    "        \n",
    "        # making all labels from 0 to 6 only to help one_hotting\n",
    "        elif type_ == 9:\n",
    "            G.x[j][0] = 4\n",
    "        elif type_ == 10:\n",
    "            G.x[j][0] = 5\n",
    "        elif type_ == 11:\n",
    "            G.x[j][0] = 6\n",
    "\n",
    "\n",
    "print(f'After: G_1 embedings are: {Graphs_pyTorch[1].x}')"
   ]
  },
  {
   "cell_type": "markdown",
   "id": "45ceb058",
   "metadata": {
    "papermill": {
     "duration": 0.07577,
     "end_time": "2023-04-30T10:23:24.718351",
     "exception": false,
     "start_time": "2023-04-30T10:23:24.642581",
     "status": "completed"
    },
    "tags": []
   },
   "source": [
    "> Normalization for the centroids columns & hot encoding the type one for the graphs data."
   ]
  },
  {
   "cell_type": "code",
   "execution_count": 18,
   "id": "931a28d4",
   "metadata": {
    "execution": {
     "iopub.execute_input": "2023-04-30T10:23:24.871328Z",
     "iopub.status.busy": "2023-04-30T10:23:24.870716Z",
     "iopub.status.idle": "2023-04-30T10:23:34.135726Z",
     "shell.execute_reply": "2023-04-30T10:23:34.134468Z"
    },
    "papermill": {
     "duration": 9.346005,
     "end_time": "2023-04-30T10:23:34.139783",
     "exception": false,
     "start_time": "2023-04-30T10:23:24.793778",
     "status": "completed"
    },
    "tags": []
   },
   "outputs": [
    {
     "name": "stderr",
     "output_type": "stream",
     "text": [
      "100%|██████████| 80787/80787 [00:14<00:00, 5690.43it/s]\n"
     ]
    }
   ],
   "source": [
    "for G in tqdm(Graphs_pyTorch, total=len(Graphs_pyTorch)):\n",
    "    \n",
    "    # Making tensor of means = [x_mean, y_mean] & tensor of stds = [x_std, y_std].\n",
    "    # We could make a tensor of ones = [rows, 2] then multiply it by the means, But we directly \n",
    "    # multiply the means using the idea of \"Broadcasting\".\n",
    "    G.x[:, 1:] = (G.x[:, 1:] - torch.tensor([G_x_mean, G_y_mean])) / torch.tensor([G_x_std, G_y_std])\n",
    "    \n",
    "    # One hot encoding for the first column [type of rooms]\n",
    "    first_column_encodings = F.one_hot(G.x[:, 0].long(), 7)\n",
    "    \n",
    "    G.x = torch.cat([first_column_encodings, G.x[:, 1:]], axis=1)"
   ]
  },
  {
   "cell_type": "code",
   "execution_count": 19,
   "id": "9d761724",
   "metadata": {
    "execution": {
     "iopub.execute_input": "2023-04-30T10:23:34.362759Z",
     "iopub.status.busy": "2023-04-30T10:23:34.361716Z",
     "iopub.status.idle": "2023-04-30T10:23:34.370079Z",
     "shell.execute_reply": "2023-04-30T10:23:34.369078Z"
    },
    "papermill": {
     "duration": 0.092836,
     "end_time": "2023-04-30T10:23:34.372382",
     "exception": false,
     "start_time": "2023-04-30T10:23:34.279546",
     "status": "completed"
    },
    "tags": []
   },
   "outputs": [
    {
     "name": "stdout",
     "output_type": "stream",
     "text": [
      "Now, we could return back to real values: \n",
      "tensor([[114.4449, 153.2065],\n",
      "        [207.2296, 196.9931],\n",
      "        [ 26.6358,  34.7746],\n",
      "        [222.7052, 140.5780],\n",
      "        [117.2607, 101.8013],\n",
      "        [163.5824, 101.4260],\n",
      "        [134.9086, 201.0376]], dtype=torch.float64)\n"
     ]
    }
   ],
   "source": [
    "return_to_real = Graphs_pyTorch[1].x[:, [-2, -1]] * torch.tensor([G_x_std, G_y_std]) + torch.Tensor([G_x_mean, G_y_mean])\n",
    "print(f\"Now, we could return back to real values: \\n{return_to_real}\")"
   ]
  },
  {
   "cell_type": "markdown",
   "id": "d42fa2ca",
   "metadata": {
    "papermill": {
     "duration": 0.081334,
     "end_time": "2023-04-30T10:23:34.536262",
     "exception": false,
     "start_time": "2023-04-30T10:23:34.454928",
     "status": "completed"
    },
    "tags": []
   },
   "source": [
    "> Normalizing the centroid of the boundaries"
   ]
  },
  {
   "cell_type": "code",
   "execution_count": 20,
   "id": "cf3b60af",
   "metadata": {
    "execution": {
     "iopub.execute_input": "2023-04-30T10:23:34.701601Z",
     "iopub.status.busy": "2023-04-30T10:23:34.701228Z",
     "iopub.status.idle": "2023-04-30T10:23:44.843816Z",
     "shell.execute_reply": "2023-04-30T10:23:44.842734Z"
    },
    "papermill": {
     "duration": 10.22769,
     "end_time": "2023-04-30T10:23:44.846232",
     "exception": false,
     "start_time": "2023-04-30T10:23:34.618542",
     "status": "completed"
    },
    "tags": []
   },
   "outputs": [
    {
     "name": "stderr",
     "output_type": "stream",
     "text": [
      "getting all Xs, Ys: 100%|██████████| 80787/80787 [00:14<00:00, 5412.24it/s]\n"
     ]
    },
    {
     "data": {
      "text/plain": [
       "(340.0875912408759, 306.0, -57.6, -86.6771653543307)"
      ]
     },
     "execution_count": 20,
     "metadata": {},
     "output_type": "execute_result"
    }
   ],
   "source": [
    "B_x, B_y = get_all_x_y(Boundaries_pyTorch)\n",
    "B_x.max(), B_y.max(), B_x.min(), B_y.min()"
   ]
  },
  {
   "cell_type": "code",
   "execution_count": 21,
   "id": "4481e7c7",
   "metadata": {
    "execution": {
     "iopub.execute_input": "2023-04-30T10:23:45.020652Z",
     "iopub.status.busy": "2023-04-30T10:23:45.019631Z",
     "iopub.status.idle": "2023-04-30T10:23:45.297824Z",
     "shell.execute_reply": "2023-04-30T10:23:45.296636Z"
    },
    "papermill": {
     "duration": 0.367687,
     "end_time": "2023-04-30T10:23:45.300235",
     "exception": false,
     "start_time": "2023-04-30T10:23:44.932548",
     "status": "completed"
    },
    "tags": []
   },
   "outputs": [
    {
     "data": {
      "image/png": "[encoded data removed]",
      "text/plain": [
       "<Figure size 640x480 with 1 Axes>"
      ]
     },
     "metadata": {},
     "output_type": "display_data"
    }
   ],
   "source": [
    "boxplot_centrValues(B_x, B_y)"
   ]
  },
  {
   "cell_type": "code",
   "execution_count": 22,
   "id": "8968a6e2",
   "metadata": {
    "execution": {
     "iopub.execute_input": "2023-04-30T10:23:45.476009Z",
     "iopub.status.busy": "2023-04-30T10:23:45.475142Z",
     "iopub.status.idle": "2023-04-30T10:23:46.145438Z",
     "shell.execute_reply": "2023-04-30T10:23:46.144290Z"
    },
    "papermill": {
     "duration": 0.761415,
     "end_time": "2023-04-30T10:23:46.147812",
     "exception": false,
     "start_time": "2023-04-30T10:23:45.386397",
     "status": "completed"
    },
    "tags": []
   },
   "outputs": [
    {
     "data": {
      "image/png": "[encoded data removed]",
      "text/plain": [
       "<Figure size 640x480 with 1 Axes>"
      ]
     },
     "metadata": {},
     "output_type": "display_data"
    }
   ],
   "source": [
    "plot_histograms(B_x, B_y)"
   ]
  },
  {
   "cell_type": "markdown",
   "id": "38b54640",
   "metadata": {
    "papermill": {
     "duration": 0.085951,
     "end_time": "2023-04-30T10:23:46.320350",
     "exception": false,
     "start_time": "2023-04-30T10:23:46.234399",
     "status": "completed"
    },
    "tags": []
   },
   "source": [
    "> And we saw the box plots so there is no outliers.\n",
    "> \n",
    "> We will use z-score normalization, by taking a general mean and std for each of x and y"
   ]
  },
  {
   "cell_type": "code",
   "execution_count": 23,
   "id": "daf802b2",
   "metadata": {
    "execution": {
     "iopub.execute_input": "2023-04-30T10:23:46.495091Z",
     "iopub.status.busy": "2023-04-30T10:23:46.494731Z",
     "iopub.status.idle": "2023-04-30T10:23:46.521115Z",
     "shell.execute_reply": "2023-04-30T10:23:46.520124Z"
    },
    "papermill": {
     "duration": 0.116823,
     "end_time": "2023-04-30T10:23:46.523280",
     "exception": false,
     "start_time": "2023-04-30T10:23:46.406457",
     "status": "completed"
    },
    "tags": []
   },
   "outputs": [
    {
     "name": "stdout",
     "output_type": "stream",
     "text": [
      "And we saw the box plots so there is no outliers, and the distribution is normal\n",
      "We will use z-score normalization\n"
     ]
    }
   ],
   "source": [
    "# print(f\"Maximun x: {max_x}, Maximum y: {max_y}, Minimum x: {min_x}, Minimum y: {min_y}\")\n",
    "print(\"And we saw the box plots so there is no outliers, and the distribution is normal\")\n",
    "B_x_mean = B_x.mean()\n",
    "B_y_mean = B_y.mean()\n",
    "B_x_std  = B_x.std()\n",
    "B_y_std  = B_y.std()\n",
    "print(\"We will use z-score normalization\")"
   ]
  },
  {
   "cell_type": "code",
   "execution_count": 24,
   "id": "f20a1b10",
   "metadata": {
    "execution": {
     "iopub.execute_input": "2023-04-30T10:23:46.698534Z",
     "iopub.status.busy": "2023-04-30T10:23:46.697539Z",
     "iopub.status.idle": "2023-04-30T10:23:50.425878Z",
     "shell.execute_reply": "2023-04-30T10:23:50.424721Z"
    },
    "papermill": {
     "duration": 3.818632,
     "end_time": "2023-04-30T10:23:50.428876",
     "exception": false,
     "start_time": "2023-04-30T10:23:46.610244",
     "status": "completed"
    },
    "tags": []
   },
   "outputs": [
    {
     "name": "stderr",
     "output_type": "stream",
     "text": [
      "100%|██████████| 80787/80787 [00:05<00:00, 14594.89it/s]\n"
     ]
    }
   ],
   "source": [
    "for b in tqdm(Boundaries_pyTorch, total=len(Boundaries_pyTorch)):\n",
    "    \n",
    "    # Making tensor of means = [x_mean, y_mean] & tensor of stds = [x_std, y_std].\n",
    "    # We could make a tensor of ones = [rows, 2] then multiply it by the means, But we directly \n",
    "    # multiply the means using the idea of \"Broadcasting\".\n",
    "    b.x[:, 1:] = (b.x[:, 1:] - torch.tensor([B_x_mean, B_y_mean])) / torch.tensor([B_x_std, B_y_std])"
   ]
  },
  {
   "cell_type": "code",
   "execution_count": 25,
   "id": "b473308c",
   "metadata": {
    "execution": {
     "iopub.execute_input": "2023-04-30T10:23:50.609015Z",
     "iopub.status.busy": "2023-04-30T10:23:50.608617Z",
     "iopub.status.idle": "2023-04-30T10:23:50.617081Z",
     "shell.execute_reply": "2023-04-30T10:23:50.615603Z"
    },
    "papermill": {
     "duration": 0.1004,
     "end_time": "2023-04-30T10:23:50.619299",
     "exception": false,
     "start_time": "2023-04-30T10:23:50.518899",
     "status": "completed"
    },
    "tags": []
   },
   "outputs": [
    {
     "name": "stdout",
     "output_type": "stream",
     "text": [
      "Now, we could return back to real values: \n",
      "tensor([[ 3.6994e+00,  2.5008e+02],\n",
      "        [ 1.0136e+02,  2.5008e+02],\n",
      "        [ 2.5230e+02,  2.4712e+02],\n",
      "        [ 2.5230e+02,  1.1986e+02],\n",
      "        [ 1.9755e+02,  1.1986e+02],\n",
      "        [ 1.9755e+02,  6.6590e+01],\n",
      "        [ 4.9572e+01,  6.6590e+01],\n",
      "        [ 4.9572e+01, -1.0978e-06],\n",
      "        [ 3.6994e+00, -1.0978e-06],\n",
      "        [ 8.6566e+01,  6.8069e+01]], dtype=torch.float64)\n"
     ]
    }
   ],
   "source": [
    "return_to_real = Boundaries_pyTorch[1].x[:, [-2, -1]] * torch.tensor([B_x_std, B_y_std]) + torch.Tensor([B_x_mean, B_y_mean])\n",
    "print(f\"Now, we could return back to real values: \\n{return_to_real}\")"
   ]
  },
  {
   "cell_type": "markdown",
   "id": "68b53688",
   "metadata": {
    "papermill": {
     "duration": 0.088495,
     "end_time": "2023-04-30T10:23:50.795726",
     "exception": false,
     "start_time": "2023-04-30T10:23:50.707231",
     "status": "completed"
    },
    "tags": []
   },
   "source": [
    "> If we need to creat graphs with padding by the maximum number of nodes."
   ]
  },
  {
   "cell_type": "code",
   "execution_count": 26,
   "id": "53524348",
   "metadata": {
    "execution": {
     "iopub.execute_input": "2023-04-30T10:23:50.973925Z",
     "iopub.status.busy": "2023-04-30T10:23:50.972879Z",
     "iopub.status.idle": "2023-04-30T10:23:50.978394Z",
     "shell.execute_reply": "2023-04-30T10:23:50.977373Z"
    },
    "papermill": {
     "duration": 0.096914,
     "end_time": "2023-04-30T10:23:50.980480",
     "exception": false,
     "start_time": "2023-04-30T10:23:50.883566",
     "status": "completed"
    },
    "tags": []
   },
   "outputs": [],
   "source": [
    "# # but we need to do some padding to our graphs to be all of the same number of nodes.\n",
    "# padded_graphs = []\n",
    "# for G in Graphs_pyTorch:\n",
    "#     x          = G.x\n",
    "#     y          = G.roomType_embd\n",
    "#     edge_index = G.edge_index\n",
    "#     edge_attr  = G.edge_attr\n",
    "    \n",
    "#     nu_nodes = x.shape[0]\n",
    "\n",
    "#     padded_x = torch.nn.functional.pad(x, pad=(0, 0, 0, 8 - nu_nodes), mode='constant', value=0)\n",
    "#     padded_y = torch.nn.functional.pad(y, pad=(0, 8 - nu_nodes), mode='constant', value=0)\n",
    "#     train_mask   = torch.ones(nu_nodes)\n",
    "#     train_mask   = torch.nn.functional.pad(train_mask, pad=(0, 8 - nu_nodes), mode='constant', value=0).to(bool)\n",
    "\n",
    "#     data = Data(x = padded_x, y = padded_y, edge_index= G.edge_index, edge_attr = G.edge_attr, train_mask=train_mask)\n",
    "\n",
    "#     padded_graphs.append(data)\n",
    "\n",
    "# padded_graphs[0]"
   ]
  },
  {
   "cell_type": "markdown",
   "id": "049e10b2",
   "metadata": {
    "papermill": {
     "duration": 0.087461,
     "end_time": "2023-04-30T10:23:51.156059",
     "exception": false,
     "start_time": "2023-04-30T10:23:51.068598",
     "status": "completed"
    },
    "tags": []
   },
   "source": [
    "<a id='model'></a>\n",
    "## GNN Model"
   ]
  },
  {
   "cell_type": "markdown",
   "id": "85ff165f",
   "metadata": {
    "papermill": {
     "duration": 0.088543,
     "end_time": "2023-04-30T10:23:51.374884",
     "exception": false,
     "start_time": "2023-04-30T10:23:51.286341",
     "status": "completed"
    },
    "tags": []
   },
   "source": [
    "<a id='dataLoader'></a>\n",
    "### Data Loader"
   ]
  },
  {
   "cell_type": "code",
   "execution_count": 27,
   "id": "c7d2461b",
   "metadata": {
    "execution": {
     "iopub.execute_input": "2023-04-30T10:23:51.553460Z",
     "iopub.status.busy": "2023-04-30T10:23:51.553077Z",
     "iopub.status.idle": "2023-04-30T10:23:51.561404Z",
     "shell.execute_reply": "2023-04-30T10:23:51.560237Z"
    },
    "papermill": {
     "duration": 0.100848,
     "end_time": "2023-04-30T10:23:51.563499",
     "exception": false,
     "start_time": "2023-04-30T10:23:51.462651",
     "status": "completed"
    },
    "tags": []
   },
   "outputs": [],
   "source": [
    "class Planify_Dataset(Dataset):\n",
    "    def __init__(self, Graphs, Boundaries):\n",
    "        self.Graphs = Graphs\n",
    "        self.Boundaries = Boundaries\n",
    "        self.device = torch.device('cuda' if torch.cuda.is_available() else 'cpu')\n",
    "    \n",
    "    def __len__(self):\n",
    "        return len(self.Graphs)\n",
    "\n",
    "    def __getitem__(self, index):\n",
    "        G = self.Graphs[index].clone().to(self.device)\n",
    "        B = self.Boundaries[index].clone().to(self.device)\n",
    "        B.x = B.x.to(G.x.dtype)\n",
    "        B.edge_index = B.edge_index.to(G.edge_index.dtype)\n",
    "        B.edge_attr = B.edge_attr.to(G.edge_attr.dtype)\n",
    "        \n",
    "        # shuffling nodes inside the same graph\n",
    "        # permutation = torch.randperm(G.num_nodes).to(self.device)\n",
    "        \n",
    "        # G.x = G.x[permutation]\n",
    "        # G.edge_index = permutation[G.edge_index]\n",
    "        # G.rec_w = G.rec_w[permutation]\n",
    "        # G.rec_h = G.rec_h[permutation]\n",
    "        # G.edge_attr = G.edge_attr[permutation]\n",
    "        \n",
    "        # padded_x = torch.nn.functional.pad(x, pad=(0, 0, 0, 8 - nu_nodes), mode='constant', value=0)\n",
    "        # padded_y = torch.nn.functional.pad(y, pad=(0, 8 - nu_nodes), mode='constant', value=0)\n",
    "        graphs = {\n",
    "            'G': G,\n",
    "            'B': B\n",
    "        }\n",
    "        \n",
    "        return graphs"
   ]
  },
  {
   "cell_type": "code",
   "execution_count": 28,
   "id": "00d373d3",
   "metadata": {
    "execution": {
     "iopub.execute_input": "2023-04-30T10:23:51.740469Z",
     "iopub.status.busy": "2023-04-30T10:23:51.739499Z",
     "iopub.status.idle": "2023-04-30T10:23:51.744793Z",
     "shell.execute_reply": "2023-04-30T10:23:51.743816Z"
    },
    "papermill": {
     "duration": 0.096127,
     "end_time": "2023-04-30T10:23:51.746944",
     "exception": false,
     "start_time": "2023-04-30T10:23:51.650817",
     "status": "completed"
    },
    "tags": []
   },
   "outputs": [],
   "source": [
    "edge = int(len(Graphs_pyTorch) * 0.8)"
   ]
  },
  {
   "cell_type": "code",
   "execution_count": 29,
   "id": "1eb9ec39",
   "metadata": {
    "execution": {
     "iopub.execute_input": "2023-04-30T10:23:51.925374Z",
     "iopub.status.busy": "2023-04-30T10:23:51.924576Z",
     "iopub.status.idle": "2023-04-30T10:23:51.934903Z",
     "shell.execute_reply": "2023-04-30T10:23:51.933843Z"
    },
    "papermill": {
     "duration": 0.101891,
     "end_time": "2023-04-30T10:23:51.937038",
     "exception": false,
     "start_time": "2023-04-30T10:23:51.835147",
     "status": "completed"
    },
    "tags": []
   },
   "outputs": [
    {
     "name": "stdout",
     "output_type": "stream",
     "text": [
      "Train dataset: 64629, Val dataset: 16148, Test dataset: 10\n"
     ]
    }
   ],
   "source": [
    "batch_size = 32\n",
    "train_dataset = Planify_Dataset(Graphs_pyTorch[:edge], Boundaries_pyTorch[:edge])\n",
    "train_loader  = DataLoader(train_dataset, batch_size=batch_size, shuffle=True)\n",
    "\n",
    "val_dataset = Planify_Dataset(Graphs_pyTorch[edge:-10], Boundaries_pyTorch[edge:-10])\n",
    "val_loader  = DataLoader(val_dataset, batch_size=batch_size, shuffle=True)\n",
    "\n",
    "test_dataset = Planify_Dataset(Graphs_pyTorch[-10:], Boundaries_pyTorch[-10:])\n",
    "test_loader  = DataLoader(test_dataset, batch_size=batch_size, shuffle=True)\n",
    "\n",
    "print(f\"Train dataset: {len(train_dataset)}, Val dataset: {len(val_dataset)}, Test dataset: {len(test_dataset)}\")"
   ]
  },
  {
   "cell_type": "code",
   "execution_count": 30,
   "id": "f74306cc",
   "metadata": {
    "execution": {
     "iopub.execute_input": "2023-04-30T10:23:52.128693Z",
     "iopub.status.busy": "2023-04-30T10:23:52.127408Z",
     "iopub.status.idle": "2023-04-30T10:23:52.134553Z",
     "shell.execute_reply": "2023-04-30T10:23:52.133657Z"
    },
    "papermill": {
     "duration": 0.112004,
     "end_time": "2023-04-30T10:23:52.136592",
     "exception": false,
     "start_time": "2023-04-30T10:23:52.024588",
     "status": "completed"
    },
    "tags": []
   },
   "outputs": [],
   "source": [
    "# Saving model function\n",
    "import os\n",
    "\n",
    "checkpoint_dir = \"./checkpoints\"\n",
    "\n",
    "if not os.path.exists(checkpoint_dir):\n",
    "    os.makedirs(checkpoint_dir)\n",
    "    \n",
    "\n",
    "def save_checkpoint(model, optimizer, epoch):\n",
    "    checkpoint_path = os.path.join(checkpoint_dir, f'Best_model_V3.pt')\n",
    "    torch.save({\n",
    "        'model_state_dict': model.state_dict(),\n",
    "        'optimizer_state_dict': optimizer.state_dict(),\n",
    "        'epoch': epoch\n",
    "    }, checkpoint_path)\n",
    "    \n",
    "    print('Model saved :)')"
   ]
  },
  {
   "cell_type": "markdown",
   "id": "f2f2b4ef",
   "metadata": {
    "papermill": {
     "duration": 0.088145,
     "end_time": "2023-04-30T10:23:52.312877",
     "exception": false,
     "start_time": "2023-04-30T10:23:52.224732",
     "status": "completed"
    },
    "tags": []
   },
   "source": [
    "<a id='archi'></a>\n",
    "### Architecture"
   ]
  },
  {
   "cell_type": "code",
   "execution_count": 31,
   "id": "959526a2",
   "metadata": {
    "execution": {
     "iopub.execute_input": "2023-04-30T10:23:52.491574Z",
     "iopub.status.busy": "2023-04-30T10:23:52.491222Z",
     "iopub.status.idle": "2023-04-30T10:23:55.201618Z",
     "shell.execute_reply": "2023-04-30T10:23:55.200531Z"
    },
    "papermill": {
     "duration": 2.803107,
     "end_time": "2023-04-30T10:23:55.203979",
     "exception": false,
     "start_time": "2023-04-30T10:23:52.400872",
     "status": "completed"
    },
    "tags": []
   },
   "outputs": [
    {
     "data": {
      "text/plain": [
       "GATNet(\n",
       "  (graph_conv1): GATConv(9, 32, heads=4)\n",
       "  (graph_conv2): GATConv(137, 32, heads=8)\n",
       "  (graph_conv3): GATConv(265, 64, heads=8)\n",
       "  (graph_conv4): GATConv(521, 128, heads=8)\n",
       "  (boundary_conv1): GATConv(3, 32, heads=4)\n",
       "  (boundary_conv2): GATConv(131, 32, heads=8)\n",
       "  (Concatination1): GATConv(1292, 128, heads=8)\n",
       "  (width_layer1): Linear(in_features=1024, out_features=128, bias=True)\n",
       "  (height_layer1): Linear(in_features=1024, out_features=128, bias=True)\n",
       "  (width_output): Linear(in_features=128, out_features=1, bias=True)\n",
       "  (height_output): Linear(in_features=128, out_features=1, bias=True)\n",
       "  (dropout): Dropout(p=0.2, inplace=False)\n",
       ")"
      ]
     },
     "execution_count": 31,
     "metadata": {},
     "output_type": "execute_result"
    }
   ],
   "source": [
    "class GATNet(torch.nn.Module):\n",
    "    def __init__(self, num_graph_node_features, num_boundary_node_features):\n",
    "        super(GATNet, self).__init__()\n",
    "        \n",
    "        self.graph_conv1 = GATConv(num_graph_node_features, 32, heads=4)\n",
    "        \n",
    "        input_of_conv2   = num_graph_node_features + 32*4\n",
    "        self.graph_conv2 = GATConv(input_of_conv2, 32, heads=8)\n",
    "        \n",
    "        input_of_conv3   = num_graph_node_features + 32*8\n",
    "        self.graph_conv3 = GATConv(input_of_conv3, 64, heads=8)\n",
    "        \n",
    "        input_of_conv4   = num_graph_node_features + 64*8\n",
    "        self.graph_conv4 = GATConv(input_of_conv4, 128, heads=8)\n",
    "        # self.graph_conv5 = GATConv(128*8, 128, heads=8)\n",
    "        # self.graph_conv6 = GATConv(128*8, 128, heads=16)\n",
    "        # self.graph_conv7 = GATConv(128*16, 256, heads=16)\n",
    "        # self.graph_conv8 = GATConv(256*16, 256, heads=16)\n",
    "        shape_of_graphs_befor_concatination = num_graph_node_features + 128*8\n",
    "        \n",
    "        self.boundary_conv1 = GATConv(num_boundary_node_features, 32, heads=4)\n",
    "        input_of_boundary_conv2 = 32*4 + num_boundary_node_features\n",
    "        self.boundary_conv2 = GATConv(input_of_boundary_conv2, 32, heads=8)\n",
    "        # self.boundary_conv3 = GATConv(32*8, 64, heads=8)\n",
    "        # self.boundary_conv4 = GATConv(64*8, 128, heads=8)\n",
    "        # self.boundary_conv5 = GATConv(128*8, 128, heads=8)\n",
    "        shape_of_boundary_befor_concatination = num_boundary_node_features + 32 * 8\n",
    "        \n",
    "        # Output of graph_conv8 + output of boundary_conv5 + 2 step connection from real nodes and boundary nodes\n",
    "        inputs_concatination = shape_of_graphs_befor_concatination + shape_of_boundary_befor_concatination\n",
    "        self.Concatination1  = GATConv(inputs_concatination, 128, heads=8)\n",
    "        # self.Concatination2  = GATConv(128*8, 64, heads=8)\n",
    "        # self.Concatination3  = GATConv(64*8, 64, heads=8)\n",
    "        # self.Concatination4  = GATConv(64*8, 32, heads=8)\n",
    "        # self.Concatination5  = GATConv(32*8, 32*4)\n",
    "        \n",
    "        # self.lin1 = nn.Linear(inputs_concatination, 256)\n",
    "        # self.lin2 = nn.Linear(256, 32)\n",
    "\n",
    "        self.width_layer1  = nn.Linear(128*8, 128)\n",
    "        self.height_layer1 = nn.Linear(128*8, 128)\n",
    "        \n",
    "        # self.width_layer2  = nn.Linear(256, 128)\n",
    "        # self.height_layer2 = nn.Linear(256, 128)\n",
    "        \n",
    "        # self.width_layer3  = nn.Linear(128, 32)\n",
    "        # self.height_layer3 = nn.Linear(128, 32)\n",
    "        \n",
    "        # self.width_layer4  = nn.Linear(32, 8)\n",
    "        # self.height_layer4 = nn.Linear(32, 8)\n",
    "        \n",
    "        self.width_output  = nn.Linear(128, 1)\n",
    "        self.height_output = nn.Linear(128, 1)\n",
    "        \n",
    "        \n",
    "        self.dropout = torch.nn.Dropout(0.2)\n",
    "        \n",
    "    def forward(self, graph, boundary):\n",
    "        x_graph, g_edge_index, g_edge_attr, g_batch = graph.x, graph.edge_index, graph.edge_attr, graph.batch\n",
    "        x_boundary, b_edge_indexy, b_edge_attr, b_batch = boundary.x, boundary.edge_index, boundary.edge_attr, boundary.batch\n",
    "        \n",
    "        NUM_OF_NODES = x_graph.shape[0]\n",
    "        # During testing, as we input only one graph.\n",
    "        if g_batch == None:\n",
    "            g_batch = torch.zeros(x_graph.shape[0], dtype=torch.long)\n",
    "        if b_batch == None:\n",
    "            b_batch = torch.zeros(x_boundary.shape[0], dtype=torch.long)\n",
    "        \n",
    "        \n",
    "        x_graph_res = x_graph\n",
    "        x_boundary_res = x_boundary\n",
    "        \n",
    "        # Passing the graph throught a message passing to embed its features\n",
    "        x_graph = F.leaky_relu(self.graph_conv1(x_graph, g_edge_index, g_edge_attr))\n",
    "        x_graph = self.dropout(x_graph) # Concatinate with step connection from real values.\n",
    "        x_graph = torch.cat([x_graph, x_graph_res], dim=1)\n",
    "        \n",
    "        \n",
    "        x_graph = F.leaky_relu(self.graph_conv2(x_graph, g_edge_index, g_edge_attr))\n",
    "        x_graph = self.dropout(x_graph)\n",
    "        x_graph = torch.cat([x_graph, x_graph_res], dim=1)\n",
    "        \n",
    "        x_graph = F.leaky_relu(self.graph_conv3(x_graph, g_edge_index))\n",
    "        x_graph = self.dropout(x_graph) \n",
    "        x_graph = torch.cat([x_graph, x_graph_res], dim=1)\n",
    "        \n",
    "        x_graph = F.leaky_relu(self.graph_conv4(x_graph, g_edge_index))\n",
    "        x_graph = self.dropout(x_graph) \n",
    "        x_graph = torch.cat([x_graph, x_graph_res], dim=1)\n",
    "        \n",
    "        # x_graph = F.leaky_relu(self.graph_conv5(x_graph, g_edge_index))\n",
    "        # x_graph = F.leaky_relu(self.graph_conv6(x_graph, g_edge_index))\n",
    "        # x_graph = self.dropout(x_graph)\n",
    "        # x_graph = F.leaky_relu(self.graph_conv7(x_graph, g_edge_index))\n",
    "        # x_graph = F.leaky_relu(self.graph_conv8(x_graph, g_edge_index))\n",
    "        # x_graph = self.dropout(x_graph)\n",
    "        \n",
    "        \n",
    "        # Passing the boundary throught a message passing to embed its features\n",
    "        x_boundary = F.leaky_relu(self.boundary_conv1(x_boundary, b_edge_indexy, b_edge_attr))\n",
    "        x_boundary = self.dropout(x_boundary)\n",
    "        x_boundary = torch.cat([x_boundary, x_boundary_res], dim=1)\n",
    "        \n",
    "        x_boundary = F.leaky_relu(self.boundary_conv2(x_boundary, b_edge_indexy, b_edge_attr))\n",
    "        x_boundary = self.dropout(x_boundary)\n",
    "        x_boundary = torch.cat([x_boundary, x_boundary_res], dim=1)\n",
    "        \n",
    "        # x_boundary = F.leaky_relu(self.boundary_conv3(x_boundary, b_edge_indexy))\n",
    "        # x_boundary = self.dropout(x_boundary)\n",
    "        # x_boundary = F.leaky_relu(self.boundary_conv4(x_boundary, b_edge_indexy))\n",
    "        # x_boundary = F.leaky_relu(self.boundary_conv5(x_boundary, b_edge_indexy))\n",
    "        # x_boundary = self.dropout(x_boundary)\n",
    "\n",
    "        # Pooling the bounadry to 1D vector by getting max value in each feature for all nodes.\n",
    "        x_boundary_pooled = F.max_pool1d(x_boundary.transpose(0, 1), kernel_size=x_boundary.shape[0]).view(1, -1)\n",
    "        \n",
    "        # Concatinating the graph & the boundary\n",
    "        x = torch.cat([x_graph, x_boundary_pooled.repeat(NUM_OF_NODES, 1)], dim=1)\n",
    "        x = F.leaky_relu(self.Concatination1(x, g_edge_index))\n",
    "        x = self.dropout(x)\n",
    "        # x = F.leaky_relu(self.Concatination2(x, g_edge_index))\n",
    "        # x = self.dropout(x)\n",
    "        # x = F.leaky_relu(self.Concatination3(x, g_edge_index))\n",
    "        # x = self.dropout(x)\n",
    "        # x = F.leaky_relu(self.Concatination4(x, g_edge_index))\n",
    "        # x = self.dropout(x)\n",
    "        # x = F.leaky_relu(self.Concatination5(x, g_edge_index))\n",
    "        # x = self.dropout(x)\n",
    "        \n",
    "        # x = F.leaky_relu(self.lin1(x))\n",
    "        # x = self.dropout(x)\n",
    "        # x = F.leaky_relu(self.lin2(x))\n",
    "        # x = self.dropout(x)\n",
    "        \n",
    "        \n",
    "        width = F.leaky_relu(self.width_layer1(x))\n",
    "        # width = F.leaky_relu(self.width_layer2(width))\n",
    "        # width = F.leaky_relu(self.width_layer3(width))\n",
    "        # width = F.leaky_relu(self.width_layer4(width))\n",
    "        width = self.dropout(width)\n",
    "        width = self.width_output(width)\n",
    "        \n",
    "        height = F.leaky_relu(self.height_layer1(x))\n",
    "        # height = F.leaky_relu(self.height_layer2(height))\n",
    "        # height = F.leaky_relu(self.height_layer3(height))\n",
    "        # height = F.leaky_relu(self.height_layer4(height))\n",
    "        height = self.dropout(height)\n",
    "        height = self.height_output(height)\n",
    "        \n",
    "        return width.squeeze(), height.squeeze()\n",
    "\n",
    "num_graph_node_features = Graphs_pyTorch[0].x.shape[1]\n",
    "num_boundary_node_features = Boundaries_pyTorch[0].x.shape[1]\n",
    "\n",
    "model = GATNet(num_graph_node_features, num_boundary_node_features)\n",
    "\n",
    "device = torch.device('cuda' if torch.cuda.is_available() else 'cpu')\n",
    "model = model.to(device)\n",
    "\n",
    "# to monitor the loss & accuracy.\n",
    "errors = []\n",
    "acc = []\n",
    "\n",
    "model"
   ]
  },
  {
   "cell_type": "code",
   "execution_count": 32,
   "id": "a302a40c",
   "metadata": {
    "execution": {
     "iopub.execute_input": "2023-04-30T10:23:55.382856Z",
     "iopub.status.busy": "2023-04-30T10:23:55.382168Z",
     "iopub.status.idle": "2023-04-30T10:23:55.391127Z",
     "shell.execute_reply": "2023-04-30T10:23:55.390110Z"
    },
    "papermill": {
     "duration": 0.100603,
     "end_time": "2023-04-30T10:23:55.393232",
     "exception": false,
     "start_time": "2023-04-30T10:23:55.292629",
     "status": "completed"
    },
    "tags": []
   },
   "outputs": [],
   "source": [
    "def train(model, optimizer, criterion, train_loader):\n",
    "    model.train()\n",
    "    running_loss = 0.0\n",
    "    for i, data in enumerate(train_loader):\n",
    "        optimizer.zero_grad()\n",
    "        # Forward pass\n",
    "        graph, boundary = data['G'], data['B']\n",
    "        \n",
    "        width, height    = model(graph, boundary)\n",
    "        \n",
    "        width_loss = criterion(width, graph.rec_w)\n",
    "        height_loss = criterion(height, graph.rec_h)\n",
    "\n",
    "        loss = width_loss + height_loss\n",
    "\n",
    "        # Backward pass\n",
    "        loss.backward()\n",
    "        \n",
    "        # Updating parameters\n",
    "        optimizer.step()\n",
    "\n",
    "        # Monitoring\n",
    "        running_loss += loss.item()\n",
    "        \n",
    "    return running_loss / len(train_loader)\n",
    "\n",
    "\n",
    "def evaluate(model, criterion, val_loader):\n",
    "    model.eval()\n",
    "    running_loss = 0.0\n",
    "    with torch.no_grad():\n",
    "        for data in val_loader:\n",
    "            graph, boundary = data['G'], data['B']\n",
    "            width, height    = model(graph, boundary)\n",
    "            width_loss = criterion(width, graph.rec_w)\n",
    "            height_loss = criterion(height, graph.rec_h)\n",
    "\n",
    "            loss = width_loss + height_loss\n",
    "            running_loss += loss.item()\n",
    "            \n",
    "    return running_loss / len(val_loader)"
   ]
  },
  {
   "cell_type": "code",
   "execution_count": 33,
   "id": "624ff519",
   "metadata": {
    "execution": {
     "iopub.execute_input": "2023-04-30T10:23:55.572938Z",
     "iopub.status.busy": "2023-04-30T10:23:55.572338Z",
     "iopub.status.idle": "2023-04-30T10:23:55.580714Z",
     "shell.execute_reply": "2023-04-30T10:23:55.579770Z"
    },
    "papermill": {
     "duration": 0.10166,
     "end_time": "2023-04-30T10:23:55.583063",
     "exception": false,
     "start_time": "2023-04-30T10:23:55.481403",
     "status": "completed"
    },
    "tags": []
   },
   "outputs": [],
   "source": [
    "from copy import deepcopy\n",
    "\n",
    "# Hyperparameters\n",
    "learning_rate = 0.001\n",
    "num_epochs = 250\n",
    "patience = 10 # Number of epochs to wait if validation loss doesn't improve\n",
    "best_val_loss = float('inf')\n",
    "\n",
    "counter = 0\n",
    "\n",
    "optimizer = torch.optim.Adam(model.parameters(), lr=learning_rate, weight_decay=3e-5)\n",
    "criterion = nn.MSELoss()\n",
    "scheduler = torch.optim.lr_scheduler.StepLR(optimizer, step_size=1, gamma=0.950)\n"
   ]
  },
  {
   "cell_type": "code",
   "execution_count": 34,
   "id": "1521b3d4",
   "metadata": {
    "execution": {
     "iopub.execute_input": "2023-04-30T10:23:55.763149Z",
     "iopub.status.busy": "2023-04-30T10:23:55.762085Z",
     "iopub.status.idle": "2023-04-30T10:23:55.767427Z",
     "shell.execute_reply": "2023-04-30T10:23:55.766407Z"
    },
    "papermill": {
     "duration": 0.097661,
     "end_time": "2023-04-30T10:23:55.769713",
     "exception": false,
     "start_time": "2023-04-30T10:23:55.672052",
     "status": "completed"
    },
    "tags": []
   },
   "outputs": [],
   "source": [
    "# Notice\n",
    "train_losses = []\n",
    "val_losses = []"
   ]
  },
  {
   "cell_type": "markdown",
   "id": "b4c46bce",
   "metadata": {
    "papermill": {
     "duration": 0.088084,
     "end_time": "2023-04-30T10:23:55.946041",
     "exception": false,
     "start_time": "2023-04-30T10:23:55.857957",
     "status": "completed"
    },
    "tags": []
   },
   "source": [
    "<a id='train'></a>\n",
    "### Training\n"
   ]
  },
  {
   "cell_type": "code",
   "execution_count": 35,
   "id": "064ffa11",
   "metadata": {
    "execution": {
     "iopub.execute_input": "2023-04-30T10:23:56.165298Z",
     "iopub.status.busy": "2023-04-30T10:23:56.164231Z",
     "iopub.status.idle": "2023-04-30T15:47:20.136560Z",
     "shell.execute_reply": "2023-04-30T15:47:20.135339Z"
    },
    "papermill": {
     "duration": 19404.104626,
     "end_time": "2023-04-30T15:47:20.138946",
     "exception": false,
     "start_time": "2023-04-30T10:23:56.034320",
     "status": "completed"
    },
    "tags": []
   },
   "outputs": [
    {
     "name": "stdout",
     "output_type": "stream",
     "text": [
      "Validating ...\n",
      "Epoch [1/250], Train Loss: 506.5827, Validation Loss: 269.4060\n",
      "Model saved :)\n",
      "Validating ...\n",
      "Epoch [2/250], Train Loss: 266.0525, Validation Loss: 257.7154\n",
      "Model saved :)\n",
      "Validating ...\n",
      "Epoch [3/250], Train Loss: 227.8916, Validation Loss: 184.1535\n",
      "Model saved :)\n",
      "Validating ...\n",
      "Epoch [4/250], Train Loss: 207.5958, Validation Loss: 166.6787\n",
      "Model saved :)\n",
      "Validating ...\n",
      "Epoch [5/250], Train Loss: 193.5390, Validation Loss: 153.6555\n",
      "Model saved :)\n",
      "Validating ...\n",
      "Epoch [6/250], Train Loss: 184.9274, Validation Loss: 153.2143\n",
      "Model saved :)\n",
      "Validating ...\n",
      "Epoch [7/250], Train Loss: 177.5810, Validation Loss: 142.8698\n",
      "Model saved :)\n",
      "Validating ...\n",
      "Epoch [8/250], Train Loss: 172.0462, Validation Loss: 142.3526\n",
      "Model saved :)\n",
      "Validating ...\n",
      "Epoch [9/250], Train Loss: 166.7998, Validation Loss: 136.8109\n",
      "Model saved :)\n",
      "Validating ...\n",
      "Epoch [10/250], Train Loss: 163.0572, Validation Loss: 136.5001\n",
      "Model saved :)\n",
      "Validating ...\n",
      "Epoch [11/250], Train Loss: 159.6280, Validation Loss: 134.1356\n",
      "Model saved :)\n",
      "Validating ...\n",
      "Epoch [12/250], Train Loss: 156.4188, Validation Loss: 130.5631\n",
      "Model saved :)\n",
      "Validating ...\n",
      "Epoch [13/250], Train Loss: 154.0597, Validation Loss: 129.8208\n",
      "Model saved :)\n",
      "Validating ...\n",
      "Epoch [14/250], Train Loss: 151.4174, Validation Loss: 130.8809\n",
      "Validating ...\n",
      "Epoch [15/250], Train Loss: 149.0076, Validation Loss: 128.2284\n",
      "Model saved :)\n",
      "Validating ...\n",
      "Epoch [16/250], Train Loss: 147.3544, Validation Loss: 125.2956\n",
      "Model saved :)\n",
      "Validating ...\n",
      "Epoch [17/250], Train Loss: 145.0678, Validation Loss: 126.1456\n",
      "Validating ...\n",
      "Epoch [18/250], Train Loss: 143.6539, Validation Loss: 124.2437\n",
      "Model saved :)\n",
      "Validating ...\n",
      "Epoch [19/250], Train Loss: 142.1918, Validation Loss: 124.7364\n",
      "Validating ...\n",
      "Epoch [20/250], Train Loss: 140.4904, Validation Loss: 123.3274\n",
      "Model saved :)\n",
      "Validating ...\n",
      "Epoch [21/250], Train Loss: 139.1508, Validation Loss: 124.2749\n",
      "Validating ...\n",
      "Epoch [22/250], Train Loss: 137.1109, Validation Loss: 123.3924\n",
      "Learning rate decreased!, now is 0.00095\n",
      "Validating ...\n",
      "Epoch [23/250], Train Loss: 135.3911, Validation Loss: 121.4963\n",
      "Model saved :)\n",
      "Validating ...\n",
      "Epoch [24/250], Train Loss: 134.6140, Validation Loss: 121.2385\n",
      "Model saved :)\n",
      "Validating ...\n",
      "Epoch [25/250], Train Loss: 133.3854, Validation Loss: 121.7313\n",
      "Validating ...\n",
      "Epoch [26/250], Train Loss: 131.9840, Validation Loss: 119.7670\n",
      "Model saved :)\n",
      "Validating ...\n",
      "Epoch [27/250], Train Loss: 131.2982, Validation Loss: 122.5188\n",
      "Validating ...\n",
      "Epoch [28/250], Train Loss: 130.4594, Validation Loss: 119.5042\n",
      "Model saved :)\n",
      "Validating ...\n",
      "Epoch [29/250], Train Loss: 129.9976, Validation Loss: 119.5596\n",
      "Validating ...\n",
      "Epoch [30/250], Train Loss: 128.1244, Validation Loss: 117.7415\n",
      "Model saved :)\n",
      "Validating ...\n",
      "Epoch [31/250], Train Loss: 127.2691, Validation Loss: 119.9575\n",
      "Validating ...\n",
      "Epoch [32/250], Train Loss: 126.5674, Validation Loss: 118.2083\n",
      "Learning rate decreased!, now is 0.0009025\n",
      "Validating ...\n",
      "Epoch [33/250], Train Loss: 125.2753, Validation Loss: 117.1415\n",
      "Model saved :)\n",
      "Validating ...\n",
      "Epoch [34/250], Train Loss: 124.5221, Validation Loss: 116.5416\n",
      "Model saved :)\n",
      "Validating ...\n",
      "Epoch [35/250], Train Loss: 123.2966, Validation Loss: 115.6458\n",
      "Model saved :)\n",
      "Validating ...\n",
      "Epoch [36/250], Train Loss: 122.9990, Validation Loss: 116.3392\n",
      "Validating ...\n",
      "Epoch [37/250], Train Loss: 123.2018, Validation Loss: 123.0587\n",
      "Learning rate decreased!, now is 0.000857375\n",
      "Validating ...\n",
      "Epoch [38/250], Train Loss: 122.2826, Validation Loss: 113.7574\n",
      "Model saved :)\n",
      "Validating ...\n",
      "Epoch [39/250], Train Loss: 120.5276, Validation Loss: 115.2275\n",
      "Validating ...\n",
      "Epoch [40/250], Train Loss: 120.3112, Validation Loss: 113.8317\n",
      "Learning rate decreased!, now is 0.0008145062499999999\n",
      "Validating ...\n",
      "Epoch [41/250], Train Loss: 118.5062, Validation Loss: 114.1808\n",
      "Validating ...\n",
      "Epoch [42/250], Train Loss: 117.5003, Validation Loss: 113.8007\n",
      "Learning rate decreased!, now is 0.0007737809374999998\n",
      "Validating ...\n",
      "Epoch [43/250], Train Loss: 117.6557, Validation Loss: 114.7108\n",
      "Validating ...\n",
      "Epoch [44/250], Train Loss: 115.4927, Validation Loss: 112.6633\n",
      "Model saved :)\n",
      "Validating ...\n",
      "Epoch [45/250], Train Loss: 115.5879, Validation Loss: 113.1315\n",
      "Validating ...\n",
      "Epoch [46/250], Train Loss: 114.4446, Validation Loss: 112.5835\n",
      "Model saved :)\n",
      "Validating ...\n",
      "Epoch [47/250], Train Loss: 113.6793, Validation Loss: 112.0105\n",
      "Model saved :)\n",
      "Validating ...\n",
      "Epoch [48/250], Train Loss: 115.5899, Validation Loss: 113.0143\n",
      "Validating ...\n",
      "Epoch [49/250], Train Loss: 112.9035, Validation Loss: 111.6205\n",
      "Model saved :)\n",
      "Validating ...\n",
      "Epoch [50/250], Train Loss: 113.5643, Validation Loss: 113.0968\n",
      "Validating ...\n",
      "Epoch [51/250], Train Loss: 112.5898, Validation Loss: 111.4728\n",
      "Model saved :)\n",
      "Validating ...\n",
      "Epoch [52/250], Train Loss: 114.3477, Validation Loss: 112.7888\n",
      "Validating ...\n",
      "Epoch [53/250], Train Loss: 111.4590, Validation Loss: 112.4433\n",
      "Learning rate decreased!, now is 0.0007350918906249997\n",
      "Validating ...\n",
      "Epoch [54/250], Train Loss: 110.6858, Validation Loss: 113.5290\n",
      "Validating ...\n",
      "Epoch [55/250], Train Loss: 109.9940, Validation Loss: 111.5506\n",
      "Learning rate decreased!, now is 0.0006983372960937497\n",
      "Validating ...\n",
      "Epoch [56/250], Train Loss: 110.1252, Validation Loss: 112.1266\n",
      "Validating ...\n",
      "Epoch [57/250], Train Loss: 108.4201, Validation Loss: 114.5201\n",
      "Learning rate decreased!, now is 0.0006634204312890621\n",
      "Validating ...\n",
      "Epoch [58/250], Train Loss: 107.5623, Validation Loss: 109.6657\n",
      "Model saved :)\n",
      "Validating ...\n",
      "Epoch [59/250], Train Loss: 106.8798, Validation Loss: 110.5463\n",
      "Validating ...\n",
      "Epoch [60/250], Train Loss: 107.0616, Validation Loss: 110.7345\n",
      "Learning rate decreased!, now is 0.000630249409724609\n",
      "Validating ...\n",
      "Epoch [61/250], Train Loss: 106.6983, Validation Loss: 109.2448\n",
      "Model saved :)\n",
      "Validating ...\n",
      "Epoch [62/250], Train Loss: 105.5332, Validation Loss: 109.0206\n",
      "Model saved :)\n",
      "Validating ...\n",
      "Epoch [63/250], Train Loss: 105.9367, Validation Loss: 108.8220\n",
      "Model saved :)\n",
      "Validating ...\n",
      "Epoch [64/250], Train Loss: 104.9699, Validation Loss: 109.0815\n",
      "Validating ...\n",
      "Epoch [65/250], Train Loss: 105.2652, Validation Loss: 107.9666\n",
      "Model saved :)\n",
      "Validating ...\n",
      "Epoch [66/250], Train Loss: 104.4684, Validation Loss: 107.9171\n",
      "Model saved :)\n",
      "Validating ...\n",
      "Epoch [67/250], Train Loss: 104.3682, Validation Loss: 108.3009\n",
      "Validating ...\n",
      "Epoch [68/250], Train Loss: 103.8982, Validation Loss: 107.6876\n",
      "Model saved :)\n",
      "Validating ...\n",
      "Epoch [69/250], Train Loss: 103.1652, Validation Loss: 108.9915\n",
      "Validating ...\n",
      "Epoch [70/250], Train Loss: 103.2305, Validation Loss: 107.9435\n",
      "Learning rate decreased!, now is 0.0005987369392383785\n",
      "Validating ...\n",
      "Epoch [71/250], Train Loss: 102.9560, Validation Loss: 107.4536\n",
      "Model saved :)\n",
      "Validating ...\n",
      "Epoch [72/250], Train Loss: 102.2623, Validation Loss: 107.2547\n",
      "Model saved :)\n",
      "Validating ...\n",
      "Epoch [73/250], Train Loss: 101.9492, Validation Loss: 110.2579\n",
      "Validating ...\n",
      "Epoch [74/250], Train Loss: 101.4275, Validation Loss: 107.8597\n",
      "Learning rate decreased!, now is 0.0005688000922764595\n",
      "Validating ...\n",
      "Epoch [75/250], Train Loss: 100.9764, Validation Loss: 106.7455\n",
      "Model saved :)\n",
      "Validating ...\n",
      "Epoch [76/250], Train Loss: 100.5033, Validation Loss: 108.1722\n",
      "Validating ...\n",
      "Epoch [77/250], Train Loss: 100.4292, Validation Loss: 106.9218\n",
      "Learning rate decreased!, now is 0.0005403600876626365\n",
      "Validating ...\n",
      "Epoch [78/250], Train Loss: 100.1448, Validation Loss: 107.6978\n",
      "Validating ...\n",
      "Epoch [79/250], Train Loss: 99.7572, Validation Loss: 108.3369\n",
      "Learning rate decreased!, now is 0.0005133420832795047\n",
      "Validating ...\n",
      "Epoch [80/250], Train Loss: 98.2689, Validation Loss: 107.1986\n",
      "Validating ...\n",
      "Epoch [81/250], Train Loss: 97.9911, Validation Loss: 105.8734\n",
      "Model saved :)\n",
      "Validating ...\n",
      "Epoch [82/250], Train Loss: 98.4277, Validation Loss: 106.4158\n",
      "Validating ...\n",
      "Epoch [83/250], Train Loss: 97.6194, Validation Loss: 106.5598\n",
      "Learning rate decreased!, now is 0.00048767497911552944\n",
      "Validating ...\n",
      "Epoch [84/250], Train Loss: 97.1132, Validation Loss: 106.9332\n",
      "Validating ...\n",
      "Epoch [85/250], Train Loss: 97.2781, Validation Loss: 106.1265\n",
      "Learning rate decreased!, now is 0.00046329123015975297\n",
      "Validating ...\n",
      "Epoch [86/250], Train Loss: 96.2708, Validation Loss: 105.8652\n",
      "Model saved :)\n",
      "Validating ...\n",
      "Epoch [87/250], Train Loss: 95.8114, Validation Loss: 106.1259\n",
      "Validating ...\n",
      "Epoch [88/250], Train Loss: 95.7756, Validation Loss: 105.7472\n",
      "Model saved :)\n",
      "Validating ...\n",
      "Epoch [89/250], Train Loss: 96.1610, Validation Loss: 105.5066\n",
      "Model saved :)\n",
      "Validating ...\n",
      "Epoch [90/250], Train Loss: 95.5348, Validation Loss: 104.9463\n",
      "Model saved :)\n",
      "Validating ...\n",
      "Epoch [91/250], Train Loss: 95.1767, Validation Loss: 104.4281\n",
      "Model saved :)\n",
      "Validating ...\n",
      "Epoch [92/250], Train Loss: 95.1164, Validation Loss: 104.6162\n",
      "Validating ...\n",
      "Epoch [93/250], Train Loss: 94.8553, Validation Loss: 105.0436\n",
      "Learning rate decreased!, now is 0.0004401266686517653\n",
      "Validating ...\n",
      "Epoch [94/250], Train Loss: 94.1764, Validation Loss: 105.6689\n",
      "Validating ...\n",
      "Epoch [95/250], Train Loss: 94.1063, Validation Loss: 104.4851\n",
      "Learning rate decreased!, now is 0.00041812033521917703\n",
      "Validating ...\n",
      "Epoch [96/250], Train Loss: 93.5556, Validation Loss: 104.5464\n",
      "Validating ...\n",
      "Epoch [97/250], Train Loss: 93.4810, Validation Loss: 107.4190\n",
      "Learning rate decreased!, now is 0.00039721431845821814\n",
      "Validating ...\n",
      "Epoch [98/250], Train Loss: 92.6282, Validation Loss: 103.8828\n",
      "Model saved :)\n",
      "Validating ...\n",
      "Epoch [99/250], Train Loss: 92.5255, Validation Loss: 103.8399\n",
      "Model saved :)\n",
      "Validating ...\n",
      "Epoch [100/250], Train Loss: 92.2955, Validation Loss: 104.1759\n",
      "Validating ...\n",
      "Epoch [101/250], Train Loss: 92.3356, Validation Loss: 105.6208\n",
      "Learning rate decreased!, now is 0.0003773536025353072\n",
      "Validating ...\n",
      "Epoch [102/250], Train Loss: 92.0535, Validation Loss: 103.5885\n",
      "Model saved :)\n",
      "Validating ...\n",
      "Epoch [103/250], Train Loss: 91.2266, Validation Loss: 106.8325\n",
      "Validating ...\n",
      "Epoch [104/250], Train Loss: 91.6236, Validation Loss: 103.2922\n",
      "Model saved :)\n",
      "Validating ...\n",
      "Epoch [105/250], Train Loss: 91.3086, Validation Loss: 103.3903\n",
      "Validating ...\n",
      "Epoch [106/250], Train Loss: 91.0197, Validation Loss: 103.7920\n",
      "Learning rate decreased!, now is 0.0003584859224085418\n",
      "Validating ...\n",
      "Epoch [107/250], Train Loss: 90.9594, Validation Loss: 104.1279\n",
      "Validating ...\n",
      "Epoch [108/250], Train Loss: 90.5022, Validation Loss: 103.7387\n",
      "Learning rate decreased!, now is 0.0003405616262881147\n",
      "Validating ...\n",
      "Epoch [109/250], Train Loss: 90.8335, Validation Loss: 103.1241\n",
      "Model saved :)\n",
      "Validating ...\n",
      "Epoch [110/250], Train Loss: 89.5260, Validation Loss: 104.7223\n",
      "Validating ...\n",
      "Epoch [111/250], Train Loss: 89.4320, Validation Loss: 103.5275\n",
      "Learning rate decreased!, now is 0.00032353354497370894\n",
      "Validating ...\n",
      "Epoch [112/250], Train Loss: 89.0754, Validation Loss: 103.5039\n",
      "Validating ...\n",
      "Epoch [113/250], Train Loss: 89.2632, Validation Loss: 103.4249\n",
      "Learning rate decreased!, now is 0.00030735686772502346\n",
      "Validating ...\n",
      "Epoch [114/250], Train Loss: 88.4302, Validation Loss: 103.2183\n",
      "Validating ...\n",
      "Epoch [115/250], Train Loss: 88.4221, Validation Loss: 102.8073\n",
      "Model saved :)\n",
      "Validating ...\n",
      "Epoch [116/250], Train Loss: 88.5268, Validation Loss: 103.5597\n",
      "Validating ...\n",
      "Epoch [117/250], Train Loss: 88.2738, Validation Loss: 103.1922\n",
      "Learning rate decreased!, now is 0.00029198902433877225\n",
      "Validating ...\n",
      "Epoch [118/250], Train Loss: 88.0497, Validation Loss: 103.9918\n",
      "Validating ...\n",
      "Epoch [119/250], Train Loss: 87.4651, Validation Loss: 102.8221\n",
      "Learning rate decreased!, now is 0.00027738957312183364\n",
      "Validating ...\n",
      "Epoch [120/250], Train Loss: 87.5949, Validation Loss: 102.1416\n",
      "Model saved :)\n",
      "Validating ...\n",
      "Epoch [121/250], Train Loss: 86.9897, Validation Loss: 102.2119\n",
      "Validating ...\n",
      "Epoch [122/250], Train Loss: 86.9563, Validation Loss: 102.0479\n",
      "Model saved :)\n",
      "Validating ...\n",
      "Epoch [123/250], Train Loss: 86.9189, Validation Loss: 103.0454\n",
      "Validating ...\n",
      "Epoch [124/250], Train Loss: 86.6566, Validation Loss: 103.6475\n",
      "Learning rate decreased!, now is 0.0002635200944657419\n",
      "Validating ...\n",
      "Epoch [125/250], Train Loss: 86.3849, Validation Loss: 103.0152\n",
      "Validating ...\n",
      "Epoch [126/250], Train Loss: 86.5894, Validation Loss: 102.1861\n",
      "Learning rate decreased!, now is 0.0002503440897424548\n",
      "Validating ...\n",
      "Epoch [127/250], Train Loss: 86.0600, Validation Loss: 102.3187\n",
      "Validating ...\n",
      "Epoch [128/250], Train Loss: 85.7495, Validation Loss: 102.2571\n",
      "Learning rate decreased!, now is 0.00023782688525533205\n",
      "Validating ...\n",
      "Epoch [129/250], Train Loss: 85.5783, Validation Loss: 102.2583\n",
      "Validating ...\n",
      "Epoch [130/250], Train Loss: 85.2469, Validation Loss: 103.5176\n",
      "Learning rate decreased!, now is 0.00022593554099256544\n",
      "Validating ...\n",
      "Epoch [131/250], Train Loss: 85.4399, Validation Loss: 101.5949\n",
      "Model saved :)\n",
      "Validating ...\n",
      "Epoch [132/250], Train Loss: 85.0845, Validation Loss: 102.0519\n",
      "Validating ...\n",
      "Epoch [133/250], Train Loss: 84.9095, Validation Loss: 103.2537\n",
      "Learning rate decreased!, now is 0.00021463876394293716\n",
      "Validating ...\n",
      "Epoch [134/250], Train Loss: 84.5353, Validation Loss: 102.1643\n",
      "Validating ...\n",
      "Epoch [135/250], Train Loss: 84.4581, Validation Loss: 101.4572\n",
      "Model saved :)\n",
      "Validating ...\n",
      "Epoch [136/250], Train Loss: 84.4368, Validation Loss: 101.1963\n",
      "Model saved :)\n",
      "Validating ...\n",
      "Epoch [137/250], Train Loss: 84.1335, Validation Loss: 101.2765\n",
      "Validating ...\n",
      "Epoch [138/250], Train Loss: 84.1418, Validation Loss: 101.4994\n",
      "Learning rate decreased!, now is 0.0002039068257457903\n",
      "Validating ...\n",
      "Epoch [139/250], Train Loss: 83.9475, Validation Loss: 101.6420\n",
      "Validating ...\n",
      "Epoch [140/250], Train Loss: 83.8542, Validation Loss: 101.6896\n",
      "Learning rate decreased!, now is 0.00019371148445850077\n",
      "Validating ...\n",
      "Epoch [141/250], Train Loss: 83.6349, Validation Loss: 100.7483\n",
      "Model saved :)\n",
      "Validating ...\n",
      "Epoch [142/250], Train Loss: 83.4996, Validation Loss: 102.3648\n",
      "Validating ...\n",
      "Epoch [143/250], Train Loss: 83.3815, Validation Loss: 100.9924\n",
      "Learning rate decreased!, now is 0.00018402591023557573\n",
      "Validating ...\n",
      "Epoch [144/250], Train Loss: 83.2333, Validation Loss: 101.4243\n",
      "Validating ...\n",
      "Epoch [145/250], Train Loss: 83.0018, Validation Loss: 100.9746\n",
      "Learning rate decreased!, now is 0.00017482461472379692\n",
      "Validating ...\n",
      "Epoch [146/250], Train Loss: 83.0173, Validation Loss: 101.0264\n",
      "Validating ...\n",
      "Epoch [147/250], Train Loss: 82.8088, Validation Loss: 100.6232\n",
      "Model saved :)\n",
      "Validating ...\n",
      "Epoch [148/250], Train Loss: 82.5979, Validation Loss: 101.1788\n",
      "Validating ...\n",
      "Epoch [149/250], Train Loss: 82.3821, Validation Loss: 100.7562\n",
      "Learning rate decreased!, now is 0.00016608338398760707\n",
      "Validating ...\n",
      "Epoch [150/250], Train Loss: 82.4251, Validation Loss: 100.7901\n",
      "Validating ...\n",
      "Epoch [151/250], Train Loss: 82.4790, Validation Loss: 100.4953\n",
      "Model saved :)\n",
      "Validating ...\n",
      "Epoch [152/250], Train Loss: 82.2148, Validation Loss: 100.4679\n",
      "Model saved :)\n",
      "Validating ...\n",
      "Epoch [153/250], Train Loss: 82.2777, Validation Loss: 100.7079\n",
      "Validating ...\n",
      "Epoch [154/250], Train Loss: 82.0390, Validation Loss: 101.0046\n",
      "Learning rate decreased!, now is 0.0001577792147882267\n",
      "Validating ...\n",
      "Epoch [155/250], Train Loss: 82.1869, Validation Loss: 100.5965\n",
      "Validating ...\n",
      "Epoch [156/250], Train Loss: 81.9268, Validation Loss: 100.7353\n",
      "Learning rate decreased!, now is 0.00014989025404881537\n",
      "Validating ...\n",
      "Epoch [157/250], Train Loss: 81.8207, Validation Loss: 100.3861\n",
      "Model saved :)\n",
      "Validating ...\n",
      "Epoch [158/250], Train Loss: 81.7026, Validation Loss: 100.7175\n",
      "Validating ...\n",
      "Epoch [159/250], Train Loss: 81.7503, Validation Loss: 102.2296\n",
      "Learning rate decreased!, now is 0.00014239574134637458\n",
      "Validating ...\n",
      "Epoch [160/250], Train Loss: 81.3783, Validation Loss: 101.3658\n",
      "Validating ...\n",
      "Epoch [161/250], Train Loss: 81.6576, Validation Loss: 100.1629\n",
      "Model saved :)\n",
      "Validating ...\n",
      "Epoch [162/250], Train Loss: 81.2365, Validation Loss: 100.3758\n",
      "Validating ...\n",
      "Epoch [163/250], Train Loss: 81.2585, Validation Loss: 100.2738\n",
      "Learning rate decreased!, now is 0.00013527595427905584\n",
      "Validating ...\n",
      "Epoch [164/250], Train Loss: 81.1442, Validation Loss: 101.3510\n",
      "Validating ...\n",
      "Epoch [165/250], Train Loss: 80.8949, Validation Loss: 100.2986\n",
      "Learning rate decreased!, now is 0.00012851215656510304\n",
      "Validating ...\n",
      "Epoch [166/250], Train Loss: 80.9590, Validation Loss: 100.1359\n",
      "Model saved :)\n",
      "Validating ...\n",
      "Epoch [167/250], Train Loss: 80.6449, Validation Loss: 100.1887\n",
      "Validating ...\n",
      "Epoch [168/250], Train Loss: 80.4305, Validation Loss: 99.8732\n",
      "Model saved :)\n",
      "Validating ...\n",
      "Epoch [169/250], Train Loss: 80.4437, Validation Loss: 100.5760\n",
      "Validating ...\n",
      "Epoch [170/250], Train Loss: 80.5941, Validation Loss: 100.2077\n",
      "Learning rate decreased!, now is 0.00012208654873684788\n",
      "Validating ...\n",
      "Epoch [171/250], Train Loss: 80.2974, Validation Loss: 100.5434\n",
      "Validating ...\n",
      "Epoch [172/250], Train Loss: 80.3407, Validation Loss: 100.2360\n",
      "Learning rate decreased!, now is 0.00011598222130000548\n",
      "Validating ...\n",
      "Epoch [173/250], Train Loss: 80.2510, Validation Loss: 100.5408\n",
      "Validating ...\n",
      "Epoch [174/250], Train Loss: 80.0840, Validation Loss: 99.9749\n",
      "Learning rate decreased!, now is 0.00011018311023500519\n",
      "Validating ...\n",
      "Epoch [175/250], Train Loss: 80.0473, Validation Loss: 100.0314\n",
      "Validating ...\n",
      "Epoch [176/250], Train Loss: 79.8906, Validation Loss: 100.2994\n",
      "Learning rate decreased!, now is 0.00010467395472325493\n",
      "Validating ...\n",
      "Epoch [177/250], Train Loss: 79.9354, Validation Loss: 99.8387\n",
      "Model saved :)\n",
      "Validating ...\n",
      "Epoch [178/250], Train Loss: 79.8737, Validation Loss: 100.1816\n",
      "Validating ...\n",
      "Epoch [179/250], Train Loss: 79.9074, Validation Loss: 100.0893\n",
      "Learning rate decreased!, now is 9.944025698709218e-05\n",
      "Validating ...\n",
      "Epoch [180/250], Train Loss: 79.4609, Validation Loss: 100.5847\n",
      "Validating ...\n",
      "Epoch [181/250], Train Loss: 79.6552, Validation Loss: 100.0896\n",
      "Learning rate decreased!, now is 9.446824413773756e-05\n",
      "Validating ...\n",
      "Epoch [182/250], Train Loss: 79.4578, Validation Loss: 100.0973\n",
      "Validating ...\n",
      "Epoch [183/250], Train Loss: 79.2243, Validation Loss: 99.9328\n",
      "Learning rate decreased!, now is 8.974483193085068e-05\n",
      "Validating ...\n",
      "Epoch [184/250], Train Loss: 79.3765, Validation Loss: 100.2579\n",
      "Validating ...\n",
      "Epoch [185/250], Train Loss: 79.3268, Validation Loss: 99.5662\n",
      "Model saved :)\n",
      "Validating ...\n",
      "Epoch [186/250], Train Loss: 79.2987, Validation Loss: 100.3384\n",
      "Validating ...\n",
      "Epoch [187/250], Train Loss: 79.4757, Validation Loss: 100.1616\n",
      "Learning rate decreased!, now is 8.525759033430814e-05\n",
      "Validating ...\n",
      "Epoch [188/250], Train Loss: 79.3768, Validation Loss: 100.0115\n",
      "Validating ...\n",
      "Epoch [189/250], Train Loss: 79.1361, Validation Loss: 100.1179\n",
      "Learning rate decreased!, now is 8.099471081759274e-05\n",
      "Validating ...\n",
      "Epoch [190/250], Train Loss: 79.2564, Validation Loss: 99.7523\n",
      "Validating ...\n",
      "Epoch [191/250], Train Loss: 78.8876, Validation Loss: 99.5192\n",
      "Model saved :)\n",
      "Validating ...\n",
      "Epoch [192/250], Train Loss: 79.0643, Validation Loss: 99.9687\n",
      "Validating ...\n",
      "Epoch [193/250], Train Loss: 78.7152, Validation Loss: 100.4702\n",
      "Learning rate decreased!, now is 7.69449752767131e-05\n",
      "Validating ...\n",
      "Epoch [194/250], Train Loss: 78.8843, Validation Loss: 100.1484\n",
      "Validating ...\n",
      "Epoch [195/250], Train Loss: 78.7056, Validation Loss: 99.8607\n",
      "Learning rate decreased!, now is 7.309772651287744e-05\n",
      "Validating ...\n",
      "Epoch [196/250], Train Loss: 78.8003, Validation Loss: 100.1165\n",
      "Validating ...\n",
      "Epoch [197/250], Train Loss: 78.7482, Validation Loss: 99.4279\n",
      "Model saved :)\n",
      "Validating ...\n",
      "Epoch [198/250], Train Loss: 78.5628, Validation Loss: 100.1917\n",
      "Validating ...\n",
      "Epoch [199/250], Train Loss: 78.5057, Validation Loss: 99.5936\n",
      "Learning rate decreased!, now is 6.944284018723356e-05\n",
      "Validating ...\n",
      "Epoch [200/250], Train Loss: 78.8153, Validation Loss: 99.2287\n",
      "Model saved :)\n",
      "Validating ...\n",
      "Epoch [201/250], Train Loss: 78.3472, Validation Loss: 99.4338\n",
      "Validating ...\n",
      "Epoch [202/250], Train Loss: 78.7187, Validation Loss: 99.4520\n",
      "Learning rate decreased!, now is 6.597069817787189e-05\n",
      "Validating ...\n",
      "Epoch [203/250], Train Loss: 78.4050, Validation Loss: 99.4742\n",
      "Validating ...\n",
      "Epoch [204/250], Train Loss: 78.3838, Validation Loss: 99.4189\n",
      "Learning rate decreased!, now is 6.267216326897829e-05\n",
      "Validating ...\n",
      "Epoch [205/250], Train Loss: 78.2857, Validation Loss: 99.4810\n",
      "Validating ...\n",
      "Epoch [206/250], Train Loss: 78.2156, Validation Loss: 99.3208\n",
      "Learning rate decreased!, now is 5.953855510552937e-05\n",
      "Validating ...\n",
      "Epoch [207/250], Train Loss: 78.1893, Validation Loss: 99.2115\n",
      "Model saved :)\n",
      "Validating ...\n",
      "Epoch [208/250], Train Loss: 77.9946, Validation Loss: 99.5606\n",
      "Validating ...\n",
      "Epoch [209/250], Train Loss: 77.9948, Validation Loss: 99.9944\n",
      "Learning rate decreased!, now is 5.65616273502529e-05\n",
      "Validating ...\n",
      "Epoch [210/250], Train Loss: 78.0500, Validation Loss: 99.3826\n",
      "Validating ...\n",
      "Epoch [211/250], Train Loss: 78.1179, Validation Loss: 99.6349\n",
      "Learning rate decreased!, now is 5.373354598274025e-05\n",
      "Validating ...\n",
      "Epoch [212/250], Train Loss: 78.0643, Validation Loss: 99.1444\n",
      "Model saved :)\n",
      "Validating ...\n",
      "Epoch [213/250], Train Loss: 77.7861, Validation Loss: 99.5865\n",
      "Validating ...\n",
      "Epoch [214/250], Train Loss: 77.9635, Validation Loss: 99.6245\n",
      "Learning rate decreased!, now is 5.104686868360323e-05\n",
      "Validating ...\n",
      "Epoch [215/250], Train Loss: 77.9361, Validation Loss: 99.2977\n",
      "Validating ...\n",
      "Epoch [216/250], Train Loss: 77.9978, Validation Loss: 99.4348\n",
      "Learning rate decreased!, now is 4.849452524942307e-05\n",
      "Validating ...\n",
      "Epoch [217/250], Train Loss: 77.8972, Validation Loss: 99.4796\n",
      "Validating ...\n",
      "Epoch [218/250], Train Loss: 77.8923, Validation Loss: 99.3867\n",
      "Learning rate decreased!, now is 4.606979898695191e-05\n",
      "Validating ...\n",
      "Epoch [219/250], Train Loss: 77.8724, Validation Loss: 99.5785\n",
      "Validating ...\n",
      "Epoch [220/250], Train Loss: 77.6729, Validation Loss: 99.0528\n",
      "Model saved :)\n",
      "Validating ...\n",
      "Epoch [221/250], Train Loss: 77.5193, Validation Loss: 98.9078\n",
      "Model saved :)\n",
      "Validating ...\n",
      "Epoch [222/250], Train Loss: 77.6766, Validation Loss: 99.4060\n",
      "Validating ...\n",
      "Epoch [223/250], Train Loss: 77.6027, Validation Loss: 99.1692\n",
      "Learning rate decreased!, now is 4.376630903760431e-05\n",
      "Validating ...\n",
      "Epoch [224/250], Train Loss: 77.5128, Validation Loss: 99.5585\n",
      "Validating ...\n",
      "Epoch [225/250], Train Loss: 77.4132, Validation Loss: 99.4000\n",
      "Learning rate decreased!, now is 4.157799358572409e-05\n",
      "Validating ...\n",
      "Epoch [226/250], Train Loss: 77.4173, Validation Loss: 99.1339\n",
      "Validating ...\n",
      "Epoch [227/250], Train Loss: 77.4236, Validation Loss: 99.3841\n",
      "Learning rate decreased!, now is 3.9499093906437885e-05\n",
      "Validating ...\n",
      "Epoch [228/250], Train Loss: 77.5363, Validation Loss: 99.2957\n",
      "Validating ...\n",
      "Epoch [229/250], Train Loss: 77.4135, Validation Loss: 99.5276\n",
      "Learning rate decreased!, now is 3.752413921111599e-05\n",
      "Validating ...\n",
      "Epoch [230/250], Train Loss: 77.2439, Validation Loss: 99.2117\n",
      "Validating ...\n",
      "Epoch [231/250], Train Loss: 77.3536, Validation Loss: 99.2115\n",
      "Validation loss did not improve for 10 epochs. Stopping early.\n"
     ]
    }
   ],
   "source": [
    "for epoch in range(num_epochs):\n",
    "    # Training loop\n",
    "    train_loss = train(model, optimizer, criterion, train_loader)\n",
    "    train_losses.append(train_loss)\n",
    "    \n",
    "    # Evaluation loop\n",
    "    print('Validating ...')\n",
    "    val_loss = evaluate(model, criterion, val_loader)\n",
    "    val_losses.append(val_loss)\n",
    "    \n",
    "    # Printing and monitoring\n",
    "    print(f'Epoch [{epoch + 1}/{num_epochs}], Train Loss: {train_loss:.4f}, Validation Loss: {val_loss:.4f}')\n",
    "    \n",
    "    \n",
    "    # Early stopping\n",
    "    if val_loss < best_val_loss:\n",
    "        best_val_loss = val_loss\n",
    "        best_model = deepcopy(model)\n",
    "        save_checkpoint(best_model, optimizer, epoch)\n",
    "        counter = 0\n",
    "        \n",
    "    else:\n",
    "        counter += 1\n",
    "        if counter >= patience:\n",
    "            print(f'Validation loss did not improve for {patience} epochs. Stopping early.')\n",
    "            break\n",
    "        if counter in range(2, 20, 2):\n",
    "            scheduler.step()\n",
    "            print(f\"Learning rate decreased!, now is {optimizer.state_dict()['param_groups'][0]['lr']}\")"
   ]
  },
  {
   "cell_type": "code",
   "execution_count": 36,
   "id": "a7a86b08",
   "metadata": {
    "execution": {
     "iopub.execute_input": "2023-04-30T15:47:20.368564Z",
     "iopub.status.busy": "2023-04-30T15:47:20.368188Z",
     "iopub.status.idle": "2023-04-30T16:01:26.888194Z",
     "shell.execute_reply": "2023-04-30T16:01:26.887045Z"
    },
    "papermill": {
     "duration": 846.63783,
     "end_time": "2023-04-30T16:01:26.890562",
     "exception": false,
     "start_time": "2023-04-30T15:47:20.252732",
     "status": "completed"
    },
    "tags": []
   },
   "outputs": [
    {
     "name": "stdout",
     "output_type": "stream",
     "text": [
      "Validating ...\n",
      "Epoch [1/250], Train Loss: 77.4216, Validation Loss: 99.5790\n",
      "Validating ...\n",
      "Epoch [2/250], Train Loss: 77.4282, Validation Loss: 99.0390\n",
      "Learning rate decreased!, now is 3.564793225056019e-05\n",
      "Validating ...\n",
      "Epoch [3/250], Train Loss: 77.0986, Validation Loss: 99.3080\n",
      "Validating ...\n",
      "Epoch [4/250], Train Loss: 77.1001, Validation Loss: 99.1377\n",
      "Learning rate decreased!, now is 3.3865535638032174e-05\n",
      "Validating ...\n",
      "Epoch [5/250], Train Loss: 77.4304, Validation Loss: 99.0969\n",
      "Validating ...\n",
      "Epoch [6/250], Train Loss: 77.1154, Validation Loss: 98.9790\n",
      "Learning rate decreased!, now is 3.2172258856130564e-05\n",
      "Validating ...\n",
      "Epoch [7/250], Train Loss: 76.9012, Validation Loss: 99.0005\n",
      "Validating ...\n",
      "Epoch [8/250], Train Loss: 77.3462, Validation Loss: 99.1277\n",
      "Learning rate decreased!, now is 3.056364591332403e-05\n",
      "Validating ...\n",
      "Epoch [9/250], Train Loss: 77.2492, Validation Loss: 99.2773\n",
      "Validating ...\n",
      "Epoch [10/250], Train Loss: 77.0675, Validation Loss: 99.1024\n",
      "Validation loss did not improve for 10 epochs. Stopping early.\n"
     ]
    }
   ],
   "source": [
    "counter = 0\n",
    "for epoch in range(num_epochs):\n",
    "    # Training loop\n",
    "    train_loss = train(model, optimizer, criterion, train_loader)\n",
    "    train_losses.append(train_loss)\n",
    "    \n",
    "    # Evaluation loop\n",
    "    print('Validating ...')\n",
    "    val_loss = evaluate(model, criterion, val_loader)\n",
    "    val_losses.append(val_loss)\n",
    "    \n",
    "    # Printing and monitoring\n",
    "    print(f'Epoch [{epoch + 1}/{num_epochs}], Train Loss: {train_loss:.4f}, Validation Loss: {val_loss:.4f}')\n",
    "    \n",
    "    \n",
    "    # Early stopping\n",
    "    if val_loss < best_val_loss:\n",
    "        best_val_loss = val_loss\n",
    "        best_model = deepcopy(model)\n",
    "        save_checkpoint(best_model, optimizer, epoch)\n",
    "        counter = 0\n",
    "        \n",
    "    else:\n",
    "        counter += 1\n",
    "        if counter >= patience:\n",
    "            print(f'Validation loss did not improve for {patience} epochs. Stopping early.')\n",
    "            break\n",
    "        if counter in range(2, 20, 2):\n",
    "            scheduler.step()\n",
    "            print(f\"Learning rate decreased!, now is {optimizer.state_dict()['param_groups'][0]['lr']}\")"
   ]
  },
  {
   "cell_type": "code",
   "execution_count": 37,
   "id": "5112a0ec",
   "metadata": {
    "execution": {
     "iopub.execute_input": "2023-04-30T16:01:27.123545Z",
     "iopub.status.busy": "2023-04-30T16:01:27.122321Z",
     "iopub.status.idle": "2023-04-30T16:25:32.417751Z",
     "shell.execute_reply": "2023-04-30T16:25:32.415822Z"
    },
    "papermill": {
     "duration": 1445.415341,
     "end_time": "2023-04-30T16:25:32.419938",
     "exception": false,
     "start_time": "2023-04-30T16:01:27.004597",
     "status": "completed"
    },
    "tags": []
   },
   "outputs": [
    {
     "name": "stdout",
     "output_type": "stream",
     "text": [
      "Validating ...\n",
      "Epoch [1/250], Train Loss: 77.3146, Validation Loss: 99.1769\n",
      "Validating ...\n",
      "Epoch [2/250], Train Loss: 76.9994, Validation Loss: 99.2391\n",
      "Learning rate decreased!, now is 2.903546361765783e-05\n",
      "Validating ...\n",
      "Epoch [3/250], Train Loss: 76.9989, Validation Loss: 99.4469\n",
      "Validating ...\n",
      "Epoch [4/250], Train Loss: 77.0661, Validation Loss: 99.0610\n",
      "Learning rate decreased!, now is 2.758369043677494e-05\n",
      "Validating ...\n",
      "Epoch [5/250], Train Loss: 76.9599, Validation Loss: 99.1285\n",
      "Validating ...\n",
      "Epoch [6/250], Train Loss: 76.8993, Validation Loss: 98.9159\n",
      "Learning rate decreased!, now is 2.620450591493619e-05\n",
      "Validating ...\n",
      "Epoch [7/250], Train Loss: 77.1800, Validation Loss: 98.7980\n",
      "Model saved :)\n",
      "Validating ...\n",
      "Epoch [8/250], Train Loss: 76.7637, Validation Loss: 99.2382\n",
      "Validating ...\n",
      "Epoch [9/250], Train Loss: 76.9231, Validation Loss: 99.1950\n",
      "Learning rate decreased!, now is 2.489428061918938e-05\n",
      "Validating ...\n",
      "Epoch [10/250], Train Loss: 76.7883, Validation Loss: 99.2315\n",
      "Validating ...\n",
      "Epoch [11/250], Train Loss: 76.7713, Validation Loss: 99.2110\n",
      "Learning rate decreased!, now is 2.364956658822991e-05\n",
      "Validating ...\n",
      "Epoch [12/250], Train Loss: 76.8310, Validation Loss: 98.9923\n",
      "Validating ...\n",
      "Epoch [13/250], Train Loss: 76.8320, Validation Loss: 99.1084\n",
      "Learning rate decreased!, now is 2.2467088258818413e-05\n",
      "Validating ...\n",
      "Epoch [14/250], Train Loss: 76.6951, Validation Loss: 98.9802\n",
      "Validating ...\n",
      "Epoch [15/250], Train Loss: 76.5165, Validation Loss: 98.9390\n",
      "Learning rate decreased!, now is 2.134373384587749e-05\n",
      "Validating ...\n",
      "Epoch [16/250], Train Loss: 76.7277, Validation Loss: 99.0534\n",
      "Validating ...\n",
      "Epoch [17/250], Train Loss: 76.7395, Validation Loss: 99.1354\n",
      "Validation loss did not improve for 10 epochs. Stopping early.\n"
     ]
    }
   ],
   "source": [
    "counter = 0\n",
    "for epoch in range(num_epochs):\n",
    "    # Training loop\n",
    "    train_loss = train(model, optimizer, criterion, train_loader)\n",
    "    train_losses.append(train_loss)\n",
    "    \n",
    "    # Evaluation loop\n",
    "    print('Validating ...')\n",
    "    val_loss = evaluate(model, criterion, val_loader)\n",
    "    val_losses.append(val_loss)\n",
    "    \n",
    "    # Printing and monitoring\n",
    "    print(f'Epoch [{epoch + 1}/{num_epochs}], Train Loss: {train_loss:.4f}, Validation Loss: {val_loss:.4f}')\n",
    "    \n",
    "    \n",
    "    # Early stopping\n",
    "    if val_loss < best_val_loss:\n",
    "        best_val_loss = val_loss\n",
    "        best_model = deepcopy(model)\n",
    "        save_checkpoint(best_model, optimizer, epoch)\n",
    "        counter = 0\n",
    "        \n",
    "    else:\n",
    "        counter += 1\n",
    "        if counter >= patience:\n",
    "            print(f'Validation loss did not improve for {patience} epochs. Stopping early.')\n",
    "            break\n",
    "        if counter in range(2, 20, 2):\n",
    "            scheduler.step()\n",
    "            print(f\"Learning rate decreased!, now is {optimizer.state_dict()['param_groups'][0]['lr']}\")"
   ]
  },
  {
   "cell_type": "code",
   "execution_count": 38,
   "id": "325bdb9e",
   "metadata": {
    "execution": {
     "iopub.execute_input": "2023-04-30T16:25:32.654841Z",
     "iopub.status.busy": "2023-04-30T16:25:32.653794Z",
     "iopub.status.idle": "2023-04-30T16:25:32.869605Z",
     "shell.execute_reply": "2023-04-30T16:25:32.868597Z"
    },
    "papermill": {
     "duration": 0.335666,
     "end_time": "2023-04-30T16:25:32.872039",
     "exception": false,
     "start_time": "2023-04-30T16:25:32.536373",
     "status": "completed"
    },
    "tags": []
   },
   "outputs": [
    {
     "data": {
      "image/png": "[encoded data removed]",
      "text/plain": [
       "<Figure size 640x480 with 1 Axes>"
      ]
     },
     "metadata": {},
     "output_type": "display_data"
    }
   ],
   "source": [
    "plt.plot(train_losses, label=f'Best training    loss: {min(train_losses):.0f}');\n",
    "plt.plot(val_losses, label=f'Best validation loss: {min(val_losses):.0f}');\n",
    "plt.legend();"
   ]
  }
 ],
 "metadata": {
  "kernelspec": {
   "display_name": "Python 3",
   "language": "python",
   "name": "python3"
  },
  "language_info": {
   "codemirror_mode": {
    "name": "ipython",
    "version": 3
   },
   "file_extension": ".py",
   "mimetype": "text/x-python",
   "name": "python",
   "nbconvert_exporter": "python",
   "pygments_lexer": "ipython3",
   "version": "3.9.16"
  },
  "papermill": {
   "default_parameters": {},
   "duration": 21921.262399,
   "end_time": "2023-04-30T16:25:35.857235",
   "environment_variables": {},
   "exception": null,
   "input_path": "__notebook__.ipynb",
   "output_path": "__notebook__.ipynb",
   "parameters": {},
   "start_time": "2023-04-30T10:20:14.594836",
   "version": "2.4.0"
  }
 },
 "nbformat": 4,
 "nbformat_minor": 5
}
