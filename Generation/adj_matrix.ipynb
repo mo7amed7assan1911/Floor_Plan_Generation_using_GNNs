{
 "cells": [
  {
   "cell_type": "markdown",
   "id": "88f1eb50",
   "metadata": {},
   "source": [
    "# Planify - Graph Neural Network\n",
    "\n",
    "### Table of Contents\n",
    "<ul>\n",
    "<li><a href=\"#intro\">Introduction</a></li>\n",
    "    <ul>\n",
    "        <li><a href=\"#Imports\">Imports</a></li>\n",
    "        <li><a href=\"#func\">Functions used</a></li>\n",
    "    </ul>\n",
    "<li><a href=\"#wrangling\">Data Wrangling</a></li>\n",
    "<li><a href=\"#model\">GNN Model</a></li>\n",
    "    <ul>\n",
    "        <li><a href=\"#dataLoader\">Data Loader</a></li>\n",
    "        <li><a href=\"#archi\">Architecture</a></li>\n",
    "        <li><a href=\"#train\">Training</a></li> \n",
    "        <li><a href=\"#eval\">Evaluation</a></li>\n",
    "    </ul>\n",
    "</ul>"
   ]
  },
  {
   "cell_type": "markdown",
   "id": "c612d2c6",
   "metadata": {},
   "source": [
    "<a id='intro'></a>\n",
    "## Introduction\n",
    "\n",
    "> This notebook getting garphs in the Networkx format from the `Creating Graphs` notebook. And its main goal is to make the GNN model."
   ]
  },
  {
   "cell_type": "code",
   "execution_count": 1,
   "id": "849fb853",
   "metadata": {},
   "outputs": [],
   "source": [
    "# Used for vsCode only to show tqdm process\n",
    "# from IPython.core.interactiveshell import InteractiveShell\n",
    "# InteractiveShell.ast_node_interactivity = \"all\""
   ]
  },
  {
   "cell_type": "markdown",
   "id": "52912620",
   "metadata": {},
   "source": [
    "<a id='Imports'></a>\n",
    "### Imports"
   ]
  },
  {
   "cell_type": "code",
   "execution_count": 2,
   "id": "6ef47335",
   "metadata": {
    "tags": []
   },
   "outputs": [],
   "source": [
    "# Only for kaggle\n",
    "# !pip install torch_geometric"
   ]
  },
  {
   "cell_type": "code",
   "execution_count": 3,
   "id": "67cc3944",
   "metadata": {
    "tags": []
   },
   "outputs": [],
   "source": [
    "# Not included packages in kaggle\n",
    "\n",
    "# Install torch_geometric\n",
    "# !pip install /kaggle/input/torch-geometric/torch_sparse-0.6.16-cp37-cp37m-linux_x86_64.whl -q\n",
    "# !pip install /kaggle/input/torch-geometric/torch_scatter-2.1.0-cp37-cp37m-linux_x86_64.whl -q\n",
    "\n",
    "# # # library for getting distinct colores\n",
    "# !pip install distinctipy -q"
   ]
  },
  {
   "cell_type": "code",
   "execution_count": 1,
   "id": "21f601a5",
   "metadata": {
    "tags": []
   },
   "outputs": [],
   "source": [
    "# for data wrangling\n",
    "import pickle\n",
    "import networkx as nx\n",
    "import matplotlib.pyplot as plt\n",
    "import numpy as np\n",
    "import pandas as pd\n",
    "import distinctipy\n",
    "import random\n",
    "from torch_geometric.utils import from_networkx\n",
    "\n",
    "# to show advance in for loops\n",
    "from tqdm import tqdm\n",
    "\n",
    "# Using pytorch geometric\n",
    "import torch\n",
    "import torch.nn as nn\n",
    "from torch_geometric.loader import DataLoader\n",
    "from torch_geometric.data import Data, Batch\n",
    "from torch.utils.data import Dataset\n",
    "import torch_geometric.transforms as T\n",
    "\n",
    "\n",
    "# For the GNN model\n",
    "import torch.nn.functional as F\n",
    "from torch_geometric.nn import GCNConv, GATConv, global_mean_pool, global_max_pool\n",
    "\n",
    "\n",
    "# for my pc [linux]\n",
    "# url = '/media/mo/DATA/Grad/Planify_Dataset/Graph/Planify_Graphs.pkl'\n",
    "\n",
    "# for my pc [windows]\n",
    "# url = \"D:\\Grad\\Planify_Dataset\\Graph\\Planify_Graphs.pkl\"\n",
    "url_real = \"D:\\Grad\\Planify_Dataset\\Graph\\graphs\\Graphs_real.pkl\"\n",
    "\n",
    "# url_boundary = r\"D:\\Grad\\Planify_Dataset\\Graph\\graphs\\boundaries.pkl\"\n",
    "\n",
    "# for kaggle\n",
    "# url = '/kaggle/input/planify-graphs/Planify_Graphs.pkl'"
   ]
  },
  {
   "cell_type": "markdown",
   "id": "d993568d",
   "metadata": {},
   "source": [
    "<a id='func'></a>\n",
    "### Functions used"
   ]
  },
  {
   "cell_type": "code",
   "execution_count": 2,
   "id": "441cb7a3",
   "metadata": {
    "tags": []
   },
   "outputs": [],
   "source": [
    "geoms_columns = ['inner', 'living', 'master', 'kitchen', 'bathroom', 'dining', 'child', 'study',\n",
    "                   'second_room', 'guest', 'balcony', 'storage', 'wall-in',\n",
    "                    'outer_wall', 'front', 'inner_wall', 'interior',\n",
    "                   'front_door', 'outer_wall', 'entrance']\n",
    "\n",
    "N = len(geoms_columns)\n",
    "colors = (np.array(distinctipy.get_colors(N)) * 255).astype(np.uint8)\n",
    "room_color = {room_name: colors[i] for i, room_name in enumerate(geoms_columns)}"
   ]
  },
  {
   "cell_type": "code",
   "execution_count": 3,
   "id": "cf9a39e5",
   "metadata": {
    "tags": []
   },
   "outputs": [],
   "source": [
    "def draw_graph(G):\n",
    "    #  nodes positions for drawing, note that we invert the y pos\n",
    "    pos = {node: (G.nodes[node]['actualCentroid_x'], -G.nodes[node]['actualCentroid_y']) for node in G.nodes}\n",
    "    \n",
    "    scales = [G.nodes[node]['roomSize'] * 10000 for node in G] \n",
    "    colormap = [room_color[G.nodes[node]['roomType_name']]/255 for node in G]\n",
    "    \n",
    "    nx.draw(G, pos=pos, node_size=scales, node_color=colormap, with_labels=True, font_size=12)\n",
    "    \n",
    "    # Drawing the graph inside a good boundary.\n",
    "    x_coords  = [pos[node][0] for node in pos]\n",
    "    y_coords  = [pos[node][1] for node in pos]\n",
    "    threshold = max(scales) / 100\n",
    "    \n",
    "    plt.xlim(min(x_coords) - threshold, max(x_coords) + threshold)\n",
    "    plt.ylim(min(y_coords) - threshold, max(y_coords) + threshold)\n",
    "\n",
    "\n",
    "def draw_graph_boundary(G):\n",
    "    #  nodes positions for drawing, note that we invert the y pos\n",
    "    pos = {node: (G.nodes[node]['centroid'][0], -G.nodes[node]['centroid'][1])  for node in G.nodes}\n",
    "    \n",
    "    door_color = '#90EE90'\n",
    "    other_nodes_color = '#0A2A5B'\n",
    "    color_map = [door_color if G.nodes[node]['type'] == 1 else other_nodes_color for node in G.nodes]\n",
    "    \n",
    "    nx.draw(G, pos=pos, with_labels=True, node_color=color_map, font_color='w', font_size=12)\n",
    "    \n",
    "\n",
    "\n",
    "\n",
    "# For statistics\n",
    "def get_max_min_x_y(graphs):\n",
    "    max_x = 0\n",
    "    max_y = 0\n",
    "    min_x = float('inf')\n",
    "    min_y = float('inf')\n",
    "    \n",
    "    for G in tqdm(graphs, desc=\"Getting maximum x, y\", total=len(graphs)):\n",
    "        max_x_in_graph = G.x.T[1].max().item()\n",
    "        max_y_in_graph = G.x.T[2].max().item()\n",
    "        \n",
    "        min_x_in_graph = G.x.T[1].min().item()\n",
    "        min_y_in_graph = G.x.T[2].min().item()\n",
    "        \n",
    "        if max_x_in_graph > max_x:\n",
    "            max_x = max_x_in_graph\n",
    "        if max_y_in_graph > max_y:\n",
    "            max_y = max_y_in_graph\n",
    "            \n",
    "        if min_x_in_graph < min_x:\n",
    "            min_x = min_x_in_graph\n",
    "        if min_y_in_graph < min_y:\n",
    "            min_y = min_y_in_graph\n",
    "            \n",
    "    values = {'max_x': max_x, 'max_y': max_y, 'min_x': min_x, 'min_y': min_y}\n",
    "    return values\n",
    "\n",
    "\n",
    "def get_all_x_y(Graphs_pyTorch):\n",
    "    \"\"\"Get all values of x and y from all graphs\n",
    "        Input: list of graphs\n",
    "        Output: x and y as pandas series\n",
    "    \"\"\"\n",
    "    x = []\n",
    "    y = []\n",
    "\n",
    "    for G in tqdm(Graphs_pyTorch, desc=\"getting all Xs, Ys\", total=len(Graphs_pyTorch)):\n",
    "        for i in range(len(G.x)):\n",
    "            x.append(G.x[i][1].item())\n",
    "            y.append(G.x[i][2].item())\n",
    "\n",
    "    x = pd.Series(x)\n",
    "    y = pd.Series(y)\n",
    "\n",
    "    return x, y\n",
    "\n",
    "def boxplot_centrValues(x, y):\n",
    "    fig, ax = plt.subplots()\n",
    "\n",
    "    # Plot the boxplots\n",
    "    ax.boxplot([x, y])\n",
    "\n",
    "    # Set the xtick labels\n",
    "    ax.set_xticklabels(['x', 'y'])\n",
    "\n",
    "    # Add axis labels and title\n",
    "    ax.set_xlabel('Data')\n",
    "    ax.set_ylabel('Value')\n",
    "    ax.set_title('Boxplot of x and y in all graphs')\n",
    "\n",
    "    # Show the plot\n",
    "    plt.show()\n",
    "    \n",
    "\n",
    "def plot_histograms(x, y):\n",
    "    x.hist(density=True, bins=100, alpha=0.6, label='x');\n",
    "    y.hist(density=True, bins=100, alpha=0.3, label='y');\n",
    "    plt.legend();\n",
    "    plt.title('Distribution of x and y');"
   ]
  },
  {
   "cell_type": "markdown",
   "id": "e2519899",
   "metadata": {},
   "source": [
    "<a id='wrangling'></a>\n",
    "## Data wrangling\n"
   ]
  },
  {
   "cell_type": "code",
   "execution_count": 4,
   "id": "81a204b0",
   "metadata": {
    "tags": []
   },
   "outputs": [
    {
     "name": "stdout",
     "output_type": "stream",
     "text": [
      "Graph with 8 nodes and 13 edges\n"
     ]
    }
   ],
   "source": [
    "with open(url_real, 'rb') as f:\n",
    "    Graphs = pickle.load(f)\n",
    "    \n",
    "G = Graphs[1911]\n",
    "print(G)"
   ]
  },
  {
   "cell_type": "markdown",
   "id": "0d9a56e8",
   "metadata": {
    "tags": []
   },
   "source": [
    "> Considering boundaries"
   ]
  },
  {
   "cell_type": "code",
   "execution_count": 5,
   "id": "9d679b2b",
   "metadata": {
    "tags": []
   },
   "outputs": [
    {
     "name": "stderr",
     "output_type": "stream",
     "text": [
      "100%|██████████| 80787/80787 [01:02<00:00, 1287.20it/s]\n"
     ]
    },
    {
     "data": {
      "text/plain": [
       "Data(edge_index=[2, 18], roomType_name=[7], rec_w=[7], rec_h=[7], roomSize=[7], x=[7, 3], edge_attr=[18, 1])"
      ]
     },
     "execution_count": 5,
     "metadata": {},
     "output_type": "execute_result"
    }
   ],
   "source": [
    "# Converting networkx graphs to pytorchGeo graphs\n",
    "features = ['roomType_embd', 'actualCentroid_x', 'actualCentroid_y']\n",
    "Graphs_pyTorch = []\n",
    "for G in tqdm(Graphs):\n",
    "    G_new = from_networkx(G, group_node_attrs=features, group_edge_attrs=['distance'])\n",
    "    # Normalizing feature matrix (x)\n",
    "    # G_new = T.NormalizeFeatures()(G_new)\n",
    "    \n",
    "    Graphs_pyTorch.append(G_new)\n",
    "\n",
    "Graphs_pyTorch[0]"
   ]
  },
  {
   "cell_type": "code",
   "execution_count": 6,
   "id": "bcf8f2a8",
   "metadata": {},
   "outputs": [
    {
     "name": "stderr",
     "output_type": "stream",
     "text": [
      "getting all Xs, Ys: 100%|██████████| 80787/80787 [00:08<00:00, 10043.64it/s]\n"
     ]
    },
    {
     "data": {
      "text/plain": [
       "(239.5, 237.5, 16.0, 17.0)"
      ]
     },
     "execution_count": 6,
     "metadata": {},
     "output_type": "execute_result"
    }
   ],
   "source": [
    "x, y = get_all_x_y(Graphs_pyTorch)\n",
    "x.max(), y.max(), x.min(), y.min()"
   ]
  },
  {
   "cell_type": "code",
   "execution_count": 7,
   "id": "e0b977d5",
   "metadata": {},
   "outputs": [
    {
     "data": {
      "image/png": "[encoded data removed]",
      "text/plain": [
       "<Figure size 640x480 with 1 Axes>"
      ]
     },
     "metadata": {},
     "output_type": "display_data"
    }
   ],
   "source": [
    "# making box plot for x and y for the graphs\n",
    "boxplot_centrValues(x, y)"
   ]
  },
  {
   "cell_type": "code",
   "execution_count": 8,
   "id": "e3f90f4f",
   "metadata": {},
   "outputs": [
    {
     "data": {
      "image/png": "[encoded data removed]",
      "text/plain": [
       "<Figure size 640x480 with 1 Axes>"
      ]
     },
     "metadata": {},
     "output_type": "display_data"
    }
   ],
   "source": [
    "plot_histograms(x, y)"
   ]
  },
  {
   "attachments": {},
   "cell_type": "markdown",
   "id": "4bb915f5",
   "metadata": {},
   "source": [
    "> And we saw the box plots so there is no outliers, and the distribution is normal\n",
    "> \n",
    "> We will use z-score normalization, by taking a general mean and std for each of x and y"
   ]
  },
  {
   "cell_type": "code",
   "execution_count": 9,
   "id": "fdc4c53a",
   "metadata": {},
   "outputs": [
    {
     "name": "stdout",
     "output_type": "stream",
     "text": [
      "And we saw the box plots so there is no outliers, and the distribution is normal\n",
      "We will use z-score normalization\n"
     ]
    }
   ],
   "source": [
    "# print(f\"Maximun x: {max_x}, Maximum y: {max_y}, Minimum x: {min_x}, Minimum y: {min_y}\")\n",
    "print(\"And we saw the box plots so there is no outliers, and the distribution is normal\")\n",
    "x_mean = x.mean()\n",
    "y_mean = y.mean()\n",
    "x_std  = x.std()\n",
    "y_std  = y.std()\n",
    "print(\"We will use z-score normalization\")"
   ]
  },
  {
   "cell_type": "markdown",
   "id": "09b0204f",
   "metadata": {},
   "source": [
    "> There are many types of `rooms` but we will give them a defualt number = 1.\n",
    "> So, also we will decrease the embedings to be between 0:6"
   ]
  },
  {
   "cell_type": "code",
   "execution_count": 10,
   "id": "3a720ad4",
   "metadata": {},
   "outputs": [
    {
     "name": "stdout",
     "output_type": "stream",
     "text": [
      "Befor: G_1 embedings are: tensor([[  0.0000,  81.9371, 137.1722],\n",
      "        [  1.0000, 181.5403, 165.1201],\n",
      "        [  3.0000, 120.7426, 100.7954],\n",
      "        [  7.0000, 132.6687, 167.8575],\n",
      "        [  7.0000, 152.0459, 100.5418],\n",
      "        [  3.0000, 192.0000, 127.0000],\n",
      "        [  2.0000,  59.5000,  55.5000],\n",
      "        [  9.0000,  77.0000, 210.5000]])\n"
     ]
    },
    {
     "name": "stderr",
     "output_type": "stream",
     "text": [
      "100%|██████████| 80787/80787 [00:07<00:00, 10790.15it/s]"
     ]
    },
    {
     "name": "stdout",
     "output_type": "stream",
     "text": [
      "After: G_1 embedings are: tensor([[  0.0000,  81.9371, 137.1722],\n",
      "        [  1.0000, 181.5403, 165.1201],\n",
      "        [  3.0000, 120.7426, 100.7954],\n",
      "        [  1.0000, 132.6687, 167.8575],\n",
      "        [  1.0000, 152.0459, 100.5418],\n",
      "        [  3.0000, 192.0000, 127.0000],\n",
      "        [  2.0000,  59.5000,  55.5000],\n",
      "        [  4.0000,  77.0000, 210.5000]])\n"
     ]
    },
    {
     "name": "stderr",
     "output_type": "stream",
     "text": [
      "\n"
     ]
    }
   ],
   "source": [
    "print(f'Befor: G_1 embedings are: {Graphs_pyTorch[1].x}')\n",
    "for G in tqdm(Graphs_pyTorch, total=len(Graphs_pyTorch)):\n",
    "    for j ,value in enumerate(G.x):\n",
    "        type_ = int(value[0].item())\n",
    "        \n",
    "        if type_ in [1, 4, 5, 6, 7, 8]:\n",
    "            G.x[j][0] = 1\n",
    "        \n",
    "        # making all labels from 0 to 6 only to help one_hotting\n",
    "        elif type_ == 9:\n",
    "            G.x[j][0] = 4\n",
    "        elif type_ == 10:\n",
    "            G.x[j][0] = 5\n",
    "        elif type_ == 11:\n",
    "            G.x[j][0] = 6\n",
    "\n",
    "\n",
    "print(f'After: G_1 embedings are: {Graphs_pyTorch[1].x}')"
   ]
  },
  {
   "attachments": {},
   "cell_type": "markdown",
   "id": "be0bd6f0-db8c-4a29-a96e-b59763961295",
   "metadata": {},
   "source": [
    "> Normalization for the centroids columns & hot encoding the type one for the graphs data."
   ]
  },
  {
   "cell_type": "code",
   "execution_count": 11,
   "id": "4bdfe3bd-d1cd-4097-b755-1429dc05c890",
   "metadata": {},
   "outputs": [
    {
     "name": "stderr",
     "output_type": "stream",
     "text": [
      "100%|██████████| 80787/80787 [00:17<00:00, 4673.64it/s]\n"
     ]
    }
   ],
   "source": [
    "for G in tqdm(Graphs_pyTorch, total=len(Graphs_pyTorch)):\n",
    "    x = G.x # The feature matrix\n",
    "    for i in [1, 2]:\n",
    "        # mean = torch.mean(x[:, i])\n",
    "        # std  = torch.std(x[:, i])\n",
    "        if i == 1:\n",
    "            mean = x_mean\n",
    "            std  = x_std\n",
    "        else:\n",
    "            mean = y_mean\n",
    "            std  = y_std\n",
    "            \n",
    "        normalized_column = (x[:, i] - mean) / std\n",
    "        G.x[:, i] = normalized_column\n",
    "    \n",
    "    # One hot encoding for the first column [type of rooms]\n",
    "    first_column_encodings = F.one_hot(G.x[:, 0].long(), 7)\n",
    "    \n",
    "    G.x = torch.cat([first_column_encodings, G.x[:, 1:]], axis=1)"
   ]
  },
  {
   "cell_type": "code",
   "execution_count": 12,
   "id": "36e3cfda",
   "metadata": {},
   "outputs": [
    {
     "name": "stdout",
     "output_type": "stream",
     "text": [
      "Now, we could return back to real values: tensor([ 81.9371, 181.5403, 120.7426, 132.6687, 152.0459, 192.0000,  59.5000,\n",
      "         77.0000])\n"
     ]
    }
   ],
   "source": [
    "print(f\"Now, we could return back to real values: {Graphs_pyTorch[1].x.T[-2] * x_std + x_mean}\")"
   ]
  },
  {
   "cell_type": "code",
   "execution_count": 13,
   "id": "bca96f38",
   "metadata": {
    "tags": []
   },
   "outputs": [],
   "source": [
    "# # but we need to do some padding to our graphs to be all of the same number of nodes.\n",
    "# padded_graphs = []\n",
    "# for G in Graphs_pyTorch:\n",
    "#     x          = G.x\n",
    "#     y          = G.roomType_embd\n",
    "#     edge_index = G.edge_index\n",
    "#     edge_attr  = G.edge_attr\n",
    "    \n",
    "#     nu_nodes = x.shape[0]\n",
    "\n",
    "#     padded_x = torch.nn.functional.pad(x, pad=(0, 0, 0, 8 - nu_nodes), mode='constant', value=0)\n",
    "#     padded_y = torch.nn.functional.pad(y, pad=(0, 8 - nu_nodes), mode='constant', value=0)\n",
    "#     train_mask   = torch.ones(nu_nodes)\n",
    "#     train_mask   = torch.nn.functional.pad(train_mask, pad=(0, 8 - nu_nodes), mode='constant', value=0).to(bool)\n",
    "\n",
    "#     data = Data(x = padded_x, y = padded_y, edge_index= G.edge_index, edge_attr = G.edge_attr, train_mask=train_mask)\n",
    "\n",
    "#     padded_graphs.append(data)\n",
    "\n",
    "# padded_graphs[0]"
   ]
  },
  {
   "cell_type": "markdown",
   "id": "03781d88",
   "metadata": {},
   "source": [
    "<a id='model'></a>\n",
    "## GNN Model"
   ]
  },
  {
   "cell_type": "markdown",
   "id": "2f1cd5f8",
   "metadata": {},
   "source": [
    "<a id='dataLoader'></a>\n",
    "### Data Loader"
   ]
  },
  {
   "cell_type": "code",
   "execution_count": 189,
   "id": "e88277ea",
   "metadata": {
    "tags": []
   },
   "outputs": [],
   "source": [
    "class Planify_Dataset(Dataset):\n",
    "    def __init__(self, Graphs):\n",
    "        self.Graphs = Graphs\n",
    "        self.device = torch.device('cuda' if torch.cuda.is_available() else 'cpu')\n",
    "    \n",
    "    def __len__(self):\n",
    "        return len(self.Graphs)\n",
    "\n",
    "    def __getitem__(self, index):\n",
    "        G = self.Graphs[index].clone().to(self.device)\n",
    "\n",
    "        # shuffling nodes inside the same graph\n",
    "        # permutation = torch.randperm(G.num_nodes).to(self.device)\n",
    "        \n",
    "        # G.x = G.x[permutation]\n",
    "        # G.edge_index = permutation[G.edge_index]\n",
    "        # G.rec_w = G.rec_w[permutation]\n",
    "        # G.rec_h = G.rec_h[permutation]\n",
    "        # G.edge_attr = G.edge_attr[permutation]\n",
    "        \n",
    "        nu_nodes = G.x.shape[0]\n",
    "        \n",
    "        padded_x = torch.nn.functional.pad(G.x, pad=(0, 0, 0, 8 - nu_nodes), mode='constant', value=0)\n",
    "        # padded_y = torch.nn.functional.pad(y, pad=(0, 8 - nu_nodes), mode='constant', value=0)\n",
    "        \n",
    "        edge_index = G.edge_index\n",
    "        G.x = padded_x\n",
    "        \n",
    "        adj_matrix = torch.zeros((8, 8), dtype=torch.float32)\n",
    "\n",
    "        # Set the values in the adjacency matrix to 1 where there are edges in the graph\n",
    "        adj_matrix[edge_index[0], edge_index[1]] = 1\n",
    "        adj_matrix[edge_index[1], edge_index[0]] = 1  # if the graph is undirected\n",
    "        \n",
    "        # Considering only the upeer half of the matrix (including the diagonal)\n",
    "        # adj_matrix = torch.triu(adj_matrix).squeeze()\n",
    "        \n",
    "        data = {\n",
    "            'G'  : G.to(self.device),\n",
    "            'adj': adj_matrix.squeeze().to(self.device)\n",
    "        }\n",
    "        return data"
   ]
  },
  {
   "cell_type": "code",
   "execution_count": 239,
   "id": "e63bf5fe-ce1a-47f6-a92f-c59c77e499f3",
   "metadata": {},
   "outputs": [],
   "source": [
    "edge = int(len(Graphs_pyTorch) * 0.3)"
   ]
  },
  {
   "cell_type": "code",
   "execution_count": 247,
   "id": "0f01bd03",
   "metadata": {
    "tags": []
   },
   "outputs": [],
   "source": [
    "batch_size = 1\n",
    "train_dataset = Planify_Dataset(Graphs_pyTorch[:10000])\n",
    "train_loader  = DataLoader(train_dataset, batch_size=batch_size, shuffle=True)\n",
    "\n",
    "val_dataset = Planify_Dataset(Graphs_pyTorch[10000: 15000])\n",
    "val_loader  = DataLoader(val_dataset, batch_size=batch_size, shuffle=True)\n",
    "\n",
    "test_dataset = Planify_Dataset(Graphs_pyTorch[-10:])\n",
    "test_loader  = DataLoader(test_dataset, batch_size=batch_size, shuffle=True)"
   ]
  },
  {
   "cell_type": "code",
   "execution_count": 248,
   "id": "fc7e7933-6d23-4d0a-b4e2-baa43bc561a2",
   "metadata": {},
   "outputs": [],
   "source": [
    "# Saving model function\n",
    "import os\n",
    "\n",
    "# checkpoint_dir = '/kaggle/working/checkpoints'\n",
    "# checkpoint_dir = '/media/mo/DATA/Grad/Planify_Dataset/Graph/checkpoints'\n",
    "checkpoint_dir = \"./checkpoints\"\n",
    "\n",
    "if not os.path.exists(checkpoint_dir):\n",
    "    os.makedirs(checkpoint_dir)\n",
    "    \n",
    "\n",
    "def save_checkpoint(model, optimizer, epoch):\n",
    "    checkpoint_path = os.path.join(checkpoint_dir, f'model_epoch.pt')\n",
    "    # Saving model each 15 epochs\n",
    "    torch.save({\n",
    "        'model_state_dict': model.state_dict(),\n",
    "        'optimizer_state_dict': optimizer.state_dict(),\n",
    "        'epoch': epoch\n",
    "    }, checkpoint_path)\n",
    "    \n",
    "    print('Model saved :)')"
   ]
  },
  {
   "cell_type": "markdown",
   "id": "111ed4e1",
   "metadata": {},
   "source": [
    "<a id='archi'></a>\n",
    "### Architecture"
   ]
  },
  {
   "cell_type": "code",
   "execution_count": 249,
   "id": "b3def3e1",
   "metadata": {},
   "outputs": [
    {
     "data": {
      "text/plain": [
       "Creating_adj(\n",
       "  (linear1): Linear(in_features=9, out_features=32, bias=True)\n",
       "  (linear2): Linear(in_features=32, out_features=8, bias=True)\n",
       ")"
      ]
     },
     "execution_count": 249,
     "metadata": {},
     "output_type": "execute_result"
    }
   ],
   "source": [
    "from torch_geometric.nn import GlobalAttention\n",
    "from torch_geometric.nn.dense import DenseGCNConv\n",
    "\n",
    "import torch.nn as nn\n",
    "\n",
    "class Creating_adj(nn.Module):\n",
    "    def __init__(self, num_nodes, nu_features, hidden_size):\n",
    "        super(Creating_adj, self).__init__()\n",
    "        self.num_nodes = num_nodes\n",
    "        self.hidden_size = hidden_size\n",
    "        \n",
    "        self.linear1 = nn.Linear(nu_features, hidden_size)\n",
    "        self.linear2 = nn.Linear(hidden_size, num_nodes)\n",
    "\n",
    "    def forward(self, x):\n",
    "        x = self.linear1(x)\n",
    "        x = torch.relu(x)\n",
    "        x = self.linear2(x)\n",
    "        x = torch.sigmoid(x)\n",
    "        x = x.view(self.num_nodes, self.num_nodes)\n",
    "        # x = x + x.transpose(1, 2) # to make it undirected\n",
    "        return x\n",
    "\n",
    "\n",
    "num_graph_node_features = Graphs_pyTorch[0].x.shape[1]\n",
    "\n",
    "model = Creating_adj(8, num_graph_node_features, 32)\n",
    "\n",
    "device = torch.device('cuda' if torch.cuda.is_available() else 'cpu')\n",
    "model = model.to(device)\n",
    "\n",
    "# to monitor the loss & accuracy.\n",
    "errors = []\n",
    "acc = []\n",
    "\n",
    "model"
   ]
  },
  {
   "cell_type": "code",
   "execution_count": 250,
   "id": "8a208e54",
   "metadata": {},
   "outputs": [],
   "source": [
    "def train(model, optimizer, criterion, train_loader):\n",
    "    model.train()\n",
    "    running_loss = 0.0\n",
    "    for i, data in tqdm(enumerate(train_loader), desc=\"Planifying\", total=len(train_loader)):\n",
    "        optimizer.zero_grad()\n",
    "        # Forward pass\n",
    "        x   = data['G'].x\n",
    "        real_adj = data['adj'].squeeze()\n",
    "        pred_adj = model(x)\n",
    "\n",
    "        loss = criterion(pred_adj, real_adj)\n",
    "        # Backward pass\n",
    "        loss.backward()\n",
    "        \n",
    "        # Updating parameters\n",
    "        optimizer.step()\n",
    "\n",
    "        # Monitoring\n",
    "        running_loss += loss.item()\n",
    "        \n",
    "    return running_loss / len(train_loader)\n",
    "\n",
    "\n",
    "def evaluate(model, criterion, val_loader):\n",
    "    model.eval()\n",
    "    running_loss = 0.0\n",
    "    with torch.no_grad():\n",
    "        for data in val_loader:\n",
    "            x = data['G'].x\n",
    "            real_adj = data['adj'].squeeze()\n",
    "            pred_adj = model(x)\n",
    "            \n",
    "            loss = criterion(pred_adj, real_adj)\n",
    "            running_loss += loss.item()\n",
    "            \n",
    "    return running_loss / len(val_loader)"
   ]
  },
  {
   "cell_type": "code",
   "execution_count": 254,
   "id": "4dd954fe",
   "metadata": {},
   "outputs": [],
   "source": [
    "from copy import deepcopy\n",
    "\n",
    "# Hyperparameters\n",
    "learning_rate = 0.001\n",
    "num_epochs = 5\n",
    "patience = 10 # Number of epochs to wait if validation loss doesn't improve\n",
    "best_val_loss = float('inf')\n",
    "\n",
    "counter = 0\n",
    "\n",
    "optimizer = torch.optim.Adam(model.parameters(), lr=learning_rate, weight_decay=3e-4)\n",
    "criterion = nn.BCELoss()\n",
    "scheduler = torch.optim.lr_scheduler.StepLR(optimizer, step_size=1, gamma=0.950)\n"
   ]
  },
  {
   "cell_type": "code",
   "execution_count": 255,
   "id": "b7ec9799",
   "metadata": {},
   "outputs": [],
   "source": [
    "# Notice\n",
    "train_losses = []\n",
    "val_losses = []"
   ]
  },
  {
   "cell_type": "markdown",
   "id": "271a7b40",
   "metadata": {
    "tags": []
   },
   "source": [
    "<a id='train'></a>\n",
    "### Training\n"
   ]
  },
  {
   "cell_type": "code",
   "execution_count": 256,
   "id": "d9a39a37-e8b9-46f1-b39a-09c57295a46e",
   "metadata": {},
   "outputs": [
    {
     "name": "stderr",
     "output_type": "stream",
     "text": [
      "Planifying: 100%|██████████| 10000/10000 [00:46<00:00, 215.42it/s]\n"
     ]
    },
    {
     "name": "stdout",
     "output_type": "stream",
     "text": [
      "Validating ...\n",
      "Epoch [1/5], Train Loss: 0.3244, Validation Loss: 0.3237\n",
      "Model saved :)\n"
     ]
    },
    {
     "name": "stderr",
     "output_type": "stream",
     "text": [
      "Planifying: 100%|██████████| 10000/10000 [00:43<00:00, 229.87it/s]\n"
     ]
    },
    {
     "name": "stdout",
     "output_type": "stream",
     "text": [
      "Validating ...\n",
      "Epoch [2/5], Train Loss: 0.3239, Validation Loss: 0.3232\n",
      "Model saved :)\n"
     ]
    },
    {
     "name": "stderr",
     "output_type": "stream",
     "text": [
      "Planifying: 100%|██████████| 10000/10000 [00:51<00:00, 196.02it/s]\n"
     ]
    },
    {
     "name": "stdout",
     "output_type": "stream",
     "text": [
      "Validating ...\n",
      "Epoch [3/5], Train Loss: 0.3236, Validation Loss: 0.3232\n"
     ]
    },
    {
     "name": "stderr",
     "output_type": "stream",
     "text": [
      "Planifying: 100%|██████████| 10000/10000 [01:07<00:00, 148.43it/s]\n"
     ]
    },
    {
     "name": "stdout",
     "output_type": "stream",
     "text": [
      "Validating ...\n",
      "Epoch [4/5], Train Loss: 0.3234, Validation Loss: 0.3230\n",
      "Model saved :)\n"
     ]
    },
    {
     "name": "stderr",
     "output_type": "stream",
     "text": [
      "Planifying: 100%|██████████| 10000/10000 [01:09<00:00, 144.71it/s]\n"
     ]
    },
    {
     "name": "stdout",
     "output_type": "stream",
     "text": [
      "Validating ...\n",
      "Epoch [5/5], Train Loss: 0.3232, Validation Loss: 0.3238\n"
     ]
    }
   ],
   "source": [
    "for epoch in range(num_epochs):\n",
    "    # Training loop\n",
    "    train_loss = train(model, optimizer, criterion, train_loader)\n",
    "    train_losses.append(train_loss)\n",
    "    \n",
    "    # Evaluation loop\n",
    "    print('Validating ...')\n",
    "    val_loss = evaluate(model, criterion, val_loader)\n",
    "    val_losses.append(val_loss)\n",
    "    \n",
    "    # Printing and monitoring\n",
    "    print(f'Epoch [{epoch + 1}/{num_epochs}], Train Loss: {train_loss:.4f}, Validation Loss: {val_loss:.4f}')\n",
    "    \n",
    "    \n",
    "    # Early stopping\n",
    "    if val_loss < best_val_loss:\n",
    "        best_val_loss = val_loss\n",
    "        best_model = deepcopy(model)\n",
    "        save_checkpoint(best_model, optimizer, epoch)\n",
    "        counter = 0\n",
    "        \n",
    "    else:\n",
    "        counter += 1\n",
    "        if counter >= patience:\n",
    "            print(f'Validation loss did not improve for {patience} epochs. Stopping early.')\n",
    "            break\n",
    "        if counter in range(2, 20, 2):\n",
    "            scheduler.step()\n",
    "            print(f\"Learning rate decreased!, now is {optimizer.state_dict()['param_groups'][0]['lr']}\")"
   ]
  },
  {
   "cell_type": "code",
   "execution_count": 257,
   "id": "af042441",
   "metadata": {},
   "outputs": [
    {
     "data": {
      "image/png": "[encoded data removed]",
      "text/plain": [
       "<Figure size 640x480 with 1 Axes>"
      ]
     },
     "metadata": {},
     "output_type": "display_data"
    }
   ],
   "source": [
    "plt.plot(train_losses, label=f'Best training    loss: {min(train_losses):.0f}');\n",
    "plt.plot(val_losses, label=f'Best validation loss: {min(val_losses):.0f}');\n",
    "plt.legend();"
   ]
  },
  {
   "cell_type": "code",
   "execution_count": 258,
   "id": "74e17936",
   "metadata": {},
   "outputs": [],
   "source": [
    "for l in train_loader:\n",
    "    G = l['G']\n",
    "    adj = l['adj']\n",
    "    break"
   ]
  },
  {
   "cell_type": "code",
   "execution_count": 265,
   "id": "876123ae",
   "metadata": {},
   "outputs": [
    {
     "data": {
      "text/plain": [
       "tensor([[[0., 1., 1., 1., 1., 1., 1., 1.],\n",
       "         [1., 0., 0., 1., 0., 0., 1., 0.],\n",
       "         [1., 0., 0., 0., 1., 0., 0., 1.],\n",
       "         [1., 1., 0., 0., 0., 1., 0., 0.],\n",
       "         [1., 0., 1., 0., 0., 1., 0., 0.],\n",
       "         [1., 0., 0., 1., 1., 0., 0., 0.],\n",
       "         [1., 1., 0., 0., 0., 0., 0., 0.],\n",
       "         [1., 0., 1., 0., 0., 0., 0., 0.]]], device='cuda:0')"
      ]
     },
     "execution_count": 265,
     "metadata": {},
     "output_type": "execute_result"
    }
   ],
   "source": [
    "adj"
   ]
  },
  {
   "cell_type": "code",
   "execution_count": 264,
   "id": "73aa5532",
   "metadata": {},
   "outputs": [
    {
     "data": {
      "text/plain": [
       "tensor([[0, 1, 1, 1, 1, 1, 0, 0],\n",
       "        [1, 0, 0, 0, 0, 0, 0, 0],\n",
       "        [1, 0, 0, 0, 0, 0, 0, 0],\n",
       "        [1, 1, 0, 0, 0, 0, 0, 0],\n",
       "        [1, 1, 0, 0, 0, 0, 0, 0],\n",
       "        [1, 0, 0, 0, 0, 0, 0, 0],\n",
       "        [1, 0, 0, 0, 0, 0, 0, 0],\n",
       "        [1, 0, 0, 0, 0, 0, 0, 0]], device='cuda:0', dtype=torch.int32)"
      ]
     },
     "execution_count": 264,
     "metadata": {},
     "output_type": "execute_result"
    }
   ],
   "source": [
    "(model(G.x) > 0.5).to(torch.int)"
   ]
  }
 ],
 "metadata": {
  "kernelspec": {
   "display_name": "Python 3 (ipykernel)",
   "language": "python",
   "name": "python3"
  },
  "language_info": {
   "codemirror_mode": {
    "name": "ipython",
    "version": 3
   },
   "file_extension": ".py",
   "mimetype": "text/x-python",
   "name": "python",
   "nbconvert_exporter": "python",
   "pygments_lexer": "ipython3",
   "version": "3.9.16"
  },
  "vscode": {
   "interpreter": {
    "hash": "916dbcbb3f70747c44a77c7bcd40155683ae19c65e1c03b4aa3499c5328201f1"
   }
  }
 },
 "nbformat": 4,
 "nbformat_minor": 5
}
