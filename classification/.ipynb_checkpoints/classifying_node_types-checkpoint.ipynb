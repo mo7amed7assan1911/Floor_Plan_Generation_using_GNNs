{
 "cells": [
  {
   "cell_type": "markdown",
   "id": "88f1eb50",
   "metadata": {},
   "source": [
    "# Planify - Graph Neural Network\n",
    "\n",
    "### Table of Contents\n",
    "<ul>\n",
    "<li><a href=\"#intro\">Introduction</a></li>\n",
    "    <ul>\n",
    "        <li><a href=\"#Imports\">Imports</a></li>\n",
    "        <li><a href=\"#func\">Functions used</a></li>\n",
    "    </ul>\n",
    "<li><a href=\"#wrangling\">Data Wrangling</a></li>\n",
    "<li><a href=\"#model\">GNN Model</a></li>\n",
    "    <ul>\n",
    "        <li><a href=\"#dataLoader\">Data Loader</a></li>\n",
    "        <li><a href=\"#archi\">Architecture</a></li>\n",
    "        <li><a href=\"#train\">Training</a></li> \n",
    "        <li><a href=\"#eval\">Evaluation</a></li>\n",
    "    </ul>\n",
    "</ul>"
   ]
  },
  {
   "cell_type": "markdown",
   "id": "c612d2c6",
   "metadata": {},
   "source": [
    "<a id='intro'></a>\n",
    "## Introduction\n",
    "\n",
    "> This notebook getting garphs in the Networkx format from the `Creating Graphs` notebook. And its main goal is to make the GNN model."
   ]
  },
  {
   "cell_type": "code",
   "execution_count": 2,
   "id": "849fb853",
   "metadata": {
    "execution": {
     "iopub.execute_input": "2023-03-04T00:01:02.307247Z",
     "iopub.status.busy": "2023-03-04T00:01:02.306898Z",
     "iopub.status.idle": "2023-03-04T00:01:02.332236Z",
     "shell.execute_reply": "2023-03-04T00:01:02.331315Z",
     "shell.execute_reply.started": "2023-03-04T00:01:02.307214Z"
    }
   },
   "outputs": [],
   "source": [
    "# Used for vsCode only to show tqdm process\n",
    "# from IPython.core.interactiveshell import InteractiveShell\n",
    "# InteractiveShell.ast_node_interactivity = \"all\""
   ]
  },
  {
   "cell_type": "markdown",
   "id": "52912620",
   "metadata": {},
   "source": [
    "<a id='Imports'></a>\n",
    "### Imports"
   ]
  },
  {
   "cell_type": "code",
   "execution_count": 22,
   "id": "6ef47335",
   "metadata": {
    "tags": []
   },
   "outputs": [],
   "source": [
    "# Only for kaggle\n",
    "# !pip install torch_geometric"
   ]
  },
  {
   "cell_type": "code",
   "execution_count": 3,
   "id": "67cc3944",
   "metadata": {
    "tags": []
   },
   "outputs": [],
   "source": [
    "# Not included packages in kaggle\n",
    "\n",
    "# Install torch_geometric\n",
    "# !pip install /kaggle/input/torch-geometric/torch_sparse-0.6.16-cp37-cp37m-linux_x86_64.whl -q\n",
    "# !pip install /kaggle/input/torch-geometric/torch_scatter-2.1.0-cp37-cp37m-linux_x86_64.whl -q\n",
    "\n",
    "# # # library for getting distinct colores\n",
    "!pip install distinctipy -q"
   ]
  },
  {
   "cell_type": "code",
   "execution_count": 7,
   "id": "21f601a5",
   "metadata": {
    "tags": []
   },
   "outputs": [],
   "source": [
    "# for data wrangling\n",
    "import pickle\n",
    "import networkx as nx\n",
    "import matplotlib.pyplot as plt\n",
    "import numpy as np\n",
    "import distinctipy\n",
    "import random\n",
    "from torch_geometric.utils import from_networkx\n",
    "\n",
    "# to show advance in for loops\n",
    "from tqdm import tqdm\n",
    "\n",
    "# Using pytorch geometric\n",
    "import torch\n",
    "import torch.nn as nn\n",
    "from torch_geometric.loader import DataLoader\n",
    "from torch_geometric.data import Data, Batch\n",
    "from torch.utils.data import Dataset\n",
    "import torch_geometric.transforms as T\n",
    "\n",
    "\n",
    "# For the GNN model\n",
    "import torch.nn.functional as F\n",
    "from torch_geometric.nn import GCNConv, GATConv, global_mean_pool, global_max_pool\n",
    "\n",
    "\n",
    "# for my pc [linux]\n",
    "# url = '/media/mo/DATA/Grad/Planify_Dataset/Graph/Planify_Graphs.pkl'\n",
    "\n",
    "# for my pc [windows]\n",
    "url = \"D:\\Grad\\Planify_Dataset\\Graph\\Planify_Graphs.pkl\"\n",
    "\n",
    "# for kaggle\n",
    "# url = '/kaggle/input/planify-graphs/Planify_Graphs.pkl'"
   ]
  },
  {
   "cell_type": "markdown",
   "id": "d993568d",
   "metadata": {},
   "source": [
    "<a id='func'></a>\n",
    "### Functions used"
   ]
  },
  {
   "cell_type": "code",
   "execution_count": 4,
   "id": "441cb7a3",
   "metadata": {
    "tags": []
   },
   "outputs": [],
   "source": [
    "geoms_columns = ['inner', 'living', 'master', 'kitchen', 'bathroom', 'dining', 'child', 'study',\n",
    "                   'second_room', 'guest', 'balcony', 'storage', 'wall-in',\n",
    "                    'outer_wall', 'front', 'inner_wall', 'interior',\n",
    "                   'front_door', 'outer_wall', 'entrance']\n",
    "\n",
    "N = len(geoms_columns)\n",
    "colors = (np.array(distinctipy.get_colors(N)) * 255).astype(np.uint8)\n",
    "room_color = {room_name: colors[i] for i, room_name in enumerate(geoms_columns)}"
   ]
  },
  {
   "cell_type": "code",
   "execution_count": 5,
   "id": "cf9a39e5",
   "metadata": {
    "tags": []
   },
   "outputs": [],
   "source": [
    "def draw_graph(G):\n",
    "    #  nodes positions for drawing, note that we invert the y pos\n",
    "    pos = {node: (G.nodes[node]['actualCentroid_x'], -G.nodes[node]['actualCentroid_y']) for node in G.nodes}\n",
    "    \n",
    "    scales = [G.nodes[node]['roomSize'] * 10000 for node in G] \n",
    "    colormap = [room_color[G.nodes[node]['roomType_name']]/255 for node in G]\n",
    "    \n",
    "    nx.draw(G, pos=pos, node_size=scales, node_color=colormap, with_labels=True, font_size=12)\n",
    "    \n",
    "    # Drawing the graph inside a good boundary.\n",
    "    x_coords  = [pos[node][0] for node in pos]\n",
    "    y_coords  = [pos[node][1] for node in pos]\n",
    "    threshold = max(scales) / 100\n",
    "    \n",
    "    plt.xlim(min(x_coords) - threshold, max(x_coords) + threshold)\n",
    "    plt.ylim(min(y_coords) - threshold, max(y_coords) + threshold)\n",
    "\n",
    "\n",
    "def collate_fn(graphs_list):\n",
    "    batch = Batch.from_data_list([Data.from_(g) for g in graphs_list])\n",
    "    return batch"
   ]
  },
  {
   "cell_type": "markdown",
   "id": "e2519899",
   "metadata": {},
   "source": [
    "<a id='wrangling'></a>\n",
    "## Data wrangling\n"
   ]
  },
  {
   "cell_type": "code",
   "execution_count": 8,
   "id": "81a204b0",
   "metadata": {
    "tags": []
   },
   "outputs": [
    {
     "name": "stdout",
     "output_type": "stream",
     "text": [
      "Graph with 7 nodes and 9 edges\n"
     ]
    },
    {
     "data": {
      "image/png": "[encoded data removed]",
      "text/plain": [
       "<Figure size 640x480 with 1 Axes>"
      ]
     },
     "metadata": {},
     "output_type": "display_data"
    }
   ],
   "source": [
    "with open(url, 'rb') as f:\n",
    "    Graphs = pickle.load(f)\n",
    "    \n",
    "G = Graphs[1911]\n",
    "print(G)\n",
    "draw_graph(G)"
   ]
  },
  {
   "cell_type": "code",
   "execution_count": 9,
   "id": "0d9a56e8",
   "metadata": {
    "tags": []
   },
   "outputs": [],
   "source": [
    "features = ['actualCentroid_x', 'actualCentroid_y', 'rec_w', 'rec_h', 'roomSize']"
   ]
  },
  {
   "cell_type": "code",
   "execution_count": 10,
   "id": "9d679b2b",
   "metadata": {
    "tags": []
   },
   "outputs": [
    {
     "name": "stderr",
     "output_type": "stream",
     "text": [
      "100%|███████████████████████████████████████████████████████████████████████████████████████████| 80788/80788 [01:55<00:00, 698.93it/s]\n"
     ]
    },
    {
     "data": {
      "text/plain": [
       "Data(edge_index=[2, 12], roomType_name=[5], roomType_embd=[5], x=[5, 5], edge_attr=[12, 1])"
      ]
     },
     "execution_count": 10,
     "metadata": {},
     "output_type": "execute_result"
    }
   ],
   "source": [
    "# Converting networkx graphs to pytorchGeo graphs\n",
    "Graphs_pyTorch = []\n",
    "for G in tqdm(Graphs):\n",
    "    G_new = from_networkx(G, group_node_attrs=features, group_edge_attrs=['dist'])\n",
    "    # Normalizing feature matrix (x)\n",
    "    G_new = T.NormalizeFeatures()(G_new)\n",
    "    \n",
    "    Graphs_pyTorch.append(G_new)\n",
    "\n",
    "Graphs_pyTorch[0]"
   ]
  },
  {
   "cell_type": "markdown",
   "id": "09b0204f",
   "metadata": {},
   "source": [
    "> There are many types of `rooms` but we will give them a defualt number = 1.\n",
    "> So, also we will decrease the embedings to be between 0:6"
   ]
  },
  {
   "cell_type": "code",
   "execution_count": 11,
   "id": "3a720ad4",
   "metadata": {},
   "outputs": [
    {
     "name": "stdout",
     "output_type": "stream",
     "text": [
      "Befor: G_1 embedings are: tensor([ 0,  1,  2,  3,  7,  7,  9, 10])\n"
     ]
    },
    {
     "name": "stderr",
     "output_type": "stream",
     "text": [
      "100%|██████████████████████████████████████████████████████████████████████████████████████████| 80788/80788 [00:20<00:00, 3954.40it/s]"
     ]
    },
    {
     "name": "stdout",
     "output_type": "stream",
     "text": [
      "After: G_1 embedings are: tensor([0, 1, 2, 3, 1, 1, 4, 5])\n"
     ]
    },
    {
     "name": "stderr",
     "output_type": "stream",
     "text": [
      "\n"
     ]
    }
   ],
   "source": [
    "print(f'Befor: G_1 embedings are: {Graphs_pyTorch[1].roomType_embd}')\n",
    "for G in tqdm(Graphs_pyTorch, total=len(Graphs_pyTorch)):\n",
    "    for j ,value in enumerate(G.roomType_embd):\n",
    "        if value in [1, 4, 5, 6, 7, 8]:\n",
    "            G.roomType_embd[j] = 1\n",
    "        \n",
    "        # making all labels from 0 to 6 only to help one_hotting\n",
    "        elif value == 9:\n",
    "            G.roomType_embd[j] = 4\n",
    "        elif value == 10:\n",
    "            G.roomType_embd[j] = 5\n",
    "        elif value == 11:\n",
    "            G.roomType_embd[j] = 6\n",
    "print(f'After: G_1 embedings are: {Graphs_pyTorch[1].roomType_embd}')"
   ]
  },
  {
   "cell_type": "markdown",
   "id": "bc19a0b1",
   "metadata": {},
   "source": [
    "> If we need to creat graphs with padding by the maximum number of nodes."
   ]
  },
  {
   "cell_type": "code",
   "execution_count": 11,
   "id": "bca96f38",
   "metadata": {
    "tags": []
   },
   "outputs": [],
   "source": [
    "# # but we need to do some padding to our graphs to be all of the same number of nodes.\n",
    "# padded_graphs = []\n",
    "# for G in Graphs_pyTorch:\n",
    "#     x          = G.x\n",
    "#     y          = G.roomType_embd\n",
    "#     edge_index = G.edge_index\n",
    "#     edge_attr  = G.edge_attr\n",
    "    \n",
    "#     nu_nodes = x.shape[0]\n",
    "\n",
    "#     padded_x = torch.nn.functional.pad(x, pad=(0, 0, 0, 8 - nu_nodes), mode='constant', value=0)\n",
    "#     padded_y = torch.nn.functional.pad(y, pad=(0, 8 - nu_nodes), mode='constant', value=0)\n",
    "#     train_mask   = torch.ones(nu_nodes)\n",
    "#     train_mask   = torch.nn.functional.pad(train_mask, pad=(0, 8 - nu_nodes), mode='constant', value=0).to(bool)\n",
    "\n",
    "#     data = Data(x = padded_x, y = padded_y, edge_index= G.edge_index, edge_attr = G.edge_attr, train_mask=train_mask)\n",
    "\n",
    "#     padded_graphs.append(data)\n",
    "\n",
    "# padded_graphs[0]"
   ]
  },
  {
   "cell_type": "markdown",
   "id": "03781d88",
   "metadata": {},
   "source": [
    "<a id='model'></a>\n",
    "## GNN Model"
   ]
  },
  {
   "cell_type": "markdown",
   "id": "2f1cd5f8",
   "metadata": {},
   "source": [
    "<a id='dataLoader'></a>\n",
    "### Data Loader"
   ]
  },
  {
   "cell_type": "code",
   "execution_count": 152,
   "id": "e88277ea",
   "metadata": {
    "tags": []
   },
   "outputs": [],
   "source": [
    "class Planify_Dataset(Dataset):\n",
    "    def __init__(self, data):\n",
    "        self.Graphs = data\n",
    "    \n",
    "    def __len__(self):\n",
    "        return len(self.Graphs)\n",
    "\n",
    "    def __getitem__(self, index):\n",
    "        G = self.Graphs[index].clone()\n",
    "        # shuffling nodes inside the same graph\n",
    "        permutation = torch.randperm(G.num_nodes)\n",
    "\n",
    "        G.x = G.x[permutation]\n",
    "        G.edge_index = permutation[G.edge_index]\n",
    "        G.roomType_embd = G.roomType_embd[permutation]\n",
    "        # padded_x = torch.nn.functional.pad(x, pad=(0, 0, 0, 8 - nu_nodes), mode='constant', value=0)\n",
    "        # padded_y = torch.nn.functional.pad(y, pad=(0, 8 - nu_nodes), mode='constant', value=0)\n",
    "                \n",
    "        return G"
   ]
  },
  {
   "cell_type": "code",
   "execution_count": 189,
   "id": "0f01bd03",
   "metadata": {
    "tags": []
   },
   "outputs": [],
   "source": [
    "# There is a problem here, the first graph has this problem on my device [windows]\n",
    "\n",
    "batch_size = 128\n",
    "dataset = Planify_Dataset(Graphs_pyTorch[1:])\n",
    "loader  = DataLoader(dataset, batch_size=batch_size, shuffle=True)"
   ]
  },
  {
   "cell_type": "markdown",
   "id": "111ed4e1",
   "metadata": {},
   "source": [
    "<a id='archi'></a>\n",
    "### Architecture"
   ]
  },
  {
   "cell_type": "code",
   "execution_count": 190,
   "id": "813271d5",
   "metadata": {
    "tags": []
   },
   "outputs": [
    {
     "data": {
      "text/plain": [
       "GCN(\n",
       "  (gc1): GATConv(5, 16, heads=8)\n",
       "  (gc2): GATConv(128, 128, heads=8)\n",
       "  (gc3): GATConv(1024, 128, heads=8)\n",
       "  (fc1): Linear(in_features=1024, out_features=56, bias=True)\n",
       "  (fc2): Linear(in_features=56, out_features=7, bias=True)\n",
       "  (Classifier): Linear(in_features=7, out_features=7, bias=True)\n",
       ")"
      ]
     },
     "execution_count": 190,
     "metadata": {},
     "output_type": "execute_result"
    }
   ],
   "source": [
    "class GCN(torch.nn.Module):\n",
    "    def __init__(self, input_channels, hidden_channels, nu_classes):\n",
    "        super().__init__()\n",
    "        self.gc1 = GATConv(input_channels, hidden_channels, heads=8)\n",
    "        self.gc2 = GATConv(hidden_channels * 8, hidden_channels * 8, heads=8)\n",
    "        self.gc3 = GATConv(hidden_channels * 8 * 8, hidden_channels * 8, heads=8)\n",
    "        \n",
    "        self.fc1 = nn.Linear(hidden_channels * 8 * 8, nu_classes * 8)\n",
    "        self.fc2 = nn.Linear(nu_classes * 8, nu_classes)\n",
    "        \n",
    "        self.Classifier = nn.Linear(nu_classes, nu_classes)\n",
    "\n",
    "    def forward(self, data):\n",
    "        x, edge_index = data.x, data.edge_index\n",
    "        \n",
    "        x = self.gc1(x, edge_index)\n",
    "        x = x.relu()\n",
    "        # x = F.dropout(x, training=self.training)\n",
    "\n",
    "        x = self.gc2(x, edge_index)\n",
    "        x = x.relu()\n",
    "        # x = F.dropout(x, training=self.training)\n",
    "        \n",
    "        x = self.gc3(x, edge_index)\n",
    "        x = x.relu()\n",
    "        \n",
    "        x = self.fc1(x)\n",
    "        x = x.relu()\n",
    "        \n",
    "        x = self.fc2(x)\n",
    "        x = x.relu()\n",
    "        \n",
    "        x = self.Classifier(x)\n",
    "        x = self.Classifier(x)\n",
    "        \n",
    "        return x.relu()\n",
    "    \n",
    "\n",
    "\n",
    "nu_features    = Graphs_pyTorch[0].x.shape[0]\n",
    "# number_classes = 12 # there is 12 distict classes in our dataset\n",
    "number_classes = 7 # if we consider all rooms has the same label = 1\n",
    "\n",
    "\n",
    "model = GCN(nu_features, hidden_channels=16, nu_classes=number_classes)\n",
    "device = torch.device('cuda' if torch.cuda.is_available() else 'cpu')\n",
    "model = model.to(device)\n",
    "\n",
    "\n",
    "# to monitor the loss & accuracy.\n",
    "errors = []\n",
    "acc = []\n",
    "model"
   ]
  },
  {
   "cell_type": "code",
   "execution_count": 191,
   "id": "2684a77e",
   "metadata": {
    "tags": []
   },
   "outputs": [],
   "source": [
    "# Hyperparameters\n",
    "learning_rate = 0.001\n",
    "nu_epochs = 20\n",
    "\n",
    "optimizer = torch.optim.Adam(model.parameters(), lr=learning_rate)\n",
    "criterion = torch.nn.CrossEntropyLoss()\n",
    "\n",
    "scheduler = torch.optim.lr_scheduler.StepLR(optimizer, step_size=2, gamma=0.972)\n",
    "\n",
    "# def scheduler(epoch, lr)\n",
    "#     if epoch < 20:\n",
    "#         return lr\n",
    "#     else:\n",
    "#         return lr * 0.99"
   ]
  },
  {
   "cell_type": "markdown",
   "id": "271a7b40",
   "metadata": {},
   "source": [
    "<a id='train'></a>\n",
    "### Training\n"
   ]
  },
  {
   "cell_type": "code",
   "execution_count": 192,
   "id": "f60c070b",
   "metadata": {
    "tags": []
   },
   "outputs": [],
   "source": [
    "# Saving model function\n",
    "import os\n",
    "\n",
    "# checkpoint_dir = '/kaggle/working/checkpoints'\n",
    "checkpoint_dir = '/media/mo/DATA/Grad/Planify_Dataset/Graph/checkpoints'\n",
    "\n",
    "if not os.path.exists(checkpoint_dir):\n",
    "    os.makedirs(checkpoint_dir)\n",
    "    \n",
    "\n",
    "def save_checkpoint(model, optimizer, epoch):\n",
    "    checkpoint_path = os.path.join(checkpoint_dir, f'model_epoch_{epoch}.pt')\n",
    "    # Saving model each 15 epochs\n",
    "    if epoch % 15 == 0:\n",
    "        torch.save({\n",
    "            'model_state_dict': model.state_dict(),\n",
    "            'optimizer_state_dict': optimizer.state_dict(),\n",
    "            'epoch': epoch\n",
    "        }, checkpoint_path)"
   ]
  },
  {
   "cell_type": "code",
   "execution_count": 193,
   "id": "c65819c7",
   "metadata": {
    "tags": []
   },
   "outputs": [
    {
     "name": "stderr",
     "output_type": "stream",
     "text": [
      "Planifying: 100%|████████████████████████████████████████████████████████████████████████████████████| 632/632 [00:52<00:00, 12.15it/s]\n"
     ]
    },
    {
     "name": "stdout",
     "output_type": "stream",
     "text": [
      "tensor([2, 0, 3, 1, 4, 1, 1, 3, 4, 0], device='cuda:0')\n",
      "tensor([1, 0, 3, 0, 0, 1, 1, 1, 1, 0], device='cuda:0')\n",
      "Epoch: 1/20 | lr: 0.001 | avg_loss: 1.60327 | training_acc: 39.86407%\n"
     ]
    },
    {
     "name": "stderr",
     "output_type": "stream",
     "text": [
      "Planifying: 100%|████████████████████████████████████████████████████████████████████████████████████| 632/632 [00:47<00:00, 13.20it/s]\n"
     ]
    },
    {
     "name": "stdout",
     "output_type": "stream",
     "text": [
      "tensor([4, 4, 2, 3, 1, 0, 1, 3, 4, 1], device='cuda:0')\n",
      "tensor([4, 4, 4, 4, 1, 0, 1, 1, 1, 1], device='cuda:0')\n",
      "Epoch: 2/20 | lr: 0.001 | avg_loss: 1.43118 | training_acc: 46.82361%\n"
     ]
    },
    {
     "name": "stderr",
     "output_type": "stream",
     "text": [
      "Planifying: 100%|████████████████████████████████████████████████████████████████████████████████████| 632/632 [00:50<00:00, 12.53it/s]\n"
     ]
    },
    {
     "name": "stdout",
     "output_type": "stream",
     "text": [
      "tensor([1, 1, 4, 3, 0, 2, 4, 1, 0, 4], device='cuda:0')\n",
      "tensor([1, 1, 4, 1, 0, 3, 4, 1, 1, 1], device='cuda:0')\n",
      "Epoch: 3/20 | lr: 0.000972 | avg_loss: 1.35302 | training_acc: 50.97719%\n"
     ]
    },
    {
     "name": "stderr",
     "output_type": "stream",
     "text": [
      "Planifying: 100%|████████████████████████████████████████████████████████████████████████████████████| 632/632 [00:52<00:00, 12.15it/s]\n"
     ]
    },
    {
     "name": "stdout",
     "output_type": "stream",
     "text": [
      "tensor([0, 1, 1, 1, 2, 4, 3, 3, 1, 0], device='cuda:0')\n",
      "tensor([1, 4, 1, 1, 1, 4, 1, 1, 1, 0], device='cuda:0')\n",
      "Epoch: 4/20 | lr: 0.000972 | avg_loss: 1.26022 | training_acc: 56.13516%\n"
     ]
    },
    {
     "name": "stderr",
     "output_type": "stream",
     "text": [
      "Planifying: 100%|████████████████████████████████████████████████████████████████████████████████████| 632/632 [00:48<00:00, 13.01it/s]\n"
     ]
    },
    {
     "name": "stdout",
     "output_type": "stream",
     "text": [
      "tensor([3, 2, 1, 4, 1, 0, 1, 1, 4, 0], device='cuda:0')\n",
      "tensor([1, 1, 1, 4, 1, 1, 1, 1, 4, 0], device='cuda:0')\n",
      "Epoch: 5/20 | lr: 0.0009447839999999999 | avg_loss: 1.04632 | training_acc: 60.17319%\n"
     ]
    },
    {
     "name": "stderr",
     "output_type": "stream",
     "text": [
      "Planifying: 100%|████████████████████████████████████████████████████████████████████████████████████| 632/632 [00:50<00:00, 12.53it/s]\n"
     ]
    },
    {
     "name": "stdout",
     "output_type": "stream",
     "text": [
      "tensor([2, 1, 0, 1, 3, 1, 3, 4, 5, 1], device='cuda:0')\n",
      "tensor([1, 1, 0, 1, 1, 1, 4, 3, 3, 1], device='cuda:0')\n",
      "Epoch: 6/20 | lr: 0.0009447839999999999 | avg_loss: 0.95051 | training_acc: 62.98777%\n"
     ]
    },
    {
     "name": "stderr",
     "output_type": "stream",
     "text": [
      "Planifying: 100%|████████████████████████████████████████████████████████████████████████████████████| 632/632 [00:47<00:00, 13.34it/s]\n"
     ]
    },
    {
     "name": "stdout",
     "output_type": "stream",
     "text": [
      "tensor([0, 1, 4, 1, 4, 2, 1, 3, 0, 4], device='cuda:0')\n",
      "tensor([0, 1, 3, 1, 4, 1, 1, 3, 0, 4], device='cuda:0')\n",
      "Epoch: 7/20 | lr: 0.0009183300479999999 | avg_loss: 0.89155 | training_acc: 65.67401%\n"
     ]
    },
    {
     "name": "stderr",
     "output_type": "stream",
     "text": [
      "Planifying: 100%|████████████████████████████████████████████████████████████████████████████████████| 632/632 [00:47<00:00, 13.35it/s]\n"
     ]
    },
    {
     "name": "stdout",
     "output_type": "stream",
     "text": [
      "tensor([4, 3, 1, 1, 4, 2, 0, 1, 3, 4], device='cuda:0')\n",
      "tensor([4, 1, 1, 1, 4, 1, 0, 1, 3, 4], device='cuda:0')\n",
      "Epoch: 8/20 | lr: 0.0009183300479999999 | avg_loss: 0.84251 | training_acc: 67.68488%\n"
     ]
    },
    {
     "name": "stderr",
     "output_type": "stream",
     "text": [
      "Planifying: 100%|████████████████████████████████████████████████████████████████████████████████████| 632/632 [00:46<00:00, 13.57it/s]\n"
     ]
    },
    {
     "name": "stdout",
     "output_type": "stream",
     "text": [
      "tensor([1, 2, 4, 1, 0, 3, 1, 4, 1, 3], device='cuda:0')\n",
      "tensor([1, 1, 4, 1, 0, 3, 1, 4, 1, 3], device='cuda:0')\n",
      "Epoch: 9/20 | lr: 0.0008926168066559999 | avg_loss: 0.81403 | training_acc: 68.84726%\n"
     ]
    },
    {
     "name": "stderr",
     "output_type": "stream",
     "text": [
      "Planifying: 100%|████████████████████████████████████████████████████████████████████████████████████| 632/632 [00:46<00:00, 13.70it/s]\n"
     ]
    },
    {
     "name": "stdout",
     "output_type": "stream",
     "text": [
      "tensor([4, 1, 1, 3, 0, 1, 2, 0, 4, 3], device='cuda:0')\n",
      "tensor([4, 1, 1, 3, 0, 1, 1, 0, 4, 3], device='cuda:0')\n",
      "Epoch: 10/20 | lr: 0.0008926168066559999 | avg_loss: 0.79447 | training_acc: 69.54216%\n"
     ]
    },
    {
     "name": "stderr",
     "output_type": "stream",
     "text": [
      "Planifying: 100%|████████████████████████████████████████████████████████████████████████████████████| 632/632 [00:46<00:00, 13.46it/s]\n"
     ]
    },
    {
     "name": "stdout",
     "output_type": "stream",
     "text": [
      "tensor([1, 2, 0, 3, 1, 1, 5, 4, 3, 2], device='cuda:0')\n",
      "tensor([1, 2, 0, 1, 1, 1, 3, 4, 3, 4], device='cuda:0')\n",
      "Epoch: 11/20 | lr: 0.0008676235360696318 | avg_loss: 0.77880 | training_acc: 70.14209%\n"
     ]
    },
    {
     "name": "stderr",
     "output_type": "stream",
     "text": [
      "Planifying: 100%|████████████████████████████████████████████████████████████████████████████████████| 632/632 [00:46<00:00, 13.63it/s]\n"
     ]
    },
    {
     "name": "stdout",
     "output_type": "stream",
     "text": [
      "tensor([4, 1, 1, 2, 1, 3, 0, 2, 4, 1], device='cuda:0')\n",
      "tensor([4, 1, 1, 3, 1, 1, 0, 1, 4, 1], device='cuda:0')\n",
      "Epoch: 12/20 | lr: 0.0008676235360696318 | avg_loss: 0.76483 | training_acc: 70.63033%\n"
     ]
    },
    {
     "name": "stderr",
     "output_type": "stream",
     "text": [
      "Planifying: 100%|████████████████████████████████████████████████████████████████████████████████████| 632/632 [00:46<00:00, 13.70it/s]\n"
     ]
    },
    {
     "name": "stdout",
     "output_type": "stream",
     "text": [
      "tensor([1, 4, 3, 1, 0, 2, 3, 4, 1, 0], device='cuda:0')\n",
      "tensor([1, 4, 3, 1, 1, 3, 3, 4, 1, 0], device='cuda:0')\n",
      "Epoch: 13/20 | lr: 0.0008433300770596821 | avg_loss: 0.75385 | training_acc: 71.14253%\n"
     ]
    },
    {
     "name": "stderr",
     "output_type": "stream",
     "text": [
      "Planifying: 100%|████████████████████████████████████████████████████████████████████████████████████| 632/632 [00:49<00:00, 12.78it/s]\n"
     ]
    },
    {
     "name": "stdout",
     "output_type": "stream",
     "text": [
      "tensor([0, 1, 3, 2, 4, 1, 4, 1, 2, 1], device='cuda:0')\n",
      "tensor([0, 1, 4, 1, 4, 1, 4, 1, 1, 1], device='cuda:0')\n",
      "Epoch: 14/20 | lr: 0.0008433300770596821 | avg_loss: 0.74158 | training_acc: 71.61789%\n"
     ]
    },
    {
     "name": "stderr",
     "output_type": "stream",
     "text": [
      "Planifying: 100%|████████████████████████████████████████████████████████████████████████████████████| 632/632 [00:47<00:00, 13.25it/s]\n"
     ]
    },
    {
     "name": "stdout",
     "output_type": "stream",
     "text": [
      "tensor([1, 0, 1, 3, 2, 4, 3, 2, 1, 0], device='cuda:0')\n",
      "tensor([1, 0, 1, 1, 1, 4, 3, 4, 1, 0], device='cuda:0')\n",
      "Epoch: 15/20 | lr: 0.000819716834902011 | avg_loss: 0.72961 | training_acc: 72.08559%\n"
     ]
    },
    {
     "name": "stderr",
     "output_type": "stream",
     "text": [
      "Planifying: 100%|████████████████████████████████████████████████████████████████████████████████████| 632/632 [00:47<00:00, 13.23it/s]\n"
     ]
    },
    {
     "name": "stdout",
     "output_type": "stream",
     "text": [
      "tensor([4, 3, 2, 1, 0, 1, 3, 4, 4, 2], device='cuda:0')\n",
      "tensor([4, 1, 2, 1, 0, 2, 3, 4, 4, 3], device='cuda:0')\n",
      "Epoch: 16/20 | lr: 0.000819716834902011 | avg_loss: 0.71871 | training_acc: 72.49551%\n"
     ]
    },
    {
     "name": "stderr",
     "output_type": "stream",
     "text": [
      "Planifying: 100%|████████████████████████████████████████████████████████████████████████████████████| 632/632 [00:49<00:00, 12.72it/s]\n"
     ]
    },
    {
     "name": "stdout",
     "output_type": "stream",
     "text": [
      "tensor([1, 3, 0, 2, 1, 1, 3, 1, 4, 0], device='cuda:0')\n",
      "tensor([1, 3, 0, 3, 1, 1, 3, 1, 4, 0], device='cuda:0')\n",
      "Epoch: 17/20 | lr: 0.0007967647635247546 | avg_loss: 0.70743 | training_acc: 73.05763%\n"
     ]
    },
    {
     "name": "stderr",
     "output_type": "stream",
     "text": [
      "Planifying: 100%|████████████████████████████████████████████████████████████████████████████████████| 632/632 [00:56<00:00, 11.25it/s]\n"
     ]
    },
    {
     "name": "stdout",
     "output_type": "stream",
     "text": [
      "tensor([4, 3, 1, 0, 2, 1, 1, 4, 0, 2], device='cuda:0')\n",
      "tensor([4, 3, 1, 0, 1, 1, 4, 4, 0, 1], device='cuda:0')\n",
      "Epoch: 18/20 | lr: 0.0007967647635247546 | avg_loss: 0.69852 | training_acc: 73.43478%\n"
     ]
    },
    {
     "name": "stderr",
     "output_type": "stream",
     "text": [
      "Planifying: 100%|████████████████████████████████████████████████████████████████████████████████████| 632/632 [00:56<00:00, 11.15it/s]\n"
     ]
    },
    {
     "name": "stdout",
     "output_type": "stream",
     "text": [
      "tensor([4, 3, 2, 0, 1, 1, 3, 1, 2, 0], device='cuda:0')\n",
      "tensor([4, 3, 1, 0, 1, 1, 3, 1, 1, 0], device='cuda:0')\n",
      "Epoch: 19/20 | lr: 0.0007744553501460615 | avg_loss: 0.69084 | training_acc: 73.79354%\n"
     ]
    },
    {
     "name": "stderr",
     "output_type": "stream",
     "text": [
      "Planifying: 100%|████████████████████████████████████████████████████████████████████████████████████| 632/632 [00:52<00:00, 12.11it/s]"
     ]
    },
    {
     "name": "stdout",
     "output_type": "stream",
     "text": [
      "tensor([2, 3, 0, 1, 1, 3, 1, 4, 4, 3], device='cuda:0')\n",
      "tensor([3, 3, 0, 1, 1, 3, 0, 4, 4, 3], device='cuda:0')\n",
      "Epoch: 20/20 | lr: 0.0007744553501460615 | avg_loss: 0.68151 | training_acc: 74.13432%\n"
     ]
    },
    {
     "name": "stderr",
     "output_type": "stream",
     "text": [
      "\n"
     ]
    }
   ],
   "source": [
    "for epoch in range(nu_epochs):\n",
    "    running_loss = 0.0\n",
    "    train_acc    = 0.0\n",
    "    for i, data in tqdm(enumerate(loader), desc='Planifying', total=len(loader)):\n",
    "        optimizer.zero_grad()\n",
    "        \n",
    "        # Forward pass \n",
    "        logits    = model(data.to(device)).to(device)\n",
    "        \n",
    "        # print(logits.shape)\n",
    "        # one_hot_y = F.one_hot(data.roomType_embd, num_classes=number_classes).float()\n",
    "        # computing loss through crossEntropy loss function\n",
    "        loss = criterion(logits, data.roomType_embd)\n",
    "\n",
    "        # Backward pass\n",
    "        loss.backward()\n",
    "\n",
    "        # Updating parameters\n",
    "        optimizer.step()\n",
    "        # current_lr = optimizer.param_groups[0]['lr']\n",
    "        # optimizer = torch.optim.Adam(model.parameters(), lr=scheduler(epoch, current_lr))\n",
    "\n",
    "        # Monitoring\n",
    "        running_loss += loss.item()\n",
    "        train_acc += (torch.argmax(logits, 1).flatten() == data.roomType_embd).type(torch.float).mean().item()\n",
    "        lr = optimizer.param_groups[0]['lr']\n",
    "        \n",
    "        \n",
    "    print(data.roomType_embd[:10])\n",
    "    print(torch.argmax(logits, 1)[:10])\n",
    "        \n",
    "    errors.append(loss.item())\n",
    "    acc.append(train_acc/len(loader) * 100)\n",
    "\n",
    "    # Updating scheduler each 15 epochs.\n",
    "    scheduler.step()\n",
    "    \n",
    "    # Saving the model.\n",
    "    # save_checkpoint(model, optimizer, epoch)\n",
    "    \n",
    "    # Monitoring and printing.\n",
    "    batch_size = len(loader)\n",
    "    print(f'Epoch: {epoch + 1}/{nu_epochs} | lr: {lr} | avg_loss: {running_loss/batch_size:.5f} | training_acc: {train_acc/batch_size * 100:.5f}%')"
   ]
  },
  {
   "cell_type": "code",
   "execution_count": 214,
   "id": "14303ee4",
   "metadata": {
    "tags": []
   },
   "outputs": [
    {
     "data": {
      "image/png": "[encoded data removed]",
      "text/plain": [
       "<Figure size 640x480 with 1 Axes>"
      ]
     },
     "metadata": {},
     "output_type": "display_data"
    }
   ],
   "source": [
    "# plt.plot(errors);\n",
    "plt.plot(accuracy, label='accuracy');\n",
    "plt.plot(errors, label='error');\n",
    "plt.legend();"
   ]
  }
 ],
 "metadata": {
  "kernelspec": {
   "display_name": "Python 3 (ipykernel)",
   "language": "python",
   "name": "python3"
  },
  "language_info": {
   "codemirror_mode": {
    "name": "ipython",
    "version": 3
   },
   "file_extension": ".py",
   "mimetype": "text/x-python",
   "name": "python",
   "nbconvert_exporter": "python",
   "pygments_lexer": "ipython3",
   "version": "3.9.16"
  },
  "vscode": {
   "interpreter": {
    "hash": "916dbcbb3f70747c44a77c7bcd40155683ae19c65e1c03b4aa3499c5328201f1"
   }
  }
 },
 "nbformat": 4,
 "nbformat_minor": 5
}
