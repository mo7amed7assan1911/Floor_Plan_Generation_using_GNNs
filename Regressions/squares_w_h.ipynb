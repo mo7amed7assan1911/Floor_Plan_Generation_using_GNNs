{
 "cells": [
  {
   "cell_type": "markdown",
   "id": "88f1eb50",
   "metadata": {},
   "source": [
    "# Planify - Graph Neural Network\n",
    "\n",
    "### Table of Contents\n",
    "<ul>\n",
    "<li><a href=\"#intro\">Introduction</a></li>\n",
    "    <ul>\n",
    "        <li><a href=\"#Imports\">Imports</a></li>\n",
    "        <li><a href=\"#func\">Functions used</a></li>\n",
    "    </ul>\n",
    "<li><a href=\"#wrangling\">Data Wrangling</a></li>\n",
    "<li><a href=\"#model\">GNN Model</a></li>\n",
    "    <ul>\n",
    "        <li><a href=\"#dataLoader\">Data Loader</a></li>\n",
    "        <li><a href=\"#archi\">Architecture</a></li>\n",
    "        <li><a href=\"#train\">Training</a></li> \n",
    "        <li><a href=\"#eval\">Evaluation</a></li>\n",
    "    </ul>\n",
    "</ul>"
   ]
  },
  {
   "cell_type": "markdown",
   "id": "c612d2c6",
   "metadata": {},
   "source": [
    "<a id='intro'></a>\n",
    "## Introduction\n",
    "\n",
    "> This notebook getting garphs in the Networkx format from the `Creating Graphs` notebook. And its main goal is to make the GNN model."
   ]
  },
  {
   "cell_type": "code",
   "execution_count": 1,
   "id": "849fb853",
   "metadata": {},
   "outputs": [],
   "source": [
    "# Used for vsCode only to show tqdm process\n",
    "# from IPython.core.interactiveshell import InteractiveShell\n",
    "# InteractiveShell.ast_node_interactivity = \"all\""
   ]
  },
  {
   "cell_type": "markdown",
   "id": "52912620",
   "metadata": {},
   "source": [
    "<a id='Imports'></a>\n",
    "### Imports"
   ]
  },
  {
   "cell_type": "code",
   "execution_count": 2,
   "id": "6ef47335",
   "metadata": {
    "tags": []
   },
   "outputs": [],
   "source": [
    "# Only for kaggle\n",
    "# !pip install torch_geometric"
   ]
  },
  {
   "cell_type": "code",
   "execution_count": 3,
   "id": "67cc3944",
   "metadata": {
    "tags": []
   },
   "outputs": [],
   "source": [
    "# Not included packages in kaggle\n",
    "\n",
    "# Install torch_geometric\n",
    "# !pip install /kaggle/input/torch-geometric/torch_sparse-0.6.16-cp37-cp37m-linux_x86_64.whl -q\n",
    "# !pip install /kaggle/input/torch-geometric/torch_scatter-2.1.0-cp37-cp37m-linux_x86_64.whl -q\n",
    "\n",
    "# # # library for getting distinct colores\n",
    "# !pip install distinctipy -q"
   ]
  },
  {
   "cell_type": "code",
   "execution_count": 4,
   "id": "21f601a5",
   "metadata": {
    "tags": []
   },
   "outputs": [],
   "source": [
    "# for data wrangling\n",
    "import pickle\n",
    "import networkx as nx\n",
    "import matplotlib.pyplot as plt\n",
    "import numpy as np\n",
    "import pandas as pd\n",
    "import distinctipy\n",
    "import random\n",
    "from torch_geometric.utils import from_networkx\n",
    "\n",
    "# to show advance in for loops\n",
    "from tqdm import tqdm\n",
    "\n",
    "# Using pytorch geometric\n",
    "import torch\n",
    "import torch.nn as nn\n",
    "from torch_geometric.loader import DataLoader\n",
    "from torch_geometric.data import Data, Batch\n",
    "from torch.utils.data import Dataset\n",
    "import torch_geometric.transforms as T\n",
    "\n",
    "\n",
    "# For the GNN model\n",
    "import torch.nn.functional as F\n",
    "from torch_geometric.nn import GCNConv, GATConv, global_mean_pool, global_max_pool\n",
    "\n",
    "\n",
    "# for my pc [linux]\n",
    "# url = '/media/mo/DATA/Grad/Planify_Dataset/Graph/Planify_Graphs.pkl'\n",
    "\n",
    "# for my pc [windows]\n",
    "# url = \"D:\\Grad\\Planify_Dataset\\Graph\\Planify_Graphs.pkl\"\n",
    "url_real = \"D:\\Grad\\Planify_Dataset\\Graph\\graphs\\Graphs_real.pkl\"\n",
    "url_boundary = r\"D:\\Grad\\Planify_Dataset\\Graph\\graphs\\boundaries.pkl\"\n",
    "\n",
    "# for kaggle\n",
    "# url = '/kaggle/input/planify-graphs/Planify_Graphs.pkl'"
   ]
  },
  {
   "cell_type": "markdown",
   "id": "d993568d",
   "metadata": {},
   "source": [
    "<a id='func'></a>\n",
    "### Functions used"
   ]
  },
  {
   "cell_type": "code",
   "execution_count": 5,
   "id": "441cb7a3",
   "metadata": {
    "tags": []
   },
   "outputs": [],
   "source": [
    "geoms_columns = ['inner', 'living', 'master', 'kitchen', 'bathroom', 'dining', 'child', 'study',\n",
    "                   'second_room', 'guest', 'balcony', 'storage', 'wall-in',\n",
    "                    'outer_wall', 'front', 'inner_wall', 'interior',\n",
    "                   'front_door', 'outer_wall', 'entrance']\n",
    "\n",
    "N = len(geoms_columns)\n",
    "colors = (np.array(distinctipy.get_colors(N)) * 255).astype(np.uint8)\n",
    "room_color = {room_name: colors[i] for i, room_name in enumerate(geoms_columns)}"
   ]
  },
  {
   "cell_type": "code",
   "execution_count": 6,
   "id": "cf9a39e5",
   "metadata": {
    "tags": []
   },
   "outputs": [],
   "source": [
    "def draw_graph(G):\n",
    "    #  nodes positions for drawing, note that we invert the y pos\n",
    "    pos = {node: (G.nodes[node]['actualCentroid_x'], -G.nodes[node]['actualCentroid_y']) for node in G.nodes}\n",
    "    \n",
    "    scales = [G.nodes[node]['roomSize'] * 10000 for node in G] \n",
    "    colormap = [room_color[G.nodes[node]['roomType_name']]/255 for node in G]\n",
    "    \n",
    "    nx.draw(G, pos=pos, node_size=scales, node_color=colormap, with_labels=True, font_size=12)\n",
    "    \n",
    "    # Drawing the graph inside a good boundary.\n",
    "    x_coords  = [pos[node][0] for node in pos]\n",
    "    y_coords  = [pos[node][1] for node in pos]\n",
    "    threshold = max(scales) / 100\n",
    "    \n",
    "    plt.xlim(min(x_coords) - threshold, max(x_coords) + threshold)\n",
    "    plt.ylim(min(y_coords) - threshold, max(y_coords) + threshold)\n",
    "\n",
    "\n",
    "def draw_graph_boundary(G):\n",
    "    #  nodes positions for drawing, note that we invert the y pos\n",
    "    pos = {node: (G.nodes[node]['centroid'][0], -G.nodes[node]['centroid'][1])  for node in G.nodes}\n",
    "    \n",
    "    door_color = '#90EE90'\n",
    "    other_nodes_color = '#0A2A5B'\n",
    "    color_map = [door_color if G.nodes[node]['type'] == 1 else other_nodes_color for node in G.nodes]\n",
    "    \n",
    "    nx.draw(G, pos=pos, with_labels=True, node_color=color_map, font_color='w', font_size=12)\n",
    "    \n",
    "\n",
    "\n",
    "\n",
    "# For statistics\n",
    "def get_max_min_x_y(graphs):\n",
    "    max_x = 0\n",
    "    max_y = 0\n",
    "    min_x = float('inf')\n",
    "    min_y = float('inf')\n",
    "    \n",
    "    for G in tqdm(graphs, desc=\"Getting maximum x, y\", total=len(graphs)):\n",
    "        max_x_in_graph = G.x.T[1].max().item()\n",
    "        max_y_in_graph = G.x.T[2].max().item()\n",
    "        \n",
    "        min_x_in_graph = G.x.T[1].min().item()\n",
    "        min_y_in_graph = G.x.T[2].min().item()\n",
    "        \n",
    "        if max_x_in_graph > max_x:\n",
    "            max_x = max_x_in_graph\n",
    "        if max_y_in_graph > max_y:\n",
    "            max_y = max_y_in_graph\n",
    "            \n",
    "        if min_x_in_graph < min_x:\n",
    "            min_x = min_x_in_graph\n",
    "        if min_y_in_graph < min_y:\n",
    "            min_y = min_y_in_graph\n",
    "            \n",
    "    values = {'max_x': max_x, 'max_y': max_y, 'min_x': min_x, 'min_y': min_y}\n",
    "    return values\n",
    "\n",
    "\n",
    "def get_all_x_y(Graphs_pyTorch):\n",
    "    \"\"\"Get all values of x and y from all graphs\n",
    "        Input: list of graphs\n",
    "        Output: x and y as pandas series\n",
    "    \"\"\"\n",
    "    x = []\n",
    "    y = []\n",
    "\n",
    "    for G in tqdm(Graphs_pyTorch, desc=\"getting all Xs, Ys\", total=len(Graphs_pyTorch)):\n",
    "        for i in range(len(G.x)):\n",
    "            x.append(G.x[i][1].item())\n",
    "            y.append(G.x[i][2].item())\n",
    "\n",
    "    x = pd.Series(x)\n",
    "    y = pd.Series(y)\n",
    "\n",
    "    return x, y\n",
    "\n",
    "def boxplot_centrValues(x, y):\n",
    "    fig, ax = plt.subplots()\n",
    "\n",
    "    # Plot the boxplots\n",
    "    ax.boxplot([x, y])\n",
    "\n",
    "    # Set the xtick labels\n",
    "    ax.set_xticklabels(['x', 'y'])\n",
    "\n",
    "    # Add axis labels and title\n",
    "    ax.set_xlabel('Data')\n",
    "    ax.set_ylabel('Value')\n",
    "    ax.set_title('Boxplot of x and y in all graphs')\n",
    "\n",
    "    # Show the plot\n",
    "    plt.show()\n",
    "    \n",
    "\n",
    "def plot_histograms(x, y):\n",
    "    x.hist(density=True, bins=100, alpha=0.6, label='x');\n",
    "    y.hist(density=True, bins=100, alpha=0.3, label='y');\n",
    "    plt.legend();\n",
    "    plt.title('Distribution of x and y');"
   ]
  },
  {
   "cell_type": "markdown",
   "id": "e2519899",
   "metadata": {},
   "source": [
    "<a id='wrangling'></a>\n",
    "## Data wrangling\n"
   ]
  },
  {
   "cell_type": "code",
   "execution_count": 7,
   "id": "81a204b0",
   "metadata": {
    "tags": []
   },
   "outputs": [
    {
     "name": "stdout",
     "output_type": "stream",
     "text": [
      "Graph with 8 nodes and 13 edges\n"
     ]
    }
   ],
   "source": [
    "with open(url_real, 'rb') as f:\n",
    "    Graphs = pickle.load(f)\n",
    "    \n",
    "G = Graphs[1911]\n",
    "print(G)"
   ]
  },
  {
   "cell_type": "markdown",
   "id": "0d9a56e8",
   "metadata": {
    "tags": []
   },
   "source": [
    "> Considering boundaries"
   ]
  },
  {
   "cell_type": "code",
   "execution_count": 8,
   "id": "4c5ef972",
   "metadata": {},
   "outputs": [
    {
     "name": "stdout",
     "output_type": "stream",
     "text": [
      "Graph with 9 nodes and 9 edges\n"
     ]
    }
   ],
   "source": [
    "with open(url_boundary, 'rb') as f:\n",
    "    boundaries = pickle.load(f)\n",
    "    \n",
    "b = boundaries[1911]\n",
    "print(b)"
   ]
  },
  {
   "cell_type": "code",
   "execution_count": 9,
   "id": "8f1bc4cd",
   "metadata": {},
   "outputs": [
    {
     "data": {
      "image/png": "[encoded data removed]",
      "text/plain": [
       "<Figure size 640x480 with 1 Axes>"
      ]
     },
     "metadata": {},
     "output_type": "display_data"
    }
   ],
   "source": [
    "draw_graph_boundary(b)\n",
    "draw_graph(G)"
   ]
  },
  {
   "cell_type": "code",
   "execution_count": 10,
   "id": "9d679b2b",
   "metadata": {
    "tags": []
   },
   "outputs": [
    {
     "name": "stderr",
     "output_type": "stream",
     "text": [
      "100%|██████████| 80787/80787 [00:46<00:00, 1753.79it/s]\n"
     ]
    },
    {
     "data": {
      "text/plain": [
       "Data(edge_index=[2, 18], roomType_name=[7], rec_w=[7], rec_h=[7], roomSize=[7], x=[7, 3], edge_attr=[18, 1])"
      ]
     },
     "execution_count": 10,
     "metadata": {},
     "output_type": "execute_result"
    }
   ],
   "source": [
    "# Converting networkx graphs to pytorchGeo graphs\n",
    "features = ['roomType_embd', 'actualCentroid_x', 'actualCentroid_y']\n",
    "Graphs_pyTorch = []\n",
    "for G in tqdm(Graphs):\n",
    "    G_new = from_networkx(G, group_node_attrs=features, group_edge_attrs=['distance'])\n",
    "    # Normalizing feature matrix (x)\n",
    "    # G_new = T.NormalizeFeatures()(G_new)\n",
    "    \n",
    "    Graphs_pyTorch.append(G_new)\n",
    "\n",
    "Graphs_pyTorch[0]"
   ]
  },
  {
   "cell_type": "code",
   "execution_count": 11,
   "id": "f5e5f187",
   "metadata": {},
   "outputs": [
    {
     "name": "stderr",
     "output_type": "stream",
     "text": [
      "100%|██████████| 80787/80787 [35:29<00:00, 37.93it/s]   \n"
     ]
    },
    {
     "data": {
      "text/plain": [
       "Data(edge_index=[2, 26], x=[13, 3], edge_attr=[26, 1])"
      ]
     },
     "execution_count": 11,
     "metadata": {},
     "output_type": "execute_result"
    }
   ],
   "source": [
    "# Converting networkx boundary graphs to pytorchGeo graphs\n",
    "Boundaries_pyTorch = []\n",
    "for b in tqdm(boundaries):\n",
    "    b_new = from_networkx(b, group_node_attrs=['type', 'centroid'], group_edge_attrs=['distance'])\n",
    "    \n",
    "    Boundaries_pyTorch.append(b_new)\n",
    "\n",
    "Boundaries_pyTorch[0]"
   ]
  },
  {
   "attachments": {},
   "cell_type": "markdown",
   "id": "2045ad40",
   "metadata": {},
   "source": [
    "> Statistics, To make normalization for x and y but to be able to get back to the real values"
   ]
  },
  {
   "cell_type": "code",
   "execution_count": 12,
   "id": "ad29973d",
   "metadata": {},
   "outputs": [
    {
     "name": "stderr",
     "output_type": "stream",
     "text": [
      "Getting maximum x, y: 100%|██████████| 80787/80787 [00:05<00:00, 14763.21it/s]\n"
     ]
    },
    {
     "data": {
      "text/plain": [
       "{'max_x': 239.5, 'max_y': 237.5, 'min_x': 16.0, 'min_y': 17.0}"
      ]
     },
     "execution_count": 12,
     "metadata": {},
     "output_type": "execute_result"
    }
   ],
   "source": [
    "# getting maximum and minimum x, y for all graphs\n",
    "get_max_min_x_y(Graphs_pyTorch)"
   ]
  },
  {
   "cell_type": "code",
   "execution_count": 13,
   "id": "bcf8f2a8",
   "metadata": {},
   "outputs": [
    {
     "name": "stderr",
     "output_type": "stream",
     "text": [
      "getting all Xs, Ys: 100%|██████████| 80787/80787 [00:06<00:00, 11917.60it/s]\n"
     ]
    },
    {
     "data": {
      "text/plain": [
       "(239.5, 237.5, 16.0, 17.0)"
      ]
     },
     "execution_count": 13,
     "metadata": {},
     "output_type": "execute_result"
    }
   ],
   "source": [
    "x, y = get_all_x_y(Graphs_pyTorch)\n",
    "x.max(), y.max(), x.min(), y.min()"
   ]
  },
  {
   "cell_type": "code",
   "execution_count": 14,
   "id": "e0b977d5",
   "metadata": {},
   "outputs": [
    {
     "data": {
      "image/png": "[encoded data removed]",
      "text/plain": [
       "<Figure size 640x480 with 1 Axes>"
      ]
     },
     "metadata": {},
     "output_type": "display_data"
    }
   ],
   "source": [
    "# making box plot for x and y for the graphs\n",
    "boxplot_centrValues(x, y)"
   ]
  },
  {
   "cell_type": "code",
   "execution_count": 15,
   "id": "e3f90f4f",
   "metadata": {},
   "outputs": [
    {
     "data": {
      "image/png": "[encoded data removed]",
      "text/plain": [
       "<Figure size 640x480 with 1 Axes>"
      ]
     },
     "metadata": {},
     "output_type": "display_data"
    }
   ],
   "source": [
    "plot_histograms(x, y)"
   ]
  },
  {
   "attachments": {},
   "cell_type": "markdown",
   "id": "4bb915f5",
   "metadata": {},
   "source": [
    "> And we saw the box plots so there is no outliers, and the distribution is normal\n",
    "> \n",
    "> We will use z-score normalization, by taking a general mean and std for each of x and y"
   ]
  },
  {
   "cell_type": "code",
   "execution_count": 16,
   "id": "fdc4c53a",
   "metadata": {},
   "outputs": [
    {
     "name": "stdout",
     "output_type": "stream",
     "text": [
      "And we saw the box plots so there is no outliers, and the distribution is normal\n",
      "We will use z-score normalization\n"
     ]
    }
   ],
   "source": [
    "# print(f\"Maximun x: {max_x}, Maximum y: {max_y}, Minimum x: {min_x}, Minimum y: {min_y}\")\n",
    "print(\"And we saw the box plots so there is no outliers, and the distribution is normal\")\n",
    "x_mean = x.mean()\n",
    "y_mean = y.mean()\n",
    "x_std  = x.std()\n",
    "y_std  = y.std()\n",
    "print(\"We will use z-score normalization\")"
   ]
  },
  {
   "cell_type": "markdown",
   "id": "09b0204f",
   "metadata": {},
   "source": [
    "> There are many types of `rooms` but we will give them a defualt number = 1.\n",
    "> So, also we will decrease the embedings to be between 0:6"
   ]
  },
  {
   "cell_type": "code",
   "execution_count": 17,
   "id": "3a720ad4",
   "metadata": {},
   "outputs": [
    {
     "name": "stdout",
     "output_type": "stream",
     "text": [
      "Befor: G_1 embedings are: tensor([[  0.0000,  81.9371, 137.1722],\n",
      "        [  1.0000, 181.5403, 165.1201],\n",
      "        [  3.0000, 120.7426, 100.7954],\n",
      "        [  7.0000, 132.6687, 167.8575],\n",
      "        [  7.0000, 152.0459, 100.5418],\n",
      "        [  3.0000, 192.0000, 127.0000],\n",
      "        [  2.0000,  59.5000,  55.5000],\n",
      "        [  9.0000,  77.0000, 210.5000]])\n"
     ]
    },
    {
     "name": "stderr",
     "output_type": "stream",
     "text": [
      "100%|██████████| 80787/80787 [00:06<00:00, 12104.89it/s]"
     ]
    },
    {
     "name": "stdout",
     "output_type": "stream",
     "text": [
      "After: G_1 embedings are: tensor([[  0.0000,  81.9371, 137.1722],\n",
      "        [  1.0000, 181.5403, 165.1201],\n",
      "        [  3.0000, 120.7426, 100.7954],\n",
      "        [  1.0000, 132.6687, 167.8575],\n",
      "        [  1.0000, 152.0459, 100.5418],\n",
      "        [  3.0000, 192.0000, 127.0000],\n",
      "        [  2.0000,  59.5000,  55.5000],\n",
      "        [  4.0000,  77.0000, 210.5000]])\n"
     ]
    },
    {
     "name": "stderr",
     "output_type": "stream",
     "text": [
      "\n"
     ]
    }
   ],
   "source": [
    "print(f'Befor: G_1 embedings are: {Graphs_pyTorch[1].x}')\n",
    "for G in tqdm(Graphs_pyTorch, total=len(Graphs_pyTorch)):\n",
    "    for j ,value in enumerate(G.x):\n",
    "        type_ = int(value[0].item())\n",
    "        \n",
    "        if type_ in [1, 4, 5, 6, 7, 8]:\n",
    "            G.x[j][0] = 1\n",
    "        \n",
    "        # making all labels from 0 to 6 only to help one_hotting\n",
    "        elif type_ == 9:\n",
    "            G.x[j][0] = 4\n",
    "        elif type_ == 10:\n",
    "            G.x[j][0] = 5\n",
    "        elif type_ == 11:\n",
    "            G.x[j][0] = 6\n",
    "\n",
    "\n",
    "print(f'After: G_1 embedings are: {Graphs_pyTorch[1].x}')"
   ]
  },
  {
   "attachments": {},
   "cell_type": "markdown",
   "id": "be0bd6f0-db8c-4a29-a96e-b59763961295",
   "metadata": {},
   "source": [
    "> Normalization for the centroids columns & hot encoding the type one for the graphs data."
   ]
  },
  {
   "cell_type": "code",
   "execution_count": 18,
   "id": "4bdfe3bd-d1cd-4097-b755-1429dc05c890",
   "metadata": {},
   "outputs": [
    {
     "name": "stderr",
     "output_type": "stream",
     "text": [
      "100%|██████████| 80787/80787 [00:13<00:00, 5897.01it/s]\n"
     ]
    }
   ],
   "source": [
    "for G in tqdm(Graphs_pyTorch, total=len(Graphs_pyTorch)):\n",
    "    x = G.x # The feature matrix\n",
    "    for i in [1, 2]:\n",
    "        # mean = torch.mean(x[:, i])\n",
    "        # std  = torch.std(x[:, i])\n",
    "        if i == 1:\n",
    "            mean = x_mean\n",
    "            std  = x_std\n",
    "        else:\n",
    "            mean = y_mean\n",
    "            std  = y_std\n",
    "            \n",
    "        normalized_column = (x[:, i] - mean) / std\n",
    "        G.x[:, i] = normalized_column\n",
    "    \n",
    "    # One hot encoding for the first column [type of rooms]\n",
    "    first_column_encodings = F.one_hot(G.x[:, 0].long(), 7)\n",
    "    \n",
    "    G.x = torch.cat([first_column_encodings, G.x[:, 1:]], axis=1)"
   ]
  },
  {
   "cell_type": "code",
   "execution_count": 19,
   "id": "36e3cfda",
   "metadata": {},
   "outputs": [
    {
     "name": "stdout",
     "output_type": "stream",
     "text": [
      "Now, we could return back to real values: tensor([ 81.9371, 181.5403, 120.7426, 132.6687, 152.0459, 192.0000,  59.5000,\n",
      "         77.0000])\n"
     ]
    }
   ],
   "source": [
    "print(f\"Now, we could return back to real values: {Graphs_pyTorch[1].x.T[-2] * x_std + x_mean}\")"
   ]
  },
  {
   "attachments": {},
   "cell_type": "markdown",
   "id": "e3964967",
   "metadata": {},
   "source": [
    "> Normalizing the centroid of the boundaries"
   ]
  },
  {
   "cell_type": "code",
   "execution_count": 20,
   "id": "e53c4956",
   "metadata": {},
   "outputs": [
    {
     "name": "stderr",
     "output_type": "stream",
     "text": [
      "getting all Xs, Ys: 100%|██████████| 80787/80787 [00:11<00:00, 6876.35it/s]\n"
     ]
    },
    {
     "data": {
      "text/plain": [
       "(245.0, 244.0, 12.0, 11.0)"
      ]
     },
     "execution_count": 20,
     "metadata": {},
     "output_type": "execute_result"
    }
   ],
   "source": [
    "x, y = get_all_x_y(Boundaries_pyTorch)\n",
    "x.max(), y.max(), x.min(), y.min()"
   ]
  },
  {
   "cell_type": "code",
   "execution_count": 21,
   "id": "18caf388",
   "metadata": {},
   "outputs": [
    {
     "data": {
      "image/png": "[encoded data removed]",
      "text/plain": [
       "<Figure size 640x480 with 1 Axes>"
      ]
     },
     "metadata": {},
     "output_type": "display_data"
    }
   ],
   "source": [
    "boxplot_centrValues(x, y)"
   ]
  },
  {
   "cell_type": "code",
   "execution_count": 22,
   "id": "9b507425",
   "metadata": {},
   "outputs": [
    {
     "data": {
      "image/png": "[encoded data removed]",
      "text/plain": [
       "<Figure size 640x480 with 1 Axes>"
      ]
     },
     "metadata": {},
     "output_type": "display_data"
    }
   ],
   "source": [
    "plot_histograms(x, y)"
   ]
  },
  {
   "attachments": {},
   "cell_type": "markdown",
   "id": "bf2ab2be",
   "metadata": {},
   "source": [
    "> And we saw the box plots so there is no outliers, and the distribution is normal\n",
    "> \n",
    "> We will use z-score normalization, by taking a general mean and std for each of x and y"
   ]
  },
  {
   "cell_type": "code",
   "execution_count": 23,
   "id": "87d20b36",
   "metadata": {},
   "outputs": [
    {
     "name": "stdout",
     "output_type": "stream",
     "text": [
      "And we saw the box plots so there is no outliers, and the distribution is normal\n",
      "We will use z-score normalization\n"
     ]
    }
   ],
   "source": [
    "# print(f\"Maximun x: {max_x}, Maximum y: {max_y}, Minimum x: {min_x}, Minimum y: {min_y}\")\n",
    "print(\"And we saw the box plots so there is no outliers, and the distribution is normal\")\n",
    "x_mean = x.mean()\n",
    "y_mean = y.mean()\n",
    "x_std  = x.std()\n",
    "y_std  = y.std()\n",
    "print(\"We will use z-score normalization\")"
   ]
  },
  {
   "cell_type": "code",
   "execution_count": 24,
   "id": "187af668-2b69-446e-a4f6-bd8f6526c0e0",
   "metadata": {},
   "outputs": [
    {
     "name": "stderr",
     "output_type": "stream",
     "text": [
      "100%|██████████| 80787/80787 [00:05<00:00, 14894.45it/s]\n"
     ]
    }
   ],
   "source": [
    "for b in tqdm(Boundaries_pyTorch, total=len(Boundaries_pyTorch)):\n",
    "    x = b.x # The feature matrix\n",
    "    for i in [1, 2]:\n",
    "        if i == 1:\n",
    "            mean = x_mean\n",
    "            std  = x_std\n",
    "        else:\n",
    "            mean = y_mean\n",
    "            std  = y_std\n",
    "            \n",
    "        normalized_column = (x[:, i] - mean) / std\n",
    "        b.x[:, i] = normalized_column"
   ]
  },
  {
   "cell_type": "code",
   "execution_count": 25,
   "id": "c50c2ea2",
   "metadata": {},
   "outputs": [
    {
     "name": "stdout",
     "output_type": "stream",
     "text": [
      "Now, we could return back to real values: tensor([ 48.,  48., 106., 106., 208., 208., 172., 171.,  72.,  71., 100.],\n",
      "       dtype=torch.float64)\n"
     ]
    }
   ],
   "source": [
    "print(f\"Now, we could return back to real values: {Boundaries_pyTorch[1].x.T[-2] * x_std + x_mean}\")"
   ]
  },
  {
   "cell_type": "markdown",
   "id": "bc19a0b1",
   "metadata": {},
   "source": [
    "> If we need to creat graphs with padding by the maximum number of nodes."
   ]
  },
  {
   "cell_type": "code",
   "execution_count": 26,
   "id": "bca96f38",
   "metadata": {
    "tags": []
   },
   "outputs": [],
   "source": [
    "# # but we need to do some padding to our graphs to be all of the same number of nodes.\n",
    "# padded_graphs = []\n",
    "# for G in Graphs_pyTorch:\n",
    "#     x          = G.x\n",
    "#     y          = G.roomType_embd\n",
    "#     edge_index = G.edge_index\n",
    "#     edge_attr  = G.edge_attr\n",
    "    \n",
    "#     nu_nodes = x.shape[0]\n",
    "\n",
    "#     padded_x = torch.nn.functional.pad(x, pad=(0, 0, 0, 8 - nu_nodes), mode='constant', value=0)\n",
    "#     padded_y = torch.nn.functional.pad(y, pad=(0, 8 - nu_nodes), mode='constant', value=0)\n",
    "#     train_mask   = torch.ones(nu_nodes)\n",
    "#     train_mask   = torch.nn.functional.pad(train_mask, pad=(0, 8 - nu_nodes), mode='constant', value=0).to(bool)\n",
    "\n",
    "#     data = Data(x = padded_x, y = padded_y, edge_index= G.edge_index, edge_attr = G.edge_attr, train_mask=train_mask)\n",
    "\n",
    "#     padded_graphs.append(data)\n",
    "\n",
    "# padded_graphs[0]"
   ]
  },
  {
   "cell_type": "markdown",
   "id": "03781d88",
   "metadata": {},
   "source": [
    "<a id='model'></a>\n",
    "## GNN Model"
   ]
  },
  {
   "cell_type": "markdown",
   "id": "2f1cd5f8",
   "metadata": {},
   "source": [
    "<a id='dataLoader'></a>\n",
    "### Data Loader"
   ]
  },
  {
   "cell_type": "code",
   "execution_count": 27,
   "id": "e88277ea",
   "metadata": {
    "tags": []
   },
   "outputs": [],
   "source": [
    "class Planify_Dataset(Dataset):\n",
    "    def __init__(self, Graphs, Boundaries):\n",
    "        self.Graphs = Graphs\n",
    "        self.Boundaries = Boundaries\n",
    "        self.device = torch.device('cuda' if torch.cuda.is_available() else 'cpu')\n",
    "    \n",
    "    def __len__(self):\n",
    "        return len(self.Graphs)\n",
    "\n",
    "    def __getitem__(self, index):\n",
    "        G = self.Graphs[index].clone().to(self.device)\n",
    "        B = self.Boundaries[index].clone().to(self.device)\n",
    "        B.x = B.x.to(G.x.dtype)\n",
    "        B.edge_index = B.edge_index.to(G.edge_index.dtype)\n",
    "        B.edge_attr = B.edge_attr.to(G.edge_attr.dtype)\n",
    "        \n",
    "        # shuffling nodes inside the same graph\n",
    "        permutation = torch.randperm(G.num_nodes).to(self.device)\n",
    "        \n",
    "        G.x = G.x[permutation]\n",
    "        G.edge_index = permutation[G.edge_index]\n",
    "        G.rec_w = G.rec_w[permutation]\n",
    "        G.rec_h = G.rec_h[permutation]\n",
    "        # G.edge_attr = G.edge_attr[permutation]\n",
    "        \n",
    "        # padded_x = torch.nn.functional.pad(x, pad=(0, 0, 0, 8 - nu_nodes), mode='constant', value=0)\n",
    "        # padded_y = torch.nn.functional.pad(y, pad=(0, 8 - nu_nodes), mode='constant', value=0)\n",
    "        graphs = {\n",
    "            'G': G,\n",
    "            'B': B\n",
    "        }\n",
    "        \n",
    "        return graphs"
   ]
  },
  {
   "cell_type": "code",
   "execution_count": 28,
   "id": "e63bf5fe-ce1a-47f6-a92f-c59c77e499f3",
   "metadata": {},
   "outputs": [],
   "source": [
    "edge = int(len(Graphs_pyTorch) * 0.8)"
   ]
  },
  {
   "cell_type": "code",
   "execution_count": 134,
   "id": "0f01bd03",
   "metadata": {
    "tags": []
   },
   "outputs": [],
   "source": [
    "batch_size = 1\n",
    "train_dataset = Planify_Dataset(Graphs_pyTorch[:edge], Boundaries_pyTorch[:edge])\n",
    "train_loader  = DataLoader(train_dataset, batch_size=batch_size, shuffle=True)\n",
    "\n",
    "val_dataset = Planify_Dataset(Graphs_pyTorch[edge:-10], Boundaries_pyTorch[edge:-10])\n",
    "val_loader  = DataLoader(val_dataset, batch_size=batch_size, shuffle=True)\n",
    "\n",
    "test_dataset = Planify_Dataset(Graphs_pyTorch[-10:], Boundaries_pyTorch[-10:])\n",
    "test_loader  = DataLoader(test_dataset, batch_size=batch_size, shuffle=True)"
   ]
  },
  {
   "cell_type": "code",
   "execution_count": 135,
   "id": "fc7e7933-6d23-4d0a-b4e2-baa43bc561a2",
   "metadata": {},
   "outputs": [],
   "source": [
    "# Saving model function\n",
    "import os\n",
    "\n",
    "# checkpoint_dir = '/kaggle/working/checkpoints'\n",
    "# checkpoint_dir = '/media/mo/DATA/Grad/Planify_Dataset/Graph/checkpoints'\n",
    "checkpoint_dir = \"./checkpoints\"\n",
    "\n",
    "if not os.path.exists(checkpoint_dir):\n",
    "    os.makedirs(checkpoint_dir)\n",
    "    \n",
    "\n",
    "def save_checkpoint(model, optimizer, epoch):\n",
    "    checkpoint_path = os.path.join(checkpoint_dir, f'model_epoch_{epoch}.pt')\n",
    "    # Saving model each 15 epochs\n",
    "    if epoch % 20 == 0:\n",
    "        torch.save({\n",
    "            'model_state_dict': model.state_dict(),\n",
    "            'optimizer_state_dict': optimizer.state_dict(),\n",
    "            'epoch': epoch\n",
    "        }, checkpoint_path)\n",
    "        \n",
    "        print('Model saved :)')"
   ]
  },
  {
   "cell_type": "markdown",
   "id": "111ed4e1",
   "metadata": {},
   "source": [
    "<a id='archi'></a>\n",
    "### Architecture"
   ]
  },
  {
   "cell_type": "code",
   "execution_count": 137,
   "id": "f84c9163",
   "metadata": {},
   "outputs": [
    {
     "data": {
      "text/plain": [
       "GATNet(\n",
       "  (graph_conv1): GATConv(9, 32, heads=1)\n",
       "  (graph_conv2): GATConv(32, 32, heads=8)\n",
       "  (graph_conv3): GATConv(256, 64, heads=8)\n",
       "  (graph_conv4): GATConv(512, 128, heads=8)\n",
       "  (graph_conv5): GATConv(1024, 128, heads=8)\n",
       "  (boundary_conv1): GATConv(3, 32, heads=1)\n",
       "  (boundary_conv2): GATConv(32, 32, heads=8)\n",
       "  (boundary_conv3): GATConv(256, 64, heads=8)\n",
       "  (boundary_conv4): GATConv(512, 128, heads=8)\n",
       "  (boundary_conv5): GATConv(1024, 128, heads=8)\n",
       "  (lin1): Linear(in_features=2057, out_features=32, bias=True)\n",
       "  (lin2): Linear(in_features=32, out_features=2, bias=True)\n",
       "  (boundary_pool): AdaptiveAvgPool1d(output_size=1)\n",
       ")"
      ]
     },
     "execution_count": 137,
     "metadata": {},
     "output_type": "execute_result"
    }
   ],
   "source": [
    "from torch_geometric.nn import GlobalAttention\n",
    "from torch_geometric.nn.dense import DenseGCNConv\n",
    "\n",
    "class GATNet(torch.nn.Module):\n",
    "    def __init__(self, num_graph_node_features, num_boundary_node_features):\n",
    "        super(GATNet, self).__init__()\n",
    "        \n",
    "        self.graph_conv1 = GATConv(num_graph_node_features, 32)\n",
    "        self.graph_conv2 = GATConv(32, 32, heads=8)\n",
    "        self.graph_conv3 = GATConv(32*8, 64, heads=8)\n",
    "        self.graph_conv4 = GATConv(64*8, 128, heads=8)\n",
    "        self.graph_conv5 = GATConv(128*8, 128, heads=8)\n",
    "        \n",
    "        self.boundary_conv1 = GATConv(num_boundary_node_features, 32)\n",
    "        self.boundary_conv2 = GATConv(32, 32, heads=8)\n",
    "        self.boundary_conv3 = GATConv(32*8, 64, heads=8)\n",
    "        self.boundary_conv4 = GATConv(64*8, 128, heads=8)\n",
    "        self.boundary_conv5 = GATConv(128*8, 128, heads=8)\n",
    "        \n",
    "        inputs_lin1 = 128*8 + 128*8 + num_graph_node_features # Output of conv5 + output of boundary_conv5 + step connection from real nodes.\n",
    "        self.lin1 = torch.nn.Linear(inputs_lin1, 32)\n",
    "        self.lin2 = torch.nn.Linear(32, 2)\n",
    "        \n",
    "        \n",
    "        self.boundary_pool = torch.nn.AdaptiveAvgPool1d(1)\n",
    "\n",
    "    def forward(self, graph, boundary):\n",
    "        x_graph, g_edge_index, g_edge_attr, g_batch = graph.x, graph.edge_index, graph.edge_attr, graph.batch\n",
    "        x_boundary, b_edge_indexy, b_edge_attr, b_batch = boundary.x, boundary.edge_index, boundary.edge_attr, boundary.batch\n",
    "        \n",
    "        NUM_OF_NODES = x_graph.shape[0]\n",
    "        # During testing, as we input only one graph.\n",
    "        if g_batch == None:\n",
    "            g_batch = torch.zeros(x_graph.shape[0], dtype=torch.long)\n",
    "        if b_batch == None:\n",
    "            b_batch = torch.zeros(x_boundary.shape[0], dtype=torch.long)\n",
    "        \n",
    "        \n",
    "        x_res = x_graph\n",
    "        \n",
    "        # Passing the graph throught a message passing to embed its features\n",
    "        x_graph = F.relu(self.graph_conv1(x_graph, g_edge_index))\n",
    "        x_graph = F.relu(self.graph_conv2(x_graph, g_edge_index))\n",
    "        x_graph = F.relu(self.graph_conv3(x_graph, g_edge_index))\n",
    "        x_graph = F.relu(self.graph_conv4(x_graph, g_edge_index))\n",
    "        x_graph = F.relu(self.graph_conv5(x_graph, g_edge_index))\n",
    "\n",
    "        \n",
    "        # Concatinate with step connection from real values.\n",
    "        x_graph = torch.cat([x_graph, x_res], dim=1)\n",
    "        \n",
    "        # Passing the boundary throught a message passing to embed its features\n",
    "        x_boundary = F.relu(self.boundary_conv1(x_boundary, b_edge_indexy))\n",
    "        x_boundary = F.relu(self.boundary_conv2(x_boundary, b_edge_indexy))\n",
    "        x_boundary = F.relu(self.boundary_conv3(x_boundary, b_edge_indexy))\n",
    "        x_boundary = F.relu(self.boundary_conv4(x_boundary, b_edge_indexy))\n",
    "        x_boundary = F.relu(self.boundary_conv5(x_boundary, b_edge_indexy))\n",
    "        \n",
    "        # Pooling the bounadry to 1D vector by getting max value in each feature for all nodes.\n",
    "        x_boundary_pooled = F.max_pool1d(x_boundary.transpose(0, 1), kernel_size=x_boundary.shape[0]).view(1, -1)\n",
    "        \n",
    "        # Concatinating the graph & the boundary\n",
    "        x = torch.cat([x_graph, x_boundary_pooled.repeat(NUM_OF_NODES, 1)], dim=1)\n",
    "        \n",
    "        x = F.relu(self.lin1(x))\n",
    "        x = self.lin2(x)\n",
    "        \n",
    "        return x\n",
    "\n",
    "num_graph_node_features = Graphs_pyTorch[0].x.shape[1]\n",
    "num_boundary_node_features = Boundaries_pyTorch[0].x.shape[1]\n",
    "\n",
    "model = GATNet(num_graph_node_features, num_boundary_node_features)\n",
    "\n",
    "device = torch.device('cuda' if torch.cuda.is_available() else 'cpu')\n",
    "model = model.to(device)\n",
    "\n",
    "# to monitor the loss & accuracy.\n",
    "errors = []\n",
    "acc = []\n",
    "\n",
    "model"
   ]
  },
  {
   "cell_type": "code",
   "execution_count": 138,
   "id": "4dd954fe",
   "metadata": {},
   "outputs": [],
   "source": [
    "# Hyperparameters\n",
    "learning_rate = 0.001\n",
    "nu_epochs = 2\n",
    "\n",
    "optimizer = torch.optim.Adam(model.parameters(), lr=learning_rate)\n",
    "criterion = nn.MSELoss()\n",
    "\n",
    "scheduler = torch.optim.lr_scheduler.StepLR(optimizer, step_size=7, gamma=0.972)\n",
    "\n",
    "# def scheduler(epoch, lr)\n",
    "#     if epoch < 20:\n",
    "#         return lr\n",
    "#     else:\n",
    "#         return lr * 0.99"
   ]
  },
  {
   "cell_type": "markdown",
   "id": "271a7b40",
   "metadata": {
    "tags": []
   },
   "source": [
    "<a id='train'></a>\n",
    "### Training\n"
   ]
  },
  {
   "cell_type": "code",
   "execution_count": 139,
   "id": "d9a39a37-e8b9-46f1-b39a-09c57295a46e",
   "metadata": {},
   "outputs": [
    {
     "name": "stderr",
     "output_type": "stream",
     "text": [
      "Planifying: 100%|██████████| 64629/64629 [58:49<00:00, 18.31it/s]  \n"
     ]
    },
    {
     "name": "stdout",
     "output_type": "stream",
     "text": [
      "tensor([128.,  76.], device='cuda:0')\n",
      "tensor([110.1447,  80.7645], device='cuda:0', grad_fn=<SliceBackward0>)\n",
      "Model saved :)\n",
      "Epoch: 1/2 | lr: 0.001 | avg_loss: 209.82221\n"
     ]
    },
    {
     "name": "stderr",
     "output_type": "stream",
     "text": [
      "Planifying: 100%|██████████| 64629/64629 [1:03:24<00:00, 16.99it/s]"
     ]
    },
    {
     "name": "stdout",
     "output_type": "stream",
     "text": [
      "tensor([53., 46.], device='cuda:0')\n",
      "tensor([43.8317, 49.2730], device='cuda:0', grad_fn=<SliceBackward0>)\n",
      "Epoch: 2/2 | lr: 0.001 | avg_loss: 145.16769\n"
     ]
    },
    {
     "name": "stderr",
     "output_type": "stream",
     "text": [
      "\n"
     ]
    }
   ],
   "source": [
    "for epoch in range(nu_epochs):\n",
    "    running_loss = 0.0\n",
    "    train_acc    = 0.0\n",
    "    for i, data in tqdm(enumerate(train_loader), desc='Planifying', total=len(train_loader)):\n",
    "        optimizer.zero_grad()\n",
    "        # Forward pass\n",
    "        graph, boundary = data['G'], data['B']\n",
    "        \n",
    "        logits    = model(graph, boundary)\n",
    "        # computing loss through crossEntropy loss function\n",
    "        targets = torch.cat((graph.rec_w.unsqueeze(1), graph.rec_h.unsqueeze(1)), dim=1)\n",
    "        # print(logits.shape, targets.shape)\n",
    "        loss = criterion(logits, targets)\n",
    "        \n",
    "        # Backward pass\n",
    "        loss.backward()\n",
    "        \n",
    "        # Updating parameters\n",
    "        optimizer.step()\n",
    "        # current_lr = optimizer.param_groups[0]['lr']\n",
    "        # optimizer = torch.optim.Adam(model.parameters(), lr=scheduler(epoch, current_lr))\n",
    "        \n",
    "        # Monitoring\n",
    "        running_loss += loss.item()\n",
    "        # train_acc += (torch.argmax(logits, 1).flatten() == data.roomType_embd).type(torch.float).mean().item()\n",
    "        lr = optimizer.param_groups[0]['lr']\n",
    "    \n",
    "    # model.regreetor.reset_parameters()\n",
    "    \n",
    "    print(targets[0, :])\n",
    "    print(logits[0, :])\n",
    "    \n",
    "    errors.append(running_loss/batch_size)\n",
    "    # acc.append(train_acc/batch_size)\n",
    "    \n",
    "    # Updating scheduler each 15 epochs.\n",
    "    # scheduler.step()\n",
    "    \n",
    "    # Saving the model.\n",
    "    save_checkpoint(model, optimizer, epoch)\n",
    "    \n",
    "    # Monitoring and printing.\n",
    "    batch_size = len(train_loader)\n",
    "    print(f'Epoch: {epoch + 1}/{nu_epochs} | lr: {lr} | avg_loss: {running_loss/batch_size:.5f}')"
   ]
  },
  {
   "cell_type": "code",
   "execution_count": 142,
   "id": "8a78ece4",
   "metadata": {},
   "outputs": [
    {
     "name": "stdout",
     "output_type": "stream",
     "text": [
      "{'G': DataBatch(edge_index=[2, 18], roomType_name=[1], rec_w=[7], rec_h=[7], roomSize=[7], x=[7, 9], edge_attr=[18, 1], batch=[7], ptr=[2]), 'B': DataBatch(edge_index=[2, 26], x=[13, 3], edge_attr=[26, 1], batch=[13], ptr=[2])}\n"
     ]
    },
    {
     "ename": "KeyError",
     "evalue": "0",
     "output_type": "error",
     "traceback": [
      "\u001b[1;31m---------------------------------------------------------------------------\u001b[0m",
      "\u001b[1;31mKeyError\u001b[0m                                  Traceback (most recent call last)",
      "Cell \u001b[1;32mIn[142], line 3\u001b[0m\n\u001b[0;32m      1\u001b[0m \u001b[39mfor\u001b[39;00m l \u001b[39min\u001b[39;00m test_loader:\n\u001b[0;32m      2\u001b[0m     \u001b[39mprint\u001b[39m(l)\n\u001b[1;32m----> 3\u001b[0m     l \u001b[39m=\u001b[39m l[\u001b[39m0\u001b[39;49m] \u001b[39m# first G, B in the loader\u001b[39;00m\n\u001b[0;32m      5\u001b[0m     g \u001b[39m=\u001b[39m l[\u001b[39m'\u001b[39m\u001b[39mG\u001b[39m\u001b[39m'\u001b[39m]\n\u001b[0;32m      6\u001b[0m     b \u001b[39m=\u001b[39m l[\u001b[39m'\u001b[39m\u001b[39mB\u001b[39m\u001b[39m'\u001b[39m]\n",
      "\u001b[1;31mKeyError\u001b[0m: 0"
     ]
    }
   ],
   "source": []
  },
  {
   "cell_type": "code",
   "execution_count": 143,
   "id": "b3332b4e",
   "metadata": {},
   "outputs": [
    {
     "data": {
      "text/plain": [
       "(tensor([[124., 134.],\n",
       "         [ 41.,  55.],\n",
       "         [ 23.,  38.],\n",
       "         [ 24.,  33.],\n",
       "         [ 38.,  38.],\n",
       "         [ 33.,  38.],\n",
       "         [ 24.,  16.]], device='cuda:0'),\n",
       " tensor([[ 43,  59],\n",
       "         [ 49,  17],\n",
       "         [ 33,  33],\n",
       "         [ 39,  49],\n",
       "         [ 24,  28],\n",
       "         [ 69, 121]], device='cuda:0', dtype=torch.int32))"
      ]
     },
     "execution_count": 143,
     "metadata": {},
     "output_type": "execute_result"
    }
   ],
   "source": [
    "for l in test_loader:\n",
    "    g = l['G']\n",
    "    b = l['B']\n",
    "    \n",
    "    res = model(g, b)\n",
    "    break\n",
    "\n",
    "\n",
    "graph = Graphs_pyTorch[0]\n",
    "target = torch.cat((graph.rec_w.unsqueeze(1), graph.rec_h.unsqueeze(1)), dim=1)\n",
    "target, res.int()"
   ]
  }
 ],
 "metadata": {
  "kernelspec": {
   "display_name": "Python 3 (ipykernel)",
   "language": "python",
   "name": "python3"
  },
  "language_info": {
   "codemirror_mode": {
    "name": "ipython",
    "version": 3
   },
   "file_extension": ".py",
   "mimetype": "text/x-python",
   "name": "python",
   "nbconvert_exporter": "python",
   "pygments_lexer": "ipython3",
   "version": "3.9.16"
  },
  "vscode": {
   "interpreter": {
    "hash": "916dbcbb3f70747c44a77c7bcd40155683ae19c65e1c03b4aa3499c5328201f1"
   }
  }
 },
 "nbformat": 4,
 "nbformat_minor": 5
}
