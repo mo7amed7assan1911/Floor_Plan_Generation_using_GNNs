{
 "cells": [
  {
   "cell_type": "markdown",
   "id": "88f1eb50",
   "metadata": {},
   "source": [
    "# Planify - Graph Neural Network\n",
    "\n",
    "### Table of Contents\n",
    "<ul>\n",
    "<li><a href=\"#intro\">Introduction</a></li>\n",
    "    <ul>\n",
    "        <li><a href=\"#Imports\">Imports</a></li>\n",
    "        <li><a href=\"#func\">Functions used</a></li>\n",
    "    </ul>\n",
    "<li><a href=\"#wrangling\">Data Wrangling</a></li>\n",
    "<li><a href=\"#model\">GNN Model</a></li>\n",
    "    <ul>\n",
    "        <li><a href=\"#dataLoader\">Data Loader</a></li>\n",
    "        <li><a href=\"#archi\">Architecture</a></li>\n",
    "        <li><a href=\"#train\">Training</a></li> \n",
    "        <li><a href=\"#eval\">Evaluation</a></li>\n",
    "    </ul>\n",
    "</ul>"
   ]
  },
  {
   "cell_type": "markdown",
   "id": "c612d2c6",
   "metadata": {},
   "source": [
    "<a id='intro'></a>\n",
    "## Introduction\n",
    "\n",
    "> This notebook getting garphs in the Networkx format from the `Creating Graphs` notebook. And its main goal is to make the GNN model."
   ]
  },
  {
   "cell_type": "code",
   "execution_count": 3,
   "id": "849fb853",
   "metadata": {},
   "outputs": [],
   "source": [
    "# Used for vsCode only to show tqdm process\n",
    "# from IPython.core.interactiveshell import InteractiveShell\n",
    "# InteractiveShell.ast_node_interactivity = \"all\""
   ]
  },
  {
   "cell_type": "markdown",
   "id": "52912620",
   "metadata": {},
   "source": [
    "<a id='Imports'></a>\n",
    "### Imports"
   ]
  },
  {
   "cell_type": "code",
   "execution_count": 4,
   "id": "6ef47335",
   "metadata": {
    "tags": []
   },
   "outputs": [],
   "source": [
    "# Only for kaggle\n",
    "# !pip install torch_geometric"
   ]
  },
  {
   "cell_type": "code",
   "execution_count": 5,
   "id": "67cc3944",
   "metadata": {
    "tags": []
   },
   "outputs": [],
   "source": [
    "# Not included packages in kaggle\n",
    "\n",
    "# Install torch_geometric\n",
    "# !pip install /kaggle/input/torch-geometric/torch_sparse-0.6.16-cp37-cp37m-linux_x86_64.whl -q\n",
    "# !pip install /kaggle/input/torch-geometric/torch_scatter-2.1.0-cp37-cp37m-linux_x86_64.whl -q\n",
    "\n",
    "# # # library for getting distinct colores\n",
    "!pip install distinctipy -q"
   ]
  },
  {
   "cell_type": "code",
   "execution_count": 1,
   "id": "21f601a5",
   "metadata": {
    "tags": []
   },
   "outputs": [],
   "source": [
    "# for data wrangling\n",
    "import pickle\n",
    "import networkx as nx\n",
    "import matplotlib.pyplot as plt\n",
    "import numpy as np\n",
    "import distinctipy\n",
    "import random\n",
    "from torch_geometric.utils import from_networkx\n",
    "\n",
    "# to show advance in for loops\n",
    "from tqdm import tqdm\n",
    "\n",
    "# Using pytorch geometric\n",
    "import torch\n",
    "import torch.nn as nn\n",
    "from torch_geometric.loader import DataLoader\n",
    "from torch_geometric.data import Data, Batch\n",
    "from torch.utils.data import Dataset\n",
    "import torch_geometric.transforms as T\n",
    "\n",
    "\n",
    "# For the GNN model\n",
    "import torch.nn.functional as F\n",
    "from torch_geometric.nn import GCNConv, GATConv, global_mean_pool, global_max_pool\n",
    "\n",
    "\n",
    "# for my pc [linux]\n",
    "# url = '/media/mo/DATA/Grad/Planify_Dataset/Graph/Planify_Graphs.pkl'\n",
    "\n",
    "# for my pc [windows]\n",
    "url = \"D:\\Grad\\Planify_Dataset\\Graph\\Planify_Graphs.pkl\"\n",
    "\n",
    "# for kaggle\n",
    "# url = '/kaggle/input/planify-graphs/Planify_Graphs.pkl'"
   ]
  },
  {
   "cell_type": "markdown",
   "id": "d993568d",
   "metadata": {},
   "source": [
    "<a id='func'></a>\n",
    "### Functions used"
   ]
  },
  {
   "cell_type": "code",
   "execution_count": 2,
   "id": "441cb7a3",
   "metadata": {
    "tags": []
   },
   "outputs": [],
   "source": [
    "geoms_columns = ['inner', 'living', 'master', 'kitchen', 'bathroom', 'dining', 'child', 'study',\n",
    "                   'second_room', 'guest', 'balcony', 'storage', 'wall-in',\n",
    "                    'outer_wall', 'front', 'inner_wall', 'interior',\n",
    "                   'front_door', 'outer_wall', 'entrance']\n",
    "\n",
    "N = len(geoms_columns)\n",
    "colors = (np.array(distinctipy.get_colors(N)) * 255).astype(np.uint8)\n",
    "room_color = {room_name: colors[i] for i, room_name in enumerate(geoms_columns)}"
   ]
  },
  {
   "cell_type": "code",
   "execution_count": 3,
   "id": "cf9a39e5",
   "metadata": {
    "tags": []
   },
   "outputs": [],
   "source": [
    "def draw_graph(G):\n",
    "    #  nodes positions for drawing, note that we invert the y pos\n",
    "    pos = {node: (G.nodes[node]['actualCentroid_x'], -G.nodes[node]['actualCentroid_y']) for node in G.nodes}\n",
    "    \n",
    "    scales = [G.nodes[node]['roomSize'] * 10000 for node in G] \n",
    "    colormap = [room_color[G.nodes[node]['roomType_name']]/255 for node in G]\n",
    "    \n",
    "    nx.draw(G, pos=pos, node_size=scales, node_color=colormap, with_labels=True, font_size=12)\n",
    "    \n",
    "    # Drawing the graph inside a good boundary.\n",
    "    x_coords  = [pos[node][0] for node in pos]\n",
    "    y_coords  = [pos[node][1] for node in pos]\n",
    "    threshold = max(scales) / 100\n",
    "    \n",
    "    plt.xlim(min(x_coords) - threshold, max(x_coords) + threshold)\n",
    "    plt.ylim(min(y_coords) - threshold, max(y_coords) + threshold)\n",
    "\n",
    "\n",
    "def collate_fn(graphs_list):\n",
    "    batch = Batch.from_data_list([Data.from_(g) for g in graphs_list])\n",
    "    return batch"
   ]
  },
  {
   "cell_type": "markdown",
   "id": "e2519899",
   "metadata": {},
   "source": [
    "<a id='wrangling'></a>\n",
    "## Data wrangling\n"
   ]
  },
  {
   "cell_type": "code",
   "execution_count": 4,
   "id": "81a204b0",
   "metadata": {
    "tags": []
   },
   "outputs": [
    {
     "name": "stdout",
     "output_type": "stream",
     "text": [
      "Graph with 7 nodes and 9 edges\n"
     ]
    },
    {
     "data": {
      "image/png": "[encoded data removed]",
      "text/plain": [
       "<Figure size 640x480 with 1 Axes>"
      ]
     },
     "metadata": {},
     "output_type": "display_data"
    }
   ],
   "source": [
    "with open(url, 'rb') as f:\n",
    "    Graphs = pickle.load(f)\n",
    "    \n",
    "G = Graphs[1911]\n",
    "print(G)\n",
    "draw_graph(G)"
   ]
  },
  {
   "cell_type": "code",
   "execution_count": 5,
   "id": "0d9a56e8",
   "metadata": {
    "tags": []
   },
   "outputs": [],
   "source": [
    "features = ['roomType_embd', 'actualCentroid_x', 'actualCentroid_y']"
   ]
  },
  {
   "cell_type": "code",
   "execution_count": 6,
   "id": "9d679b2b",
   "metadata": {
    "tags": []
   },
   "outputs": [
    {
     "name": "stderr",
     "output_type": "stream",
     "text": [
      "100%|████████████████████████████████| 80788/80788 [00:41<00:00, 1937.12it/s]\n"
     ]
    },
    {
     "data": {
      "text/plain": [
       "Data(edge_index=[2, 12], roomType_name=[5], rec_w=[5], rec_h=[5], roomSize=[5], x=[5, 3], edge_attr=[12, 1])"
      ]
     },
     "execution_count": 6,
     "metadata": {},
     "output_type": "execute_result"
    }
   ],
   "source": [
    "# Converting networkx graphs to pytorchGeo graphs\n",
    "Graphs_pyTorch = []\n",
    "for G in tqdm(Graphs):\n",
    "    G_new = from_networkx(G, group_node_attrs=features, group_edge_attrs=['dist'])\n",
    "    # Normalizing feature matrix (x)\n",
    "    # G_new = T.NormalizeFeatures()(G_new)\n",
    "    \n",
    "    Graphs_pyTorch.append(G_new)\n",
    "\n",
    "Graphs_pyTorch[0]"
   ]
  },
  {
   "cell_type": "markdown",
   "id": "09b0204f",
   "metadata": {},
   "source": [
    "> There are many types of `rooms` but we will give them a defualt number = 1.\n",
    "> So, also we will decrease the embedings to be between 0:6"
   ]
  },
  {
   "cell_type": "code",
   "execution_count": 7,
   "id": "3a720ad4",
   "metadata": {},
   "outputs": [
    {
     "name": "stdout",
     "output_type": "stream",
     "text": [
      "Befor: G_1 embedings are: tensor([[  0.0000, 126.9323, 119.2773],\n",
      "        [  1.0000, 116.0000, 197.5000],\n",
      "        [  2.0000, 179.0000,  42.0000],\n",
      "        [  3.0000, 206.9337,  78.3202],\n",
      "        [  7.0000,  80.5000,  75.5000],\n",
      "        [  7.0000, 127.6623,  55.4979],\n",
      "        [  9.0000,  44.5000, 134.5000],\n",
      "        [ 10.0000, 138.5000,  92.5000]])\n"
     ]
    },
    {
     "name": "stderr",
     "output_type": "stream",
     "text": [
      "100%|███████████████████████████████| 80788/80788 [00:05<00:00, 15623.69it/s]"
     ]
    },
    {
     "name": "stdout",
     "output_type": "stream",
     "text": [
      "After: G_1 embedings are: tensor([[  0.0000, 126.9323, 119.2773],\n",
      "        [  1.0000, 116.0000, 197.5000],\n",
      "        [  2.0000, 179.0000,  42.0000],\n",
      "        [  3.0000, 206.9337,  78.3202],\n",
      "        [  1.0000,  80.5000,  75.5000],\n",
      "        [  1.0000, 127.6623,  55.4979],\n",
      "        [  4.0000,  44.5000, 134.5000],\n",
      "        [  5.0000, 138.5000,  92.5000]])\n"
     ]
    },
    {
     "name": "stderr",
     "output_type": "stream",
     "text": [
      "\n"
     ]
    }
   ],
   "source": [
    "print(f'Befor: G_1 embedings are: {Graphs_pyTorch[1].x}')\n",
    "for G in tqdm(Graphs_pyTorch, total=len(Graphs_pyTorch)):\n",
    "    for j ,value in enumerate(G.x):\n",
    "        type_ = int(value[0].item())\n",
    "        \n",
    "        if type_ in [1, 4, 5, 6, 7, 8]:\n",
    "            G.x[j][0] = 1\n",
    "        \n",
    "        # making all labels from 0 to 6 only to help one_hotting\n",
    "        elif type_ == 9:\n",
    "            G.x[j][0] = 4\n",
    "        elif type_ == 10:\n",
    "            G.x[j][0] = 5\n",
    "        elif type_ == 11:\n",
    "            G.x[j][0] = 6\n",
    "\n",
    "    # G = T.NormalizeFeatures()(G)\n",
    "    \n",
    "print(f'After: G_1 embedings are: {Graphs_pyTorch[1].x}')"
   ]
  },
  {
   "cell_type": "code",
   "execution_count": 212,
   "id": "4bdfe3bd-d1cd-4097-b755-1429dc05c890",
   "metadata": {},
   "outputs": [],
   "source": [
    "for G in Graphs_pyTorch:\n",
    "    x = G.x\n",
    "    min_vals = torch.min(x, dim=0)[0]\n",
    "    max_vals = torch.max(x, dim=0)[0]\n",
    "    x_normalized = (x - x.min(dim=0).values) / (x.max(dim=0).values - x.min(dim=0).values)\n",
    "    G.x = x_normalized"
   ]
  },
  {
   "cell_type": "markdown",
   "id": "bc19a0b1",
   "metadata": {},
   "source": [
    "> If we need to creat graphs with padding by the maximum number of nodes."
   ]
  },
  {
   "cell_type": "code",
   "execution_count": 13,
   "id": "bca96f38",
   "metadata": {
    "tags": []
   },
   "outputs": [],
   "source": [
    "# # but we need to do some padding to our graphs to be all of the same number of nodes.\n",
    "# padded_graphs = []\n",
    "# for G in Graphs_pyTorch:\n",
    "#     x          = G.x\n",
    "#     y          = G.roomType_embd\n",
    "#     edge_index = G.edge_index\n",
    "#     edge_attr  = G.edge_attr\n",
    "    \n",
    "#     nu_nodes = x.shape[0]\n",
    "\n",
    "#     padded_x = torch.nn.functional.pad(x, pad=(0, 0, 0, 8 - nu_nodes), mode='constant', value=0)\n",
    "#     padded_y = torch.nn.functional.pad(y, pad=(0, 8 - nu_nodes), mode='constant', value=0)\n",
    "#     train_mask   = torch.ones(nu_nodes)\n",
    "#     train_mask   = torch.nn.functional.pad(train_mask, pad=(0, 8 - nu_nodes), mode='constant', value=0).to(bool)\n",
    "\n",
    "#     data = Data(x = padded_x, y = padded_y, edge_index= G.edge_index, edge_attr = G.edge_attr, train_mask=train_mask)\n",
    "\n",
    "#     padded_graphs.append(data)\n",
    "\n",
    "# padded_graphs[0]"
   ]
  },
  {
   "cell_type": "markdown",
   "id": "03781d88",
   "metadata": {},
   "source": [
    "<a id='model'></a>\n",
    "## GNN Model"
   ]
  },
  {
   "cell_type": "markdown",
   "id": "2f1cd5f8",
   "metadata": {},
   "source": [
    "<a id='dataLoader'></a>\n",
    "### Data Loader"
   ]
  },
  {
   "cell_type": "code",
   "execution_count": 106,
   "id": "e88277ea",
   "metadata": {
    "tags": []
   },
   "outputs": [],
   "source": [
    "class Planify_Dataset(Dataset):\n",
    "    def __init__(self, data):\n",
    "        self.Graphs = data\n",
    "    \n",
    "    def __len__(self):\n",
    "        return len(self.Graphs)\n",
    "\n",
    "    def __getitem__(self, index):\n",
    "        G = self.Graphs[index].clone().to(device)\n",
    "        # shuffling nodes inside the same graph\n",
    "        permutation = torch.randperm(G.num_nodes).to(device)\n",
    "        \n",
    "        G.x = G.x[permutation]\n",
    "        G.edge_index = permutation[G.edge_index]\n",
    "        G.rec_w = G.rec_w[permutation]\n",
    "        G.rec_h = G.rec_h[permutation]\n",
    "        # padded_x = torch.nn.functional.pad(x, pad=(0, 0, 0, 8 - nu_nodes), mode='constant', value=0)\n",
    "        # padded_y = torch.nn.functional.pad(y, pad=(0, 8 - nu_nodes), mode='constant', value=0)\n",
    "        return G"
   ]
  },
  {
   "cell_type": "code",
   "execution_count": 9,
   "id": "e63bf5fe-ce1a-47f6-a92f-c59c77e499f3",
   "metadata": {},
   "outputs": [],
   "source": [
    "edge = int(len(Graphs_pyTorch) * 0.8)"
   ]
  },
  {
   "cell_type": "code",
   "execution_count": 107,
   "id": "0f01bd03",
   "metadata": {
    "tags": []
   },
   "outputs": [],
   "source": [
    "# There is a problem here, the first graph has this problem on my device [windows]\n",
    "\n",
    "batch_size = 128\n",
    "train_dataset = Planify_Dataset(Graphs_pyTorch[:edge])\n",
    "train_loader  = DataLoader(train_dataset, batch_size=batch_size, shuffle=False)\n",
    "\n",
    "test_dataset = Planify_Dataset(Graphs_pyTorch[edge:])\n",
    "test_loader  = DataLoader(test_dataset, batch_size=batch_size, shuffle=False)"
   ]
  },
  {
   "cell_type": "code",
   "execution_count": 108,
   "id": "fc7e7933-6d23-4d0a-b4e2-baa43bc561a2",
   "metadata": {},
   "outputs": [],
   "source": [
    "# Saving model function\n",
    "import os\n",
    "\n",
    "# checkpoint_dir = '/kaggle/working/checkpoints'\n",
    "# checkpoint_dir = '/media/mo/DATA/Grad/Planify_Dataset/Graph/checkpoints'\n",
    "checkpoint_dir = \"./checkpoints\"\n",
    "\n",
    "if not os.path.exists(checkpoint_dir):\n",
    "    os.makedirs(checkpoint_dir)\n",
    "    \n",
    "\n",
    "def save_checkpoint(model, optimizer, epoch):\n",
    "    checkpoint_path = os.path.join(checkpoint_dir, f'model_epoch_{epoch}.pt')\n",
    "    # Saving model each 15 epochs\n",
    "    if epoch % 20 == 0:\n",
    "        torch.save({\n",
    "            'model_state_dict': model.state_dict(),\n",
    "            'optimizer_state_dict': optimizer.state_dict(),\n",
    "            'epoch': epoch\n",
    "        }, checkpoint_path)\n",
    "        \n",
    "        print('Model saved :)')"
   ]
  },
  {
   "cell_type": "markdown",
   "id": "111ed4e1",
   "metadata": {},
   "source": [
    "<a id='archi'></a>\n",
    "### Architecture"
   ]
  },
  {
   "cell_type": "code",
   "execution_count": 109,
   "id": "af6ea4d0-7ac4-40aa-867f-7aa82b5c44a8",
   "metadata": {},
   "outputs": [
    {
     "data": {
      "text/plain": [
       "GATNet(\n",
       "  (conv1): GATConv(3, 32, heads=8)\n",
       "  (conv2): GATConv(256, 64, heads=8)\n",
       "  (lin1): Linear(in_features=512, out_features=32, bias=True)\n",
       "  (lin2): Linear(in_features=32, out_features=2, bias=True)\n",
       ")"
      ]
     },
     "execution_count": 109,
     "metadata": {},
     "output_type": "execute_result"
    }
   ],
   "source": [
    "from torch_geometric.nn import GlobalAttention\n",
    "\n",
    "class GATNet(torch.nn.Module):\n",
    "    def __init__(self, num_node_features):\n",
    "        super(GATNet, self).__init__()\n",
    "        self.conv1 = GATConv(num_node_features, 32, heads=8, dropout=0.2)\n",
    "        self.conv2 = GATConv(32*8, 64, heads=8, dropout=0.2)\n",
    "        self.lin1 = torch.nn.Linear(64*8, 32)\n",
    "        self.lin2 = torch.nn.Linear(32, 2)\n",
    "\n",
    "    def forward(self, x, edge_index, batch):\n",
    "        if batch == None:\n",
    "            batch = torch.zeros(G22.x.shape[0], dtype=torch.long)\n",
    "        \n",
    "        x = F.relu(self.conv1(x, edge_index))\n",
    "        x = F.relu(self.conv2(x, edge_index))\n",
    "        # x = torch_geometric.nn.global_mean_pool(x, batch) # global mean pooling\n",
    "        x = F.relu(self.lin1(x))\n",
    "        x = self.lin2(x)\n",
    "        return x\n",
    "\n",
    "model = GATNet(3)\n",
    "device = torch.device('cuda' if torch.cuda.is_available() else 'cpu')\n",
    "model = model.to(device)\n",
    "\n",
    "# to monitor the loss & accuracy.\n",
    "errors = []\n",
    "acc = []\n",
    "\n",
    "model"
   ]
  },
  {
   "cell_type": "code",
   "execution_count": 114,
   "id": "2684a77e",
   "metadata": {
    "tags": []
   },
   "outputs": [],
   "source": [
    "# Hyperparameters\n",
    "learning_rate = 0.001\n",
    "nu_epochs = 50\n",
    "\n",
    "optimizer = torch.optim.Adam(model.parameters(), lr=learning_rate)\n",
    "criterion = nn.MSELoss()\n",
    "\n",
    "scheduler = torch.optim.lr_scheduler.StepLR(optimizer, step_size=7, gamma=0.972)\n",
    "\n",
    "# def scheduler(epoch, lr)\n",
    "#     if epoch < 20:\n",
    "#         return lr\n",
    "#     else:\n",
    "#         return lr * 0.99"
   ]
  },
  {
   "cell_type": "markdown",
   "id": "271a7b40",
   "metadata": {
    "tags": []
   },
   "source": [
    "<a id='train'></a>\n",
    "### Training\n"
   ]
  },
  {
   "cell_type": "code",
   "execution_count": 115,
   "id": "b42cd9bc-44fd-4f49-b069-1d82ca6786f6",
   "metadata": {},
   "outputs": [],
   "source": [
    "def train(model, optimizer, criterion, train_loader):\n",
    "    model.train()\n",
    "    train_loss = 0.0\n",
    "    for i, data in tqdm(enumerate(train_loader), desc='Planifying', total=len(train_loader)):\n",
    "        optimizer.zero_grad()\n",
    "        # Forward pass\n",
    "        data = data.to(device)\n",
    "        \n",
    "        logits    = model(data.x, data.edge_index, data.batch)\n",
    "        # computing loss through crossEntropy loss function\n",
    "        targets = torch.cat((data.rec_w.unsqueeze(1), data.rec_h.unsqueeze(1)), dim=1)\n",
    "        # print(logits.shape, targets.shape)\n",
    "        loss = criterion(logits, targets)\n",
    "        \n",
    "        # Backward pass\n",
    "        loss.backward()\n",
    "        \n",
    "        # Updating parameters\n",
    "        optimizer.step()\n",
    "\n",
    "        # Monitoring\n",
    "        running_loss += loss.item()\n",
    "        lr = optimizer.param_groups[0]['lr']\n",
    "        \n",
    "    return train_loss / len(train_loader)\n",
    "\n",
    "\n",
    "def evaluate(model, criterion, loader):\n",
    "    model.eval()\n",
    "    loss = 0.0\n",
    "    for data in test_loader:\n",
    "        with torch.no_grad():\n",
    "            out = model(data.x, data.edge_index, data.batch)\n",
    "            targets = torch.cat((data.rec_w.unsqueeze(1), data.rec_h.unsqueeze(1)), dim=1)\n",
    "            loss += criterion(out, targets).item() * data.num_graphs\n",
    "    return loss / len(loader.dataset)"
   ]
  },
  {
   "cell_type": "code",
   "execution_count": 116,
   "id": "d9a39a37-e8b9-46f1-b39a-09c57295a46e",
   "metadata": {},
   "outputs": [
    {
     "name": "stderr",
     "output_type": "stream",
     "text": [
      "Planifying: 100%|██████████████████████████| 505/505 [00:47<00:00, 10.63it/s]\n"
     ]
    },
    {
     "name": "stdout",
     "output_type": "stream",
     "text": [
      "tensor([ 89., 100.], device='cuda:0')\n",
      "tensor([68.6268, 75.2993], device='cuda:0', grad_fn=<SliceBackward0>)\n",
      "Model saved :)\n",
      "Epoch: 1/50 | lr: 0.001 | avg_loss: 700.69120\n"
     ]
    },
    {
     "name": "stderr",
     "output_type": "stream",
     "text": [
      "Planifying: 100%|██████████████████████████| 505/505 [00:47<00:00, 10.63it/s]\n"
     ]
    },
    {
     "name": "stdout",
     "output_type": "stream",
     "text": [
      "tensor([25., 31.], device='cuda:0')\n",
      "tensor([39.6475, 39.8844], device='cuda:0', grad_fn=<SliceBackward0>)\n",
      "Epoch: 2/50 | lr: 0.001 | avg_loss: 641.68033\n"
     ]
    },
    {
     "name": "stderr",
     "output_type": "stream",
     "text": [
      "Planifying: 100%|██████████████████████████| 505/505 [00:49<00:00, 10.17it/s]\n"
     ]
    },
    {
     "name": "stdout",
     "output_type": "stream",
     "text": [
      "tensor([41., 49.], device='cuda:0')\n",
      "tensor([40.0513, 39.3453], device='cuda:0', grad_fn=<SliceBackward0>)\n",
      "Epoch: 3/50 | lr: 0.001 | avg_loss: 571.85574\n"
     ]
    },
    {
     "name": "stderr",
     "output_type": "stream",
     "text": [
      "Planifying: 100%|██████████████████████████| 505/505 [00:48<00:00, 10.40it/s]\n"
     ]
    },
    {
     "name": "stdout",
     "output_type": "stream",
     "text": [
      "tensor([41., 49.], device='cuda:0')\n",
      "tensor([43.4639, 40.8786], device='cuda:0', grad_fn=<SliceBackward0>)\n",
      "Epoch: 4/50 | lr: 0.001 | avg_loss: 508.04237\n"
     ]
    },
    {
     "name": "stderr",
     "output_type": "stream",
     "text": [
      "Planifying: 100%|██████████████████████████| 505/505 [00:47<00:00, 10.54it/s]\n"
     ]
    },
    {
     "name": "stdout",
     "output_type": "stream",
     "text": [
      "tensor([23.,  4.], device='cuda:0')\n",
      "tensor([50.3735, 43.8598], device='cuda:0', grad_fn=<SliceBackward0>)\n",
      "Epoch: 5/50 | lr: 0.001 | avg_loss: 412.34775\n"
     ]
    },
    {
     "name": "stderr",
     "output_type": "stream",
     "text": [
      "Planifying: 100%|██████████████████████████| 505/505 [00:48<00:00, 10.47it/s]\n"
     ]
    },
    {
     "name": "stdout",
     "output_type": "stream",
     "text": [
      "tensor([41., 49.], device='cuda:0')\n",
      "tensor([39.3699, 33.2874], device='cuda:0', grad_fn=<SliceBackward0>)\n",
      "Epoch: 6/50 | lr: 0.001 | avg_loss: 359.61248\n"
     ]
    },
    {
     "name": "stderr",
     "output_type": "stream",
     "text": [
      "Planifying: 100%|██████████████████████████| 505/505 [00:49<00:00, 10.24it/s]\n"
     ]
    },
    {
     "name": "stdout",
     "output_type": "stream",
     "text": [
      "tensor([25., 31.], device='cuda:0')\n",
      "tensor([44.3293, 28.8469], device='cuda:0', grad_fn=<SliceBackward0>)\n",
      "Epoch: 7/50 | lr: 0.001 | avg_loss: 332.06949\n"
     ]
    },
    {
     "name": "stderr",
     "output_type": "stream",
     "text": [
      "Planifying: 100%|██████████████████████████| 505/505 [00:47<00:00, 10.72it/s]\n"
     ]
    },
    {
     "name": "stdout",
     "output_type": "stream",
     "text": [
      "tensor([41., 49.], device='cuda:0')\n",
      "tensor([40.1669, 41.7617], device='cuda:0', grad_fn=<SliceBackward0>)\n",
      "Epoch: 8/50 | lr: 0.001 | avg_loss: 319.70581\n"
     ]
    },
    {
     "name": "stderr",
     "output_type": "stream",
     "text": [
      "Planifying: 100%|██████████████████████████| 505/505 [00:48<00:00, 10.44it/s]\n"
     ]
    },
    {
     "name": "stdout",
     "output_type": "stream",
     "text": [
      "tensor([24., 25.], device='cuda:0')\n",
      "tensor([39.0505, 31.6514], device='cuda:0', grad_fn=<SliceBackward0>)\n",
      "Epoch: 9/50 | lr: 0.001 | avg_loss: 309.37649\n"
     ]
    },
    {
     "name": "stderr",
     "output_type": "stream",
     "text": [
      "Planifying: 100%|██████████████████████████| 505/505 [00:50<00:00,  9.99it/s]\n"
     ]
    },
    {
     "name": "stdout",
     "output_type": "stream",
     "text": [
      "tensor([24., 25.], device='cuda:0')\n",
      "tensor([37.6684, 40.2655], device='cuda:0', grad_fn=<SliceBackward0>)\n",
      "Epoch: 10/50 | lr: 0.001 | avg_loss: 299.72141\n"
     ]
    },
    {
     "name": "stderr",
     "output_type": "stream",
     "text": [
      "Planifying: 100%|██████████████████████████| 505/505 [00:48<00:00, 10.51it/s]\n"
     ]
    },
    {
     "name": "stdout",
     "output_type": "stream",
     "text": [
      "tensor([43., 54.], device='cuda:0')\n",
      "tensor([39.0254, 40.0125], device='cuda:0', grad_fn=<SliceBackward0>)\n",
      "Epoch: 11/50 | lr: 0.001 | avg_loss: 292.24333\n"
     ]
    },
    {
     "name": "stderr",
     "output_type": "stream",
     "text": [
      "Planifying: 100%|██████████████████████████| 505/505 [00:47<00:00, 10.68it/s]\n"
     ]
    },
    {
     "name": "stdout",
     "output_type": "stream",
     "text": [
      "tensor([ 89., 100.], device='cuda:0')\n",
      "tensor([72.7853, 88.5041], device='cuda:0', grad_fn=<SliceBackward0>)\n",
      "Epoch: 12/50 | lr: 0.001 | avg_loss: 283.75074\n"
     ]
    },
    {
     "name": "stderr",
     "output_type": "stream",
     "text": [
      "Planifying: 100%|██████████████████████████| 505/505 [00:46<00:00, 10.83it/s]\n"
     ]
    },
    {
     "name": "stdout",
     "output_type": "stream",
     "text": [
      "tensor([40., 54.], device='cuda:0')\n",
      "tensor([48.8052, 57.0075], device='cuda:0', grad_fn=<SliceBackward0>)\n",
      "Epoch: 13/50 | lr: 0.001 | avg_loss: 278.08671\n"
     ]
    },
    {
     "name": "stderr",
     "output_type": "stream",
     "text": [
      "Planifying: 100%|██████████████████████████| 505/505 [00:47<00:00, 10.65it/s]\n"
     ]
    },
    {
     "name": "stdout",
     "output_type": "stream",
     "text": [
      "tensor([43., 54.], device='cuda:0')\n",
      "tensor([42.0688, 51.8144], device='cuda:0', grad_fn=<SliceBackward0>)\n",
      "Epoch: 14/50 | lr: 0.001 | avg_loss: 268.28390\n"
     ]
    },
    {
     "name": "stderr",
     "output_type": "stream",
     "text": [
      "Planifying: 100%|██████████████████████████| 505/505 [00:47<00:00, 10.70it/s]\n"
     ]
    },
    {
     "name": "stdout",
     "output_type": "stream",
     "text": [
      "tensor([25., 31.], device='cuda:0')\n",
      "tensor([35.6065, 29.2224], device='cuda:0', grad_fn=<SliceBackward0>)\n",
      "Epoch: 15/50 | lr: 0.001 | avg_loss: 260.29759\n"
     ]
    },
    {
     "name": "stderr",
     "output_type": "stream",
     "text": [
      "Planifying: 100%|██████████████████████████| 505/505 [00:47<00:00, 10.69it/s]\n"
     ]
    },
    {
     "name": "stdout",
     "output_type": "stream",
     "text": [
      "tensor([41., 49.], device='cuda:0')\n",
      "tensor([41.0782, 39.3802], device='cuda:0', grad_fn=<SliceBackward0>)\n",
      "Epoch: 16/50 | lr: 0.001 | avg_loss: 250.51274\n"
     ]
    },
    {
     "name": "stderr",
     "output_type": "stream",
     "text": [
      "Planifying: 100%|██████████████████████████| 505/505 [00:54<00:00,  9.29it/s]\n"
     ]
    },
    {
     "name": "stdout",
     "output_type": "stream",
     "text": [
      "tensor([23.,  4.], device='cuda:0')\n",
      "tensor([48.1839, 21.2276], device='cuda:0', grad_fn=<SliceBackward0>)\n",
      "Epoch: 17/50 | lr: 0.001 | avg_loss: 247.19745\n"
     ]
    },
    {
     "name": "stderr",
     "output_type": "stream",
     "text": [
      "Planifying: 100%|██████████████████████████| 505/505 [00:51<00:00,  9.87it/s]\n"
     ]
    },
    {
     "name": "stdout",
     "output_type": "stream",
     "text": [
      "tensor([37., 13.], device='cuda:0')\n",
      "tensor([42.9671, 26.7877], device='cuda:0', grad_fn=<SliceBackward0>)\n",
      "Epoch: 18/50 | lr: 0.001 | avg_loss: 239.43638\n"
     ]
    },
    {
     "name": "stderr",
     "output_type": "stream",
     "text": [
      "Planifying: 100%|██████████████████████████| 505/505 [00:47<00:00, 10.72it/s]\n"
     ]
    },
    {
     "name": "stdout",
     "output_type": "stream",
     "text": [
      "tensor([23.,  4.], device='cuda:0')\n",
      "tensor([37.4969, 22.1000], device='cuda:0', grad_fn=<SliceBackward0>)\n",
      "Epoch: 19/50 | lr: 0.001 | avg_loss: 233.37678\n"
     ]
    },
    {
     "name": "stderr",
     "output_type": "stream",
     "text": [
      "Planifying: 100%|██████████████████████████| 505/505 [00:47<00:00, 10.69it/s]\n"
     ]
    },
    {
     "name": "stdout",
     "output_type": "stream",
     "text": [
      "tensor([41., 49.], device='cuda:0')\n",
      "tensor([38.9587, 41.0810], device='cuda:0', grad_fn=<SliceBackward0>)\n",
      "Epoch: 20/50 | lr: 0.001 | avg_loss: 230.68301\n"
     ]
    },
    {
     "name": "stderr",
     "output_type": "stream",
     "text": [
      "Planifying: 100%|██████████████████████████| 505/505 [00:47<00:00, 10.72it/s]\n"
     ]
    },
    {
     "name": "stdout",
     "output_type": "stream",
     "text": [
      "tensor([25., 31.], device='cuda:0')\n",
      "tensor([38.3658, 29.2568], device='cuda:0', grad_fn=<SliceBackward0>)\n",
      "Model saved :)\n",
      "Epoch: 21/50 | lr: 0.001 | avg_loss: 228.11266\n"
     ]
    },
    {
     "name": "stderr",
     "output_type": "stream",
     "text": [
      "Planifying: 100%|██████████████████████████| 505/505 [00:46<00:00, 10.78it/s]\n"
     ]
    },
    {
     "name": "stdout",
     "output_type": "stream",
     "text": [
      "tensor([41., 49.], device='cuda:0')\n",
      "tensor([37.2549, 48.8878], device='cuda:0', grad_fn=<SliceBackward0>)\n",
      "Epoch: 22/50 | lr: 0.001 | avg_loss: 226.04647\n"
     ]
    },
    {
     "name": "stderr",
     "output_type": "stream",
     "text": [
      "Planifying: 100%|██████████████████████████| 505/505 [00:47<00:00, 10.52it/s]\n"
     ]
    },
    {
     "name": "stdout",
     "output_type": "stream",
     "text": [
      "tensor([ 89., 100.], device='cuda:0')\n",
      "tensor([ 90.1547, 102.3330], device='cuda:0', grad_fn=<SliceBackward0>)\n",
      "Epoch: 23/50 | lr: 0.001 | avg_loss: 221.58853\n"
     ]
    },
    {
     "name": "stderr",
     "output_type": "stream",
     "text": [
      "Planifying: 100%|██████████████████████████| 505/505 [00:47<00:00, 10.73it/s]\n"
     ]
    },
    {
     "name": "stdout",
     "output_type": "stream",
     "text": [
      "tensor([37., 13.], device='cuda:0')\n",
      "tensor([39.9560, 20.9290], device='cuda:0', grad_fn=<SliceBackward0>)\n",
      "Epoch: 24/50 | lr: 0.001 | avg_loss: 220.09550\n"
     ]
    },
    {
     "name": "stderr",
     "output_type": "stream",
     "text": [
      "Planifying: 100%|██████████████████████████| 505/505 [00:50<00:00, 10.07it/s]\n"
     ]
    },
    {
     "name": "stdout",
     "output_type": "stream",
     "text": [
      "tensor([25., 31.], device='cuda:0')\n",
      "tensor([32.8830, 29.5451], device='cuda:0', grad_fn=<SliceBackward0>)\n",
      "Epoch: 25/50 | lr: 0.001 | avg_loss: 217.75122\n"
     ]
    },
    {
     "name": "stderr",
     "output_type": "stream",
     "text": [
      "Planifying: 100%|██████████████████████████| 505/505 [00:50<00:00,  9.98it/s]\n"
     ]
    },
    {
     "name": "stdout",
     "output_type": "stream",
     "text": [
      "tensor([41., 49.], device='cuda:0')\n",
      "tensor([40.1077, 41.5743], device='cuda:0', grad_fn=<SliceBackward0>)\n",
      "Epoch: 26/50 | lr: 0.001 | avg_loss: 219.25414\n"
     ]
    },
    {
     "name": "stderr",
     "output_type": "stream",
     "text": [
      "Planifying: 100%|██████████████████████████| 505/505 [00:50<00:00,  9.97it/s]\n"
     ]
    },
    {
     "name": "stdout",
     "output_type": "stream",
     "text": [
      "tensor([24., 25.], device='cuda:0')\n",
      "tensor([31.7728, 25.5757], device='cuda:0', grad_fn=<SliceBackward0>)\n",
      "Epoch: 27/50 | lr: 0.001 | avg_loss: 213.86899\n"
     ]
    },
    {
     "name": "stderr",
     "output_type": "stream",
     "text": [
      "Planifying: 100%|██████████████████████████| 505/505 [00:47<00:00, 10.59it/s]\n"
     ]
    },
    {
     "name": "stdout",
     "output_type": "stream",
     "text": [
      "tensor([40., 54.], device='cuda:0')\n",
      "tensor([44.8389, 43.9752], device='cuda:0', grad_fn=<SliceBackward0>)\n",
      "Epoch: 28/50 | lr: 0.001 | avg_loss: 213.83222\n"
     ]
    },
    {
     "name": "stderr",
     "output_type": "stream",
     "text": [
      "Planifying: 100%|██████████████████████████| 505/505 [00:47<00:00, 10.60it/s]\n"
     ]
    },
    {
     "name": "stdout",
     "output_type": "stream",
     "text": [
      "tensor([41., 49.], device='cuda:0')\n",
      "tensor([48.7107, 39.7290], device='cuda:0', grad_fn=<SliceBackward0>)\n",
      "Epoch: 29/50 | lr: 0.001 | avg_loss: 210.72567\n"
     ]
    },
    {
     "name": "stderr",
     "output_type": "stream",
     "text": [
      "Planifying: 100%|██████████████████████████| 505/505 [00:48<00:00, 10.47it/s]\n"
     ]
    },
    {
     "name": "stdout",
     "output_type": "stream",
     "text": [
      "tensor([23.,  4.], device='cuda:0')\n",
      "tensor([51.2020, 45.6948], device='cuda:0', grad_fn=<SliceBackward0>)\n",
      "Epoch: 30/50 | lr: 0.001 | avg_loss: 210.61532\n"
     ]
    },
    {
     "name": "stderr",
     "output_type": "stream",
     "text": [
      "Planifying: 100%|██████████████████████████| 505/505 [00:47<00:00, 10.71it/s]\n"
     ]
    },
    {
     "name": "stdout",
     "output_type": "stream",
     "text": [
      "tensor([23.,  4.], device='cuda:0')\n",
      "tensor([42.7010, 21.8875], device='cuda:0', grad_fn=<SliceBackward0>)\n",
      "Epoch: 31/50 | lr: 0.001 | avg_loss: 208.84321\n"
     ]
    },
    {
     "name": "stderr",
     "output_type": "stream",
     "text": [
      "Planifying: 100%|██████████████████████████| 505/505 [00:47<00:00, 10.66it/s]\n"
     ]
    },
    {
     "name": "stdout",
     "output_type": "stream",
     "text": [
      "tensor([24., 25.], device='cuda:0')\n",
      "tensor([39.1968, 24.5832], device='cuda:0', grad_fn=<SliceBackward0>)\n",
      "Epoch: 32/50 | lr: 0.001 | avg_loss: 207.36476\n"
     ]
    },
    {
     "name": "stderr",
     "output_type": "stream",
     "text": [
      "Planifying: 100%|██████████████████████████| 505/505 [00:46<00:00, 10.75it/s]\n"
     ]
    },
    {
     "name": "stdout",
     "output_type": "stream",
     "text": [
      "tensor([37., 13.], device='cuda:0')\n",
      "tensor([46.6554, 34.5320], device='cuda:0', grad_fn=<SliceBackward0>)\n",
      "Epoch: 33/50 | lr: 0.001 | avg_loss: 206.18651\n"
     ]
    },
    {
     "name": "stderr",
     "output_type": "stream",
     "text": [
      "Planifying: 100%|██████████████████████████| 505/505 [00:47<00:00, 10.67it/s]\n"
     ]
    },
    {
     "name": "stdout",
     "output_type": "stream",
     "text": [
      "tensor([ 89., 100.], device='cuda:0')\n",
      "tensor([82.5315, 75.2202], device='cuda:0', grad_fn=<SliceBackward0>)\n",
      "Epoch: 34/50 | lr: 0.001 | avg_loss: 205.11777\n"
     ]
    },
    {
     "name": "stderr",
     "output_type": "stream",
     "text": [
      "Planifying: 100%|██████████████████████████| 505/505 [00:48<00:00, 10.52it/s]\n"
     ]
    },
    {
     "name": "stdout",
     "output_type": "stream",
     "text": [
      "tensor([25., 31.], device='cuda:0')\n",
      "tensor([45.1316, 54.2496], device='cuda:0', grad_fn=<SliceBackward0>)\n",
      "Epoch: 35/50 | lr: 0.001 | avg_loss: 203.06132\n"
     ]
    },
    {
     "name": "stderr",
     "output_type": "stream",
     "text": [
      "Planifying: 100%|██████████████████████████| 505/505 [00:47<00:00, 10.55it/s]\n"
     ]
    },
    {
     "name": "stdout",
     "output_type": "stream",
     "text": [
      "tensor([25., 31.], device='cuda:0')\n",
      "tensor([33.5414, 32.0741], device='cuda:0', grad_fn=<SliceBackward0>)\n",
      "Epoch: 36/50 | lr: 0.001 | avg_loss: 201.99357\n"
     ]
    },
    {
     "name": "stderr",
     "output_type": "stream",
     "text": [
      "Planifying: 100%|██████████████████████████| 505/505 [00:49<00:00, 10.19it/s]\n"
     ]
    },
    {
     "name": "stdout",
     "output_type": "stream",
     "text": [
      "tensor([43., 54.], device='cuda:0')\n",
      "tensor([49.1062, 59.6852], device='cuda:0', grad_fn=<SliceBackward0>)\n",
      "Epoch: 37/50 | lr: 0.001 | avg_loss: 201.20307\n"
     ]
    },
    {
     "name": "stderr",
     "output_type": "stream",
     "text": [
      "Planifying: 100%|██████████████████████████| 505/505 [00:50<00:00, 10.06it/s]\n"
     ]
    },
    {
     "name": "stdout",
     "output_type": "stream",
     "text": [
      "tensor([41., 49.], device='cuda:0')\n",
      "tensor([41.4799, 43.9497], device='cuda:0', grad_fn=<SliceBackward0>)\n",
      "Epoch: 38/50 | lr: 0.001 | avg_loss: 199.94792\n"
     ]
    },
    {
     "name": "stderr",
     "output_type": "stream",
     "text": [
      "Planifying: 100%|██████████████████████████| 505/505 [00:47<00:00, 10.66it/s]\n"
     ]
    },
    {
     "name": "stdout",
     "output_type": "stream",
     "text": [
      "tensor([37., 13.], device='cuda:0')\n",
      "tensor([47.2063, 20.6742], device='cuda:0', grad_fn=<SliceBackward0>)\n",
      "Epoch: 39/50 | lr: 0.001 | avg_loss: 199.21267\n"
     ]
    },
    {
     "name": "stderr",
     "output_type": "stream",
     "text": [
      "Planifying: 100%|██████████████████████████| 505/505 [00:47<00:00, 10.69it/s]\n"
     ]
    },
    {
     "name": "stdout",
     "output_type": "stream",
     "text": [
      "tensor([43., 54.], device='cuda:0')\n",
      "tensor([51.8147, 37.1144], device='cuda:0', grad_fn=<SliceBackward0>)\n",
      "Epoch: 40/50 | lr: 0.001 | avg_loss: 198.87286\n"
     ]
    },
    {
     "name": "stderr",
     "output_type": "stream",
     "text": [
      "Planifying: 100%|██████████████████████████| 505/505 [00:47<00:00, 10.73it/s]\n"
     ]
    },
    {
     "name": "stdout",
     "output_type": "stream",
     "text": [
      "tensor([43., 54.], device='cuda:0')\n",
      "tensor([49.7939, 59.5620], device='cuda:0', grad_fn=<SliceBackward0>)\n",
      "Model saved :)\n",
      "Epoch: 41/50 | lr: 0.001 | avg_loss: 196.84972\n"
     ]
    },
    {
     "name": "stderr",
     "output_type": "stream",
     "text": [
      "Planifying: 100%|██████████████████████████| 505/505 [00:47<00:00, 10.56it/s]\n"
     ]
    },
    {
     "name": "stdout",
     "output_type": "stream",
     "text": [
      "tensor([43., 54.], device='cuda:0')\n",
      "tensor([47.9488, 62.2686], device='cuda:0', grad_fn=<SliceBackward0>)\n",
      "Epoch: 42/50 | lr: 0.001 | avg_loss: 196.10956\n"
     ]
    },
    {
     "name": "stderr",
     "output_type": "stream",
     "text": [
      "Planifying: 100%|██████████████████████████| 505/505 [00:47<00:00, 10.68it/s]\n"
     ]
    },
    {
     "name": "stdout",
     "output_type": "stream",
     "text": [
      "tensor([23.,  4.], device='cuda:0')\n",
      "tensor([36.3574, 24.7126], device='cuda:0', grad_fn=<SliceBackward0>)\n",
      "Epoch: 43/50 | lr: 0.001 | avg_loss: 195.78437\n"
     ]
    },
    {
     "name": "stderr",
     "output_type": "stream",
     "text": [
      "Planifying: 100%|██████████████████████████| 505/505 [00:52<00:00,  9.53it/s]\n"
     ]
    },
    {
     "name": "stdout",
     "output_type": "stream",
     "text": [
      "tensor([ 89., 100.], device='cuda:0')\n",
      "tensor([85.7205, 98.1053], device='cuda:0', grad_fn=<SliceBackward0>)\n",
      "Epoch: 44/50 | lr: 0.001 | avg_loss: 194.70363\n"
     ]
    },
    {
     "name": "stderr",
     "output_type": "stream",
     "text": [
      "Planifying: 100%|██████████████████████████| 505/505 [00:49<00:00, 10.17it/s]\n"
     ]
    },
    {
     "name": "stdout",
     "output_type": "stream",
     "text": [
      "tensor([43., 54.], device='cuda:0')\n",
      "tensor([49.3944, 60.3796], device='cuda:0', grad_fn=<SliceBackward0>)\n",
      "Epoch: 45/50 | lr: 0.001 | avg_loss: 193.96862\n"
     ]
    },
    {
     "name": "stderr",
     "output_type": "stream",
     "text": [
      "Planifying: 100%|██████████████████████████| 505/505 [00:47<00:00, 10.52it/s]\n"
     ]
    },
    {
     "name": "stdout",
     "output_type": "stream",
     "text": [
      "tensor([43., 54.], device='cuda:0')\n",
      "tensor([47.2238, 55.4043], device='cuda:0', grad_fn=<SliceBackward0>)\n",
      "Epoch: 46/50 | lr: 0.001 | avg_loss: 193.41643\n"
     ]
    },
    {
     "name": "stderr",
     "output_type": "stream",
     "text": [
      "Planifying: 100%|██████████████████████████| 505/505 [00:47<00:00, 10.69it/s]\n"
     ]
    },
    {
     "name": "stdout",
     "output_type": "stream",
     "text": [
      "tensor([23.,  4.], device='cuda:0')\n",
      "tensor([37.9276, 28.0946], device='cuda:0', grad_fn=<SliceBackward0>)\n",
      "Epoch: 47/50 | lr: 0.001 | avg_loss: 193.10235\n"
     ]
    },
    {
     "name": "stderr",
     "output_type": "stream",
     "text": [
      "Planifying: 100%|██████████████████████████| 505/505 [00:47<00:00, 10.74it/s]\n"
     ]
    },
    {
     "name": "stdout",
     "output_type": "stream",
     "text": [
      "tensor([ 89., 100.], device='cuda:0')\n",
      "tensor([ 87.9922, 109.4295], device='cuda:0', grad_fn=<SliceBackward0>)\n",
      "Epoch: 48/50 | lr: 0.001 | avg_loss: 191.56019\n"
     ]
    },
    {
     "name": "stderr",
     "output_type": "stream",
     "text": [
      "Planifying: 100%|██████████████████████████| 505/505 [00:47<00:00, 10.63it/s]\n"
     ]
    },
    {
     "name": "stdout",
     "output_type": "stream",
     "text": [
      "tensor([24., 25.], device='cuda:0')\n",
      "tensor([30.8660, 32.5585], device='cuda:0', grad_fn=<SliceBackward0>)\n",
      "Epoch: 49/50 | lr: 0.001 | avg_loss: 190.84587\n"
     ]
    },
    {
     "name": "stderr",
     "output_type": "stream",
     "text": [
      "Planifying: 100%|██████████████████████████| 505/505 [00:47<00:00, 10.61it/s]"
     ]
    },
    {
     "name": "stdout",
     "output_type": "stream",
     "text": [
      "tensor([40., 54.], device='cuda:0')\n",
      "tensor([41.2790, 54.9079], device='cuda:0', grad_fn=<SliceBackward0>)\n",
      "Epoch: 50/50 | lr: 0.001 | avg_loss: 190.12268\n"
     ]
    },
    {
     "name": "stderr",
     "output_type": "stream",
     "text": [
      "\n"
     ]
    }
   ],
   "source": [
    "for epoch in range(nu_epochs):\n",
    "    running_loss = 0.0\n",
    "    train_acc    = 0.0\n",
    "    for i, data in tqdm(enumerate(train_loader), desc='Planifying', total=len(train_loader)):\n",
    "        optimizer.zero_grad()\n",
    "        # Forward pass\n",
    "        data = data.to(device)\n",
    "        \n",
    "        logits    = model(data.x, data.edge_index, data.batch)\n",
    "        # computing loss through crossEntropy loss function\n",
    "        targets = torch.cat((data.rec_w.unsqueeze(1), data.rec_h.unsqueeze(1)), dim=1)\n",
    "        # print(logits.shape, targets.shape)\n",
    "        loss = criterion(logits, targets)\n",
    "        \n",
    "        # Backward pass\n",
    "        loss.backward()\n",
    "        \n",
    "        # Updating parameters\n",
    "        optimizer.step()\n",
    "        # current_lr = optimizer.param_groups[0]['lr']\n",
    "        # optimizer = torch.optim.Adam(model.parameters(), lr=scheduler(epoch, current_lr))\n",
    "        \n",
    "        # Monitoring\n",
    "        running_loss += loss.item()\n",
    "        # train_acc += (torch.argmax(logits, 1).flatten() == data.roomType_embd).type(torch.float).mean().item()\n",
    "        lr = optimizer.param_groups[0]['lr']\n",
    "    \n",
    "    # model.regreetor.reset_parameters()\n",
    "    \n",
    "    print(targets[0, :])\n",
    "    print(logits[0, :])\n",
    "    \n",
    "    errors.append(running_loss/batch_size)\n",
    "    # acc.append(train_acc/batch_size)\n",
    "    \n",
    "    # Updating scheduler each 15 epochs.\n",
    "    # scheduler.step()\n",
    "    \n",
    "    # Saving the model.\n",
    "    save_checkpoint(model, optimizer, epoch)\n",
    "    \n",
    "    # Monitoring and printing.\n",
    "    batch_size = len(train_loader)\n",
    "    print(f'Epoch: {epoch + 1}/{nu_epochs} | lr: {lr} | avg_loss: {running_loss/batch_size:.5f}')"
   ]
  },
  {
   "cell_type": "code",
   "execution_count": 117,
   "id": "14303ee4",
   "metadata": {
    "tags": []
   },
   "outputs": [
    {
     "data": {
      "image/png": "[encoded data removed]",
      "text/plain": [
       "<Figure size 640x480 with 1 Axes>"
      ]
     },
     "metadata": {},
     "output_type": "display_data"
    }
   ],
   "source": [
    "# plt.plot(errors);\n",
    "plt.plot(acc, label='accuracy');\n",
    "plt.plot(errors, label='error');\n",
    "plt.xlabel('Epochs')\n",
    "plt.title('Monitoring the model')\n",
    "plt.legend();"
   ]
  },
  {
   "cell_type": "markdown",
   "id": "c924dad5-6eb5-40b5-a292-a41ba4f90a08",
   "metadata": {},
   "source": [
    "> Testing random graphs"
   ]
  },
  {
   "cell_type": "code",
   "execution_count": 123,
   "id": "9d78be3c-a41d-493d-b004-60989cd87cf5",
   "metadata": {},
   "outputs": [
    {
     "data": {
      "text/plain": [
       "tensor([[ 44.8682,  53.5990],\n",
       "        [ 52.2804,  16.9361],\n",
       "        [ 26.1853,  34.4112],\n",
       "        [ 89.7365, 112.2100],\n",
       "        [ 44.0127,  56.3935],\n",
       "        [ 34.7122,  35.6345]], device='cuda:0', grad_fn=<AddmmBackward0>)"
      ]
     },
     "execution_count": 123,
     "metadata": {},
     "output_type": "execute_result"
    }
   ],
   "source": [
    "G = test_dataset[0]\n",
    "batch = torch.zeros(G.x.shape[0], dtype=torch.long)\n",
    "model(G.x, G.edge_index, batch)"
   ]
  },
  {
   "cell_type": "code",
   "execution_count": 125,
   "id": "e3a51658-2a01-43f9-8cbd-226e13ced39d",
   "metadata": {},
   "outputs": [
    {
     "data": {
      "text/plain": [
       "tensor([[ 38.,  32.],\n",
       "        [ 47.,  10.],\n",
       "        [ 27.,  29.],\n",
       "        [ 88., 120.],\n",
       "        [ 38.,  74.],\n",
       "        [ 22.,  30.]], device='cuda:0')"
      ]
     },
     "execution_count": 125,
     "metadata": {},
     "output_type": "execute_result"
    }
   ],
   "source": [
    "torch.cat((G.rec_w.unsqueeze(1), G.rec_h.unsqueeze(1)), dim=1)"
   ]
  }
 ],
 "metadata": {
  "kernelspec": {
   "display_name": "Python 3 (ipykernel)",
   "language": "python",
   "name": "python3"
  },
  "language_info": {
   "codemirror_mode": {
    "name": "ipython",
    "version": 3
   },
   "file_extension": ".py",
   "mimetype": "text/x-python",
   "name": "python",
   "nbconvert_exporter": "python",
   "pygments_lexer": "ipython3",
   "version": "3.9.16"
  },
  "vscode": {
   "interpreter": {
    "hash": "916dbcbb3f70747c44a77c7bcd40155683ae19c65e1c03b4aa3499c5328201f1"
   }
  }
 },
 "nbformat": 4,
 "nbformat_minor": 5
}
