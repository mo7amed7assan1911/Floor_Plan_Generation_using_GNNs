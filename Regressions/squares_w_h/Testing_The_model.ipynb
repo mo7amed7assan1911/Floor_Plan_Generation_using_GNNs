{
 "cells": [
  {
   "cell_type": "markdown",
   "id": "7edfe0a6",
   "metadata": {
    "papermill": {
     "duration": 0.008886,
     "end_time": "2023-04-16T07:04:27.220632",
     "exception": false,
     "start_time": "2023-04-16T07:04:27.211746",
     "status": "completed"
    },
    "tags": []
   },
   "source": [
    "# Planify - Graph Neural Network\n",
    "\n",
    "### Table of Contents\n",
    "<ul>\n",
    "<li><a href=\"#intro\">Introduction</a></li>\n",
    "    <ul>\n",
    "        <li><a href=\"#Imports\">Imports</a></li>\n",
    "        <li><a href=\"#func\">Functions used</a></li>\n",
    "    </ul>\n",
    "<li><a href=\"#wrangling\">Data Wrangling</a></li>\n",
    "<li><a href=\"#model\">GNN Model</a></li>\n",
    "    <ul>\n",
    "        <li><a href=\"#dataLoader\">Data Loader</a></li>\n",
    "        <li><a href=\"#archi\">Architecture</a></li>\n",
    "        <li><a href=\"#train\">Training</a></li> \n",
    "        <li><a href=\"#eval\">Evaluation</a></li>\n",
    "    </ul>\n",
    "</ul>"
   ]
  },
  {
   "cell_type": "markdown",
   "id": "c40f6938",
   "metadata": {
    "papermill": {
     "duration": 0.007171,
     "end_time": "2023-04-16T07:04:27.235516",
     "exception": false,
     "start_time": "2023-04-16T07:04:27.228345",
     "status": "completed"
    },
    "tags": []
   },
   "source": [
    "<a id='intro'></a>\n",
    "## Introduction\n",
    "\n",
    "> This notebook getting garphs in the Networkx format from the `Creating Graphs` notebook. And its main goal is to make the GNN model."
   ]
  },
  {
   "cell_type": "code",
   "execution_count": 227,
   "id": "76f94e1e",
   "metadata": {
    "execution": {
     "iopub.execute_input": "2023-04-16T07:04:27.252696Z",
     "iopub.status.busy": "2023-04-16T07:04:27.252163Z",
     "iopub.status.idle": "2023-04-16T07:04:27.258298Z",
     "shell.execute_reply": "2023-04-16T07:04:27.257146Z"
    },
    "papermill": {
     "duration": 0.018945,
     "end_time": "2023-04-16T07:04:27.261896",
     "exception": false,
     "start_time": "2023-04-16T07:04:27.242951",
     "status": "completed"
    },
    "tags": []
   },
   "outputs": [],
   "source": [
    "# Used for vsCode only to show tqdm process\n",
    "# from IPython.core.interactiveshell import InteractiveShell\n",
    "# InteractiveShell.ast_node_interactivity = \"all\""
   ]
  },
  {
   "cell_type": "markdown",
   "id": "0700caf5",
   "metadata": {
    "papermill": {
     "duration": 0.007268,
     "end_time": "2023-04-16T07:04:27.276656",
     "exception": false,
     "start_time": "2023-04-16T07:04:27.269388",
     "status": "completed"
    },
    "tags": []
   },
   "source": [
    "<a id='Imports'></a>\n",
    "### Imports"
   ]
  },
  {
   "cell_type": "code",
   "execution_count": 228,
   "id": "1dca3e07",
   "metadata": {
    "execution": {
     "iopub.execute_input": "2023-04-16T07:04:27.294414Z",
     "iopub.status.busy": "2023-04-16T07:04:27.293147Z",
     "iopub.status.idle": "2023-04-16T07:04:50.777656Z",
     "shell.execute_reply": "2023-04-16T07:04:50.776400Z"
    },
    "papermill": {
     "duration": 23.496209,
     "end_time": "2023-04-16T07:04:50.780451",
     "exception": false,
     "start_time": "2023-04-16T07:04:27.284242",
     "status": "completed"
    },
    "tags": []
   },
   "outputs": [],
   "source": [
    "# Only for kaggle\n",
    "# !pip install torch_geometric -q"
   ]
  },
  {
   "cell_type": "code",
   "execution_count": 229,
   "id": "8ff9df6f",
   "metadata": {
    "execution": {
     "iopub.execute_input": "2023-04-16T07:04:50.796173Z",
     "iopub.status.busy": "2023-04-16T07:04:50.795844Z",
     "iopub.status.idle": "2023-04-16T07:05:00.947534Z",
     "shell.execute_reply": "2023-04-16T07:05:00.946348Z"
    },
    "papermill": {
     "duration": 10.162476,
     "end_time": "2023-04-16T07:05:00.950150",
     "exception": false,
     "start_time": "2023-04-16T07:04:50.787674",
     "status": "completed"
    },
    "tags": []
   },
   "outputs": [],
   "source": [
    "# Not included packages in kaggle\n",
    "\n",
    "# Install torch_geometric\n",
    "# !pip install /kaggle/input/torch-geometric/torch_sparse-0.6.16-cp37-cp37m-linux_x86_64.whl -q\n",
    "# !pip install /kaggle/input/torch-geometric/torch_scatter-2.1.0-cp37-cp37m-linux_x86_64.whl -q\n",
    "\n",
    "# # # library for getting distinct colores\n",
    "# !pip install distinctipy -q"
   ]
  },
  {
   "cell_type": "code",
   "execution_count": null,
   "id": "8cc90e6e",
   "metadata": {},
   "outputs": [],
   "source": []
  },
  {
   "cell_type": "code",
   "execution_count": 230,
   "id": "bdec8865",
   "metadata": {
    "execution": {
     "iopub.execute_input": "2023-04-16T07:05:00.966534Z",
     "iopub.status.busy": "2023-04-16T07:05:00.966170Z",
     "iopub.status.idle": "2023-04-16T07:05:04.594842Z",
     "shell.execute_reply": "2023-04-16T07:05:04.593560Z"
    },
    "papermill": {
     "duration": 3.639975,
     "end_time": "2023-04-16T07:05:04.597592",
     "exception": false,
     "start_time": "2023-04-16T07:05:00.957617",
     "status": "completed"
    },
    "tags": []
   },
   "outputs": [],
   "source": [
    "# for data wrangling\n",
    "import pickle\n",
    "import networkx as nx\n",
    "import matplotlib.pyplot as plt\n",
    "import numpy as np\n",
    "import distinctipy\n",
    "import random\n",
    "from torch_geometric.utils import from_networkx\n",
    "import geopandas as gpd\n",
    "from shapely.geometry import Point, Polygon, MultiPolygon\n",
    "\n",
    "# to show advance in for loops\n",
    "from tqdm import tqdm\n",
    "from collections import defaultdict\n",
    "\n",
    "# Using pytorch geometric\n",
    "import torch\n",
    "import torch.nn as nn\n",
    "from torch_geometric.loader import DataLoader\n",
    "from torch_geometric.data import Data, Batch\n",
    "from torch.utils.data import Dataset\n",
    "import torch_geometric.transforms as T\n",
    "\n",
    "\n",
    "# For the GNN model\n",
    "import torch.nn.functional as F\n",
    "from torch_geometric.nn import GCNConv, GATConv, global_mean_pool, global_max_pool\n",
    "\n",
    "\n",
    "# for my pc [linux]\n",
    "# url = '/media/mo/DATA/Grad/Planify_Dataset/Graph/Planify_Graphs.pkl'\n",
    "\n",
    "# for my pc [windows]\n",
    "url = \"D:\\Grad\\Planify_Dataset\\Graph\\graphs\\Graphs_real.pkl\"\n",
    "\n",
    "# for kaggle\n",
    "# url = \"/kaggle/input/planify-graphs-all-forms/graphs/Graphs_real.pkl\""
   ]
  },
  {
   "cell_type": "markdown",
   "id": "d633d942",
   "metadata": {
    "papermill": {
     "duration": 0.007436,
     "end_time": "2023-04-16T07:05:04.613865",
     "exception": false,
     "start_time": "2023-04-16T07:05:04.606429",
     "status": "completed"
    },
    "tags": []
   },
   "source": [
    "<a id='func'></a>\n",
    "### Functions used"
   ]
  },
  {
   "cell_type": "code",
   "execution_count": 231,
   "id": "7190ba39",
   "metadata": {
    "execution": {
     "iopub.execute_input": "2023-04-16T07:05:04.630445Z",
     "iopub.status.busy": "2023-04-16T07:05:04.629728Z",
     "iopub.status.idle": "2023-04-16T07:05:04.854728Z",
     "shell.execute_reply": "2023-04-16T07:05:04.853571Z"
    },
    "papermill": {
     "duration": 0.236698,
     "end_time": "2023-04-16T07:05:04.857751",
     "exception": false,
     "start_time": "2023-04-16T07:05:04.621053",
     "status": "completed"
    },
    "tags": []
   },
   "outputs": [],
   "source": [
    "geoms_columns = ['inner', 'living', 'master', 'kitchen', 'bathroom', 'dining', 'child', 'study',\n",
    "                   'second_room', 'guest', 'balcony', 'storage', 'wall-in',\n",
    "                    'outer_wall', 'front', 'inner_wall', 'interior',\n",
    "                   'front_door', 'outer_wall', 'entrance']\n",
    "\n",
    "N = len(geoms_columns)\n",
    "colors = (np.array(distinctipy.get_colors(N)) * 255).astype(np.uint8)\n",
    "room_color = {room_name: colors[i] for i, room_name in enumerate(geoms_columns)}"
   ]
  },
  {
   "cell_type": "code",
   "execution_count": 232,
   "id": "8232bbab",
   "metadata": {
    "execution": {
     "iopub.execute_input": "2023-04-16T07:05:04.874553Z",
     "iopub.status.busy": "2023-04-16T07:05:04.874164Z",
     "iopub.status.idle": "2023-04-16T07:05:04.883352Z",
     "shell.execute_reply": "2023-04-16T07:05:04.882308Z"
    },
    "papermill": {
     "duration": 0.019976,
     "end_time": "2023-04-16T07:05:04.885693",
     "exception": false,
     "start_time": "2023-04-16T07:05:04.865717",
     "status": "completed"
    },
    "tags": []
   },
   "outputs": [],
   "source": [
    "def draw_graph(G):\n",
    "    #  nodes positions for drawing, note that we invert the y pos\n",
    "    pos = {node: (G.nodes[node]['actualCentroid_x'], -G.nodes[node]['actualCentroid_y']) for node in G.nodes}\n",
    "    \n",
    "    scales = [G.nodes[node]['roomSize'] * 10000 for node in G] \n",
    "    colormap = [room_color[G.nodes[node]['roomType_name']]/255 for node in G]\n",
    "    \n",
    "    nx.draw(G, pos=pos, node_size=scales, node_color=colormap, with_labels=True, font_size=12)\n",
    "    \n",
    "    # Drawing the graph inside a good boundary.\n",
    "    x_coords  = [pos[node][0] for node in pos]\n",
    "    y_coords  = [pos[node][1] for node in pos]\n",
    "    threshold = max(scales) / 100\n",
    "    \n",
    "    plt.xlim(min(x_coords) - threshold, max(x_coords) + threshold)\n",
    "    plt.ylim(min(y_coords) - threshold, max(y_coords) + threshold)\n",
    "\n",
    "\n",
    "def collate_fn(graphs_list):\n",
    "    batch = Batch.from_data_list([Data.from_(g) for g in graphs_list])\n",
    "    return batch"
   ]
  },
  {
   "cell_type": "markdown",
   "id": "086bffe5",
   "metadata": {
    "papermill": {
     "duration": 0.006753,
     "end_time": "2023-04-16T07:05:04.899507",
     "exception": false,
     "start_time": "2023-04-16T07:05:04.892754",
     "status": "completed"
    },
    "tags": []
   },
   "source": [
    "<a id='wrangling'></a>\n",
    "## Data wrangling\n"
   ]
  },
  {
   "cell_type": "code",
   "execution_count": 233,
   "id": "46257670",
   "metadata": {
    "execution": {
     "iopub.execute_input": "2023-04-16T07:05:04.915288Z",
     "iopub.status.busy": "2023-04-16T07:05:04.914286Z",
     "iopub.status.idle": "2023-04-16T07:05:09.029807Z",
     "shell.execute_reply": "2023-04-16T07:05:09.028695Z"
    },
    "papermill": {
     "duration": 4.126035,
     "end_time": "2023-04-16T07:05:09.032274",
     "exception": false,
     "start_time": "2023-04-16T07:05:04.906239",
     "status": "completed"
    },
    "tags": []
   },
   "outputs": [
    {
     "name": "stdout",
     "output_type": "stream",
     "text": [
      "Graph with 8 nodes and 13 edges\n"
     ]
    }
   ],
   "source": [
    "with open(url, 'rb') as f:\n",
    "    Graphs = pickle.load(f)\n",
    "    \n",
    "G = Graphs[1911]\n",
    "print(G)\n",
    "# draw_graph(G)"
   ]
  },
  {
   "cell_type": "code",
   "execution_count": 243,
   "id": "13d950b9",
   "metadata": {
    "execution": {
     "iopub.execute_input": "2023-04-16T07:05:09.049725Z",
     "iopub.status.busy": "2023-04-16T07:05:09.049298Z",
     "iopub.status.idle": "2023-04-16T07:06:08.885016Z",
     "shell.execute_reply": "2023-04-16T07:06:08.883824Z"
    },
    "papermill": {
     "duration": 59.848906,
     "end_time": "2023-04-16T07:06:08.889158",
     "exception": false,
     "start_time": "2023-04-16T07:05:09.040252",
     "status": "completed"
    },
    "tags": []
   },
   "outputs": [
    {
     "name": "stderr",
     "output_type": "stream",
     "text": [
      "100%|██████████| 80787/80787 [00:56<00:00, 1433.42it/s]\n"
     ]
    },
    {
     "data": {
      "text/plain": [
       "Data(edge_index=[2, 18], roomType_name=[7], rec_w=[7], rec_h=[7], roomSize=[7], x=[7, 3], edge_attr=[18, 1])"
      ]
     },
     "execution_count": 243,
     "metadata": {},
     "output_type": "execute_result"
    }
   ],
   "source": [
    "# Converting networkx graphs to pytorchGeo graphs\n",
    "features = ['roomType_embd', 'actualCentroid_x', 'actualCentroid_y']\n",
    "Graphs_pyTorch = []\n",
    "for G in tqdm(Graphs):\n",
    "    G_new = from_networkx(G, group_node_attrs=features, group_edge_attrs=['distance'])\n",
    "    # Normalizing feature matrix (x)\n",
    "    # G_new = T.NormalizeFeatures()(G_new)\n",
    "    \n",
    "    Graphs_pyTorch.append(G_new)\n",
    "\n",
    "Graphs_pyTorch[0]"
   ]
  },
  {
   "cell_type": "markdown",
   "id": "e54fda15",
   "metadata": {
    "papermill": {
     "duration": 0.035769,
     "end_time": "2023-04-16T07:06:08.961612",
     "exception": false,
     "start_time": "2023-04-16T07:06:08.925843",
     "status": "completed"
    },
    "tags": []
   },
   "source": [
    "> There are many types of `rooms` but we will give them a defualt number = 1.\n",
    "> So, also we will decrease the embedings to be between 0:6"
   ]
  },
  {
   "cell_type": "code",
   "execution_count": 250,
   "id": "7e69bd2b",
   "metadata": {
    "execution": {
     "iopub.execute_input": "2023-04-16T07:06:09.036527Z",
     "iopub.status.busy": "2023-04-16T07:06:09.036125Z",
     "iopub.status.idle": "2023-04-16T07:06:14.012391Z",
     "shell.execute_reply": "2023-04-16T07:06:14.011140Z"
    },
    "papermill": {
     "duration": 5.017094,
     "end_time": "2023-04-16T07:06:14.015314",
     "exception": false,
     "start_time": "2023-04-16T07:06:08.998220",
     "status": "completed"
    },
    "tags": []
   },
   "outputs": [
    {
     "name": "stdout",
     "output_type": "stream",
     "text": [
      "Befor: G_1 embedings are: tensor([[  0.0000,  81.9371, 137.1722],\n",
      "        [  1.0000, 181.5403, 165.1201],\n",
      "        [  3.0000, 120.7426, 100.7954],\n",
      "        [  7.0000, 132.6687, 167.8575],\n",
      "        [  7.0000, 152.0459, 100.5418],\n",
      "        [  3.0000, 192.0000, 127.0000],\n",
      "        [  2.0000,  59.5000,  55.5000],\n",
      "        [  9.0000,  77.0000, 210.5000]])\n"
     ]
    },
    {
     "name": "stderr",
     "output_type": "stream",
     "text": [
      "100%|██████████| 80787/80787 [00:07<00:00, 10353.88it/s]"
     ]
    },
    {
     "name": "stdout",
     "output_type": "stream",
     "text": [
      "After: G_1 embedings are: tensor([[  0.0000,  81.9371, 137.1722],\n",
      "        [  1.0000, 181.5403, 165.1201],\n",
      "        [  3.0000, 120.7426, 100.7954],\n",
      "        [  1.0000, 132.6687, 167.8575],\n",
      "        [  1.0000, 152.0459, 100.5418],\n",
      "        [  3.0000, 192.0000, 127.0000],\n",
      "        [  2.0000,  59.5000,  55.5000],\n",
      "        [  4.0000,  77.0000, 210.5000]])\n"
     ]
    },
    {
     "name": "stderr",
     "output_type": "stream",
     "text": [
      "\n"
     ]
    }
   ],
   "source": [
    "print(f'Befor: G_1 embedings are: {Graphs_pyTorch[1].x}')\n",
    "for G in tqdm(Graphs_pyTorch, total=len(Graphs_pyTorch)):\n",
    "    for j ,value in enumerate(G.x):\n",
    "        type_ = int(value[0].item())\n",
    "        \n",
    "        if type_ in [1, 4, 5, 6, 7, 8]:\n",
    "            G.x[j][0] = 1\n",
    "        \n",
    "        # making all labels from 0 to 6 only to help one_hotting\n",
    "        elif type_ == 9:\n",
    "            G.x[j][0] = 4\n",
    "        elif type_ == 10:\n",
    "            G.x[j][0] = 5\n",
    "        elif type_ == 11:\n",
    "            G.x[j][0] = 6\n",
    "\n",
    "    \n",
    "print(f'After: G_1 embedings are: {Graphs_pyTorch[1].x}')"
   ]
  },
  {
   "cell_type": "markdown",
   "id": "11253bff",
   "metadata": {
    "papermill": {
     "duration": 0.046637,
     "end_time": "2023-04-16T07:06:14.103309",
     "exception": false,
     "start_time": "2023-04-16T07:06:14.056672",
     "status": "completed"
    },
    "tags": []
   },
   "source": [
    "> Normalization for the centroids columns & hot encoding the type one for the graphs data."
   ]
  },
  {
   "cell_type": "code",
   "execution_count": 251,
   "id": "5b0867e5",
   "metadata": {
    "execution": {
     "iopub.execute_input": "2023-04-16T07:06:14.214553Z",
     "iopub.status.busy": "2023-04-16T07:06:14.214159Z",
     "iopub.status.idle": "2023-04-16T07:06:27.490130Z",
     "shell.execute_reply": "2023-04-16T07:06:27.488960Z"
    },
    "papermill": {
     "duration": 13.319589,
     "end_time": "2023-04-16T07:06:27.492511",
     "exception": false,
     "start_time": "2023-04-16T07:06:14.172922",
     "status": "completed"
    },
    "tags": []
   },
   "outputs": [
    {
     "name": "stderr",
     "output_type": "stream",
     "text": [
      "100%|██████████| 80787/80787 [00:07<00:00, 10899.49it/s]\n"
     ]
    }
   ],
   "source": [
    "for G in tqdm(Graphs_pyTorch, total=len(Graphs_pyTorch)):\n",
    "    x = G.x # The feature matrix\n",
    "    # for i in [1, 2]:\n",
    "    #     mean = torch.mean(x[:, i])\n",
    "    #     std  = torch.std(x[:, i])\n",
    "        \n",
    "    #     normalized_column = (x[:, i] - mean) / std\n",
    "    #     G.x[:, i] = normalized_column\n",
    "    \n",
    "    # One hot encoding for the first column [type of rooms]\n",
    "    first_column_encodings = F.one_hot(G.x[:, 0].long(), 7)\n",
    "    \n",
    "    G.x = torch.cat([first_column_encodings, G.x[:, 1:]], axis=1)"
   ]
  },
  {
   "cell_type": "markdown",
   "id": "03b80606",
   "metadata": {
    "papermill": {
     "duration": 0.046795,
     "end_time": "2023-04-16T07:06:27.586904",
     "exception": false,
     "start_time": "2023-04-16T07:06:27.540109",
     "status": "completed"
    },
    "tags": []
   },
   "source": [
    "> If we need to creat graphs with padding by the maximum number of nodes."
   ]
  },
  {
   "cell_type": "code",
   "execution_count": 237,
   "id": "58a7a8dd",
   "metadata": {
    "execution": {
     "iopub.execute_input": "2023-04-16T07:06:28.421500Z",
     "iopub.status.busy": "2023-04-16T07:06:28.419439Z",
     "iopub.status.idle": "2023-04-16T07:06:31.330478Z",
     "shell.execute_reply": "2023-04-16T07:06:31.329316Z"
    },
    "papermill": {
     "duration": 2.96638,
     "end_time": "2023-04-16T07:06:31.332938",
     "exception": false,
     "start_time": "2023-04-16T07:06:28.366558",
     "status": "completed"
    },
    "tags": []
   },
   "outputs": [],
   "source": [
    "class GATNet(torch.nn.Module):\n",
    "    def __init__(self, num_node_features):\n",
    "        super(GATNet, self).__init__()\n",
    "        self.conv1 = GATConv(num_node_features, 32, heads=8)\n",
    "        \n",
    "        input_of_conv2 = 32*8 + 9  # output of conv1 + featurs of the real x = 9 => 265\n",
    "        self.conv2 = GATConv(input_of_conv2, 64, heads=8)\n",
    "        \n",
    "        input_of_conv3 = 64*8 + 265 # output of conv2 + input of conv2 => 777\n",
    "        self.conv3 = GATConv(input_of_conv3, 64, heads=8)\n",
    "        \n",
    "        input_of_conv4 = 64*8 + 777 # output of conv3 + input of conv3 => 1289\n",
    "        self.conv4 = GATConv(input_of_conv4, 64, heads=8)\n",
    "        \n",
    "        input_of_conv5 = 64*8 + 1289 # output of conv3 + input of conv3 => 1801 \n",
    "        self.conv5 = GATConv(input_of_conv5, 32, heads=4)\n",
    "        \n",
    "        input_of_lin1 = 32*4 + 1801 # => 1929\n",
    "        self.lin1 = torch.nn.Linear(input_of_lin1, 64)\n",
    "        \n",
    "        input_of_lin2 = 64 + 1929 # => 1993\n",
    "        self.lin2 = torch.nn.Linear(input_of_lin2, 64)\n",
    "        self.regressior = torch.nn.Linear(64, 2)\n",
    "        \n",
    "        self.dropout = torch.nn.Dropout(p=0.25)\n",
    "        \n",
    "    def forward(self, data):\n",
    "        x, edge_index, edge_attr, batch = data.x, data.edge_index, data.edge_attr, data.batch\n",
    "        if batch == None:\n",
    "            batch = torch.zeros(data.x.shape[0], dtype=torch.long)\n",
    "        \n",
    "        x_res = x # saving a copy of x for residual connection\n",
    "        \n",
    "        x = F.relu(self.conv1(x, edge_index, edge_attr))\n",
    "        x = self.dropout(x)\n",
    "        \n",
    "        x_res = torch.cat([x_res, x], dim=1) \n",
    "        x = F.relu(self.conv2(x_res, edge_index, edge_attr))\n",
    "        x = self.dropout(x)\n",
    "        \n",
    "        x_res = torch.cat([x_res, x], dim=1) \n",
    "        x = F.relu(self.conv3(x_res, edge_index, edge_attr))\n",
    "        x = self.dropout(x)\n",
    "        \n",
    "        x_res = torch.cat([x_res, x], dim=1) \n",
    "        x = F.relu(self.conv4(x_res, edge_index, edge_attr))\n",
    "        x = self.dropout(x)\n",
    "        \n",
    "        x_res = torch.cat([x_res, x], dim=1)\n",
    "        x = F.relu(self.conv5(x_res, edge_index, edge_attr))\n",
    "        x = self.dropout(x)       \n",
    "        \n",
    "        x_res = torch.cat([x_res, x], dim=1) \n",
    "        x = F.relu(self.lin1(x_res))\n",
    "        x = self.dropout(x)\n",
    "        \n",
    "        x_res = torch.cat([x_res, x], dim=1) \n",
    "        x = F.relu(self.lin2(x_res))\n",
    "        x = self.dropout(x)\n",
    "        \n",
    "        x = self.regressior(x)\n",
    "        return x\n",
    "\n",
    "num_features = Graphs_pyTorch[0].x.shape[1]\n",
    "model = GATNet(num_features)\n",
    "device = torch.device('cuda' if torch.cuda.is_available() else 'cpu')\n",
    "model = model.to(device)\n",
    "# to monitor the loss & accuracy.\n",
    "errors = []\n",
    "acc = []"
   ]
  },
  {
   "cell_type": "code",
   "execution_count": 238,
   "id": "8e8aa871",
   "metadata": {},
   "outputs": [
    {
     "data": {
      "text/plain": [
       "GATNet(\n",
       "  (conv1): GATConv(9, 32, heads=8)\n",
       "  (conv2): GATConv(265, 64, heads=8)\n",
       "  (conv3): GATConv(777, 64, heads=8)\n",
       "  (conv4): GATConv(1289, 64, heads=8)\n",
       "  (conv5): GATConv(1801, 32, heads=4)\n",
       "  (lin1): Linear(in_features=1929, out_features=64, bias=True)\n",
       "  (lin2): Linear(in_features=1993, out_features=64, bias=True)\n",
       "  (regressior): Linear(in_features=64, out_features=2, bias=True)\n",
       "  (dropout): Dropout(p=0.25, inplace=False)\n",
       ")"
      ]
     },
     "execution_count": 238,
     "metadata": {},
     "output_type": "execute_result"
    }
   ],
   "source": [
    "checkpoint_path = \"D:\\Grad\\Graph-Neural-Networks\\Regressions\\squares_w_h\\checkpoints\\Best_model_v1.pth\"\n",
    "checkpoint = torch.load(checkpoint_path)\n",
    "\n",
    "optimizer = torch.optim.Adam(model.parameters(), lr=0.001)\n",
    "\n",
    "\n",
    "model.load_state_dict(checkpoint['model_state_dict'])\n",
    "optimizer.load_state_dict(checkpoint['optimizer_state_dict'])\n",
    "epochs = checkpoint['epoch']\n",
    "\n",
    "model.eval()\n"
   ]
  },
  {
   "cell_type": "code",
   "execution_count": 239,
   "id": "3b8eeb08",
   "metadata": {},
   "outputs": [],
   "source": [
    "class FloorPlan_multipolygon():\n",
    "    def __init__(self, graph, prediction=None):\n",
    "        self.graph       = graph\n",
    "        self.prediction  = prediction\n",
    "        \n",
    "    def get_room_data(self, room_index):\n",
    "        \"\"\"\n",
    "        Inputs: \n",
    "            room_index: index of the room in the graph\n",
    "            \n",
    "        Outputs: \n",
    "            centroid, w, h of that room.\n",
    "        \"\"\"\n",
    "        # # Using networkX graphs\n",
    "        # Graph_data = list(self.graph.nodes(data=True))[room_index][1]\n",
    "        # w = Graph_data['rec_w']\n",
    "        # h = Graph_data['rec_h']\n",
    "        # centroid = (Graph_data['actualCentroid_x'], Graph_data['actualCentroid_y'])\n",
    "        # category = Graph_data['roomType_embd']\n",
    "        \n",
    "        # Using pytorhc Garphs\n",
    "        w = self.graph.rec_w[room_index].item()\n",
    "        h = self.graph.rec_h[room_index].item()\n",
    "        centroid = (self.graph.x[room_index][-2].item(), self.graph.x[room_index][-1].item())\n",
    "        category = torch.argmax(self.graph.x[:, :7][room_index]).item()\n",
    "        \n",
    "        if isinstance(self.prediction, np.ndarray): # A  real array of predictions\n",
    "            w_pre, h_pre = self.get_predictions(room_index)\n",
    "            \n",
    "        else:\n",
    "            w_pre, h_pre = None, None\n",
    "            \n",
    "        data = {\n",
    "            'centroid': centroid,\n",
    "            'real_w': w,\n",
    "            'real_h': h, \n",
    "            'predic_w': w_pre,\n",
    "            'predic_h': h_pre,\n",
    "            'category': category\n",
    "        }\n",
    "        return data\n",
    "    \n",
    "    def create_box(self, room_data):\n",
    "        \"\"\"\n",
    "        Inputs:\n",
    "            room_data: a dictionary with centroid, w, h of that room.\n",
    "            \n",
    "        Outputs:\n",
    "            box: a shapely box with the same centroid, w, h of that room.\n",
    "        \"\"\"\n",
    "        \n",
    "        centroid = room_data['centroid']\n",
    "        # print(centroid)\n",
    "        if isinstance(self.prediction, np.ndarray): # A  real array of predictions\n",
    "            half_w   = room_data['predic_w'] / 2\n",
    "            half_h   = room_data['predic_h'] / 2\n",
    "        \n",
    "        else:\n",
    "            half_w   = room_data['real_w'] / 2\n",
    "            half_h   = room_data['real_h'] / 2\n",
    "\n",
    "        bottom_left  = Point(centroid[0] - half_w, centroid[1] - half_h)\n",
    "        bottom_right = Point(centroid[0] + half_w, centroid[1] - half_h)\n",
    "        top_right    = Point(centroid[0] + half_w, centroid[1] + half_h)\n",
    "        top_left     = Point(centroid[0] - half_w, centroid[1] + half_h)\n",
    "        \n",
    "        box = Polygon([bottom_left, bottom_right, top_right, top_left])\n",
    "        return box\n",
    "\n",
    "    def get_multipoly(self):\n",
    "        \"\"\"\n",
    "        Outputs:\n",
    "            multi_poly: a shapely multipolygon of all the rooms in the floor plan or graph.\n",
    "        \"\"\"\n",
    "        num_of_rooms = self.graph.x.shape[0]\n",
    "        similar_polygons = defaultdict(list)\n",
    "        \n",
    "        for index in range(num_of_rooms):\n",
    "            room_data = self.get_room_data(index)\n",
    "            box = self.create_box(room_data)\n",
    "            \n",
    "            # add each pox to its similar boxes\n",
    "            similar_polygons[room_data['category']].append(box)\n",
    "            \n",
    "        all_polygons = []\n",
    "        for _, polygons in similar_polygons.items():\n",
    "            all_polygons.append(MultiPolygon(polygons))\n",
    "            \n",
    "        compined_polygons_seperated = gpd.GeoSeries(all_polygons)\n",
    "        \n",
    "        return compined_polygons_seperated\n",
    "    \n",
    "    def get_predictions(self, room_index):\n",
    "        \"\"\"\n",
    "        Inputs: \n",
    "            room_index: index of the room in the graph\n",
    "        outputs: \n",
    "            w_predicted: predicted width for that room\n",
    "            h_predicted: predicted width for that room\n",
    "        \"\"\"\n",
    "        w_predicted = self.prediction[:, 0]\n",
    "        h_predicted = self.prediction[:, 1]\n",
    "        \n",
    "        return w_predicted[room_index], h_predicted[room_index]"
   ]
  },
  {
   "attachments": {},
   "cell_type": "markdown",
   "id": "fa0d3f49",
   "metadata": {},
   "source": [
    "## Testing Our model"
   ]
  },
  {
   "attachments": {},
   "cell_type": "markdown",
   "id": "1e60b260",
   "metadata": {},
   "source": [
    "> The real graph"
   ]
  },
  {
   "attachments": {},
   "cell_type": "markdown",
   "id": "14fc8b96",
   "metadata": {},
   "source": [
    "> "
   ]
  },
  {
   "cell_type": "code",
   "execution_count": 252,
   "id": "a2e9c3f8",
   "metadata": {},
   "outputs": [
    {
     "data": {
      "image/png": "[encoded data removed]",
      "text/plain": [
       "<Figure size 400x400 with 1 Axes>"
      ]
     },
     "metadata": {},
     "output_type": "display_data"
    }
   ],
   "source": [
    "Graph_index = -2\n",
    "f = FloorPlan_multipolygon(Graphs_pyTorch[Graph_index], prediction=None)\n",
    "polys = f.get_multipoly()\n",
    "\n",
    "# Plot the floor plan\n",
    "# print(polys)\n",
    "polys.plot(cmap='Dark2_r', figsize=(4, 4), alpha=0.8, linewidth=0.5, edgecolor='black');"
   ]
  },
  {
   "attachments": {},
   "cell_type": "markdown",
   "id": "4436609d",
   "metadata": {},
   "source": [
    "> The predicted graph"
   ]
  },
  {
   "cell_type": "code",
   "execution_count": 253,
   "id": "c7de677a",
   "metadata": {},
   "outputs": [
    {
     "data": {
      "image/png": "[encoded data removed]",
      "text/plain": [
       "<Figure size 400x400 with 1 Axes>"
      ]
     },
     "metadata": {},
     "output_type": "display_data"
    }
   ],
   "source": [
    "w_h_predicted = model(Graphs_pyTorch[Graph_index].to(device)).detach().cpu().numpy()\n",
    "test = FloorPlan_multipolygon(Graphs_pyTorch[Graph_index], prediction=w_h_predicted)\n",
    "\n",
    "polys = test.get_multipoly()\n",
    "polys.plot(cmap='Dark2_r', figsize=(4, 4), alpha=0.8, linewidth=0.5, edgecolor='black');"
   ]
  },
  {
   "cell_type": "code",
   "execution_count": null,
   "id": "477f1c20",
   "metadata": {},
   "outputs": [],
   "source": []
  },
  {
   "cell_type": "code",
   "execution_count": null,
   "id": "c7ff4499",
   "metadata": {},
   "outputs": [],
   "source": []
  }
 ],
 "metadata": {
  "kernelspec": {
   "display_name": "Python 3",
   "language": "python",
   "name": "python3"
  },
  "language_info": {
   "codemirror_mode": {
    "name": "ipython",
    "version": 3
   },
   "file_extension": ".py",
   "mimetype": "text/x-python",
   "name": "python",
   "nbconvert_exporter": "python",
   "pygments_lexer": "ipython3",
   "version": "3.9.16"
  },
  "papermill": {
   "default_parameters": {},
   "duration": 17190.24346,
   "end_time": "2023-04-16T11:50:47.981067",
   "environment_variables": {},
   "exception": null,
   "input_path": "__notebook__.ipynb",
   "output_path": "__notebook__.ipynb",
   "parameters": {},
   "start_time": "2023-04-16T07:04:17.737607",
   "version": "2.4.0"
  }
 },
 "nbformat": 4,
 "nbformat_minor": 5
}
