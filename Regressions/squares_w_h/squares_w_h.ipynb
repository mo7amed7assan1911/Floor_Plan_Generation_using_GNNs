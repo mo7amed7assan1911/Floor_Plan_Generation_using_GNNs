{
 "cells": [
  {
   "cell_type": "markdown",
   "id": "7edfe0a6",
   "metadata": {
    "papermill": {
     "duration": 0.008886,
     "end_time": "2023-04-16T07:04:27.220632",
     "exception": false,
     "start_time": "2023-04-16T07:04:27.211746",
     "status": "completed"
    },
    "tags": []
   },
   "source": [
    "# Planify - Graph Neural Network\n",
    "\n",
    "### Table of Contents\n",
    "<ul>\n",
    "<li><a href=\"#intro\">Introduction</a></li>\n",
    "    <ul>\n",
    "        <li><a href=\"#Imports\">Imports</a></li>\n",
    "        <li><a href=\"#func\">Functions used</a></li>\n",
    "    </ul>\n",
    "<li><a href=\"#wrangling\">Data Wrangling</a></li>\n",
    "<li><a href=\"#model\">GNN Model</a></li>\n",
    "    <ul>\n",
    "        <li><a href=\"#dataLoader\">Data Loader</a></li>\n",
    "        <li><a href=\"#archi\">Architecture</a></li>\n",
    "        <li><a href=\"#train\">Training</a></li> \n",
    "        <li><a href=\"#eval\">Evaluation</a></li>\n",
    "    </ul>\n",
    "</ul>"
   ]
  },
  {
   "cell_type": "markdown",
   "id": "c40f6938",
   "metadata": {
    "papermill": {
     "duration": 0.007171,
     "end_time": "2023-04-16T07:04:27.235516",
     "exception": false,
     "start_time": "2023-04-16T07:04:27.228345",
     "status": "completed"
    },
    "tags": []
   },
   "source": [
    "<a id='intro'></a>\n",
    "## Introduction\n",
    "\n",
    "> This notebook getting garphs in the Networkx format from the `Creating Graphs` notebook. And its main goal is to make the GNN model."
   ]
  },
  {
   "cell_type": "code",
   "execution_count": 1,
   "id": "76f94e1e",
   "metadata": {
    "execution": {
     "iopub.execute_input": "2023-04-16T07:04:27.252696Z",
     "iopub.status.busy": "2023-04-16T07:04:27.252163Z",
     "iopub.status.idle": "2023-04-16T07:04:27.258298Z",
     "shell.execute_reply": "2023-04-16T07:04:27.257146Z"
    },
    "papermill": {
     "duration": 0.018945,
     "end_time": "2023-04-16T07:04:27.261896",
     "exception": false,
     "start_time": "2023-04-16T07:04:27.242951",
     "status": "completed"
    },
    "tags": []
   },
   "outputs": [],
   "source": [
    "# Used for vsCode only to show tqdm process\n",
    "# from IPython.core.interactiveshell import InteractiveShell\n",
    "# InteractiveShell.ast_node_interactivity = \"all\""
   ]
  },
  {
   "cell_type": "markdown",
   "id": "0700caf5",
   "metadata": {
    "papermill": {
     "duration": 0.007268,
     "end_time": "2023-04-16T07:04:27.276656",
     "exception": false,
     "start_time": "2023-04-16T07:04:27.269388",
     "status": "completed"
    },
    "tags": []
   },
   "source": [
    "<a id='Imports'></a>\n",
    "### Imports"
   ]
  },
  {
   "cell_type": "code",
   "execution_count": 2,
   "id": "1dca3e07",
   "metadata": {
    "execution": {
     "iopub.execute_input": "2023-04-16T07:04:27.294414Z",
     "iopub.status.busy": "2023-04-16T07:04:27.293147Z",
     "iopub.status.idle": "2023-04-16T07:04:50.777656Z",
     "shell.execute_reply": "2023-04-16T07:04:50.776400Z"
    },
    "papermill": {
     "duration": 23.496209,
     "end_time": "2023-04-16T07:04:50.780451",
     "exception": false,
     "start_time": "2023-04-16T07:04:27.284242",
     "status": "completed"
    },
    "tags": []
   },
   "outputs": [
    {
     "name": "stdout",
     "output_type": "stream",
     "text": [
      "\u001b[33mWARNING: Running pip as the 'root' user can result in broken permissions and conflicting behaviour with the system package manager. It is recommended to use a virtual environment instead: https://pip.pypa.io/warnings/venv\u001b[0m\u001b[33m\r\n",
      "\u001b[0m"
     ]
    }
   ],
   "source": [
    "# Only for kaggle\n",
    "# !pip install torch_geometric -q"
   ]
  },
  {
   "cell_type": "code",
   "execution_count": 3,
   "id": "8ff9df6f",
   "metadata": {
    "execution": {
     "iopub.execute_input": "2023-04-16T07:04:50.796173Z",
     "iopub.status.busy": "2023-04-16T07:04:50.795844Z",
     "iopub.status.idle": "2023-04-16T07:05:00.947534Z",
     "shell.execute_reply": "2023-04-16T07:05:00.946348Z"
    },
    "papermill": {
     "duration": 10.162476,
     "end_time": "2023-04-16T07:05:00.950150",
     "exception": false,
     "start_time": "2023-04-16T07:04:50.787674",
     "status": "completed"
    },
    "tags": []
   },
   "outputs": [
    {
     "name": "stdout",
     "output_type": "stream",
     "text": [
      "\u001b[33mWARNING: Running pip as the 'root' user can result in broken permissions and conflicting behaviour with the system package manager. It is recommended to use a virtual environment instead: https://pip.pypa.io/warnings/venv\u001b[0m\u001b[33m\r\n",
      "\u001b[0m"
     ]
    }
   ],
   "source": [
    "# Not included packages in kaggle\n",
    "\n",
    "# Install torch_geometric\n",
    "# !pip install /kaggle/input/torch-geometric/torch_sparse-0.6.16-cp37-cp37m-linux_x86_64.whl -q\n",
    "# !pip install /kaggle/input/torch-geometric/torch_scatter-2.1.0-cp37-cp37m-linux_x86_64.whl -q\n",
    "\n",
    "# # # library for getting distinct colores\n",
    "# !pip install distinctipy -q"
   ]
  },
  {
   "cell_type": "code",
   "execution_count": 2,
   "id": "bdec8865",
   "metadata": {
    "execution": {
     "iopub.execute_input": "2023-04-16T07:05:00.966534Z",
     "iopub.status.busy": "2023-04-16T07:05:00.966170Z",
     "iopub.status.idle": "2023-04-16T07:05:04.594842Z",
     "shell.execute_reply": "2023-04-16T07:05:04.593560Z"
    },
    "papermill": {
     "duration": 3.639975,
     "end_time": "2023-04-16T07:05:04.597592",
     "exception": false,
     "start_time": "2023-04-16T07:05:00.957617",
     "status": "completed"
    },
    "tags": []
   },
   "outputs": [],
   "source": [
    "# for data wrangling\n",
    "import pickle\n",
    "import networkx as nx\n",
    "import matplotlib.pyplot as plt\n",
    "import numpy as np\n",
    "import distinctipy\n",
    "import random\n",
    "from torch_geometric.utils import from_networkx\n",
    "\n",
    "# to show advance in for loops\n",
    "from tqdm import tqdm\n",
    "\n",
    "# Using pytorch geometric\n",
    "import torch\n",
    "import torch.nn as nn\n",
    "from torch_geometric.loader import DataLoader\n",
    "from torch_geometric.data import Data, Batch\n",
    "from torch.utils.data import Dataset\n",
    "import torch_geometric.transforms as T\n",
    "\n",
    "\n",
    "# For the GNN model\n",
    "import torch.nn.functional as F\n",
    "from torch_geometric.nn import GCNConv, GATConv, global_mean_pool, global_max_pool\n",
    "\n",
    "\n",
    "# for my pc [linux]\n",
    "# url = '/media/mo/DATA/Grad/Planify_Dataset/Graph/Planify_Graphs.pkl'\n",
    "\n",
    "# for my pc [windows]\n",
    "url = \"D:\\Grad\\Planify_Dataset\\Graph\\graphs\\Graphs_real.pkl\"\n",
    "\n",
    "# for kaggle\n",
    "# url = \"/kaggle/input/planify-graphs-all-forms/graphs/Graphs_real.pkl\""
   ]
  },
  {
   "cell_type": "markdown",
   "id": "d633d942",
   "metadata": {
    "papermill": {
     "duration": 0.007436,
     "end_time": "2023-04-16T07:05:04.613865",
     "exception": false,
     "start_time": "2023-04-16T07:05:04.606429",
     "status": "completed"
    },
    "tags": []
   },
   "source": [
    "<a id='func'></a>\n",
    "### Functions used"
   ]
  },
  {
   "cell_type": "code",
   "execution_count": 3,
   "id": "7190ba39",
   "metadata": {
    "execution": {
     "iopub.execute_input": "2023-04-16T07:05:04.630445Z",
     "iopub.status.busy": "2023-04-16T07:05:04.629728Z",
     "iopub.status.idle": "2023-04-16T07:05:04.854728Z",
     "shell.execute_reply": "2023-04-16T07:05:04.853571Z"
    },
    "papermill": {
     "duration": 0.236698,
     "end_time": "2023-04-16T07:05:04.857751",
     "exception": false,
     "start_time": "2023-04-16T07:05:04.621053",
     "status": "completed"
    },
    "tags": []
   },
   "outputs": [],
   "source": [
    "geoms_columns = ['inner', 'living', 'master', 'kitchen', 'bathroom', 'dining', 'child', 'study',\n",
    "                   'second_room', 'guest', 'balcony', 'storage', 'wall-in',\n",
    "                    'outer_wall', 'front', 'inner_wall', 'interior',\n",
    "                   'front_door', 'outer_wall', 'entrance']\n",
    "\n",
    "N = len(geoms_columns)\n",
    "colors = (np.array(distinctipy.get_colors(N)) * 255).astype(np.uint8)\n",
    "room_color = {room_name: colors[i] for i, room_name in enumerate(geoms_columns)}"
   ]
  },
  {
   "cell_type": "code",
   "execution_count": 4,
   "id": "8232bbab",
   "metadata": {
    "execution": {
     "iopub.execute_input": "2023-04-16T07:05:04.874553Z",
     "iopub.status.busy": "2023-04-16T07:05:04.874164Z",
     "iopub.status.idle": "2023-04-16T07:05:04.883352Z",
     "shell.execute_reply": "2023-04-16T07:05:04.882308Z"
    },
    "papermill": {
     "duration": 0.019976,
     "end_time": "2023-04-16T07:05:04.885693",
     "exception": false,
     "start_time": "2023-04-16T07:05:04.865717",
     "status": "completed"
    },
    "tags": []
   },
   "outputs": [],
   "source": [
    "def draw_graph(G):\n",
    "    #  nodes positions for drawing, note that we invert the y pos\n",
    "    pos = {node: (G.nodes[node]['actualCentroid_x'], -G.nodes[node]['actualCentroid_y']) for node in G.nodes}\n",
    "    \n",
    "    scales = [G.nodes[node]['roomSize'] * 10000 for node in G] \n",
    "    colormap = [room_color[G.nodes[node]['roomType_name']]/255 for node in G]\n",
    "    \n",
    "    nx.draw(G, pos=pos, node_size=scales, node_color=colormap, with_labels=True, font_size=12)\n",
    "    \n",
    "    # Drawing the graph inside a good boundary.\n",
    "    x_coords  = [pos[node][0] for node in pos]\n",
    "    y_coords  = [pos[node][1] for node in pos]\n",
    "    threshold = max(scales) / 100\n",
    "    \n",
    "    plt.xlim(min(x_coords) - threshold, max(x_coords) + threshold)\n",
    "    plt.ylim(min(y_coords) - threshold, max(y_coords) + threshold)\n",
    "\n",
    "\n",
    "def collate_fn(graphs_list):\n",
    "    batch = Batch.from_data_list([Data.from_(g) for g in graphs_list])\n",
    "    return batch"
   ]
  },
  {
   "cell_type": "markdown",
   "id": "086bffe5",
   "metadata": {
    "papermill": {
     "duration": 0.006753,
     "end_time": "2023-04-16T07:05:04.899507",
     "exception": false,
     "start_time": "2023-04-16T07:05:04.892754",
     "status": "completed"
    },
    "tags": []
   },
   "source": [
    "<a id='wrangling'></a>\n",
    "## Data wrangling\n"
   ]
  },
  {
   "cell_type": "code",
   "execution_count": 5,
   "id": "46257670",
   "metadata": {
    "execution": {
     "iopub.execute_input": "2023-04-16T07:05:04.915288Z",
     "iopub.status.busy": "2023-04-16T07:05:04.914286Z",
     "iopub.status.idle": "2023-04-16T07:05:09.029807Z",
     "shell.execute_reply": "2023-04-16T07:05:09.028695Z"
    },
    "papermill": {
     "duration": 4.126035,
     "end_time": "2023-04-16T07:05:09.032274",
     "exception": false,
     "start_time": "2023-04-16T07:05:04.906239",
     "status": "completed"
    },
    "tags": []
   },
   "outputs": [
    {
     "name": "stdout",
     "output_type": "stream",
     "text": [
      "Graph with 8 nodes and 13 edges\n"
     ]
    },
    {
     "data": {
      "image/png": "[encoded data removed]",
      "text/plain": [
       "<Figure size 640x480 with 1 Axes>"
      ]
     },
     "metadata": {},
     "output_type": "display_data"
    }
   ],
   "source": [
    "with open(url, 'rb') as f:\n",
    "    Graphs = pickle.load(f)\n",
    "    \n",
    "G = Graphs[1911]\n",
    "print(G)\n",
    "draw_graph(G)"
   ]
  },
  {
   "cell_type": "code",
   "execution_count": 6,
   "id": "13d950b9",
   "metadata": {
    "execution": {
     "iopub.execute_input": "2023-04-16T07:05:09.049725Z",
     "iopub.status.busy": "2023-04-16T07:05:09.049298Z",
     "iopub.status.idle": "2023-04-16T07:06:08.885016Z",
     "shell.execute_reply": "2023-04-16T07:06:08.883824Z"
    },
    "papermill": {
     "duration": 59.848906,
     "end_time": "2023-04-16T07:06:08.889158",
     "exception": false,
     "start_time": "2023-04-16T07:05:09.040252",
     "status": "completed"
    },
    "tags": []
   },
   "outputs": [
    {
     "name": "stderr",
     "output_type": "stream",
     "text": [
      "100%|██████████| 80787/80787 [00:48<00:00, 1665.79it/s]\n"
     ]
    },
    {
     "data": {
      "text/plain": [
       "Data(edge_index=[2, 18], roomType_name=[7], rec_w=[7], rec_h=[7], roomSize=[7], x=[7, 3], edge_attr=[18, 1])"
      ]
     },
     "execution_count": 6,
     "metadata": {},
     "output_type": "execute_result"
    }
   ],
   "source": [
    "# Converting networkx graphs to pytorchGeo graphs\n",
    "features = ['roomType_embd', 'actualCentroid_x', 'actualCentroid_y']\n",
    "Graphs_pyTorch = []\n",
    "for G in tqdm(Graphs):\n",
    "    G_new = from_networkx(G, group_node_attrs=features, group_edge_attrs=['distance'])\n",
    "    # Normalizing feature matrix (x)\n",
    "    # G_new = T.NormalizeFeatures()(G_new)\n",
    "    \n",
    "    Graphs_pyTorch.append(G_new)\n",
    "\n",
    "Graphs_pyTorch[0]"
   ]
  },
  {
   "cell_type": "markdown",
   "id": "e54fda15",
   "metadata": {
    "papermill": {
     "duration": 0.035769,
     "end_time": "2023-04-16T07:06:08.961612",
     "exception": false,
     "start_time": "2023-04-16T07:06:08.925843",
     "status": "completed"
    },
    "tags": []
   },
   "source": [
    "> There are many types of `rooms` but we will give them a defualt number = 1.\n",
    "> So, also we will decrease the embedings to be between 0:6"
   ]
  },
  {
   "cell_type": "code",
   "execution_count": 7,
   "id": "7e69bd2b",
   "metadata": {
    "execution": {
     "iopub.execute_input": "2023-04-16T07:06:09.036527Z",
     "iopub.status.busy": "2023-04-16T07:06:09.036125Z",
     "iopub.status.idle": "2023-04-16T07:06:14.012391Z",
     "shell.execute_reply": "2023-04-16T07:06:14.011140Z"
    },
    "papermill": {
     "duration": 5.017094,
     "end_time": "2023-04-16T07:06:14.015314",
     "exception": false,
     "start_time": "2023-04-16T07:06:08.998220",
     "status": "completed"
    },
    "tags": []
   },
   "outputs": [
    {
     "name": "stdout",
     "output_type": "stream",
     "text": [
      "Befor: G_1 embedings are: tensor([[  0.0000,  81.9371, 137.1722],\n",
      "        [  1.0000, 181.5403, 165.1201],\n",
      "        [  3.0000, 120.7426, 100.7954],\n",
      "        [  7.0000, 132.6687, 167.8575],\n",
      "        [  7.0000, 152.0459, 100.5418],\n",
      "        [  3.0000, 192.0000, 127.0000],\n",
      "        [  2.0000,  59.5000,  55.5000],\n",
      "        [  9.0000,  77.0000, 210.5000]])\n"
     ]
    },
    {
     "name": "stderr",
     "output_type": "stream",
     "text": [
      "100%|██████████| 80787/80787 [00:06<00:00, 13030.39it/s]"
     ]
    },
    {
     "name": "stdout",
     "output_type": "stream",
     "text": [
      "After: G_1 embedings are: tensor([[  0.0000,  81.9371, 137.1722],\n",
      "        [  1.0000, 181.5403, 165.1201],\n",
      "        [  3.0000, 120.7426, 100.7954],\n",
      "        [  1.0000, 132.6687, 167.8575],\n",
      "        [  1.0000, 152.0459, 100.5418],\n",
      "        [  3.0000, 192.0000, 127.0000],\n",
      "        [  2.0000,  59.5000,  55.5000],\n",
      "        [  4.0000,  77.0000, 210.5000]])\n"
     ]
    },
    {
     "name": "stderr",
     "output_type": "stream",
     "text": [
      "\n"
     ]
    }
   ],
   "source": [
    "print(f'Befor: G_1 embedings are: {Graphs_pyTorch[1].x}')\n",
    "for G in tqdm(Graphs_pyTorch, total=len(Graphs_pyTorch)):\n",
    "    for j ,value in enumerate(G.x):\n",
    "        type_ = int(value[0].item())\n",
    "        \n",
    "        if type_ in [1, 4, 5, 6, 7, 8]:\n",
    "            G.x[j][0] = 1\n",
    "        \n",
    "        # making all labels from 0 to 6 only to help one_hotting\n",
    "        elif type_ == 9:\n",
    "            G.x[j][0] = 4\n",
    "        elif type_ == 10:\n",
    "            G.x[j][0] = 5\n",
    "        elif type_ == 11:\n",
    "            G.x[j][0] = 6\n",
    "\n",
    "    \n",
    "print(f'After: G_1 embedings are: {Graphs_pyTorch[1].x}')"
   ]
  },
  {
   "cell_type": "markdown",
   "id": "11253bff",
   "metadata": {
    "papermill": {
     "duration": 0.046637,
     "end_time": "2023-04-16T07:06:14.103309",
     "exception": false,
     "start_time": "2023-04-16T07:06:14.056672",
     "status": "completed"
    },
    "tags": []
   },
   "source": [
    "> Normalization for the centroids columns & hot encoding the type one for the graphs data."
   ]
  },
  {
   "cell_type": "code",
   "execution_count": 8,
   "id": "5b0867e5",
   "metadata": {
    "execution": {
     "iopub.execute_input": "2023-04-16T07:06:14.214553Z",
     "iopub.status.busy": "2023-04-16T07:06:14.214159Z",
     "iopub.status.idle": "2023-04-16T07:06:27.490130Z",
     "shell.execute_reply": "2023-04-16T07:06:27.488960Z"
    },
    "papermill": {
     "duration": 13.319589,
     "end_time": "2023-04-16T07:06:27.492511",
     "exception": false,
     "start_time": "2023-04-16T07:06:14.172922",
     "status": "completed"
    },
    "tags": []
   },
   "outputs": [
    {
     "name": "stderr",
     "output_type": "stream",
     "text": [
      "100%|██████████| 80787/80787 [00:18<00:00, 4277.63it/s]\n"
     ]
    }
   ],
   "source": [
    "for G in tqdm(Graphs_pyTorch, total=len(Graphs_pyTorch)):\n",
    "    x = G.x # The feature matrix\n",
    "    for i in [1, 2]:\n",
    "        mean = torch.mean(x[:, i])\n",
    "        std  = torch.std(x[:, i])\n",
    "        \n",
    "        normalized_column = (x[:, i] - mean) / std\n",
    "        G.x[:, i] = normalized_column\n",
    "    \n",
    "    # One hot encoding for the first column [type of rooms]\n",
    "    first_column_encodings = F.one_hot(G.x[:, 0].long(), 7)\n",
    "    \n",
    "    G.x = torch.cat([first_column_encodings, G.x[:, 1:]], axis=1)"
   ]
  },
  {
   "cell_type": "markdown",
   "id": "03b80606",
   "metadata": {
    "papermill": {
     "duration": 0.046795,
     "end_time": "2023-04-16T07:06:27.586904",
     "exception": false,
     "start_time": "2023-04-16T07:06:27.540109",
     "status": "completed"
    },
    "tags": []
   },
   "source": [
    "> If we need to creat graphs with padding by the maximum number of nodes."
   ]
  },
  {
   "cell_type": "code",
   "execution_count": 11,
   "id": "8dbb5be9",
   "metadata": {
    "execution": {
     "iopub.execute_input": "2023-04-16T07:06:27.684876Z",
     "iopub.status.busy": "2023-04-16T07:06:27.684135Z",
     "iopub.status.idle": "2023-04-16T07:06:27.689980Z",
     "shell.execute_reply": "2023-04-16T07:06:27.689033Z"
    },
    "papermill": {
     "duration": 0.058473,
     "end_time": "2023-04-16T07:06:27.692208",
     "exception": false,
     "start_time": "2023-04-16T07:06:27.633735",
     "status": "completed"
    },
    "tags": []
   },
   "outputs": [],
   "source": [
    "# # but we need to do some padding to our graphs to be all of the same number of nodes.\n",
    "# padded_graphs = []\n",
    "# for G in Graphs_pyTorch:\n",
    "#     x          = G.x\n",
    "#     y          = G.roomType_embd\n",
    "#     edge_index = G.edge_index\n",
    "#     edge_attr  = G.edge_attr\n",
    "    \n",
    "#     nu_nodes = x.shape[0]\n",
    "\n",
    "#     padded_x = torch.nn.functional.pad(x, pad=(0, 0, 0, 8 - nu_nodes), mode='constant', value=0)\n",
    "#     padded_y = torch.nn.functional.pad(y, pad=(0, 8 - nu_nodes), mode='constant', value=0)\n",
    "#     train_mask   = torch.ones(nu_nodes)\n",
    "#     train_mask   = torch.nn.functional.pad(train_mask, pad=(0, 8 - nu_nodes), mode='constant', value=0).to(bool)\n",
    "\n",
    "#     data = Data(x = padded_x, y = padded_y, edge_index= G.edge_index, edge_attr = G.edge_attr, train_mask=train_mask)\n",
    "\n",
    "#     padded_graphs.append(data)\n",
    "\n",
    "# padded_graphs[0]"
   ]
  },
  {
   "cell_type": "markdown",
   "id": "dc56cfd6",
   "metadata": {
    "papermill": {
     "duration": 0.04639,
     "end_time": "2023-04-16T07:06:27.784821",
     "exception": false,
     "start_time": "2023-04-16T07:06:27.738431",
     "status": "completed"
    },
    "tags": []
   },
   "source": [
    "<a id='model'></a>\n",
    "## GNN Model"
   ]
  },
  {
   "cell_type": "markdown",
   "id": "67a4b25f",
   "metadata": {
    "papermill": {
     "duration": 0.045935,
     "end_time": "2023-04-16T07:06:27.876757",
     "exception": false,
     "start_time": "2023-04-16T07:06:27.830822",
     "status": "completed"
    },
    "tags": []
   },
   "source": [
    "<a id='dataLoader'></a>\n",
    "### Data Loader"
   ]
  },
  {
   "cell_type": "code",
   "execution_count": 9,
   "id": "4c523858",
   "metadata": {
    "execution": {
     "iopub.execute_input": "2023-04-16T07:06:27.968252Z",
     "iopub.status.busy": "2023-04-16T07:06:27.967260Z",
     "iopub.status.idle": "2023-04-16T07:06:27.975063Z",
     "shell.execute_reply": "2023-04-16T07:06:27.974084Z"
    },
    "papermill": {
     "duration": 0.05577,
     "end_time": "2023-04-16T07:06:27.977270",
     "exception": false,
     "start_time": "2023-04-16T07:06:27.921500",
     "status": "completed"
    },
    "tags": []
   },
   "outputs": [],
   "source": [
    "class Planify_Dataset(Dataset):\n",
    "    def __init__(self, data):\n",
    "        self.Graphs = data\n",
    "    \n",
    "    def __len__(self):\n",
    "        return len(self.Graphs)\n",
    "\n",
    "    def __getitem__(self, index):\n",
    "        G = self.Graphs[index].clone().to(device)\n",
    "        # shuffling nodes inside the same graph\n",
    "        permutation = torch.randperm(G.num_nodes).to(device)\n",
    "        \n",
    "        G.x = G.x[permutation]\n",
    "        G.edge_index = permutation[G.edge_index]\n",
    "        G.rec_w = G.rec_w[permutation]\n",
    "        G.rec_h = G.rec_h[permutation]\n",
    "        # padded_x = torch.nn.functional.pad(x, pad=(0, 0, 0, 8 - nu_nodes), mode='constant', value=0)\n",
    "        # padded_y = torch.nn.functional.pad(y, pad=(0, 8 - nu_nodes), mode='constant', value=0)\n",
    "        \n",
    "        return G"
   ]
  },
  {
   "cell_type": "code",
   "execution_count": 10,
   "id": "2c15bd19",
   "metadata": {
    "execution": {
     "iopub.execute_input": "2023-04-16T07:06:28.069428Z",
     "iopub.status.busy": "2023-04-16T07:06:28.068423Z",
     "iopub.status.idle": "2023-04-16T07:06:28.103754Z",
     "shell.execute_reply": "2023-04-16T07:06:28.102689Z"
    },
    "papermill": {
     "duration": 0.083638,
     "end_time": "2023-04-16T07:06:28.106059",
     "exception": false,
     "start_time": "2023-04-16T07:06:28.022421",
     "status": "completed"
    },
    "tags": []
   },
   "outputs": [
    {
     "name": "stdout",
     "output_type": "stream",
     "text": [
      "train: 72708, val: 8069, test: 10\n"
     ]
    }
   ],
   "source": [
    "edge = int(len(Graphs_pyTorch) * 0.9)\n",
    "batch_size = 64\n",
    "\n",
    "train_dataset = Planify_Dataset(Graphs_pyTorch[:edge])\n",
    "train_loader  = DataLoader(train_dataset, batch_size=batch_size, shuffle=True)\n",
    "\n",
    "val_dataset = Planify_Dataset(Graphs_pyTorch[edge:-10])\n",
    "val_loader  = DataLoader(val_dataset, batch_size=batch_size, shuffle=True)\n",
    "\n",
    "test_dataset = Planify_Dataset(Graphs_pyTorch[-10:])\n",
    "test_loader  = DataLoader(test_dataset, batch_size=batch_size, shuffle=True)\n",
    "\n",
    "print(f\"train: {len(train_dataset)}, val: {len(val_dataset)}, test: {len(test_dataset)}\")"
   ]
  },
  {
   "cell_type": "code",
   "execution_count": 13,
   "id": "13704a40",
   "metadata": {
    "execution": {
     "iopub.execute_input": "2023-04-16T07:06:28.203591Z",
     "iopub.status.busy": "2023-04-16T07:06:28.202512Z",
     "iopub.status.idle": "2023-04-16T07:06:28.210230Z",
     "shell.execute_reply": "2023-04-16T07:06:28.209165Z"
    },
    "papermill": {
     "duration": 0.06059,
     "end_time": "2023-04-16T07:06:28.212505",
     "exception": false,
     "start_time": "2023-04-16T07:06:28.151915",
     "status": "completed"
    },
    "tags": []
   },
   "outputs": [],
   "source": [
    "# Saving model function\n",
    "import os\n",
    "checkpoint_dir = \"./checkpoints\"\n",
    "if not os.path.exists(checkpoint_dir):\n",
    "    os.makedirs(checkpoint_dir)\n",
    "    \n",
    "def save_checkpoint(model, optimizer, epoch):\n",
    "    checkpoint_path = os.path.join(checkpoint_dir, f'Best_model.pth')\n",
    "    # Saving model each 15 epochs\n",
    "#     if epoch % 15 == 0:\n",
    "    torch.save({\n",
    "        'model_state_dict': model.state_dict(),\n",
    "        'optimizer_state_dict': optimizer.state_dict(),\n",
    "        'epoch': epoch\n",
    "    }, checkpoint_path)"
   ]
  },
  {
   "cell_type": "markdown",
   "id": "29f3ef39",
   "metadata": {
    "papermill": {
     "duration": 0.05316,
     "end_time": "2023-04-16T07:06:28.314088",
     "exception": false,
     "start_time": "2023-04-16T07:06:28.260928",
     "status": "completed"
    },
    "tags": []
   },
   "source": [
    "<a id='archi'></a>\n",
    "### Architecture"
   ]
  },
  {
   "cell_type": "code",
   "execution_count": 78,
   "id": "58a7a8dd",
   "metadata": {
    "execution": {
     "iopub.execute_input": "2023-04-16T07:06:28.421500Z",
     "iopub.status.busy": "2023-04-16T07:06:28.419439Z",
     "iopub.status.idle": "2023-04-16T07:06:31.330478Z",
     "shell.execute_reply": "2023-04-16T07:06:31.329316Z"
    },
    "papermill": {
     "duration": 2.96638,
     "end_time": "2023-04-16T07:06:31.332938",
     "exception": false,
     "start_time": "2023-04-16T07:06:28.366558",
     "status": "completed"
    },
    "tags": []
   },
   "outputs": [
    {
     "data": {
      "text/plain": [
       "GATNet(\n",
       "  (conv1): GATConv(9, 32, heads=1)\n",
       "  (conv2): GATConv(41, 32, heads=8)\n",
       "  (conv3): GATConv(297, 64, heads=8)\n",
       "  (conv4): GATConv(809, 64, heads=8)\n",
       "  (conv5): GATConv(1321, 64, heads=16)\n",
       "  (conv6): GATConv(2345, 64, heads=16)\n",
       "  (conv7): GATConv(3369, 64, heads=16)\n",
       "  (conv8): GATConv(4393, 64, heads=16)\n",
       "  (lin1): Linear(in_features=5417, out_features=128, bias=True)\n",
       "  (lin2): Linear(in_features=5545, out_features=128, bias=True)\n",
       "  (lin3): Linear(in_features=128, out_features=64, bias=True)\n",
       "  (regressior): Linear(in_features=64, out_features=2, bias=True)\n",
       "  (dropout): Dropout(p=0.25, inplace=False)\n",
       ")"
      ]
     },
     "execution_count": 78,
     "metadata": {},
     "output_type": "execute_result"
    }
   ],
   "source": [
    "class GATNet(torch.nn.Module):\n",
    "    def __init__(self, num_node_features):\n",
    "        super(GATNet, self).__init__()\n",
    "        self.conv1 = GATConv(num_node_features, 32)\n",
    "        \n",
    "        input_of_conv2 = 32 + 9  # output of conv1 + featurs of the real x = 9 => 41\n",
    "        self.conv2 = GATConv(input_of_conv2, 32, heads=8)\n",
    "        \n",
    "        input_of_conv3 = 32*8 + 41 # output of conv2 + input of conv2 => 297\n",
    "        self.conv3 = GATConv(input_of_conv3, 64, heads=8)\n",
    "        \n",
    "        input_of_conv4 = 64*8 + 297 # output of conv3 + input of conv3 => 809\n",
    "        self.conv4 = GATConv(input_of_conv4, 64, heads=8)\n",
    "        \n",
    "        input_of_conv5 = 64*8 + 809 # output of conv4 + input of conv4 => 1321 \n",
    "        self.conv5 = GATConv(input_of_conv5, 64, heads=16)\n",
    "        \n",
    "        input_of_conv6 = 64*16 + 1321 # output of conv5 + input of conv5 => 2345 \n",
    "        self.conv6 = GATConv(input_of_conv6, 64, heads=16)\n",
    "        \n",
    "        input_of_conv7 = 64*16 + 2345 # output of conv3 + input of conv3 => 3369 \n",
    "        self.conv7 = GATConv(input_of_conv7, 64, heads=16)\n",
    "        \n",
    "        input_of_conv8 = 64*16 + 3369 # output of conv3 + input of conv3 => 4393 \n",
    "        self.conv8 = GATConv(input_of_conv8, 64, heads=16)\n",
    "        \n",
    "        input_of_lin1 = 64*16 + 4393 # => 5417\n",
    "        self.lin1 = torch.nn.Linear(input_of_lin1, 128)\n",
    "        \n",
    "        input_of_lin2 = 128 + 5417 # => 5545\n",
    "        self.lin2 = torch.nn.Linear(input_of_lin2, 128)\n",
    "        \n",
    "        self.lin3 = torch.nn.Linear(128, 64)\n",
    "        \n",
    "        self.regressior = torch.nn.Linear(64, 2)\n",
    "        \n",
    "        self.dropout = torch.nn.Dropout(p=0.25)\n",
    "        \n",
    "    def forward(self, data):\n",
    "        x, edge_index, edge_attr, batch = data.x, data.edge_index, data.edge_attr, data.batch\n",
    "        if batch == None:\n",
    "            batch = torch.zeros(data.x.shape[0], dtype=torch.long)\n",
    "        \n",
    "        x_res = x # saving a copy of x for residual connection\n",
    "        \n",
    "        x = F.relu(self.conv1(x, edge_index, edge_attr))\n",
    "        x = self.dropout(x)\n",
    "        \n",
    "        x_res = torch.cat([x_res, x], dim=1) \n",
    "        x = F.relu(self.conv2(x_res, edge_index, edge_attr))\n",
    "        x = self.dropout(x)\n",
    "        \n",
    "        x_res = torch.cat([x_res, x], dim=1) \n",
    "        x = F.relu(self.conv3(x_res, edge_index, edge_attr))\n",
    "        x = self.dropout(x)\n",
    "        \n",
    "        x_res = torch.cat([x_res, x], dim=1) \n",
    "        x = F.relu(self.conv4(x_res, edge_index, edge_attr))\n",
    "        x = self.dropout(x)\n",
    "        \n",
    "        x_res = torch.cat([x_res, x], dim=1)\n",
    "        x = F.relu(self.conv5(x_res, edge_index, edge_attr))\n",
    "        x = self.dropout(x)     \n",
    "        \n",
    "        x_res = torch.cat([x_res, x], dim=1)\n",
    "        x = F.relu(self.conv6(x_res, edge_index, edge_attr))\n",
    "        x = self.dropout(x)     \n",
    "        \n",
    "        x_res = torch.cat([x_res, x], dim=1)\n",
    "        x = F.relu(self.conv7(x_res, edge_index, edge_attr))\n",
    "        x = self.dropout(x)     \n",
    "        \n",
    "        x_res = torch.cat([x_res, x], dim=1)\n",
    "        x = F.relu(self.conv8(x_res, edge_index, edge_attr))\n",
    "        x = self.dropout(x)     \n",
    "        \n",
    "        x_res = torch.cat([x_res, x], dim=1) \n",
    "        x = F.relu(self.lin1(x_res))\n",
    "        x = self.dropout(x)\n",
    "        \n",
    "        x_res = torch.cat([x_res, x], dim=1) \n",
    "        x = F.relu(self.lin2(x_res))\n",
    "        x = self.dropout(x)\n",
    "        \n",
    "        x = F.relu(self.lin3(x))\n",
    "        x = self.dropout(x)\n",
    "        \n",
    "        x = self.regressior(x)\n",
    "        return x\n",
    "\n",
    "num_features = Graphs_pyTorch[0].x.shape[1]\n",
    "model = GATNet(num_features)\n",
    "device = torch.device('cuda' if torch.cuda.is_available() else 'cpu')\n",
    "model = model.to(device)\n",
    "# to monitor the loss & accuracy.\n",
    "errors = []\n",
    "acc = []\n",
    "\n",
    "model"
   ]
  },
  {
   "cell_type": "code",
   "execution_count": 75,
   "id": "62e046ad",
   "metadata": {
    "execution": {
     "iopub.execute_input": "2023-04-16T07:06:31.429468Z",
     "iopub.status.busy": "2023-04-16T07:06:31.429039Z",
     "iopub.status.idle": "2023-04-16T07:06:31.437820Z",
     "shell.execute_reply": "2023-04-16T07:06:31.436729Z"
    },
    "papermill": {
     "duration": 0.060719,
     "end_time": "2023-04-16T07:06:31.440252",
     "exception": false,
     "start_time": "2023-04-16T07:06:31.379533",
     "status": "completed"
    },
    "tags": []
   },
   "outputs": [],
   "source": [
    "def train(model, optimizer, criterion, train_loader):\n",
    "    model.train()\n",
    "    running_loss = 0.0\n",
    "    for i, data in tqdm(enumerate(train_loader), desc=\"Planifying\", total=len(train_loader)):\n",
    "        optimizer.zero_grad()\n",
    "        # Forward pass\n",
    "        \n",
    "        logits    = model(data)\n",
    "        targets   = torch.cat((data.rec_w.unsqueeze(1), data.rec_h.unsqueeze(1)), dim=1)\n",
    "        \n",
    "        loss = criterion(logits, targets)\n",
    "        \n",
    "        # Backward pass\n",
    "        loss.backward()\n",
    "        \n",
    "        # Updating parameters\n",
    "        optimizer.step()\n",
    "\n",
    "        # Monitoring\n",
    "        running_loss += loss.item()\n",
    "        \n",
    "    return running_loss / len(train_loader)\n",
    "\n",
    "\n",
    "def evaluate(model, criterion, val_loader):\n",
    "    model.eval()\n",
    "    running_loss = 0.0\n",
    "    with torch.no_grad():\n",
    "        for data in val_loader:\n",
    "            out = model(data)\n",
    "            targets = torch.cat((data.rec_w.unsqueeze(1), data.rec_h.unsqueeze(1)), dim=1)\n",
    "            loss = criterion(out, targets)\n",
    "            running_loss += loss.item()\n",
    "            \n",
    "    return running_loss / len(val_loader)"
   ]
  },
  {
   "cell_type": "markdown",
   "id": "07f1892e",
   "metadata": {
    "papermill": {
     "duration": 0.045093,
     "end_time": "2023-04-16T07:06:31.531558",
     "exception": false,
     "start_time": "2023-04-16T07:06:31.486465",
     "status": "completed"
    },
    "tags": []
   },
   "source": [
    "<a id='train'></a>\n",
    "### Training\n"
   ]
  },
  {
   "cell_type": "code",
   "execution_count": 76,
   "id": "4ad0eb1e",
   "metadata": {
    "execution": {
     "iopub.execute_input": "2023-04-16T07:06:31.621861Z",
     "iopub.status.busy": "2023-04-16T07:06:31.621498Z",
     "iopub.status.idle": "2023-04-16T07:06:31.628401Z",
     "shell.execute_reply": "2023-04-16T07:06:31.627312Z"
    },
    "papermill": {
     "duration": 0.054691,
     "end_time": "2023-04-16T07:06:31.630468",
     "exception": false,
     "start_time": "2023-04-16T07:06:31.575777",
     "status": "completed"
    },
    "tags": []
   },
   "outputs": [],
   "source": [
    "from copy import deepcopy\n",
    "\n",
    "# Hyperparameters\n",
    "learning_rate = 0.001\n",
    "num_epochs = 5\n",
    "patience = 20 # Number of epochs to wait if validation loss doesn't improve\n",
    "best_val_loss = float('inf')\n",
    "best_model = None\n",
    "counter = 0\n",
    "\n",
    "optimizer = torch.optim.Adam(model.parameters(), lr=learning_rate)\n",
    "criterion = nn.MSELoss()\n",
    "scheduler = torch.optim.lr_scheduler.StepLR(optimizer, step_size=1, gamma=0.950)\n",
    "\n",
    "train_losses = []\n",
    "val_losses = []"
   ]
  },
  {
   "cell_type": "code",
   "execution_count": 77,
   "id": "83a4982f",
   "metadata": {
    "execution": {
     "iopub.execute_input": "2023-04-16T07:06:31.782505Z",
     "iopub.status.busy": "2023-04-16T07:06:31.782122Z",
     "iopub.status.idle": "2023-04-16T10:19:35.128016Z",
     "shell.execute_reply": "2023-04-16T10:19:35.126369Z"
    },
    "papermill": {
     "duration": 11583.45414,
     "end_time": "2023-04-16T10:19:35.130420",
     "exception": false,
     "start_time": "2023-04-16T07:06:31.676280",
     "status": "completed"
    },
    "tags": []
   },
   "outputs": [
    {
     "name": "stderr",
     "output_type": "stream",
     "text": [
      "Planifying: 100%|██████████| 1137/1137 [02:57<00:00,  6.40it/s]\n"
     ]
    },
    {
     "name": "stdout",
     "output_type": "stream",
     "text": [
      "Validating ...\n",
      "Epoch [1/5], Train Loss: 373.9185, Validation Loss: 209.8772\n"
     ]
    },
    {
     "name": "stderr",
     "output_type": "stream",
     "text": [
      "Planifying: 100%|██████████| 1137/1137 [02:52<00:00,  6.58it/s]\n"
     ]
    },
    {
     "name": "stdout",
     "output_type": "stream",
     "text": [
      "Validating ...\n",
      "Epoch [2/5], Train Loss: 208.8666, Validation Loss: 306.3884\n",
      "Model not saved!\n"
     ]
    },
    {
     "name": "stderr",
     "output_type": "stream",
     "text": [
      "Planifying: 100%|██████████| 1137/1137 [03:00<00:00,  6.31it/s]\n"
     ]
    },
    {
     "name": "stdout",
     "output_type": "stream",
     "text": [
      "Validating ...\n",
      "Epoch [3/5], Train Loss: 181.3532, Validation Loss: 246.0479\n",
      "Model not saved!\n"
     ]
    },
    {
     "name": "stderr",
     "output_type": "stream",
     "text": [
      "Planifying:  65%|██████▍   | 739/1137 [01:58<01:03,  6.25it/s]\n"
     ]
    },
    {
     "ename": "KeyboardInterrupt",
     "evalue": "",
     "output_type": "error",
     "traceback": [
      "\u001b[1;31m---------------------------------------------------------------------------\u001b[0m",
      "\u001b[1;31mKeyboardInterrupt\u001b[0m                         Traceback (most recent call last)",
      "Cell \u001b[1;32mIn[77], line 3\u001b[0m\n\u001b[0;32m      1\u001b[0m \u001b[39mfor\u001b[39;00m epoch \u001b[39min\u001b[39;00m \u001b[39mrange\u001b[39m(num_epochs):\n\u001b[0;32m      2\u001b[0m     \u001b[39m# Training loop\u001b[39;00m\n\u001b[1;32m----> 3\u001b[0m     train_loss \u001b[39m=\u001b[39m train(model, optimizer, criterion, train_loader)\n\u001b[0;32m      4\u001b[0m     train_losses\u001b[39m.\u001b[39mappend(train_loss)\n\u001b[0;32m      6\u001b[0m     \u001b[39m# Evaluation loop\u001b[39;00m\n",
      "Cell \u001b[1;32mIn[75], line 8\u001b[0m, in \u001b[0;36mtrain\u001b[1;34m(model, optimizer, criterion, train_loader)\u001b[0m\n\u001b[0;32m      5\u001b[0m optimizer\u001b[39m.\u001b[39mzero_grad()\n\u001b[0;32m      6\u001b[0m \u001b[39m# Forward pass\u001b[39;00m\n\u001b[1;32m----> 8\u001b[0m logits    \u001b[39m=\u001b[39m model(data)\n\u001b[0;32m      9\u001b[0m targets   \u001b[39m=\u001b[39m torch\u001b[39m.\u001b[39mcat((data\u001b[39m.\u001b[39mrec_w\u001b[39m.\u001b[39munsqueeze(\u001b[39m1\u001b[39m), data\u001b[39m.\u001b[39mrec_h\u001b[39m.\u001b[39munsqueeze(\u001b[39m1\u001b[39m)), dim\u001b[39m=\u001b[39m\u001b[39m1\u001b[39m)\n\u001b[0;32m     11\u001b[0m loss \u001b[39m=\u001b[39m criterion(logits, targets)\n",
      "File \u001b[1;32mc:\\Users\\zmlka\\anaconda3\\envs\\torch130\\lib\\site-packages\\torch\\nn\\modules\\module.py:1190\u001b[0m, in \u001b[0;36mModule._call_impl\u001b[1;34m(self, *input, **kwargs)\u001b[0m\n\u001b[0;32m   1186\u001b[0m \u001b[39m# If we don't have any hooks, we want to skip the rest of the logic in\u001b[39;00m\n\u001b[0;32m   1187\u001b[0m \u001b[39m# this function, and just call forward.\u001b[39;00m\n\u001b[0;32m   1188\u001b[0m \u001b[39mif\u001b[39;00m \u001b[39mnot\u001b[39;00m (\u001b[39mself\u001b[39m\u001b[39m.\u001b[39m_backward_hooks \u001b[39mor\u001b[39;00m \u001b[39mself\u001b[39m\u001b[39m.\u001b[39m_forward_hooks \u001b[39mor\u001b[39;00m \u001b[39mself\u001b[39m\u001b[39m.\u001b[39m_forward_pre_hooks \u001b[39mor\u001b[39;00m _global_backward_hooks\n\u001b[0;32m   1189\u001b[0m         \u001b[39mor\u001b[39;00m _global_forward_hooks \u001b[39mor\u001b[39;00m _global_forward_pre_hooks):\n\u001b[1;32m-> 1190\u001b[0m     \u001b[39mreturn\u001b[39;00m forward_call(\u001b[39m*\u001b[39m\u001b[39minput\u001b[39m, \u001b[39m*\u001b[39m\u001b[39m*\u001b[39mkwargs)\n\u001b[0;32m   1191\u001b[0m \u001b[39m# Do not call functions when jit is used\u001b[39;00m\n\u001b[0;32m   1192\u001b[0m full_backward_hooks, non_full_backward_hooks \u001b[39m=\u001b[39m [], []\n",
      "Cell \u001b[1;32mIn[74], line 50\u001b[0m, in \u001b[0;36mGATNet.forward\u001b[1;34m(self, data)\u001b[0m\n\u001b[0;32m     47\u001b[0m x \u001b[39m=\u001b[39m \u001b[39mself\u001b[39m\u001b[39m.\u001b[39mdropout(x)\n\u001b[0;32m     49\u001b[0m x_res \u001b[39m=\u001b[39m torch\u001b[39m.\u001b[39mcat([x_res, x], dim\u001b[39m=\u001b[39m\u001b[39m1\u001b[39m) \n\u001b[1;32m---> 50\u001b[0m x \u001b[39m=\u001b[39m F\u001b[39m.\u001b[39mrelu(\u001b[39mself\u001b[39;49m\u001b[39m.\u001b[39;49mconv2(x_res, edge_index, edge_attr))\n\u001b[0;32m     51\u001b[0m x \u001b[39m=\u001b[39m \u001b[39mself\u001b[39m\u001b[39m.\u001b[39mdropout(x)\n\u001b[0;32m     53\u001b[0m x_res \u001b[39m=\u001b[39m torch\u001b[39m.\u001b[39mcat([x_res, x], dim\u001b[39m=\u001b[39m\u001b[39m1\u001b[39m) \n",
      "File \u001b[1;32mc:\\Users\\zmlka\\anaconda3\\envs\\torch130\\lib\\site-packages\\torch\\nn\\modules\\module.py:1190\u001b[0m, in \u001b[0;36mModule._call_impl\u001b[1;34m(self, *input, **kwargs)\u001b[0m\n\u001b[0;32m   1186\u001b[0m \u001b[39m# If we don't have any hooks, we want to skip the rest of the logic in\u001b[39;00m\n\u001b[0;32m   1187\u001b[0m \u001b[39m# this function, and just call forward.\u001b[39;00m\n\u001b[0;32m   1188\u001b[0m \u001b[39mif\u001b[39;00m \u001b[39mnot\u001b[39;00m (\u001b[39mself\u001b[39m\u001b[39m.\u001b[39m_backward_hooks \u001b[39mor\u001b[39;00m \u001b[39mself\u001b[39m\u001b[39m.\u001b[39m_forward_hooks \u001b[39mor\u001b[39;00m \u001b[39mself\u001b[39m\u001b[39m.\u001b[39m_forward_pre_hooks \u001b[39mor\u001b[39;00m _global_backward_hooks\n\u001b[0;32m   1189\u001b[0m         \u001b[39mor\u001b[39;00m _global_forward_hooks \u001b[39mor\u001b[39;00m _global_forward_pre_hooks):\n\u001b[1;32m-> 1190\u001b[0m     \u001b[39mreturn\u001b[39;00m forward_call(\u001b[39m*\u001b[39m\u001b[39minput\u001b[39m, \u001b[39m*\u001b[39m\u001b[39m*\u001b[39mkwargs)\n\u001b[0;32m   1191\u001b[0m \u001b[39m# Do not call functions when jit is used\u001b[39;00m\n\u001b[0;32m   1192\u001b[0m full_backward_hooks, non_full_backward_hooks \u001b[39m=\u001b[39m [], []\n",
      "File \u001b[1;32mc:\\Users\\zmlka\\anaconda3\\envs\\torch130\\lib\\site-packages\\torch_geometric\\nn\\conv\\gat_conv.py:238\u001b[0m, in \u001b[0;36mGATConv.forward\u001b[1;34m(self, x, edge_index, edge_attr, size, return_attention_weights)\u001b[0m\n\u001b[0;32m    232\u001b[0m             \u001b[39mraise\u001b[39;00m \u001b[39mNotImplementedError\u001b[39;00m(\n\u001b[0;32m    233\u001b[0m                 \u001b[39m\"\u001b[39m\u001b[39mThe usage of \u001b[39m\u001b[39m'\u001b[39m\u001b[39medge_attr\u001b[39m\u001b[39m'\u001b[39m\u001b[39m and \u001b[39m\u001b[39m'\u001b[39m\u001b[39madd_self_loops\u001b[39m\u001b[39m'\u001b[39m\u001b[39m \u001b[39m\u001b[39m\"\u001b[39m\n\u001b[0;32m    234\u001b[0m                 \u001b[39m\"\u001b[39m\u001b[39msimultaneously is currently not yet supported for \u001b[39m\u001b[39m\"\u001b[39m\n\u001b[0;32m    235\u001b[0m                 \u001b[39m\"\u001b[39m\u001b[39m'\u001b[39m\u001b[39medge_index\u001b[39m\u001b[39m'\u001b[39m\u001b[39m in a \u001b[39m\u001b[39m'\u001b[39m\u001b[39mSparseTensor\u001b[39m\u001b[39m'\u001b[39m\u001b[39m form\u001b[39m\u001b[39m\"\u001b[39m)\n\u001b[0;32m    237\u001b[0m \u001b[39m# edge_updater_type: (alpha: OptPairTensor, edge_attr: OptTensor)\u001b[39;00m\n\u001b[1;32m--> 238\u001b[0m alpha \u001b[39m=\u001b[39m \u001b[39mself\u001b[39;49m\u001b[39m.\u001b[39;49medge_updater(edge_index, alpha\u001b[39m=\u001b[39;49malpha, edge_attr\u001b[39m=\u001b[39;49medge_attr)\n\u001b[0;32m    240\u001b[0m \u001b[39m# propagate_type: (x: OptPairTensor, alpha: Tensor)\u001b[39;00m\n\u001b[0;32m    241\u001b[0m out \u001b[39m=\u001b[39m \u001b[39mself\u001b[39m\u001b[39m.\u001b[39mpropagate(edge_index, x\u001b[39m=\u001b[39mx, alpha\u001b[39m=\u001b[39malpha, size\u001b[39m=\u001b[39msize)\n",
      "File \u001b[1;32mc:\\Users\\zmlka\\anaconda3\\envs\\torch130\\lib\\site-packages\\torch_geometric\\nn\\conv\\message_passing.py:497\u001b[0m, in \u001b[0;36mMessagePassing.edge_updater\u001b[1;34m(self, edge_index, **kwargs)\u001b[0m\n\u001b[0;32m    493\u001b[0m         edge_index, kwargs \u001b[39m=\u001b[39m res\n\u001b[0;32m    495\u001b[0m size \u001b[39m=\u001b[39m \u001b[39mself\u001b[39m\u001b[39m.\u001b[39m__check_input__(edge_index, size\u001b[39m=\u001b[39m\u001b[39mNone\u001b[39;00m)\n\u001b[1;32m--> 497\u001b[0m coll_dict \u001b[39m=\u001b[39m \u001b[39mself\u001b[39;49m\u001b[39m.\u001b[39;49m__collect__(\u001b[39mself\u001b[39;49m\u001b[39m.\u001b[39;49m__edge_user_args__, edge_index, size,\n\u001b[0;32m    498\u001b[0m                              kwargs)\n\u001b[0;32m    500\u001b[0m edge_kwargs \u001b[39m=\u001b[39m \u001b[39mself\u001b[39m\u001b[39m.\u001b[39minspector\u001b[39m.\u001b[39mdistribute(\u001b[39m'\u001b[39m\u001b[39medge_update\u001b[39m\u001b[39m'\u001b[39m, coll_dict)\n\u001b[0;32m    501\u001b[0m out \u001b[39m=\u001b[39m \u001b[39mself\u001b[39m\u001b[39m.\u001b[39medge_update(\u001b[39m*\u001b[39m\u001b[39m*\u001b[39medge_kwargs)\n",
      "File \u001b[1;32mc:\\Users\\zmlka\\anaconda3\\envs\\torch130\\lib\\site-packages\\torch_geometric\\nn\\conv\\message_passing.py:301\u001b[0m, in \u001b[0;36mMessagePassing.__collect__\u001b[1;34m(self, args, edge_index, size, kwargs)\u001b[0m\n\u001b[0;32m    299\u001b[0m         \u001b[39mif\u001b[39;00m \u001b[39misinstance\u001b[39m(data, Tensor):\n\u001b[0;32m    300\u001b[0m             \u001b[39mself\u001b[39m\u001b[39m.\u001b[39m__set_size__(size, dim, data)\n\u001b[1;32m--> 301\u001b[0m             data \u001b[39m=\u001b[39m \u001b[39mself\u001b[39;49m\u001b[39m.\u001b[39;49m__lift__(data, edge_index, dim)\n\u001b[0;32m    303\u001b[0m         out[arg] \u001b[39m=\u001b[39m data\n\u001b[0;32m    305\u001b[0m \u001b[39mif\u001b[39;00m is_torch_sparse_tensor(edge_index):\n",
      "File \u001b[1;32mc:\\Users\\zmlka\\anaconda3\\envs\\torch130\\lib\\site-packages\\torch_geometric\\nn\\conv\\message_passing.py:239\u001b[0m, in \u001b[0;36mMessagePassing.__lift__\u001b[1;34m(self, src, edge_index, dim)\u001b[0m\n\u001b[0;32m    237\u001b[0m \u001b[39mtry\u001b[39;00m:\n\u001b[0;32m    238\u001b[0m     index \u001b[39m=\u001b[39m edge_index[dim]\n\u001b[1;32m--> 239\u001b[0m     \u001b[39mreturn\u001b[39;00m src\u001b[39m.\u001b[39;49mindex_select(\u001b[39mself\u001b[39;49m\u001b[39m.\u001b[39;49mnode_dim, index)\n\u001b[0;32m    240\u001b[0m \u001b[39mexcept\u001b[39;00m (\u001b[39mIndexError\u001b[39;00m, \u001b[39mRuntimeError\u001b[39;00m) \u001b[39mas\u001b[39;00m e:\n\u001b[0;32m    241\u001b[0m     \u001b[39mif\u001b[39;00m \u001b[39m'\u001b[39m\u001b[39mCUDA\u001b[39m\u001b[39m'\u001b[39m \u001b[39min\u001b[39;00m \u001b[39mstr\u001b[39m(e):\n",
      "\u001b[1;31mKeyboardInterrupt\u001b[0m: "
     ]
    }
   ],
   "source": [
    "for epoch in range(num_epochs):\n",
    "    # Training loop\n",
    "    train_loss = train(model, optimizer, criterion, train_loader)\n",
    "    train_losses.append(train_loss)\n",
    "    \n",
    "    # Evaluation loop\n",
    "    print('Validating ...')\n",
    "    val_loss = evaluate(model, criterion, val_loader)\n",
    "    val_losses.append(val_loss)\n",
    "    \n",
    "    # Printing and monitoring\n",
    "    print(f'Epoch [{epoch + 1}/{num_epochs}], Train Loss: {train_loss:.4f}, Validation Loss: {val_loss:.4f}')\n",
    "    \n",
    "    \n",
    "    # Early stopping\n",
    "    if val_loss < best_val_loss:\n",
    "        best_val_loss = val_loss\n",
    "        best_model = deepcopy(model)\n",
    "        save_checkpoint(best_model, optimizer, epoch)\n",
    "        counter = 0\n",
    "    else:\n",
    "        print('Model not saved!')\n",
    "        counter += 1\n",
    "        if counter >= patience:\n",
    "            print(f'Validation loss did not improve for {patience} epochs. Stopping early.')\n",
    "            break\n",
    "        if counter in [3, 5, 7] :\n",
    "            scheduler.step()\n",
    "            print('Learning rate decreased!')"
   ]
  },
  {
   "cell_type": "code",
   "execution_count": null,
   "id": "c00eec0f",
   "metadata": {
    "execution": {
     "iopub.execute_input": "2023-04-16T10:19:35.266929Z",
     "iopub.status.busy": "2023-04-16T10:19:35.266543Z",
     "iopub.status.idle": "2023-04-16T10:56:27.209926Z",
     "shell.execute_reply": "2023-04-16T10:56:27.207662Z"
    },
    "papermill": {
     "duration": 2212.015533,
     "end_time": "2023-04-16T10:56:27.212620",
     "exception": false,
     "start_time": "2023-04-16T10:19:35.197087",
     "status": "completed"
    },
    "tags": []
   },
   "outputs": [
    {
     "name": "stderr",
     "output_type": "stream",
     "text": [
      "Planifying:   0%|          | 0/1137 [00:00<?, ?it/s]\n"
     ]
    },
    {
     "ename": "RuntimeError",
     "evalue": "mat1 and mat2 shapes cannot be multiplied (445x2345 and 1321x1024)",
     "output_type": "error",
     "traceback": [
      "\u001b[1;31m---------------------------------------------------------------------------\u001b[0m",
      "\u001b[1;31mRuntimeError\u001b[0m                              Traceback (most recent call last)",
      "Cell \u001b[1;32mIn[59], line 4\u001b[0m\n\u001b[0;32m      1\u001b[0m counter \u001b[39m=\u001b[39m \u001b[39m0\u001b[39m\n\u001b[0;32m      2\u001b[0m \u001b[39mfor\u001b[39;00m epoch \u001b[39min\u001b[39;00m \u001b[39mrange\u001b[39m(num_epochs):\n\u001b[0;32m      3\u001b[0m     \u001b[39m# Training loop\u001b[39;00m\n\u001b[1;32m----> 4\u001b[0m     train_loss \u001b[39m=\u001b[39m train(model, optimizer, criterion, train_loader)\n\u001b[0;32m      5\u001b[0m     train_losses\u001b[39m.\u001b[39mappend(train_loss)\n\u001b[0;32m      7\u001b[0m     \u001b[39m# Evaluation loop\u001b[39;00m\n",
      "Cell \u001b[1;32mIn[56], line 8\u001b[0m, in \u001b[0;36mtrain\u001b[1;34m(model, optimizer, criterion, train_loader)\u001b[0m\n\u001b[0;32m      5\u001b[0m optimizer\u001b[39m.\u001b[39mzero_grad()\n\u001b[0;32m      6\u001b[0m \u001b[39m# Forward pass\u001b[39;00m\n\u001b[1;32m----> 8\u001b[0m logits    \u001b[39m=\u001b[39m model(data)\n\u001b[0;32m      9\u001b[0m targets   \u001b[39m=\u001b[39m torch\u001b[39m.\u001b[39mcat((data\u001b[39m.\u001b[39mrec_w\u001b[39m.\u001b[39munsqueeze(\u001b[39m1\u001b[39m), data\u001b[39m.\u001b[39mrec_h\u001b[39m.\u001b[39munsqueeze(\u001b[39m1\u001b[39m)), dim\u001b[39m=\u001b[39m\u001b[39m1\u001b[39m)\n\u001b[0;32m     11\u001b[0m loss \u001b[39m=\u001b[39m criterion(logits, targets)\n",
      "File \u001b[1;32mc:\\Users\\zmlka\\anaconda3\\envs\\torch130\\lib\\site-packages\\torch\\nn\\modules\\module.py:1190\u001b[0m, in \u001b[0;36mModule._call_impl\u001b[1;34m(self, *input, **kwargs)\u001b[0m\n\u001b[0;32m   1186\u001b[0m \u001b[39m# If we don't have any hooks, we want to skip the rest of the logic in\u001b[39;00m\n\u001b[0;32m   1187\u001b[0m \u001b[39m# this function, and just call forward.\u001b[39;00m\n\u001b[0;32m   1188\u001b[0m \u001b[39mif\u001b[39;00m \u001b[39mnot\u001b[39;00m (\u001b[39mself\u001b[39m\u001b[39m.\u001b[39m_backward_hooks \u001b[39mor\u001b[39;00m \u001b[39mself\u001b[39m\u001b[39m.\u001b[39m_forward_hooks \u001b[39mor\u001b[39;00m \u001b[39mself\u001b[39m\u001b[39m.\u001b[39m_forward_pre_hooks \u001b[39mor\u001b[39;00m _global_backward_hooks\n\u001b[0;32m   1189\u001b[0m         \u001b[39mor\u001b[39;00m _global_forward_hooks \u001b[39mor\u001b[39;00m _global_forward_pre_hooks):\n\u001b[1;32m-> 1190\u001b[0m     \u001b[39mreturn\u001b[39;00m forward_call(\u001b[39m*\u001b[39m\u001b[39minput\u001b[39m, \u001b[39m*\u001b[39m\u001b[39m*\u001b[39mkwargs)\n\u001b[0;32m   1191\u001b[0m \u001b[39m# Do not call functions when jit is used\u001b[39;00m\n\u001b[0;32m   1192\u001b[0m full_backward_hooks, non_full_backward_hooks \u001b[39m=\u001b[39m [], []\n",
      "Cell \u001b[1;32mIn[55], line 66\u001b[0m, in \u001b[0;36mGATNet.forward\u001b[1;34m(self, data)\u001b[0m\n\u001b[0;32m     63\u001b[0m x \u001b[39m=\u001b[39m \u001b[39mself\u001b[39m\u001b[39m.\u001b[39mdropout(x)     \n\u001b[0;32m     65\u001b[0m x_res \u001b[39m=\u001b[39m torch\u001b[39m.\u001b[39mcat([x_res, x], dim\u001b[39m=\u001b[39m\u001b[39m1\u001b[39m)\n\u001b[1;32m---> 66\u001b[0m x \u001b[39m=\u001b[39m F\u001b[39m.\u001b[39mrelu(\u001b[39mself\u001b[39;49m\u001b[39m.\u001b[39;49mconv6(x_res, edge_index, edge_attr))\n\u001b[0;32m     67\u001b[0m x \u001b[39m=\u001b[39m \u001b[39mself\u001b[39m\u001b[39m.\u001b[39mdropout(x)     \n\u001b[0;32m     69\u001b[0m x_res \u001b[39m=\u001b[39m torch\u001b[39m.\u001b[39mcat([x_res, x], dim\u001b[39m=\u001b[39m\u001b[39m1\u001b[39m)\n",
      "File \u001b[1;32mc:\\Users\\zmlka\\anaconda3\\envs\\torch130\\lib\\site-packages\\torch\\nn\\modules\\module.py:1190\u001b[0m, in \u001b[0;36mModule._call_impl\u001b[1;34m(self, *input, **kwargs)\u001b[0m\n\u001b[0;32m   1186\u001b[0m \u001b[39m# If we don't have any hooks, we want to skip the rest of the logic in\u001b[39;00m\n\u001b[0;32m   1187\u001b[0m \u001b[39m# this function, and just call forward.\u001b[39;00m\n\u001b[0;32m   1188\u001b[0m \u001b[39mif\u001b[39;00m \u001b[39mnot\u001b[39;00m (\u001b[39mself\u001b[39m\u001b[39m.\u001b[39m_backward_hooks \u001b[39mor\u001b[39;00m \u001b[39mself\u001b[39m\u001b[39m.\u001b[39m_forward_hooks \u001b[39mor\u001b[39;00m \u001b[39mself\u001b[39m\u001b[39m.\u001b[39m_forward_pre_hooks \u001b[39mor\u001b[39;00m _global_backward_hooks\n\u001b[0;32m   1189\u001b[0m         \u001b[39mor\u001b[39;00m _global_forward_hooks \u001b[39mor\u001b[39;00m _global_forward_pre_hooks):\n\u001b[1;32m-> 1190\u001b[0m     \u001b[39mreturn\u001b[39;00m forward_call(\u001b[39m*\u001b[39m\u001b[39minput\u001b[39m, \u001b[39m*\u001b[39m\u001b[39m*\u001b[39mkwargs)\n\u001b[0;32m   1191\u001b[0m \u001b[39m# Do not call functions when jit is used\u001b[39;00m\n\u001b[0;32m   1192\u001b[0m full_backward_hooks, non_full_backward_hooks \u001b[39m=\u001b[39m [], []\n",
      "File \u001b[1;32mc:\\Users\\zmlka\\anaconda3\\envs\\torch130\\lib\\site-packages\\torch_geometric\\nn\\conv\\gat_conv.py:199\u001b[0m, in \u001b[0;36mGATConv.forward\u001b[1;34m(self, x, edge_index, edge_attr, size, return_attention_weights)\u001b[0m\n\u001b[0;32m    197\u001b[0m \u001b[39mif\u001b[39;00m \u001b[39misinstance\u001b[39m(x, Tensor):\n\u001b[0;32m    198\u001b[0m     \u001b[39massert\u001b[39;00m x\u001b[39m.\u001b[39mdim() \u001b[39m==\u001b[39m \u001b[39m2\u001b[39m, \u001b[39m\"\u001b[39m\u001b[39mStatic graphs not supported in \u001b[39m\u001b[39m'\u001b[39m\u001b[39mGATConv\u001b[39m\u001b[39m'\u001b[39m\u001b[39m\"\u001b[39m\n\u001b[1;32m--> 199\u001b[0m     x_src \u001b[39m=\u001b[39m x_dst \u001b[39m=\u001b[39m \u001b[39mself\u001b[39;49m\u001b[39m.\u001b[39;49mlin_src(x)\u001b[39m.\u001b[39mview(\u001b[39m-\u001b[39m\u001b[39m1\u001b[39m, H, C)\n\u001b[0;32m    200\u001b[0m \u001b[39melse\u001b[39;00m:  \u001b[39m# Tuple of source and target node features:\u001b[39;00m\n\u001b[0;32m    201\u001b[0m     x_src, x_dst \u001b[39m=\u001b[39m x\n",
      "File \u001b[1;32mc:\\Users\\zmlka\\anaconda3\\envs\\torch130\\lib\\site-packages\\torch\\nn\\modules\\module.py:1190\u001b[0m, in \u001b[0;36mModule._call_impl\u001b[1;34m(self, *input, **kwargs)\u001b[0m\n\u001b[0;32m   1186\u001b[0m \u001b[39m# If we don't have any hooks, we want to skip the rest of the logic in\u001b[39;00m\n\u001b[0;32m   1187\u001b[0m \u001b[39m# this function, and just call forward.\u001b[39;00m\n\u001b[0;32m   1188\u001b[0m \u001b[39mif\u001b[39;00m \u001b[39mnot\u001b[39;00m (\u001b[39mself\u001b[39m\u001b[39m.\u001b[39m_backward_hooks \u001b[39mor\u001b[39;00m \u001b[39mself\u001b[39m\u001b[39m.\u001b[39m_forward_hooks \u001b[39mor\u001b[39;00m \u001b[39mself\u001b[39m\u001b[39m.\u001b[39m_forward_pre_hooks \u001b[39mor\u001b[39;00m _global_backward_hooks\n\u001b[0;32m   1189\u001b[0m         \u001b[39mor\u001b[39;00m _global_forward_hooks \u001b[39mor\u001b[39;00m _global_forward_pre_hooks):\n\u001b[1;32m-> 1190\u001b[0m     \u001b[39mreturn\u001b[39;00m forward_call(\u001b[39m*\u001b[39m\u001b[39minput\u001b[39m, \u001b[39m*\u001b[39m\u001b[39m*\u001b[39mkwargs)\n\u001b[0;32m   1191\u001b[0m \u001b[39m# Do not call functions when jit is used\u001b[39;00m\n\u001b[0;32m   1192\u001b[0m full_backward_hooks, non_full_backward_hooks \u001b[39m=\u001b[39m [], []\n",
      "File \u001b[1;32mc:\\Users\\zmlka\\anaconda3\\envs\\torch130\\lib\\site-packages\\torch_geometric\\nn\\dense\\linear.py:136\u001b[0m, in \u001b[0;36mLinear.forward\u001b[1;34m(self, x)\u001b[0m\n\u001b[0;32m    131\u001b[0m \u001b[39mdef\u001b[39;00m \u001b[39mforward\u001b[39m(\u001b[39mself\u001b[39m, x: Tensor) \u001b[39m-\u001b[39m\u001b[39m>\u001b[39m Tensor:\n\u001b[0;32m    132\u001b[0m     \u001b[39mr\u001b[39m\u001b[39m\"\"\"\u001b[39;00m\n\u001b[0;32m    133\u001b[0m \u001b[39m    Args:\u001b[39;00m\n\u001b[0;32m    134\u001b[0m \u001b[39m        x (Tensor): The features.\u001b[39;00m\n\u001b[0;32m    135\u001b[0m \u001b[39m    \"\"\"\u001b[39;00m\n\u001b[1;32m--> 136\u001b[0m     \u001b[39mreturn\u001b[39;00m F\u001b[39m.\u001b[39;49mlinear(x, \u001b[39mself\u001b[39;49m\u001b[39m.\u001b[39;49mweight, \u001b[39mself\u001b[39;49m\u001b[39m.\u001b[39;49mbias)\n",
      "\u001b[1;31mRuntimeError\u001b[0m: mat1 and mat2 shapes cannot be multiplied (445x2345 and 1321x1024)"
     ]
    }
   ],
   "source": [
    "counter = 0\n",
    "for epoch in range(num_epochs):\n",
    "    # Training loop\n",
    "    train_loss = train(model, optimizer, criterion, train_loader)\n",
    "    train_losses.append(train_loss)\n",
    "    \n",
    "    # Evaluation loop\n",
    "    print('Validating ...')\n",
    "    val_loss = evaluate(model, criterion, val_loader)\n",
    "    val_losses.append(val_loss)\n",
    "    \n",
    "    # Printing and monitoring\n",
    "    print(f'Epoch [{epoch + 1}/{num_epochs}], Train Loss: {train_loss:.4f}, Validation Loss: {val_loss:.4f}')\n",
    "    \n",
    "    \n",
    "    # Early stopping\n",
    "    if val_loss < best_val_loss:\n",
    "        best_val_loss = val_loss\n",
    "        best_model = deepcopy(model)\n",
    "        save_checkpoint(best_model, optimizer, epoch)\n",
    "        counter = 0\n",
    "    else:\n",
    "        print('Model not saved!')\n",
    "        counter += 1\n",
    "        if counter >= patience:\n",
    "            print(f'Validation loss did not improve for {patience} epochs. Stopping early.')\n",
    "            break\n",
    "        if counter in [3, 5, 7] :\n",
    "            scheduler.step()\n",
    "            print('Learning rate decreased!')"
   ]
  },
  {
   "cell_type": "code",
   "execution_count": 20,
   "id": "e9fdf747",
   "metadata": {
    "execution": {
     "iopub.execute_input": "2023-04-16T10:56:27.354536Z",
     "iopub.status.busy": "2023-04-16T10:56:27.352906Z",
     "iopub.status.idle": "2023-04-16T11:31:18.663616Z",
     "shell.execute_reply": "2023-04-16T11:31:18.662235Z"
    },
    "papermill": {
     "duration": 2091.383046,
     "end_time": "2023-04-16T11:31:18.665885",
     "exception": false,
     "start_time": "2023-04-16T10:56:27.282839",
     "status": "completed"
    },
    "tags": []
   },
   "outputs": [
    {
     "name": "stdout",
     "output_type": "stream",
     "text": [
      "Validating ...\n",
      "Epoch [1/250], Train Loss: 106.7292, Validation Loss: 102.7367\n",
      "Model not saved!\n",
      "Validating ...\n",
      "Epoch [2/250], Train Loss: 107.0545, Validation Loss: 101.5077\n",
      "Model not saved!\n",
      "Validating ...\n",
      "Epoch [3/250], Train Loss: 107.0885, Validation Loss: 102.1385\n",
      "Model not saved!\n",
      "Learning rate decreased!\n",
      "Validating ...\n",
      "Epoch [4/250], Train Loss: 107.0294, Validation Loss: 101.7070\n",
      "Model not saved!\n",
      "Validating ...\n",
      "Epoch [5/250], Train Loss: 107.2129, Validation Loss: 101.7178\n",
      "Model not saved!\n",
      "Learning rate decreased!\n",
      "Validating ...\n",
      "Epoch [6/250], Train Loss: 106.6901, Validation Loss: 101.4313\n",
      "Model not saved!\n",
      "Validating ...\n",
      "Epoch [7/250], Train Loss: 106.7046, Validation Loss: 102.1665\n",
      "Model not saved!\n",
      "Learning rate decreased!\n",
      "Validating ...\n",
      "Epoch [8/250], Train Loss: 106.9094, Validation Loss: 101.6042\n",
      "Model not saved!\n",
      "Validating ...\n",
      "Epoch [9/250], Train Loss: 106.8180, Validation Loss: 101.8641\n",
      "Model not saved!\n",
      "Validating ...\n",
      "Epoch [10/250], Train Loss: 106.5919, Validation Loss: 101.6970\n",
      "Model not saved!\n",
      "Validating ...\n",
      "Epoch [11/250], Train Loss: 106.4299, Validation Loss: 101.3061\n",
      "Model not saved!\n",
      "Validating ...\n",
      "Epoch [12/250], Train Loss: 106.5707, Validation Loss: 102.2110\n",
      "Model not saved!\n",
      "Validating ...\n",
      "Epoch [13/250], Train Loss: 106.4810, Validation Loss: 101.9250\n",
      "Model not saved!\n",
      "Validating ...\n",
      "Epoch [14/250], Train Loss: 106.2488, Validation Loss: 102.0457\n",
      "Model not saved!\n",
      "Validating ...\n",
      "Epoch [15/250], Train Loss: 106.5352, Validation Loss: 101.6618\n",
      "Model not saved!\n",
      "Validating ...\n",
      "Epoch [16/250], Train Loss: 106.4110, Validation Loss: 100.9131\n",
      "Validating ...\n",
      "Epoch [17/250], Train Loss: 106.6471, Validation Loss: 101.5256\n",
      "Model not saved!\n",
      "Validating ...\n",
      "Epoch [18/250], Train Loss: 106.5239, Validation Loss: 101.7824\n",
      "Model not saved!\n",
      "Validating ...\n",
      "Epoch [19/250], Train Loss: 106.4358, Validation Loss: 101.7677\n",
      "Model not saved!\n",
      "Learning rate decreased!\n",
      "Validating ...\n",
      "Epoch [20/250], Train Loss: 106.1755, Validation Loss: 101.0065\n",
      "Model not saved!\n",
      "Validating ...\n",
      "Epoch [21/250], Train Loss: 106.2041, Validation Loss: 101.5981\n",
      "Model not saved!\n",
      "Learning rate decreased!\n",
      "Validating ...\n",
      "Epoch [22/250], Train Loss: 106.2792, Validation Loss: 102.0524\n",
      "Model not saved!\n",
      "Validating ...\n",
      "Epoch [23/250], Train Loss: 106.1859, Validation Loss: 101.6286\n",
      "Model not saved!\n",
      "Learning rate decreased!\n",
      "Validating ...\n",
      "Epoch [24/250], Train Loss: 105.8362, Validation Loss: 101.5318\n",
      "Model not saved!\n",
      "Validating ...\n",
      "Epoch [25/250], Train Loss: 105.9280, Validation Loss: 102.2471\n",
      "Model not saved!\n",
      "Validating ...\n",
      "Epoch [26/250], Train Loss: 106.1054, Validation Loss: 101.8576\n",
      "Model not saved!\n",
      "Validating ...\n",
      "Epoch [27/250], Train Loss: 105.9770, Validation Loss: 101.6642\n",
      "Model not saved!\n",
      "Validating ...\n",
      "Epoch [28/250], Train Loss: 106.0752, Validation Loss: 101.4544\n",
      "Model not saved!\n",
      "Validating ...\n",
      "Epoch [29/250], Train Loss: 105.7545, Validation Loss: 101.6530\n",
      "Model not saved!\n",
      "Validating ...\n",
      "Epoch [30/250], Train Loss: 106.0051, Validation Loss: 101.0659\n",
      "Model not saved!\n",
      "Validating ...\n",
      "Epoch [31/250], Train Loss: 105.7531, Validation Loss: 101.2726\n",
      "Model not saved!\n",
      "Validating ...\n",
      "Epoch [32/250], Train Loss: 105.9066, Validation Loss: 101.4570\n",
      "Model not saved!\n",
      "Validating ...\n",
      "Epoch [33/250], Train Loss: 105.9365, Validation Loss: 101.3490\n",
      "Model not saved!\n",
      "Validating ...\n",
      "Epoch [34/250], Train Loss: 106.1176, Validation Loss: 101.3960\n",
      "Model not saved!\n",
      "Validating ...\n",
      "Epoch [35/250], Train Loss: 105.9249, Validation Loss: 101.3413\n",
      "Model not saved!\n",
      "Validating ...\n",
      "Epoch [36/250], Train Loss: 106.2491, Validation Loss: 101.6460\n",
      "Model not saved!\n",
      "Validation loss did not improve for 20 epochs. Stopping early.\n"
     ]
    }
   ],
   "source": [
    "counter = 0\n",
    "for epoch in range(num_epochs):\n",
    "    # Training loop\n",
    "    train_loss = train(model, optimizer, criterion, train_loader)\n",
    "    train_losses.append(train_loss)\n",
    "    \n",
    "    # Evaluation loop\n",
    "    print('Validating ...')\n",
    "    val_loss = evaluate(model, criterion, val_loader)\n",
    "    val_losses.append(val_loss)\n",
    "    \n",
    "    # Printing and monitoring\n",
    "    print(f'Epoch [{epoch + 1}/{num_epochs}], Train Loss: {train_loss:.4f}, Validation Loss: {val_loss:.4f}')\n",
    "    \n",
    "    \n",
    "    # Early stopping\n",
    "    if val_loss < best_val_loss:\n",
    "        best_val_loss = val_loss\n",
    "        best_model = deepcopy(model)\n",
    "        save_checkpoint(best_model, optimizer, epoch)\n",
    "        counter = 0\n",
    "    else:\n",
    "        print('Model not saved!')\n",
    "        counter += 1\n",
    "        if counter >= patience:\n",
    "            print(f'Validation loss did not improve for {patience} epochs. Stopping early.')\n",
    "            break\n",
    "        if counter in [3, 5, 7] :\n",
    "            scheduler.step()\n",
    "            print('Learning rate decreased!')"
   ]
  },
  {
   "cell_type": "code",
   "execution_count": 21,
   "id": "6de5c3ae",
   "metadata": {
    "execution": {
     "iopub.execute_input": "2023-04-16T11:31:18.815229Z",
     "iopub.status.busy": "2023-04-16T11:31:18.814871Z",
     "iopub.status.idle": "2023-04-16T11:50:44.390008Z",
     "shell.execute_reply": "2023-04-16T11:50:44.387866Z"
    },
    "papermill": {
     "duration": 1165.652095,
     "end_time": "2023-04-16T11:50:44.392624",
     "exception": false,
     "start_time": "2023-04-16T11:31:18.740529",
     "status": "completed"
    },
    "tags": []
   },
   "outputs": [
    {
     "name": "stdout",
     "output_type": "stream",
     "text": [
      "Validating ...\n",
      "Epoch [1/250], Train Loss: 105.8150, Validation Loss: 101.3332\n",
      "Model not saved!\n",
      "Validating ...\n",
      "Epoch [2/250], Train Loss: 105.9797, Validation Loss: 101.4282\n",
      "Model not saved!\n",
      "Validating ...\n",
      "Epoch [3/250], Train Loss: 105.4590, Validation Loss: 101.2665\n",
      "Model not saved!\n",
      "Learning rate decreased!\n",
      "Validating ...\n",
      "Epoch [4/250], Train Loss: 105.6600, Validation Loss: 101.6902\n",
      "Model not saved!\n",
      "Validating ...\n",
      "Epoch [5/250], Train Loss: 105.7652, Validation Loss: 101.3444\n",
      "Model not saved!\n",
      "Learning rate decreased!\n",
      "Validating ...\n",
      "Epoch [6/250], Train Loss: 106.1617, Validation Loss: 101.5592\n",
      "Model not saved!\n",
      "Validating ...\n",
      "Epoch [7/250], Train Loss: 105.7369, Validation Loss: 101.9608\n",
      "Model not saved!\n",
      "Learning rate decreased!\n",
      "Validating ...\n",
      "Epoch [8/250], Train Loss: 105.9675, Validation Loss: 101.5100\n",
      "Model not saved!\n",
      "Validating ...\n",
      "Epoch [9/250], Train Loss: 105.9216, Validation Loss: 101.5320\n",
      "Model not saved!\n",
      "Validating ...\n",
      "Epoch [10/250], Train Loss: 105.6975, Validation Loss: 101.0935\n",
      "Model not saved!\n",
      "Validating ...\n",
      "Epoch [11/250], Train Loss: 105.5266, Validation Loss: 101.2606\n",
      "Model not saved!\n",
      "Validating ...\n",
      "Epoch [12/250], Train Loss: 105.7302, Validation Loss: 101.1897\n",
      "Model not saved!\n",
      "Validating ...\n",
      "Epoch [13/250], Train Loss: 105.6735, Validation Loss: 101.3166\n",
      "Model not saved!\n",
      "Validating ...\n",
      "Epoch [14/250], Train Loss: 105.6013, Validation Loss: 101.5619\n",
      "Model not saved!\n",
      "Validating ...\n",
      "Epoch [15/250], Train Loss: 105.7122, Validation Loss: 101.5011\n",
      "Model not saved!\n",
      "Validating ...\n",
      "Epoch [16/250], Train Loss: 105.7951, Validation Loss: 101.1349\n",
      "Model not saved!\n",
      "Validating ...\n",
      "Epoch [17/250], Train Loss: 105.5052, Validation Loss: 101.5595\n",
      "Model not saved!\n",
      "Validating ...\n",
      "Epoch [18/250], Train Loss: 105.5319, Validation Loss: 101.2284\n",
      "Model not saved!\n",
      "Validating ...\n",
      "Epoch [19/250], Train Loss: 105.3207, Validation Loss: 101.7401\n",
      "Model not saved!\n",
      "Validating ...\n",
      "Epoch [20/250], Train Loss: 105.4983, Validation Loss: 101.9417\n",
      "Model not saved!\n",
      "Validation loss did not improve for 20 epochs. Stopping early.\n"
     ]
    }
   ],
   "source": [
    "counter = 0\n",
    "for epoch in range(num_epochs):\n",
    "    # Training loop\n",
    "    train_loss = train(model, optimizer, criterion, train_loader)\n",
    "    train_losses.append(train_loss)\n",
    "    \n",
    "    # Evaluation loop\n",
    "    print('Validating ...')\n",
    "    val_loss = evaluate(model, criterion, val_loader)\n",
    "    val_losses.append(val_loss)\n",
    "    \n",
    "    # Printing and monitoring\n",
    "    print(f'Epoch [{epoch + 1}/{num_epochs}], Train Loss: {train_loss:.4f}, Validation Loss: {val_loss:.4f}')\n",
    "    \n",
    "    \n",
    "    # Early stopping\n",
    "    if val_loss < best_val_loss:\n",
    "        best_val_loss = val_loss\n",
    "        best_model = deepcopy(model)\n",
    "        save_checkpoint(best_model, optimizer, epoch)\n",
    "        counter = 0\n",
    "    else:\n",
    "        print('Model not saved!')\n",
    "        counter += 1\n",
    "        if counter >= patience:\n",
    "            print(f'Validation loss did not improve for {patience} epochs. Stopping early.')\n",
    "            break\n",
    "        if counter in [3, 5, 7] :\n",
    "            scheduler.step()\n",
    "            print('Learning rate decreased!')"
   ]
  },
  {
   "cell_type": "code",
   "execution_count": 22,
   "id": "7f4236af",
   "metadata": {
    "execution": {
     "iopub.execute_input": "2023-04-16T11:50:44.551974Z",
     "iopub.status.busy": "2023-04-16T11:50:44.550766Z",
     "iopub.status.idle": "2023-04-16T11:50:44.795317Z",
     "shell.execute_reply": "2023-04-16T11:50:44.794280Z"
    },
    "papermill": {
     "duration": 0.32619,
     "end_time": "2023-04-16T11:50:44.797759",
     "exception": false,
     "start_time": "2023-04-16T11:50:44.471569",
     "status": "completed"
    },
    "tags": []
   },
   "outputs": [
    {
     "data": {
      "image/png": "[encoded data removed]",
      "text/plain": [
       "<Figure size 640x480 with 1 Axes>"
      ]
     },
     "metadata": {},
     "output_type": "display_data"
    }
   ],
   "source": [
    "plt.plot(train_losses, label='Train Loss');\n",
    "plt.plot(val_losses, label='Validation Loss');\n",
    "plt.xlabel('Epoch');\n",
    "plt.ylabel('Loss');\n",
    "plt.legend();"
   ]
  },
  {
   "cell_type": "markdown",
   "id": "4524c272",
   "metadata": {
    "papermill": {
     "duration": 0.077936,
     "end_time": "2023-04-16T11:50:44.954041",
     "exception": false,
     "start_time": "2023-04-16T11:50:44.876105",
     "status": "completed"
    },
    "tags": []
   },
   "source": [
    "> Testing random graphs"
   ]
  },
  {
   "cell_type": "code",
   "execution_count": 23,
   "id": "15511c02",
   "metadata": {
    "execution": {
     "iopub.execute_input": "2023-04-16T11:50:45.109177Z",
     "iopub.status.busy": "2023-04-16T11:50:45.108550Z",
     "iopub.status.idle": "2023-04-16T11:50:45.143799Z",
     "shell.execute_reply": "2023-04-16T11:50:45.142754Z"
    },
    "papermill": {
     "duration": 0.115381,
     "end_time": "2023-04-16T11:50:45.146177",
     "exception": false,
     "start_time": "2023-04-16T11:50:45.030796",
     "status": "completed"
    },
    "tags": []
   },
   "outputs": [
    {
     "name": "stdout",
     "output_type": "stream",
     "text": [
      "target: tensor([[ 24.,  37.],\n",
      "        [ 45.,  49.],\n",
      "        [ 35.,  49.],\n",
      "        [ 45.,  39.],\n",
      "        [ 23.,  38.],\n",
      "        [111.,  64.]], device='cuda:0')\n",
      "\n",
      "predicted: tensor([[ 37.4103,  30.9745],\n",
      "        [ 52.0932,  43.7019],\n",
      "        [ 39.6013,  40.1620],\n",
      "        [ 40.6948,  41.6247],\n",
      "        [ 26.5419,  30.9509],\n",
      "        [136.3765,  64.1961]], device='cuda:0')\n"
     ]
    }
   ],
   "source": [
    "G = val_dataset[0]\n",
    "batch = torch.zeros(G.x.shape[0], dtype=torch.long)\n",
    "\n",
    "target = torch.cat((G.rec_w.unsqueeze(1), G.rec_h.unsqueeze(1)), dim=1)\n",
    "\n",
    "model.eval()\n",
    "with torch.no_grad():\n",
    "    predicted = best_model(G)\n",
    "\n",
    "print(f\"target: {target}\\n\\npredicted: {predicted}\")"
   ]
  }
 ],
 "metadata": {
  "kernelspec": {
   "display_name": "Python 3",
   "language": "python",
   "name": "python3"
  },
  "language_info": {
   "codemirror_mode": {
    "name": "ipython",
    "version": 3
   },
   "file_extension": ".py",
   "mimetype": "text/x-python",
   "name": "python",
   "nbconvert_exporter": "python",
   "pygments_lexer": "ipython3",
   "version": "3.9.16"
  },
  "papermill": {
   "default_parameters": {},
   "duration": 17190.24346,
   "end_time": "2023-04-16T11:50:47.981067",
   "environment_variables": {},
   "exception": null,
   "input_path": "__notebook__.ipynb",
   "output_path": "__notebook__.ipynb",
   "parameters": {},
   "start_time": "2023-04-16T07:04:17.737607",
   "version": "2.4.0"
  }
 },
 "nbformat": 4,
 "nbformat_minor": 5
}
