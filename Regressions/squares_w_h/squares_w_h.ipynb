{
 "cells": [
  {
   "cell_type": "markdown",
   "id": "88f1eb50",
   "metadata": {},
   "source": [
    "# Planify - Graph Neural Network\n",
    "\n",
    "### Table of Contents\n",
    "<ul>\n",
    "<li><a href=\"#intro\">Introduction</a></li>\n",
    "    <ul>\n",
    "        <li><a href=\"#Imports\">Imports</a></li>\n",
    "        <li><a href=\"#func\">Functions used</a></li>\n",
    "    </ul>\n",
    "<li><a href=\"#wrangling\">Data Wrangling</a></li>\n",
    "<li><a href=\"#model\">GNN Model</a></li>\n",
    "    <ul>\n",
    "        <li><a href=\"#dataLoader\">Data Loader</a></li>\n",
    "        <li><a href=\"#archi\">Architecture</a></li>\n",
    "        <li><a href=\"#train\">Training</a></li> \n",
    "        <li><a href=\"#eval\">Evaluation</a></li>\n",
    "    </ul>\n",
    "</ul>"
   ]
  },
  {
   "cell_type": "markdown",
   "id": "c612d2c6",
   "metadata": {},
   "source": [
    "<a id='intro'></a>\n",
    "## Introduction\n",
    "\n",
    "> This notebook getting garphs in the Networkx format from the `Creating Graphs` notebook. And its main goal is to make the GNN model."
   ]
  },
  {
   "cell_type": "code",
   "execution_count": 1,
   "id": "849fb853",
   "metadata": {},
   "outputs": [],
   "source": [
    "# Used for vsCode only to show tqdm process\n",
    "# from IPython.core.interactiveshell import InteractiveShell\n",
    "# InteractiveShell.ast_node_interactivity = \"all\""
   ]
  },
  {
   "cell_type": "markdown",
   "id": "52912620",
   "metadata": {},
   "source": [
    "<a id='Imports'></a>\n",
    "### Imports"
   ]
  },
  {
   "cell_type": "code",
   "execution_count": 2,
   "id": "6ef47335",
   "metadata": {
    "tags": []
   },
   "outputs": [],
   "source": [
    "# Only for kaggle\n",
    "# !pip install torch_geometric"
   ]
  },
  {
   "cell_type": "code",
   "execution_count": 3,
   "id": "67cc3944",
   "metadata": {
    "tags": []
   },
   "outputs": [],
   "source": [
    "# Not included packages in kaggle\n",
    "\n",
    "# Install torch_geometric\n",
    "# !pip install /kaggle/input/torch-geometric/torch_sparse-0.6.16-cp37-cp37m-linux_x86_64.whl -q\n",
    "# !pip install /kaggle/input/torch-geometric/torch_scatter-2.1.0-cp37-cp37m-linux_x86_64.whl -q\n",
    "\n",
    "# # # library for getting distinct colores\n",
    "# !pip install distinctipy -q"
   ]
  },
  {
   "cell_type": "code",
   "execution_count": 4,
   "id": "21f601a5",
   "metadata": {
    "tags": []
   },
   "outputs": [],
   "source": [
    "# for data wrangling\n",
    "import pickle\n",
    "import networkx as nx\n",
    "import matplotlib.pyplot as plt\n",
    "import numpy as np\n",
    "import pandas as pd\n",
    "import distinctipy\n",
    "import random\n",
    "from torch_geometric.utils import from_networkx\n",
    "\n",
    "# to show advance in for loops\n",
    "from tqdm import tqdm\n",
    "\n",
    "# Using pytorch geometric\n",
    "import torch\n",
    "import torch.nn as nn\n",
    "from torch_geometric.loader import DataLoader\n",
    "from torch_geometric.data import Data, Batch\n",
    "from torch.utils.data import Dataset\n",
    "import torch_geometric.transforms as T\n",
    "\n",
    "\n",
    "# For the GNN model\n",
    "import torch.nn.functional as F\n",
    "from torch_geometric.nn import GCNConv, GATConv, global_mean_pool, global_max_pool\n",
    "\n",
    "\n",
    "# for my pc [linux]\n",
    "# url = '/media/mo/DATA/Grad/Planify_Dataset/Graph/Planify_Graphs.pkl'\n",
    "\n",
    "# for my pc [windows]\n",
    "# url = \"D:\\Grad\\Planify_Dataset\\Graph\\Planify_Graphs.pkl\"\n",
    "url_real = \"D:\\Grad\\Planify_Dataset\\Graph\\graphs\\Graphs_real.pkl\"\n",
    "\n",
    "url_boundary = r\"D:\\Grad\\Planify_Dataset\\Graph\\graphs\\boundaries.pkl\"\n",
    "\n",
    "# for kaggle\n",
    "# url = '/kaggle/input/planify-graphs/Planify_Graphs.pkl'"
   ]
  },
  {
   "cell_type": "markdown",
   "id": "d993568d",
   "metadata": {},
   "source": [
    "<a id='func'></a>\n",
    "### Functions used"
   ]
  },
  {
   "cell_type": "code",
   "execution_count": 5,
   "id": "441cb7a3",
   "metadata": {
    "tags": []
   },
   "outputs": [],
   "source": [
    "geoms_columns = ['inner', 'living', 'master', 'kitchen', 'bathroom', 'dining', 'child', 'study',\n",
    "                   'second_room', 'guest', 'balcony', 'storage', 'wall-in',\n",
    "                    'outer_wall', 'front', 'inner_wall', 'interior',\n",
    "                   'front_door', 'outer_wall', 'entrance']\n",
    "\n",
    "N = len(geoms_columns)\n",
    "colors = (np.array(distinctipy.get_colors(N)) * 255).astype(np.uint8)\n",
    "room_color = {room_name: colors[i] for i, room_name in enumerate(geoms_columns)}"
   ]
  },
  {
   "cell_type": "code",
   "execution_count": 6,
   "id": "cf9a39e5",
   "metadata": {
    "tags": []
   },
   "outputs": [],
   "source": [
    "def draw_graph(G):\n",
    "    #  nodes positions for drawing, note that we invert the y pos\n",
    "    pos = {node: (G.nodes[node]['actualCentroid_x'], -G.nodes[node]['actualCentroid_y']) for node in G.nodes}\n",
    "    \n",
    "    scales = [G.nodes[node]['roomSize'] * 10000 for node in G] \n",
    "    colormap = [room_color[G.nodes[node]['roomType_name']]/255 for node in G]\n",
    "    \n",
    "    nx.draw(G, pos=pos, node_size=scales, node_color=colormap, with_labels=True, font_size=12)\n",
    "    \n",
    "    # Drawing the graph inside a good boundary.\n",
    "    x_coords  = [pos[node][0] for node in pos]\n",
    "    y_coords  = [pos[node][1] for node in pos]\n",
    "    threshold = max(scales) / 100\n",
    "    \n",
    "    plt.xlim(min(x_coords) - threshold, max(x_coords) + threshold)\n",
    "    plt.ylim(min(y_coords) - threshold, max(y_coords) + threshold)\n",
    "\n",
    "\n",
    "def draw_graph_boundary(G):\n",
    "    #  nodes positions for drawing, note that we invert the y pos\n",
    "    pos = {node: (G.nodes[node]['centroid'][0], -G.nodes[node]['centroid'][1])  for node in G.nodes}\n",
    "    \n",
    "    door_color = '#90EE90'\n",
    "    other_nodes_color = '#0A2A5B'\n",
    "    color_map = [door_color if G.nodes[node]['type'] == 1 else other_nodes_color for node in G.nodes]\n",
    "    \n",
    "    nx.draw(G, pos=pos, with_labels=True, node_color=color_map, font_color='w', font_size=12)\n",
    "    \n",
    "\n",
    "\n",
    "\n",
    "# For statistics\n",
    "def get_max_min_x_y(graphs):\n",
    "    max_x = 0\n",
    "    max_y = 0\n",
    "    min_x = float('inf')\n",
    "    min_y = float('inf')\n",
    "    \n",
    "    for G in tqdm(graphs, desc=\"Getting maximum x, y\", total=len(graphs)):\n",
    "        max_x_in_graph = G.x.T[1].max().item()\n",
    "        max_y_in_graph = G.x.T[2].max().item()\n",
    "        \n",
    "        min_x_in_graph = G.x.T[1].min().item()\n",
    "        min_y_in_graph = G.x.T[2].min().item()\n",
    "        \n",
    "        if max_x_in_graph > max_x:\n",
    "            max_x = max_x_in_graph\n",
    "        if max_y_in_graph > max_y:\n",
    "            max_y = max_y_in_graph\n",
    "            \n",
    "        if min_x_in_graph < min_x:\n",
    "            min_x = min_x_in_graph\n",
    "        if min_y_in_graph < min_y:\n",
    "            min_y = min_y_in_graph\n",
    "            \n",
    "    values = {'max_x': max_x, 'max_y': max_y, 'min_x': min_x, 'min_y': min_y}\n",
    "    return values\n",
    "\n",
    "\n",
    "def get_all_x_y(Graphs_pyTorch):\n",
    "    \"\"\"Get all values of x and y from all graphs\n",
    "        Input: list of graphs\n",
    "        Output: x and y as pandas series\n",
    "    \"\"\"\n",
    "    x = []\n",
    "    y = []\n",
    "\n",
    "    for G in tqdm(Graphs_pyTorch, desc=\"getting all Xs, Ys\", total=len(Graphs_pyTorch)):\n",
    "        for i in range(len(G.x)):\n",
    "            x.append(G.x[i][1].item())\n",
    "            y.append(G.x[i][2].item())\n",
    "\n",
    "    x = pd.Series(x)\n",
    "    y = pd.Series(y)\n",
    "\n",
    "    return x, y\n",
    "\n",
    "def boxplot_centrValues(x, y):\n",
    "    fig, ax = plt.subplots()\n",
    "\n",
    "    # Plot the boxplots\n",
    "    ax.boxplot([x, y])\n",
    "\n",
    "    # Set the xtick labels\n",
    "    ax.set_xticklabels(['x', 'y'])\n",
    "\n",
    "    # Add axis labels and title\n",
    "    ax.set_xlabel('Data')\n",
    "    ax.set_ylabel('Value')\n",
    "    ax.set_title('Boxplot of x and y in all graphs')\n",
    "\n",
    "    # Show the plot\n",
    "    plt.show()\n",
    "    \n",
    "\n",
    "def plot_histograms(x, y):\n",
    "    x.hist(density=True, bins=100, alpha=0.6, label='x');\n",
    "    y.hist(density=True, bins=100, alpha=0.3, label='y');\n",
    "    plt.legend();\n",
    "    plt.title('Distribution of x and y');"
   ]
  },
  {
   "cell_type": "markdown",
   "id": "e2519899",
   "metadata": {},
   "source": [
    "<a id='wrangling'></a>\n",
    "## Data wrangling\n"
   ]
  },
  {
   "cell_type": "code",
   "execution_count": 7,
   "id": "81a204b0",
   "metadata": {
    "tags": []
   },
   "outputs": [
    {
     "name": "stdout",
     "output_type": "stream",
     "text": [
      "Graph with 8 nodes and 13 edges\n"
     ]
    }
   ],
   "source": [
    "with open(url_real, 'rb') as f:\n",
    "    Graphs = pickle.load(f)\n",
    "    \n",
    "G = Graphs[1911]\n",
    "print(G)"
   ]
  },
  {
   "cell_type": "markdown",
   "id": "0d9a56e8",
   "metadata": {
    "tags": []
   },
   "source": [
    "> Considering boundaries"
   ]
  },
  {
   "cell_type": "code",
   "execution_count": 8,
   "id": "4c5ef972",
   "metadata": {},
   "outputs": [
    {
     "name": "stdout",
     "output_type": "stream",
     "text": [
      "Graph with 9 nodes and 9 edges\n"
     ]
    }
   ],
   "source": [
    "with open(url_boundary, 'rb') as f:\n",
    "    boundaries = pickle.load(f)\n",
    "    \n",
    "b = boundaries[1911]\n",
    "print(b)"
   ]
  },
  {
   "cell_type": "code",
   "execution_count": 9,
   "id": "8f1bc4cd",
   "metadata": {},
   "outputs": [],
   "source": [
    "# draw_graph_boundary(b)\n",
    "# draw_graph(G)"
   ]
  },
  {
   "cell_type": "code",
   "execution_count": 10,
   "id": "9d679b2b",
   "metadata": {
    "tags": []
   },
   "outputs": [
    {
     "name": "stderr",
     "output_type": "stream",
     "text": [
      "100%|██████████| 80787/80787 [00:55<00:00, 1449.17it/s]\n"
     ]
    },
    {
     "data": {
      "text/plain": [
       "Data(edge_index=[2, 18], roomType_name=[7], rec_w=[7], rec_h=[7], roomSize=[7], x=[7, 3], edge_attr=[18, 1])"
      ]
     },
     "execution_count": 10,
     "metadata": {},
     "output_type": "execute_result"
    }
   ],
   "source": [
    "# Converting networkx graphs to pytorchGeo graphs\n",
    "features = ['roomType_embd', 'actualCentroid_x', 'actualCentroid_y']\n",
    "Graphs_pyTorch = []\n",
    "for G in tqdm(Graphs):\n",
    "    G_new = from_networkx(G, group_node_attrs=features, group_edge_attrs=['distance'])\n",
    "    # Normalizing feature matrix (x)\n",
    "    # G_new = T.NormalizeFeatures()(G_new)\n",
    "    \n",
    "    Graphs_pyTorch.append(G_new)\n",
    "\n",
    "Graphs_pyTorch[0]"
   ]
  },
  {
   "cell_type": "code",
   "execution_count": 11,
   "id": "f5e5f187",
   "metadata": {},
   "outputs": [
    {
     "name": "stderr",
     "output_type": "stream",
     "text": [
      "100%|██████████| 80787/80787 [00:50<00:00, 1611.79it/s]\n"
     ]
    },
    {
     "data": {
      "text/plain": [
       "Data(edge_index=[2, 26], x=[13, 3], edge_attr=[26, 1])"
      ]
     },
     "execution_count": 11,
     "metadata": {},
     "output_type": "execute_result"
    }
   ],
   "source": [
    "# Converting networkx boundary graphs to PyTorchGeo graphs\n",
    "Boundaries_pyTorch = []\n",
    "for b in tqdm(boundaries):\n",
    "    b_new = from_networkx(b, group_node_attrs=['type', 'centroid'], group_edge_attrs=['distance'])\n",
    "    \n",
    "    Boundaries_pyTorch.append(b_new)\n",
    "\n",
    "Boundaries_pyTorch[0]"
   ]
  },
  {
   "attachments": {},
   "cell_type": "markdown",
   "id": "2045ad40",
   "metadata": {},
   "source": [
    "> Statistics, To make normalization for x and y but to be able to get back to the real values"
   ]
  },
  {
   "cell_type": "code",
   "execution_count": 12,
   "id": "ad29973d",
   "metadata": {},
   "outputs": [
    {
     "name": "stderr",
     "output_type": "stream",
     "text": [
      "Getting maximum x, y: 100%|██████████| 80787/80787 [00:05<00:00, 13693.02it/s]\n"
     ]
    },
    {
     "data": {
      "text/plain": [
       "{'max_x': 239.5, 'max_y': 237.5, 'min_x': 16.0, 'min_y': 17.0}"
      ]
     },
     "execution_count": 12,
     "metadata": {},
     "output_type": "execute_result"
    }
   ],
   "source": [
    "# getting maximum and minimum x, y for all graphs\n",
    "get_max_min_x_y(Graphs_pyTorch)"
   ]
  },
  {
   "cell_type": "code",
   "execution_count": 13,
   "id": "bcf8f2a8",
   "metadata": {},
   "outputs": [
    {
     "name": "stderr",
     "output_type": "stream",
     "text": [
      "getting all Xs, Ys: 100%|██████████| 80787/80787 [00:08<00:00, 9675.60it/s] \n"
     ]
    },
    {
     "data": {
      "text/plain": [
       "(239.5, 237.5, 16.0, 17.0)"
      ]
     },
     "execution_count": 13,
     "metadata": {},
     "output_type": "execute_result"
    }
   ],
   "source": [
    "x, y = get_all_x_y(Graphs_pyTorch)\n",
    "x.max(), y.max(), x.min(), y.min()"
   ]
  },
  {
   "cell_type": "code",
   "execution_count": 14,
   "id": "e0b977d5",
   "metadata": {},
   "outputs": [
    {
     "data": {
      "image/png": "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",
      "text/plain": [
       "<Figure size 640x480 with 1 Axes>"
      ]
     },
     "metadata": {},
     "output_type": "display_data"
    }
   ],
   "source": [
    "# making box plot for x and y for the graphs\n",
    "boxplot_centrValues(x, y)"
   ]
  },
  {
   "cell_type": "code",
   "execution_count": 15,
   "id": "e3f90f4f",
   "metadata": {},
   "outputs": [
    {
     "data": {
      "image/png": "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",
      "text/plain": [
       "<Figure size 640x480 with 1 Axes>"
      ]
     },
     "metadata": {},
     "output_type": "display_data"
    }
   ],
   "source": [
    "plot_histograms(x, y)"
   ]
  },
  {
   "attachments": {},
   "cell_type": "markdown",
   "id": "4bb915f5",
   "metadata": {},
   "source": [
    "> And we saw the box plots so there is no outliers, and the distribution is normal\n",
    "> \n",
    "> We will use z-score normalization, by taking a general mean and std for each of x and y"
   ]
  },
  {
   "cell_type": "code",
   "execution_count": 16,
   "id": "fdc4c53a",
   "metadata": {},
   "outputs": [
    {
     "name": "stdout",
     "output_type": "stream",
     "text": [
      "And we saw the box plots so there is no outliers, and the distribution is normal\n",
      "We will use z-score normalization\n"
     ]
    }
   ],
   "source": [
    "# print(f\"Maximun x: {max_x}, Maximum y: {max_y}, Minimum x: {min_x}, Minimum y: {min_y}\")\n",
    "print(\"And we saw the box plots so there is no outliers, and the distribution is normal\")\n",
    "x_mean = x.mean()\n",
    "y_mean = y.mean()\n",
    "x_std  = x.std()\n",
    "y_std  = y.std()\n",
    "print(\"We will use z-score normalization\")"
   ]
  },
  {
   "cell_type": "markdown",
   "id": "09b0204f",
   "metadata": {},
   "source": [
    "> There are many types of `rooms` but we will give them a defualt number = 1.\n",
    "> So, also we will decrease the embedings to be between 0:6"
   ]
  },
  {
   "cell_type": "code",
   "execution_count": 17,
   "id": "3a720ad4",
   "metadata": {},
   "outputs": [
    {
     "name": "stdout",
     "output_type": "stream",
     "text": [
      "Befor: G_1 embedings are: tensor([[  0.0000,  81.9371, 137.1722],\n",
      "        [  1.0000, 181.5403, 165.1201],\n",
      "        [  3.0000, 120.7426, 100.7954],\n",
      "        [  7.0000, 132.6687, 167.8575],\n",
      "        [  7.0000, 152.0459, 100.5418],\n",
      "        [  3.0000, 192.0000, 127.0000],\n",
      "        [  2.0000,  59.5000,  55.5000],\n",
      "        [  9.0000,  77.0000, 210.5000]])\n"
     ]
    },
    {
     "name": "stderr",
     "output_type": "stream",
     "text": [
      "100%|██████████| 80787/80787 [00:07<00:00, 10671.00it/s]"
     ]
    },
    {
     "name": "stdout",
     "output_type": "stream",
     "text": [
      "After: G_1 embedings are: tensor([[  0.0000,  81.9371, 137.1722],\n",
      "        [  1.0000, 181.5403, 165.1201],\n",
      "        [  3.0000, 120.7426, 100.7954],\n",
      "        [  1.0000, 132.6687, 167.8575],\n",
      "        [  1.0000, 152.0459, 100.5418],\n",
      "        [  3.0000, 192.0000, 127.0000],\n",
      "        [  2.0000,  59.5000,  55.5000],\n",
      "        [  4.0000,  77.0000, 210.5000]])\n"
     ]
    },
    {
     "name": "stderr",
     "output_type": "stream",
     "text": [
      "\n"
     ]
    }
   ],
   "source": [
    "print(f'Befor: G_1 embedings are: {Graphs_pyTorch[1].x}')\n",
    "for G in tqdm(Graphs_pyTorch, total=len(Graphs_pyTorch)):\n",
    "    for j ,value in enumerate(G.x):\n",
    "        type_ = int(value[0].item())\n",
    "        \n",
    "        if type_ in [1, 4, 5, 6, 7, 8]:\n",
    "            G.x[j][0] = 1\n",
    "        \n",
    "        # making all labels from 0 to 6 only to help one_hotting\n",
    "        elif type_ == 9:\n",
    "            G.x[j][0] = 4\n",
    "        elif type_ == 10:\n",
    "            G.x[j][0] = 5\n",
    "        elif type_ == 11:\n",
    "            G.x[j][0] = 6\n",
    "\n",
    "\n",
    "print(f'After: G_1 embedings are: {Graphs_pyTorch[1].x}')"
   ]
  },
  {
   "attachments": {},
   "cell_type": "markdown",
   "id": "be0bd6f0-db8c-4a29-a96e-b59763961295",
   "metadata": {},
   "source": [
    "> Normalization for the centroids columns & hot encoding the type one for the graphs data."
   ]
  },
  {
   "cell_type": "code",
   "execution_count": 18,
   "id": "4bdfe3bd-d1cd-4097-b755-1429dc05c890",
   "metadata": {},
   "outputs": [
    {
     "name": "stderr",
     "output_type": "stream",
     "text": [
      "100%|██████████| 80787/80787 [00:15<00:00, 5383.67it/s]\n"
     ]
    }
   ],
   "source": [
    "for G in tqdm(Graphs_pyTorch, total=len(Graphs_pyTorch)):\n",
    "    x = G.x # The feature matrix\n",
    "    for i in [1, 2]:\n",
    "        # mean = torch.mean(x[:, i])\n",
    "        # std  = torch.std(x[:, i])\n",
    "        if i == 1:\n",
    "            mean = x_mean\n",
    "            std  = x_std\n",
    "        else:\n",
    "            mean = y_mean\n",
    "            std  = y_std\n",
    "            \n",
    "        normalized_column = (x[:, i] - mean) / std\n",
    "        G.x[:, i] = normalized_column\n",
    "    \n",
    "    # One hot encoding for the first column [type of rooms]\n",
    "    first_column_encodings = F.one_hot(G.x[:, 0].long(), 7)\n",
    "    \n",
    "    G.x = torch.cat([first_column_encodings, G.x[:, 1:]], axis=1)"
   ]
  },
  {
   "cell_type": "code",
   "execution_count": 19,
   "id": "36e3cfda",
   "metadata": {},
   "outputs": [
    {
     "name": "stdout",
     "output_type": "stream",
     "text": [
      "Now, we could return back to real values: tensor([ 81.9371, 181.5403, 120.7426, 132.6687, 152.0459, 192.0000,  59.5000,\n",
      "         77.0000])\n"
     ]
    }
   ],
   "source": [
    "print(f\"Now, we could return back to real values: {Graphs_pyTorch[1].x.T[-2] * x_std + x_mean}\")"
   ]
  },
  {
   "attachments": {},
   "cell_type": "markdown",
   "id": "e3964967",
   "metadata": {},
   "source": [
    "> Normalizing the centroid of the boundaries"
   ]
  },
  {
   "cell_type": "code",
   "execution_count": 20,
   "id": "e53c4956",
   "metadata": {},
   "outputs": [
    {
     "name": "stderr",
     "output_type": "stream",
     "text": [
      "getting all Xs, Ys: 100%|██████████| 80787/80787 [00:14<00:00, 5707.11it/s]\n"
     ]
    },
    {
     "data": {
      "text/plain": [
       "(245.0, 244.0, 12.0, 11.0)"
      ]
     },
     "execution_count": 20,
     "metadata": {},
     "output_type": "execute_result"
    }
   ],
   "source": [
    "x, y = get_all_x_y(Boundaries_pyTorch)\n",
    "x.max(), y.max(), x.min(), y.min()"
   ]
  },
  {
   "cell_type": "code",
   "execution_count": 21,
   "id": "18caf388",
   "metadata": {},
   "outputs": [
    {
     "data": {
      "image/png": "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",
      "text/plain": [
       "<Figure size 640x480 with 1 Axes>"
      ]
     },
     "metadata": {},
     "output_type": "display_data"
    }
   ],
   "source": [
    "boxplot_centrValues(x, y)"
   ]
  },
  {
   "cell_type": "code",
   "execution_count": 22,
   "id": "9b507425",
   "metadata": {},
   "outputs": [
    {
     "data": {
      "image/png": "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",
      "text/plain": [
       "<Figure size 640x480 with 1 Axes>"
      ]
     },
     "metadata": {},
     "output_type": "display_data"
    }
   ],
   "source": [
    "plot_histograms(x, y)"
   ]
  },
  {
   "attachments": {},
   "cell_type": "markdown",
   "id": "bf2ab2be",
   "metadata": {},
   "source": [
    "> And we saw the box plots so there is no outliers, and the distribution is normal\n",
    "> \n",
    "> We will use z-score normalization, by taking a general mean and std for each of x and y"
   ]
  },
  {
   "cell_type": "code",
   "execution_count": 23,
   "id": "87d20b36",
   "metadata": {},
   "outputs": [
    {
     "name": "stdout",
     "output_type": "stream",
     "text": [
      "And we saw the box plots so there is no outliers, and the distribution is normal\n",
      "We will use z-score normalization\n"
     ]
    }
   ],
   "source": [
    "# print(f\"Maximun x: {max_x}, Maximum y: {max_y}, Minimum x: {min_x}, Minimum y: {min_y}\")\n",
    "print(\"And we saw the box plots so there is no outliers, and the distribution is normal\")\n",
    "x_mean = x.mean()\n",
    "y_mean = y.mean()\n",
    "x_std  = x.std()\n",
    "y_std  = y.std()\n",
    "print(\"We will use z-score normalization\")"
   ]
  },
  {
   "cell_type": "code",
   "execution_count": 24,
   "id": "187af668-2b69-446e-a4f6-bd8f6526c0e0",
   "metadata": {},
   "outputs": [
    {
     "name": "stderr",
     "output_type": "stream",
     "text": [
      "100%|██████████| 80787/80787 [00:06<00:00, 13351.65it/s]\n"
     ]
    }
   ],
   "source": [
    "for b in tqdm(Boundaries_pyTorch, total=len(Boundaries_pyTorch)):\n",
    "    x = b.x # The feature matrix\n",
    "    for i in [1, 2]:\n",
    "        if i == 1:\n",
    "            mean = x_mean\n",
    "            std  = x_std\n",
    "        else:\n",
    "            mean = y_mean\n",
    "            std  = y_std\n",
    "            \n",
    "        normalized_column = (x[:, i] - mean) / std\n",
    "        b.x[:, i] = normalized_column"
   ]
  },
  {
   "cell_type": "code",
   "execution_count": 25,
   "id": "c50c2ea2",
   "metadata": {},
   "outputs": [
    {
     "name": "stdout",
     "output_type": "stream",
     "text": [
      "Now, we could return back to real values: tensor([ 48.,  48., 106., 106., 208., 208., 172., 171.,  72.,  71., 100.],\n",
      "       dtype=torch.float64)\n"
     ]
    }
   ],
   "source": [
    "print(f\"Now, we could return back to real values: {Boundaries_pyTorch[1].x.T[-2] * x_std + x_mean}\")"
   ]
  },
  {
   "cell_type": "markdown",
   "id": "bc19a0b1",
   "metadata": {},
   "source": [
    "> If we need to creat graphs with padding by the maximum number of nodes."
   ]
  },
  {
   "cell_type": "code",
   "execution_count": 26,
   "id": "bca96f38",
   "metadata": {
    "tags": []
   },
   "outputs": [],
   "source": [
    "# # but we need to do some padding to our graphs to be all of the same number of nodes.\n",
    "# padded_graphs = []\n",
    "# for G in Graphs_pyTorch:\n",
    "#     x          = G.x\n",
    "#     y          = G.roomType_embd\n",
    "#     edge_index = G.edge_index\n",
    "#     edge_attr  = G.edge_attr\n",
    "    \n",
    "#     nu_nodes = x.shape[0]\n",
    "\n",
    "#     padded_x = torch.nn.functional.pad(x, pad=(0, 0, 0, 8 - nu_nodes), mode='constant', value=0)\n",
    "#     padded_y = torch.nn.functional.pad(y, pad=(0, 8 - nu_nodes), mode='constant', value=0)\n",
    "#     train_mask   = torch.ones(nu_nodes)\n",
    "#     train_mask   = torch.nn.functional.pad(train_mask, pad=(0, 8 - nu_nodes), mode='constant', value=0).to(bool)\n",
    "\n",
    "#     data = Data(x = padded_x, y = padded_y, edge_index= G.edge_index, edge_attr = G.edge_attr, train_mask=train_mask)\n",
    "\n",
    "#     padded_graphs.append(data)\n",
    "\n",
    "# padded_graphs[0]"
   ]
  },
  {
   "cell_type": "markdown",
   "id": "03781d88",
   "metadata": {},
   "source": [
    "<a id='model'></a>\n",
    "## GNN Model"
   ]
  },
  {
   "cell_type": "markdown",
   "id": "2f1cd5f8",
   "metadata": {},
   "source": [
    "<a id='dataLoader'></a>\n",
    "### Data Loader"
   ]
  },
  {
   "cell_type": "code",
   "execution_count": 27,
   "id": "e88277ea",
   "metadata": {
    "tags": []
   },
   "outputs": [],
   "source": [
    "class Planify_Dataset(Dataset):\n",
    "    def __init__(self, Graphs, Boundaries):\n",
    "        self.Graphs = Graphs\n",
    "        self.Boundaries = Boundaries\n",
    "        self.device = torch.device('cuda' if torch.cuda.is_available() else 'cpu')\n",
    "    \n",
    "    def __len__(self):\n",
    "        return len(self.Graphs)\n",
    "\n",
    "    def __getitem__(self, index):\n",
    "        G = self.Graphs[index].clone().to(self.device)\n",
    "        B = self.Boundaries[index].clone().to(self.device)\n",
    "        B.x = B.x.to(G.x.dtype)\n",
    "        B.edge_index = B.edge_index.to(G.edge_index.dtype)\n",
    "        B.edge_attr = B.edge_attr.to(G.edge_attr.dtype)\n",
    "        \n",
    "        # shuffling nodes inside the same graph\n",
    "        # permutation = torch.randperm(G.num_nodes).to(self.device)\n",
    "        \n",
    "        # G.x = G.x[permutation]\n",
    "        # G.edge_index = permutation[G.edge_index]\n",
    "        # G.rec_w = G.rec_w[permutation]\n",
    "        # G.rec_h = G.rec_h[permutation]\n",
    "        # G.edge_attr = G.edge_attr[permutation]\n",
    "        \n",
    "        # padded_x = torch.nn.functional.pad(x, pad=(0, 0, 0, 8 - nu_nodes), mode='constant', value=0)\n",
    "        # padded_y = torch.nn.functional.pad(y, pad=(0, 8 - nu_nodes), mode='constant', value=0)\n",
    "        graphs = {\n",
    "            'G': G,\n",
    "            'B': B\n",
    "        }\n",
    "        \n",
    "        return graphs"
   ]
  },
  {
   "cell_type": "code",
   "execution_count": 28,
   "id": "e63bf5fe-ce1a-47f6-a92f-c59c77e499f3",
   "metadata": {},
   "outputs": [],
   "source": [
    "edge = int(len(Graphs_pyTorch) * 0.8)"
   ]
  },
  {
   "cell_type": "code",
<<<<<<< HEAD
   "execution_count": 29,
=======
   "execution_count": 94,
>>>>>>> fdf57e7 (Savign the v2 best model)
   "id": "0f01bd03",
   "metadata": {
    "tags": []
   },
   "outputs": [],
   "source": [
<<<<<<< HEAD
    "batch_size = 32\n",
=======
    "batch_size = 8\n",
>>>>>>> fdf57e7 (Savign the v2 best model)
    "train_dataset = Planify_Dataset(Graphs_pyTorch[:edge], Boundaries_pyTorch[:edge])\n",
    "train_loader  = DataLoader(train_dataset, batch_size=batch_size, shuffle=True)\n",
    "\n",
    "val_dataset = Planify_Dataset(Graphs_pyTorch[edge:-10], Boundaries_pyTorch[edge:-10])\n",
    "val_loader  = DataLoader(val_dataset, batch_size=batch_size, shuffle=True)\n",
    "\n",
    "test_dataset = Planify_Dataset(Graphs_pyTorch[-10:], Boundaries_pyTorch[-10:])\n",
    "test_loader  = DataLoader(test_dataset, batch_size=batch_size, shuffle=True)"
   ]
  },
  {
   "cell_type": "code",
<<<<<<< HEAD
   "execution_count": 30,
=======
   "execution_count": 95,
>>>>>>> fdf57e7 (Savign the v2 best model)
   "id": "fc7e7933-6d23-4d0a-b4e2-baa43bc561a2",
   "metadata": {},
   "outputs": [],
   "source": [
    "# Saving model function\n",
    "import os\n",
    "\n",
    "# checkpoint_dir = '/kaggle/working/checkpoints'\n",
    "# checkpoint_dir = '/media/mo/DATA/Grad/Planify_Dataset/Graph/checkpoints'\n",
    "checkpoint_dir = \"./checkpoints\"\n",
    "\n",
    "if not os.path.exists(checkpoint_dir):\n",
    "    os.makedirs(checkpoint_dir)\n",
    "    \n",
    "\n",
    "def save_checkpoint(model, optimizer, epoch):\n",
    "    checkpoint_path = os.path.join(checkpoint_dir, f'model_epoch.pt')\n",
    "    # Saving model each 15 epochs\n",
    "    torch.save({\n",
    "        'model_state_dict': model.state_dict(),\n",
    "        'optimizer_state_dict': optimizer.state_dict(),\n",
    "        'epoch': epoch\n",
    "    }, checkpoint_path)\n",
    "    \n",
    "    print('Model saved :)')"
   ]
  },
  {
   "cell_type": "markdown",
   "id": "111ed4e1",
   "metadata": {},
   "source": [
    "<a id='archi'></a>\n",
    "### Architecture"
   ]
  },
  {
   "cell_type": "code",
<<<<<<< HEAD
   "execution_count": 62,
=======
   "execution_count": 96,
>>>>>>> fdf57e7 (Savign the v2 best model)
   "id": "f84c9163",
   "metadata": {},
   "outputs": [
    {
     "data": {
      "text/plain": [
       "GATNet(\n",
       "  (graph_conv1): GATConv(9, 32, heads=4)\n",
       "  (graph_conv2): GATConv(137, 32, heads=8)\n",
       "  (graph_conv3): GATConv(265, 64, heads=8)\n",
       "  (graph_conv4): GATConv(521, 128, heads=8)\n",
<<<<<<< HEAD
=======
       "  (graph_conv5): GATConv(1033, 128, heads=8)\n",
>>>>>>> fdf57e7 (Savign the v2 best model)
       "  (boundary_conv1): GATConv(3, 32, heads=4)\n",
       "  (boundary_conv2): GATConv(131, 32, heads=8)\n",
       "  (Concatination1): GATConv(1292, 128, heads=8)\n",
       "  (width_layer1): Linear(in_features=1024, out_features=128, bias=True)\n",
       "  (height_layer1): Linear(in_features=1024, out_features=128, bias=True)\n",
       "  (width_output): Linear(in_features=128, out_features=1, bias=True)\n",
       "  (height_output): Linear(in_features=128, out_features=1, bias=True)\n",
       "  (boundary_pool): AdaptiveAvgPool1d(output_size=1)\n",
<<<<<<< HEAD
       "  (dropout): Dropout(p=0.2, inplace=False)\n",
       ")"
      ]
     },
     "execution_count": 62,
=======
       "  (dropout): Dropout(p=0.25, inplace=False)\n",
       ")"
      ]
     },
     "execution_count": 96,
>>>>>>> fdf57e7 (Savign the v2 best model)
     "metadata": {},
     "output_type": "execute_result"
    }
   ],
   "source": [
    "from torch_geometric.nn import GlobalAttention\n",
    "from torch_geometric.nn.dense import DenseGCNConv\n",
    "\n",
    "class GATNet(torch.nn.Module):\n",
    "    def __init__(self, num_graph_node_features, num_boundary_node_features):\n",
    "        super(GATNet, self).__init__()\n",
    "        \n",
    "        self.graph_conv1 = GATConv(num_graph_node_features, 32, heads=4)\n",
    "        \n",
    "        input_of_conv2   = num_graph_node_features + 32*4\n",
    "        self.graph_conv2 = GATConv(input_of_conv2, 32, heads=8)\n",
    "        \n",
    "        input_of_conv3   = num_graph_node_features + 32*8\n",
    "        self.graph_conv3 = GATConv(input_of_conv3, 64, heads=8)\n",
    "        \n",
    "        input_of_conv4   = num_graph_node_features + 64*8\n",
    "        self.graph_conv4 = GATConv(input_of_conv4, 128, heads=8)\n",
<<<<<<< HEAD
    "        # self.graph_conv5 = GATConv(128*8, 128, heads=8)\n",
=======
    "        \n",
    "        input_of_conv5   = num_graph_node_features + 128*8\n",
    "        self.graph_conv5 = GATConv(input_of_conv5, 128, heads=8)\n",
>>>>>>> fdf57e7 (Savign the v2 best model)
    "        # self.graph_conv6 = GATConv(128*8, 128, heads=16)\n",
    "        # self.graph_conv7 = GATConv(128*16, 256, heads=16)\n",
    "        # self.graph_conv8 = GATConv(256*16, 256, heads=16)\n",
    "        shape_of_graphs_befor_concatination = num_graph_node_features + 128*8\n",
    "        \n",
    "        self.boundary_conv1 = GATConv(num_boundary_node_features, 32, heads=4)\n",
    "        input_of_boundary_conv2 = 32*4 + num_boundary_node_features\n",
    "        self.boundary_conv2 = GATConv(input_of_boundary_conv2, 32, heads=8)\n",
    "        # self.boundary_conv3 = GATConv(32*8, 64, heads=8)\n",
    "        # self.boundary_conv4 = GATConv(64*8, 128, heads=8)\n",
    "        # self.boundary_conv5 = GATConv(128*8, 128, heads=8)\n",
    "        shape_of_boundary_befor_concatination = num_boundary_node_features + 32 * 8\n",
    "        \n",
    "        # Output of graph_conv8 + output of boundary_conv5 + 2 step connection from real nodes and boundary nodes\n",
    "        inputs_concatination = shape_of_graphs_befor_concatination + shape_of_boundary_befor_concatination\n",
    "        self.Concatination1  = GATConv(inputs_concatination, 128, heads=8)\n",
    "        # self.Concatination2  = GATConv(128*8, 64, heads=8)\n",
    "        # self.Concatination3  = GATConv(64*8, 64, heads=8)\n",
    "        # self.Concatination4  = GATConv(64*8, 32, heads=8)\n",
    "        # self.Concatination5  = GATConv(32*8, 32*4)\n",
    "        \n",
    "        # self.lin1 = nn.Linear(inputs_concatination, 256)\n",
    "        # self.lin2 = nn.Linear(256, 32)\n",
    "\n",
    "        self.width_layer1  = nn.Linear(128*8, 128)\n",
    "        self.height_layer1 = nn.Linear(128*8, 128)\n",
    "        \n",
    "        # self.width_layer2  = nn.Linear(256, 128)\n",
    "        # self.height_layer2 = nn.Linear(256, 128)\n",
    "        \n",
    "        # self.width_layer3  = nn.Linear(128, 32)\n",
    "        # self.height_layer3 = nn.Linear(128, 32)\n",
    "        \n",
    "        # self.width_layer4  = nn.Linear(32, 8)\n",
    "        # self.height_layer4 = nn.Linear(32, 8)\n",
    "        \n",
    "        self.width_output  = nn.Linear(128, 1)\n",
    "        self.height_output = nn.Linear(128, 1)\n",
    "        \n",
    "        \n",
    "        self.boundary_pool = torch.nn.AdaptiveAvgPool1d(1)\n",
<<<<<<< HEAD
    "        self.dropout = torch.nn.Dropout(0.2)\n",
=======
    "        self.dropout = torch.nn.Dropout(0.25)\n",
>>>>>>> fdf57e7 (Savign the v2 best model)
    "        \n",
    "    def forward(self, graph, boundary):\n",
    "        x_graph, g_edge_index, g_edge_attr, g_batch = graph.x, graph.edge_index, graph.edge_attr, graph.batch\n",
    "        x_boundary, b_edge_indexy, b_edge_attr, b_batch = boundary.x, boundary.edge_index, boundary.edge_attr, boundary.batch\n",
    "        \n",
    "        NUM_OF_NODES = x_graph.shape[0]\n",
    "        # During testing, as we input only one graph.\n",
    "        if g_batch == None:\n",
    "            g_batch = torch.zeros(x_graph.shape[0], dtype=torch.long)\n",
    "        if b_batch == None:\n",
    "            b_batch = torch.zeros(x_boundary.shape[0], dtype=torch.long)\n",
    "        \n",
    "        \n",
    "        x_graph_res = x_graph\n",
    "        x_boundary_res = x_boundary\n",
    "        \n",
    "        # Passing the graph throught a message passing to embed its features\n",
    "        x_graph = F.leaky_relu(self.graph_conv1(x_graph, g_edge_index, g_edge_attr))\n",
    "        x_graph = self.dropout(x_graph) # Concatinate with step connection from real values.\n",
    "        x_graph = torch.cat([x_graph, x_graph_res], dim=1)\n",
    "        \n",
    "        \n",
    "        x_graph = F.leaky_relu(self.graph_conv2(x_graph, g_edge_index, g_edge_attr))\n",
    "        x_graph = self.dropout(x_graph)\n",
    "        x_graph = torch.cat([x_graph, x_graph_res], dim=1)\n",
    "        \n",
    "        x_graph = F.leaky_relu(self.graph_conv3(x_graph, g_edge_index))\n",
    "        x_graph = self.dropout(x_graph) \n",
    "        x_graph = torch.cat([x_graph, x_graph_res], dim=1)\n",
    "        \n",
    "        x_graph = F.leaky_relu(self.graph_conv4(x_graph, g_edge_index))\n",
    "        x_graph = self.dropout(x_graph) \n",
    "        x_graph = torch.cat([x_graph, x_graph_res], dim=1)\n",
    "        \n",
<<<<<<< HEAD
    "        # x_graph = F.leaky_relu(self.graph_conv5(x_graph, g_edge_index))\n",
=======
    "        x_graph = F.leaky_relu(self.graph_conv5(x_graph, g_edge_index))\n",
    "        x_graph = self.dropout(x_graph) \n",
    "        x_graph = torch.cat([x_graph, x_graph_res], dim=1)\n",
    "        \n",
>>>>>>> fdf57e7 (Savign the v2 best model)
    "        # x_graph = F.leaky_relu(self.graph_conv6(x_graph, g_edge_index))\n",
    "        # x_graph = self.dropout(x_graph)\n",
    "        # x_graph = F.leaky_relu(self.graph_conv7(x_graph, g_edge_index))\n",
    "        # x_graph = F.leaky_relu(self.graph_conv8(x_graph, g_edge_index))\n",
    "        # x_graph = self.dropout(x_graph)\n",
    "        \n",
    "        \n",
    "        # Passing the boundary throught a message passing to embed its features\n",
    "        x_boundary = F.leaky_relu(self.boundary_conv1(x_boundary, b_edge_indexy, b_edge_attr))\n",
    "        x_boundary = self.dropout(x_boundary)\n",
    "        x_boundary = torch.cat([x_boundary, x_boundary_res], dim=1)\n",
    "        \n",
    "        x_boundary = F.leaky_relu(self.boundary_conv2(x_boundary, b_edge_indexy, b_edge_attr))\n",
    "        x_boundary = self.dropout(x_boundary)\n",
    "        x_boundary = torch.cat([x_boundary, x_boundary_res], dim=1)\n",
    "        \n",
    "        # x_boundary = F.leaky_relu(self.boundary_conv3(x_boundary, b_edge_indexy))\n",
    "        # x_boundary = self.dropout(x_boundary)\n",
    "        # x_boundary = F.leaky_relu(self.boundary_conv4(x_boundary, b_edge_indexy))\n",
    "        # x_boundary = F.leaky_relu(self.boundary_conv5(x_boundary, b_edge_indexy))\n",
    "        # x_boundary = self.dropout(x_boundary)\n",
    "\n",
    "        # Pooling the bounadry to 1D vector by getting max value in each feature for all nodes.\n",
    "        x_boundary_pooled = F.max_pool1d(x_boundary.transpose(0, 1), kernel_size=x_boundary.shape[0]).view(1, -1)\n",
    "        \n",
    "        # Concatinating the graph & the boundary\n",
    "        x = torch.cat([x_graph, x_boundary_pooled.repeat(NUM_OF_NODES, 1)], dim=1)\n",
    "        x = F.leaky_relu(self.Concatination1(x, g_edge_index))\n",
    "        x = self.dropout(x)\n",
    "        # x = F.leaky_relu(self.Concatination2(x, g_edge_index))\n",
    "        # x = self.dropout(x)\n",
    "        # x = F.leaky_relu(self.Concatination3(x, g_edge_index))\n",
    "        # x = self.dropout(x)\n",
    "        # x = F.leaky_relu(self.Concatination4(x, g_edge_index))\n",
    "        # x = self.dropout(x)\n",
    "        # x = F.leaky_relu(self.Concatination5(x, g_edge_index))\n",
    "        # x = self.dropout(x)\n",
    "        \n",
    "        # x = F.leaky_relu(self.lin1(x))\n",
    "        # x = self.dropout(x)\n",
    "        # x = F.leaky_relu(self.lin2(x))\n",
    "        # x = self.dropout(x)\n",
    "        \n",
    "        \n",
    "        width = F.leaky_relu(self.width_layer1(x))\n",
    "        # width = F.leaky_relu(self.width_layer2(width))\n",
    "        # width = F.leaky_relu(self.width_layer3(width))\n",
    "        # width = F.leaky_relu(self.width_layer4(width))\n",
    "        width = self.dropout(width)\n",
    "        width = self.width_output(width)\n",
    "        \n",
    "        height = F.leaky_relu(self.height_layer1(x))\n",
    "        # height = F.leaky_relu(self.height_layer2(height))\n",
    "        # height = F.leaky_relu(self.height_layer3(height))\n",
    "        # height = F.leaky_relu(self.height_layer4(height))\n",
    "        height = self.dropout(height)\n",
    "        height = self.height_output(height)\n",
    "        \n",
    "        return width.squeeze(), height.squeeze()\n",
    "\n",
    "num_graph_node_features = Graphs_pyTorch[0].x.shape[1]\n",
    "num_boundary_node_features = Boundaries_pyTorch[0].x.shape[1]\n",
    "\n",
    "model = GATNet(num_graph_node_features, num_boundary_node_features)\n",
    "\n",
    "device = torch.device('cuda' if torch.cuda.is_available() else 'cpu')\n",
    "model = model.to(device)\n",
    "\n",
    "# to monitor the loss & accuracy.\n",
    "errors = []\n",
    "acc = []\n",
    "\n",
    "model"
   ]
  },
  {
   "cell_type": "code",
<<<<<<< HEAD
   "execution_count": 63,
=======
   "execution_count": 97,
>>>>>>> fdf57e7 (Savign the v2 best model)
   "id": "8a208e54",
   "metadata": {},
   "outputs": [],
   "source": [
    "def train(model, optimizer, criterion, train_loader):\n",
    "    model.train()\n",
    "    running_loss = 0.0\n",
    "    for i, data in tqdm(enumerate(train_loader), desc=\"Planifying\", total=len(train_loader)):\n",
    "        optimizer.zero_grad()\n",
    "        # Forward pass\n",
    "        graph, boundary = data['G'], data['B']\n",
    "        \n",
    "        width, height    = model(graph, boundary)\n",
    "        \n",
    "        # targets = torch.cat((graph.rec_w.unsqueeze(1), graph.rec_h.unsqueeze(1)), dim=1)\n",
    "        # print(logits[0].shape, logits[1].shape, targets.shape)\n",
    "        \n",
    "        width_loss = criterion(width, graph.rec_w)\n",
    "        height_loss = criterion(height, graph.rec_h)\n",
    "\n",
    "        loss = width_loss + height_loss\n",
    "\n",
    "        # Backward pass\n",
    "        loss.backward()\n",
    "        \n",
    "        # Updating parameters\n",
    "        optimizer.step()\n",
    "\n",
    "        # Monitoring\n",
    "        running_loss += loss.item()\n",
    "        \n",
    "    return running_loss / len(train_loader)\n",
    "\n",
    "\n",
    "def evaluate(model, criterion, val_loader):\n",
    "    model.eval()\n",
    "    running_loss = 0.0\n",
    "    with torch.no_grad():\n",
    "        for data in val_loader:\n",
    "            graph, boundary = data['G'], data['B']\n",
    "            width, height    = model(graph, boundary)\n",
    "            width_loss = criterion(width, graph.rec_w)\n",
    "            height_loss = criterion(height, graph.rec_h)\n",
    "\n",
    "            loss = width_loss + height_loss\n",
    "            running_loss += loss.item()\n",
    "            \n",
    "    return running_loss / len(val_loader)"
   ]
  },
  {
   "cell_type": "code",
<<<<<<< HEAD
   "execution_count": 64,
=======
   "execution_count": 98,
>>>>>>> fdf57e7 (Savign the v2 best model)
   "id": "4dd954fe",
   "metadata": {},
   "outputs": [],
   "source": [
    "from copy import deepcopy\n",
    "\n",
    "# Hyperparameters\n",
    "learning_rate = 0.001\n",
    "num_epochs = 20\n",
    "patience = 10 # Number of epochs to wait if validation loss doesn't improve\n",
    "best_val_loss = float('inf')\n",
    "\n",
    "counter = 0\n",
    "\n",
<<<<<<< HEAD
    "optimizer = torch.optim.Adam(model.parameters(), lr=learning_rate, weight_decay=3e-5)\n",
=======
    "optimizer = torch.optim.Adam(model.parameters(), lr=learning_rate, weight_decay=3e-4)\n",
>>>>>>> fdf57e7 (Savign the v2 best model)
    "criterion = nn.MSELoss()\n",
    "scheduler = torch.optim.lr_scheduler.StepLR(optimizer, step_size=1, gamma=0.950)\n"
   ]
  },
  {
   "cell_type": "code",
<<<<<<< HEAD
   "execution_count": 65,
=======
   "execution_count": 99,
>>>>>>> fdf57e7 (Savign the v2 best model)
   "id": "b7ec9799",
   "metadata": {},
   "outputs": [],
   "source": [
    "# Notice\n",
    "train_losses = []\n",
    "val_losses = []"
   ]
  },
  {
   "cell_type": "markdown",
   "id": "271a7b40",
   "metadata": {
    "tags": []
   },
   "source": [
    "<a id='train'></a>\n",
    "### Training\n"
   ]
  },
  {
   "cell_type": "code",
<<<<<<< HEAD
   "execution_count": 66,
=======
   "execution_count": 100,
>>>>>>> fdf57e7 (Savign the v2 best model)
   "id": "d9a39a37-e8b9-46f1-b39a-09c57295a46e",
   "metadata": {},
   "outputs": [
    {
     "name": "stderr",
     "output_type": "stream",
     "text": [
<<<<<<< HEAD
      "Planifying: 100%|██████████| 2020/2020 [02:20<00:00, 14.34it/s]\n"
=======
      "Planifying: 100%|██████████| 8079/8079 [06:59<00:00, 19.28it/s]\n"
>>>>>>> fdf57e7 (Savign the v2 best model)
     ]
    },
    {
     "name": "stdout",
     "output_type": "stream",
     "text": [
      "Validating ...\n",
<<<<<<< HEAD
      "Epoch [1/20], Train Loss: 549.9633, Validation Loss: 354.2690\n",
=======
      "Epoch [1/20], Train Loss: 464.9400, Validation Loss: 228.3123\n",
>>>>>>> fdf57e7 (Savign the v2 best model)
      "Model saved :)\n"
     ]
    },
    {
     "name": "stderr",
     "output_type": "stream",
     "text": [
<<<<<<< HEAD
      "Planifying: 100%|██████████| 2020/2020 [02:31<00:00, 13.32it/s]\n"
=======
      "Planifying: 100%|██████████| 8079/8079 [07:48<00:00, 17.23it/s]\n"
>>>>>>> fdf57e7 (Savign the v2 best model)
     ]
    },
    {
     "name": "stdout",
     "output_type": "stream",
     "text": [
      "Validating ...\n",
<<<<<<< HEAD
      "Epoch [2/20], Train Loss: 277.4579, Validation Loss: 235.8240\n",
=======
      "Epoch [2/20], Train Loss: 259.8932, Validation Loss: 193.8905\n",
>>>>>>> fdf57e7 (Savign the v2 best model)
      "Model saved :)\n"
     ]
    },
    {
     "name": "stderr",
     "output_type": "stream",
     "text": [
<<<<<<< HEAD
      "Planifying: 100%|██████████| 2020/2020 [02:26<00:00, 13.79it/s]\n"
=======
      "Planifying: 100%|██████████| 8079/8079 [07:53<00:00, 17.06it/s]\n"
>>>>>>> fdf57e7 (Savign the v2 best model)
     ]
    },
    {
     "name": "stdout",
     "output_type": "stream",
     "text": [
      "Validating ...\n",
<<<<<<< HEAD
      "Epoch [3/20], Train Loss: 241.8971, Validation Loss: 226.6056\n",
=======
      "Epoch [3/20], Train Loss: 230.5371, Validation Loss: 186.4539\n",
>>>>>>> fdf57e7 (Savign the v2 best model)
      "Model saved :)\n"
     ]
    },
    {
     "name": "stderr",
     "output_type": "stream",
     "text": [
<<<<<<< HEAD
      "Planifying: 100%|██████████| 2020/2020 [02:26<00:00, 13.77it/s]\n"
=======
      "Planifying: 100%|██████████| 8079/8079 [07:42<00:00, 17.48it/s]\n"
>>>>>>> fdf57e7 (Savign the v2 best model)
     ]
    },
    {
     "name": "stdout",
     "output_type": "stream",
     "text": [
      "Validating ...\n",
<<<<<<< HEAD
      "Epoch [4/20], Train Loss: 220.9656, Validation Loss: 192.6593\n",
=======
      "Epoch [4/20], Train Loss: 216.0773, Validation Loss: 171.4703\n",
>>>>>>> fdf57e7 (Savign the v2 best model)
      "Model saved :)\n"
     ]
    },
    {
     "name": "stderr",
     "output_type": "stream",
     "text": [
<<<<<<< HEAD
      "Planifying: 100%|██████████| 2020/2020 [02:24<00:00, 13.98it/s]\n"
=======
      "Planifying: 100%|██████████| 8079/8079 [07:52<00:00, 17.11it/s]\n"
>>>>>>> fdf57e7 (Savign the v2 best model)
     ]
    },
    {
     "name": "stdout",
     "output_type": "stream",
     "text": [
      "Validating ...\n",
<<<<<<< HEAD
      "Epoch [5/20], Train Loss: 202.8420, Validation Loss: 159.3152\n",
=======
      "Epoch [5/20], Train Loss: 207.1209, Validation Loss: 162.0416\n",
>>>>>>> fdf57e7 (Savign the v2 best model)
      "Model saved :)\n"
     ]
    },
    {
     "name": "stderr",
     "output_type": "stream",
     "text": [
<<<<<<< HEAD
      "Planifying: 100%|██████████| 2020/2020 [02:33<00:00, 13.14it/s]\n"
=======
      "Planifying: 100%|██████████| 8079/8079 [09:40<00:00, 13.92it/s]\n"
>>>>>>> fdf57e7 (Savign the v2 best model)
     ]
    },
    {
     "name": "stdout",
     "output_type": "stream",
     "text": [
<<<<<<< HEAD
      "Validating ...\n",
      "Epoch [6/20], Train Loss: 190.2928, Validation Loss: 156.6646\n",
      "Model saved :)\n"
     ]
    },
    {
     "name": "stderr",
     "output_type": "stream",
     "text": [
      "Planifying:   9%|▉         | 181/2020 [00:15<02:33, 11.99it/s]\n"
     ]
    },
    {
     "ename": "KeyboardInterrupt",
     "evalue": "",
     "output_type": "error",
     "traceback": [
      "\u001b[1;31m---------------------------------------------------------------------------\u001b[0m",
      "\u001b[1;31mKeyboardInterrupt\u001b[0m                         Traceback (most recent call last)",
      "Cell \u001b[1;32mIn[66], line 3\u001b[0m\n\u001b[0;32m      1\u001b[0m \u001b[39mfor\u001b[39;00m epoch \u001b[39min\u001b[39;00m \u001b[39mrange\u001b[39m(num_epochs):\n\u001b[0;32m      2\u001b[0m     \u001b[39m# Training loop\u001b[39;00m\n\u001b[1;32m----> 3\u001b[0m     train_loss \u001b[39m=\u001b[39m train(model, optimizer, criterion, train_loader)\n\u001b[0;32m      4\u001b[0m     train_losses\u001b[39m.\u001b[39mappend(train_loss)\n\u001b[0;32m      6\u001b[0m     \u001b[39m# Evaluation loop\u001b[39;00m\n",
      "Cell \u001b[1;32mIn[63], line 9\u001b[0m, in \u001b[0;36mtrain\u001b[1;34m(model, optimizer, criterion, train_loader)\u001b[0m\n\u001b[0;32m      6\u001b[0m \u001b[39m# Forward pass\u001b[39;00m\n\u001b[0;32m      7\u001b[0m graph, boundary \u001b[39m=\u001b[39m data[\u001b[39m'\u001b[39m\u001b[39mG\u001b[39m\u001b[39m'\u001b[39m], data[\u001b[39m'\u001b[39m\u001b[39mB\u001b[39m\u001b[39m'\u001b[39m]\n\u001b[1;32m----> 9\u001b[0m width, height    \u001b[39m=\u001b[39m model(graph, boundary)\n\u001b[0;32m     11\u001b[0m \u001b[39m# targets = torch.cat((graph.rec_w.unsqueeze(1), graph.rec_h.unsqueeze(1)), dim=1)\u001b[39;00m\n\u001b[0;32m     12\u001b[0m \u001b[39m# print(logits[0].shape, logits[1].shape, targets.shape)\u001b[39;00m\n\u001b[0;32m     14\u001b[0m width_loss \u001b[39m=\u001b[39m criterion(width, graph\u001b[39m.\u001b[39mrec_w)\n",
      "File \u001b[1;32mc:\\Users\\zmlka\\anaconda3\\envs\\torch2\\lib\\site-packages\\torch\\nn\\modules\\module.py:1501\u001b[0m, in \u001b[0;36mModule._call_impl\u001b[1;34m(self, *args, **kwargs)\u001b[0m\n\u001b[0;32m   1496\u001b[0m \u001b[39m# If we don't have any hooks, we want to skip the rest of the logic in\u001b[39;00m\n\u001b[0;32m   1497\u001b[0m \u001b[39m# this function, and just call forward.\u001b[39;00m\n\u001b[0;32m   1498\u001b[0m \u001b[39mif\u001b[39;00m \u001b[39mnot\u001b[39;00m (\u001b[39mself\u001b[39m\u001b[39m.\u001b[39m_backward_hooks \u001b[39mor\u001b[39;00m \u001b[39mself\u001b[39m\u001b[39m.\u001b[39m_backward_pre_hooks \u001b[39mor\u001b[39;00m \u001b[39mself\u001b[39m\u001b[39m.\u001b[39m_forward_hooks \u001b[39mor\u001b[39;00m \u001b[39mself\u001b[39m\u001b[39m.\u001b[39m_forward_pre_hooks\n\u001b[0;32m   1499\u001b[0m         \u001b[39mor\u001b[39;00m _global_backward_pre_hooks \u001b[39mor\u001b[39;00m _global_backward_hooks\n\u001b[0;32m   1500\u001b[0m         \u001b[39mor\u001b[39;00m _global_forward_hooks \u001b[39mor\u001b[39;00m _global_forward_pre_hooks):\n\u001b[1;32m-> 1501\u001b[0m     \u001b[39mreturn\u001b[39;00m forward_call(\u001b[39m*\u001b[39margs, \u001b[39m*\u001b[39m\u001b[39m*\u001b[39mkwargs)\n\u001b[0;32m   1502\u001b[0m \u001b[39m# Do not call functions when jit is used\u001b[39;00m\n\u001b[0;32m   1503\u001b[0m full_backward_hooks, non_full_backward_hooks \u001b[39m=\u001b[39m [], []\n",
      "Cell \u001b[1;32mIn[62], line 78\u001b[0m, in \u001b[0;36mGATNet.forward\u001b[1;34m(self, graph, boundary)\u001b[0m\n\u001b[0;32m     75\u001b[0m x_boundary_res \u001b[39m=\u001b[39m x_boundary\n\u001b[0;32m     77\u001b[0m \u001b[39m# Passing the graph throught a message passing to embed its features\u001b[39;00m\n\u001b[1;32m---> 78\u001b[0m x_graph \u001b[39m=\u001b[39m F\u001b[39m.\u001b[39mleaky_relu(\u001b[39mself\u001b[39;49m\u001b[39m.\u001b[39;49mgraph_conv1(x_graph, g_edge_index, g_edge_attr))\n\u001b[0;32m     79\u001b[0m x_graph \u001b[39m=\u001b[39m \u001b[39mself\u001b[39m\u001b[39m.\u001b[39mdropout(x_graph) \u001b[39m# Concatinate with step connection from real values.\u001b[39;00m\n\u001b[0;32m     80\u001b[0m x_graph \u001b[39m=\u001b[39m torch\u001b[39m.\u001b[39mcat([x_graph, x_graph_res], dim\u001b[39m=\u001b[39m\u001b[39m1\u001b[39m)\n",
      "File \u001b[1;32mc:\\Users\\zmlka\\anaconda3\\envs\\torch2\\lib\\site-packages\\torch\\nn\\modules\\module.py:1501\u001b[0m, in \u001b[0;36mModule._call_impl\u001b[1;34m(self, *args, **kwargs)\u001b[0m\n\u001b[0;32m   1496\u001b[0m \u001b[39m# If we don't have any hooks, we want to skip the rest of the logic in\u001b[39;00m\n\u001b[0;32m   1497\u001b[0m \u001b[39m# this function, and just call forward.\u001b[39;00m\n\u001b[0;32m   1498\u001b[0m \u001b[39mif\u001b[39;00m \u001b[39mnot\u001b[39;00m (\u001b[39mself\u001b[39m\u001b[39m.\u001b[39m_backward_hooks \u001b[39mor\u001b[39;00m \u001b[39mself\u001b[39m\u001b[39m.\u001b[39m_backward_pre_hooks \u001b[39mor\u001b[39;00m \u001b[39mself\u001b[39m\u001b[39m.\u001b[39m_forward_hooks \u001b[39mor\u001b[39;00m \u001b[39mself\u001b[39m\u001b[39m.\u001b[39m_forward_pre_hooks\n\u001b[0;32m   1499\u001b[0m         \u001b[39mor\u001b[39;00m _global_backward_pre_hooks \u001b[39mor\u001b[39;00m _global_backward_hooks\n\u001b[0;32m   1500\u001b[0m         \u001b[39mor\u001b[39;00m _global_forward_hooks \u001b[39mor\u001b[39;00m _global_forward_pre_hooks):\n\u001b[1;32m-> 1501\u001b[0m     \u001b[39mreturn\u001b[39;00m forward_call(\u001b[39m*\u001b[39margs, \u001b[39m*\u001b[39m\u001b[39m*\u001b[39mkwargs)\n\u001b[0;32m   1502\u001b[0m \u001b[39m# Do not call functions when jit is used\u001b[39;00m\n\u001b[0;32m   1503\u001b[0m full_backward_hooks, non_full_backward_hooks \u001b[39m=\u001b[39m [], []\n",
      "File \u001b[1;32mc:\\Users\\zmlka\\anaconda3\\envs\\torch2\\lib\\site-packages\\torch_geometric\\nn\\conv\\gat_conv.py:255\u001b[0m, in \u001b[0;36mGATConv.forward\u001b[1;34m(self, x, edge_index, edge_attr, size, return_attention_weights)\u001b[0m\n\u001b[0;32m    252\u001b[0m alpha \u001b[39m=\u001b[39m \u001b[39mself\u001b[39m\u001b[39m.\u001b[39medge_updater(edge_index, alpha\u001b[39m=\u001b[39malpha, edge_attr\u001b[39m=\u001b[39medge_attr)\n\u001b[0;32m    254\u001b[0m \u001b[39m# propagate_type: (x: OptPairTensor, alpha: Tensor)\u001b[39;00m\n\u001b[1;32m--> 255\u001b[0m out \u001b[39m=\u001b[39m \u001b[39mself\u001b[39;49m\u001b[39m.\u001b[39;49mpropagate(edge_index, x\u001b[39m=\u001b[39;49mx, alpha\u001b[39m=\u001b[39;49malpha, size\u001b[39m=\u001b[39;49msize)\n\u001b[0;32m    257\u001b[0m \u001b[39mif\u001b[39;00m \u001b[39mself\u001b[39m\u001b[39m.\u001b[39mconcat:\n\u001b[0;32m    258\u001b[0m     out \u001b[39m=\u001b[39m out\u001b[39m.\u001b[39mview(\u001b[39m-\u001b[39m\u001b[39m1\u001b[39m, \u001b[39mself\u001b[39m\u001b[39m.\u001b[39mheads \u001b[39m*\u001b[39m \u001b[39mself\u001b[39m\u001b[39m.\u001b[39mout_channels)\n",
      "File \u001b[1;32mc:\\Users\\zmlka\\anaconda3\\envs\\torch2\\lib\\site-packages\\torch_geometric\\nn\\conv\\message_passing.py:467\u001b[0m, in \u001b[0;36mMessagePassing.propagate\u001b[1;34m(self, edge_index, size, **kwargs)\u001b[0m\n\u001b[0;32m    465\u001b[0m     \u001b[39mif\u001b[39;00m res \u001b[39mis\u001b[39;00m \u001b[39mnot\u001b[39;00m \u001b[39mNone\u001b[39;00m:\n\u001b[0;32m    466\u001b[0m         msg_kwargs \u001b[39m=\u001b[39m res[\u001b[39m0\u001b[39m] \u001b[39mif\u001b[39;00m \u001b[39misinstance\u001b[39m(res, \u001b[39mtuple\u001b[39m) \u001b[39melse\u001b[39;00m res\n\u001b[1;32m--> 467\u001b[0m out \u001b[39m=\u001b[39m \u001b[39mself\u001b[39m\u001b[39m.\u001b[39mmessage(\u001b[39m*\u001b[39m\u001b[39m*\u001b[39mmsg_kwargs)\n\u001b[0;32m    468\u001b[0m \u001b[39mfor\u001b[39;00m hook \u001b[39min\u001b[39;00m \u001b[39mself\u001b[39m\u001b[39m.\u001b[39m_message_forward_hooks\u001b[39m.\u001b[39mvalues():\n\u001b[0;32m    469\u001b[0m     res \u001b[39m=\u001b[39m hook(\u001b[39mself\u001b[39m, (msg_kwargs, ), out)\n",
      "File \u001b[1;32mc:\\Users\\zmlka\\anaconda3\\envs\\torch2\\lib\\site-packages\\torch_geometric\\nn\\conv\\gat_conv.py:300\u001b[0m, in \u001b[0;36mGATConv.message\u001b[1;34m(self, x_j, alpha)\u001b[0m\n\u001b[0;32m    299\u001b[0m \u001b[39mdef\u001b[39;00m \u001b[39mmessage\u001b[39m(\u001b[39mself\u001b[39m, x_j: Tensor, alpha: Tensor) \u001b[39m-\u001b[39m\u001b[39m>\u001b[39m Tensor:\n\u001b[1;32m--> 300\u001b[0m     \u001b[39mreturn\u001b[39;00m alpha\u001b[39m.\u001b[39;49munsqueeze(\u001b[39m-\u001b[39;49m\u001b[39m1\u001b[39;49m) \u001b[39m*\u001b[39m x_j\n",
      "\u001b[1;31mKeyboardInterrupt\u001b[0m: "
=======
      "Validating ...\n"
>>>>>>> fdf57e7 (Savign the v2 best model)
     ]
    }
   ],
   "source": [
    "for epoch in range(num_epochs):\n",
    "    # Training loop\n",
    "    train_loss = train(model, optimizer, criterion, train_loader)\n",
    "    train_losses.append(train_loss)\n",
    "    \n",
    "    # Evaluation loop\n",
    "    print('Validating ...')\n",
    "    val_loss = evaluate(model, criterion, val_loader)\n",
    "    val_losses.append(val_loss)\n",
    "    \n",
    "    # Printing and monitoring\n",
    "    print(f'Epoch [{epoch + 1}/{num_epochs}], Train Loss: {train_loss:.4f}, Validation Loss: {val_loss:.4f}')\n",
    "    \n",
    "    \n",
    "    # Early stopping\n",
    "    if val_loss < best_val_loss:\n",
    "        best_val_loss = val_loss\n",
    "        best_model = deepcopy(model)\n",
    "        save_checkpoint(best_model, optimizer, epoch)\n",
    "        counter = 0\n",
    "        \n",
    "    else:\n",
    "        counter += 1\n",
    "        if counter >= patience:\n",
    "            print(f'Validation loss did not improve for {patience} epochs. Stopping early.')\n",
    "            break\n",
    "        if counter in range(2, 20, 2):\n",
    "            scheduler.step()\n",
    "            print(f\"Learning rate decreased!, now is {optimizer.state_dict()['param_groups'][0]['lr']}\")"
   ]
  },
  {
   "cell_type": "code",
<<<<<<< HEAD
   "execution_count": null,
=======
   "execution_count": 73,
>>>>>>> fdf57e7 (Savign the v2 best model)
   "id": "af042441",
   "metadata": {},
   "outputs": [
    {
     "data": {
<<<<<<< HEAD
      "image/png": "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",
=======
      "image/png": "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",
>>>>>>> fdf57e7 (Savign the v2 best model)
      "text/plain": [
       "<Figure size 640x480 with 1 Axes>"
      ]
     },
     "metadata": {},
     "output_type": "display_data"
    }
   ],
   "source": [
    "plt.plot(train_losses, label=f'Best training    loss: {min(train_losses):.0f}');\n",
    "plt.plot(val_losses, label=f'Best validation loss: {min(val_losses):.0f}');\n",
    "plt.legend();"
   ]
  },
  {
   "cell_type": "code",
   "execution_count": null,
   "id": "74e17936",
   "metadata": {},
   "outputs": [],
   "source": []
  }
 ],
 "metadata": {
  "kernelspec": {
   "display_name": "Python 3 (ipykernel)",
   "language": "python",
   "name": "python3"
  },
  "language_info": {
   "codemirror_mode": {
    "name": "ipython",
    "version": 3
   },
   "file_extension": ".py",
   "mimetype": "text/x-python",
   "name": "python",
   "nbconvert_exporter": "python",
   "pygments_lexer": "ipython3",
   "version": "3.9.16"
  },
  "vscode": {
   "interpreter": {
    "hash": "916dbcbb3f70747c44a77c7bcd40155683ae19c65e1c03b4aa3499c5328201f1"
   }
  }
 },
 "nbformat": 4,
 "nbformat_minor": 5
}
