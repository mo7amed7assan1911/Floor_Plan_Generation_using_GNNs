{
 "cells": [
  {
   "cell_type": "markdown",
   "id": "88f1eb50",
   "metadata": {},
   "source": [
    "# Planify - Graph Neural Network\n",
    "\n",
    "### Table of Contents\n",
    "<ul>\n",
    "<li><a href=\"#intro\">Introduction</a></li>\n",
    "    <ul>\n",
    "        <li><a href=\"#Imports\">Imports</a></li>\n",
    "        <li><a href=\"#func\">Functions used</a></li>\n",
    "    </ul>\n",
    "<li><a href=\"#wrangling\">Data Wrangling</a></li>\n",
    "<li><a href=\"#model\">GNN Model</a></li>\n",
    "    <ul>\n",
    "        <li><a href=\"#dataLoader\">Data Loader</a></li>\n",
    "        <li><a href=\"#archi\">Architecture</a></li>\n",
    "        <li><a href=\"#train\">Training</a></li> \n",
    "        <li><a href=\"#eval\">Evaluation</a></li>\n",
    "    </ul>\n",
    "</ul>"
   ]
  },
  {
   "cell_type": "markdown",
   "id": "c612d2c6",
   "metadata": {},
   "source": [
    "<a id='intro'></a>\n",
    "## Introduction\n",
    "\n",
    "> This notebook getting garphs in the Networkx format from the `Creating Graphs` notebook. And its main goal is to make the GNN model."
   ]
  },
  {
   "cell_type": "code",
   "execution_count": 3,
   "id": "849fb853",
   "metadata": {},
   "outputs": [],
   "source": [
    "# Used for vsCode only to show tqdm process\n",
    "# from IPython.core.interactiveshell import InteractiveShell\n",
    "# InteractiveShell.ast_node_interactivity = \"all\""
   ]
  },
  {
   "cell_type": "markdown",
   "id": "52912620",
   "metadata": {},
   "source": [
    "<a id='Imports'></a>\n",
    "### Imports"
   ]
  },
  {
   "cell_type": "code",
   "execution_count": 4,
   "id": "6ef47335",
   "metadata": {
    "tags": []
   },
   "outputs": [],
   "source": [
    "# Only for kaggle\n",
    "# !pip install torch_geometric"
   ]
  },
  {
   "cell_type": "code",
   "execution_count": 5,
   "id": "67cc3944",
   "metadata": {
    "tags": []
   },
   "outputs": [],
   "source": [
    "# Not included packages in kaggle\n",
    "\n",
    "# Install torch_geometric\n",
    "# !pip install /kaggle/input/torch-geometric/torch_sparse-0.6.16-cp37-cp37m-linux_x86_64.whl -q\n",
    "# !pip install /kaggle/input/torch-geometric/torch_scatter-2.1.0-cp37-cp37m-linux_x86_64.whl -q\n",
    "\n",
    "# # # library for getting distinct colores\n",
    "!pip install distinctipy -q"
   ]
  },
  {
   "cell_type": "code",
   "execution_count": 6,
   "id": "21f601a5",
   "metadata": {
    "tags": []
   },
   "outputs": [],
   "source": [
    "# for data wrangling\n",
    "import pickle\n",
    "import networkx as nx\n",
    "import matplotlib.pyplot as plt\n",
    "import numpy as np\n",
    "import distinctipy\n",
    "import random\n",
    "from torch_geometric.utils import from_networkx\n",
    "\n",
    "# to show advance in for loops\n",
    "from tqdm import tqdm\n",
    "\n",
    "# Using pytorch geometric\n",
    "import torch\n",
    "import torch.nn as nn\n",
    "from torch_geometric.loader import DataLoader\n",
    "from torch_geometric.data import Data, Batch\n",
    "from torch.utils.data import Dataset\n",
    "import torch_geometric.transforms as T\n",
    "\n",
    "\n",
    "# For the GNN model\n",
    "import torch.nn.functional as F\n",
    "from torch_geometric.nn import GCNConv, GATConv, global_mean_pool, global_max_pool\n",
    "\n",
    "\n",
    "# for my pc [linux]\n",
    "# url = '/media/mo/DATA/Grad/Planify_Dataset/Graph/Planify_Graphs.pkl'\n",
    "\n",
    "# for my pc [windows]\n",
    "url = \"D:\\Grad\\Planify_Dataset\\Graph\\Planify_Graphs.pkl\"\n",
    "\n",
    "# for kaggle\n",
    "# url = '/kaggle/input/planify-graphs/Planify_Graphs.pkl'"
   ]
  },
  {
   "cell_type": "markdown",
   "id": "d993568d",
   "metadata": {},
   "source": [
    "<a id='func'></a>\n",
    "### Functions used"
   ]
  },
  {
   "cell_type": "code",
   "execution_count": 7,
   "id": "441cb7a3",
   "metadata": {
    "tags": []
   },
   "outputs": [],
   "source": [
    "geoms_columns = ['inner', 'living', 'master', 'kitchen', 'bathroom', 'dining', 'child', 'study',\n",
    "                   'second_room', 'guest', 'balcony', 'storage', 'wall-in',\n",
    "                    'outer_wall', 'front', 'inner_wall', 'interior',\n",
    "                   'front_door', 'outer_wall', 'entrance']\n",
    "\n",
    "N = len(geoms_columns)\n",
    "colors = (np.array(distinctipy.get_colors(N)) * 255).astype(np.uint8)\n",
    "room_color = {room_name: colors[i] for i, room_name in enumerate(geoms_columns)}"
   ]
  },
  {
   "cell_type": "code",
   "execution_count": 8,
   "id": "cf9a39e5",
   "metadata": {
    "tags": []
   },
   "outputs": [],
   "source": [
    "def draw_graph(G):\n",
    "    #  nodes positions for drawing, note that we invert the y pos\n",
    "    pos = {node: (G.nodes[node]['actualCentroid_x'], -G.nodes[node]['actualCentroid_y']) for node in G.nodes}\n",
    "    \n",
    "    scales = [G.nodes[node]['roomSize'] * 10000 for node in G] \n",
    "    colormap = [room_color[G.nodes[node]['roomType_name']]/255 for node in G]\n",
    "    \n",
    "    nx.draw(G, pos=pos, node_size=scales, node_color=colormap, with_labels=True, font_size=12)\n",
    "    \n",
    "    # Drawing the graph inside a good boundary.\n",
    "    x_coords  = [pos[node][0] for node in pos]\n",
    "    y_coords  = [pos[node][1] for node in pos]\n",
    "    threshold = max(scales) / 100\n",
    "    \n",
    "    plt.xlim(min(x_coords) - threshold, max(x_coords) + threshold)\n",
    "    plt.ylim(min(y_coords) - threshold, max(y_coords) + threshold)\n",
    "\n",
    "\n",
    "def collate_fn(graphs_list):\n",
    "    batch = Batch.from_data_list([Data.from_(g) for g in graphs_list])\n",
    "    return batch"
   ]
  },
  {
   "cell_type": "markdown",
   "id": "e2519899",
   "metadata": {},
   "source": [
    "<a id='wrangling'></a>\n",
    "## Data wrangling\n"
   ]
  },
  {
   "cell_type": "code",
   "execution_count": 9,
   "id": "81a204b0",
   "metadata": {
    "tags": []
   },
   "outputs": [
    {
     "name": "stdout",
     "output_type": "stream",
     "text": [
      "Graph with 7 nodes and 9 edges\n"
     ]
    },
    {
     "data": {
      "image/png": "[encoded data removed]",
      "text/plain": [
       "<Figure size 640x480 with 1 Axes>"
      ]
     },
     "metadata": {},
     "output_type": "display_data"
    }
   ],
   "source": [
    "with open(url, 'rb') as f:\n",
    "    Graphs = pickle.load(f)\n",
    "    \n",
    "G = Graphs[1911]\n",
    "print(G)\n",
    "draw_graph(G)"
   ]
  },
  {
   "cell_type": "code",
   "execution_count": 10,
   "id": "0d9a56e8",
   "metadata": {
    "tags": []
   },
   "outputs": [],
   "source": [
    "features = ['actualCentroid_x', 'actualCentroid_y', 'rec_w', 'rec_h', 'roomSize']"
   ]
  },
  {
   "cell_type": "code",
   "execution_count": 11,
   "id": "9d679b2b",
   "metadata": {
    "tags": []
   },
   "outputs": [
    {
     "name": "stderr",
     "output_type": "stream",
     "text": [
      "100%|█████████████████████████████████████| 80788/80788 [00:46<00:00, 1719.82it/s]\n"
     ]
    },
    {
     "data": {
      "text/plain": [
       "Data(edge_index=[2, 12], roomType_name=[5], roomType_embd=[5], x=[5, 5], edge_attr=[12, 1])"
      ]
     },
     "execution_count": 11,
     "metadata": {},
     "output_type": "execute_result"
    }
   ],
   "source": [
    "# Converting networkx graphs to pytorchGeo graphs\n",
    "Graphs_pyTorch = []\n",
    "for G in tqdm(Graphs):\n",
    "    G_new = from_networkx(G, group_node_attrs=features, group_edge_attrs=['dist'])\n",
    "    # Normalizing feature matrix (x)\n",
    "    G_new = T.NormalizeFeatures()(G_new)\n",
    "    \n",
    "    Graphs_pyTorch.append(G_new)\n",
    "\n",
    "Graphs_pyTorch[0]"
   ]
  },
  {
   "cell_type": "markdown",
   "id": "09b0204f",
   "metadata": {},
   "source": [
    "> There are many types of `rooms` but we will give them a defualt number = 1.\n",
    "> So, also we will decrease the embedings to be between 0:6"
   ]
  },
  {
   "cell_type": "code",
   "execution_count": 12,
   "id": "3a720ad4",
   "metadata": {},
   "outputs": [
    {
     "name": "stdout",
     "output_type": "stream",
     "text": [
      "Befor: G_1 embedings are: tensor([ 0,  1,  2,  3,  7,  7,  9, 10])\n"
     ]
    },
    {
     "name": "stderr",
     "output_type": "stream",
     "text": [
      "100%|█████████████████████████████████████| 80788/80788 [00:18<00:00, 4455.00it/s]"
     ]
    },
    {
     "name": "stdout",
     "output_type": "stream",
     "text": [
      "After: G_1 embedings are: tensor([0, 1, 2, 3, 1, 1, 4, 5])\n"
     ]
    },
    {
     "name": "stderr",
     "output_type": "stream",
     "text": [
      "\n"
     ]
    }
   ],
   "source": [
    "print(f'Befor: G_1 embedings are: {Graphs_pyTorch[1].roomType_embd}')\n",
    "for G in tqdm(Graphs_pyTorch, total=len(Graphs_pyTorch)):\n",
    "    for j ,value in enumerate(G.roomType_embd):\n",
    "        if value in [1, 4, 5, 6, 7, 8]:\n",
    "            G.roomType_embd[j] = 1\n",
    "        \n",
    "        # making all labels from 0 to 6 only to help one_hotting\n",
    "        elif value == 9:\n",
    "            G.roomType_embd[j] = 4\n",
    "        elif value == 10:\n",
    "            G.roomType_embd[j] = 5\n",
    "        elif value == 11:\n",
    "            G.roomType_embd[j] = 6\n",
    "print(f'After: G_1 embedings are: {Graphs_pyTorch[1].roomType_embd}')"
   ]
  },
  {
   "cell_type": "markdown",
   "id": "bc19a0b1",
   "metadata": {},
   "source": [
    "> If we need to creat graphs with padding by the maximum number of nodes."
   ]
  },
  {
   "cell_type": "code",
   "execution_count": 13,
   "id": "bca96f38",
   "metadata": {
    "tags": []
   },
   "outputs": [],
   "source": [
    "# # but we need to do some padding to our graphs to be all of the same number of nodes.\n",
    "# padded_graphs = []\n",
    "# for G in Graphs_pyTorch:\n",
    "#     x          = G.x\n",
    "#     y          = G.roomType_embd\n",
    "#     edge_index = G.edge_index\n",
    "#     edge_attr  = G.edge_attr\n",
    "    \n",
    "#     nu_nodes = x.shape[0]\n",
    "\n",
    "#     padded_x = torch.nn.functional.pad(x, pad=(0, 0, 0, 8 - nu_nodes), mode='constant', value=0)\n",
    "#     padded_y = torch.nn.functional.pad(y, pad=(0, 8 - nu_nodes), mode='constant', value=0)\n",
    "#     train_mask   = torch.ones(nu_nodes)\n",
    "#     train_mask   = torch.nn.functional.pad(train_mask, pad=(0, 8 - nu_nodes), mode='constant', value=0).to(bool)\n",
    "\n",
    "#     data = Data(x = padded_x, y = padded_y, edge_index= G.edge_index, edge_attr = G.edge_attr, train_mask=train_mask)\n",
    "\n",
    "#     padded_graphs.append(data)\n",
    "\n",
    "# padded_graphs[0]"
   ]
  },
  {
   "cell_type": "markdown",
   "id": "03781d88",
   "metadata": {},
   "source": [
    "<a id='model'></a>\n",
    "## GNN Model"
   ]
  },
  {
   "cell_type": "markdown",
   "id": "2f1cd5f8",
   "metadata": {},
   "source": [
    "<a id='dataLoader'></a>\n",
    "### Data Loader"
   ]
  },
  {
   "cell_type": "code",
   "execution_count": 14,
   "id": "e88277ea",
   "metadata": {
    "tags": []
   },
   "outputs": [],
   "source": [
    "class Planify_Dataset(Dataset):\n",
    "    def __init__(self, data):\n",
    "        self.Graphs = data\n",
    "    \n",
    "    def __len__(self):\n",
    "        return len(self.Graphs)\n",
    "\n",
    "    def __getitem__(self, index):\n",
    "        G = self.Graphs[index].clone()\n",
    "        # shuffling nodes inside the same graph\n",
    "        permutation = torch.randperm(G.num_nodes)\n",
    "\n",
    "        G.x = G.x[permutation]\n",
    "        G.edge_index = permutation[G.edge_index]\n",
    "        G.roomType_embd = G.roomType_embd[permutation]\n",
    "        # padded_x = torch.nn.functional.pad(x, pad=(0, 0, 0, 8 - nu_nodes), mode='constant', value=0)\n",
    "        # padded_y = torch.nn.functional.pad(y, pad=(0, 8 - nu_nodes), mode='constant', value=0)\n",
    "                \n",
    "        return G"
   ]
  },
  {
   "cell_type": "code",
   "execution_count": 25,
   "id": "0f01bd03",
   "metadata": {
    "tags": []
   },
   "outputs": [],
   "source": [
    "# There is a problem here, the first graph has this problem on my device [windows]\n",
    "\n",
    "batch_size = 128\n",
    "dataset = Planify_Dataset(Graphs_pyTorch[1:])\n",
    "loader  = DataLoader(dataset, batch_size=batch_size, shuffle=True)"
   ]
  },
  {
   "cell_type": "markdown",
   "id": "111ed4e1",
   "metadata": {},
   "source": [
    "<a id='archi'></a>\n",
    "### Architecture"
   ]
  },
  {
   "cell_type": "code",
   "execution_count": 61,
   "id": "813271d5",
   "metadata": {
    "tags": []
   },
   "outputs": [
    {
     "data": {
      "text/plain": [
       "GCN(\n",
       "  (gc1): GATConv(5, 16, heads=8)\n",
       "  (gc2): GATConv(128, 128, heads=8)\n",
       "  (gc3): GATConv(1024, 128, heads=8)\n",
       "  (fc1): Linear(in_features=1024, out_features=56, bias=True)\n",
       "  (fc2): Linear(in_features=56, out_features=7, bias=True)\n",
       "  (Classifier): Linear(in_features=7, out_features=7, bias=True)\n",
       ")"
      ]
     },
     "execution_count": 61,
     "metadata": {},
     "output_type": "execute_result"
    }
   ],
   "source": [
    "class GCN(torch.nn.Module):\n",
    "    def __init__(self, input_channels, hidden_channels, nu_classes):\n",
    "        super().__init__()\n",
    "        self.gc1 = GATConv(input_channels, hidden_channels, heads=8)\n",
    "        self.gc2 = GATConv(hidden_channels * 8, hidden_channels * 8, heads=8)\n",
    "        self.gc3 = GATConv(hidden_channels * 8 * 8, hidden_channels * 8, heads=8)\n",
    "        \n",
    "        self.fc1 = nn.Linear(hidden_channels * 8 * 8, nu_classes * 8)\n",
    "        self.fc2 = nn.Linear(nu_classes * 8, nu_classes)\n",
    "        \n",
    "        self.Classifier = nn.Linear(nu_classes, nu_classes)\n",
    "\n",
    "    def forward(self, data):\n",
    "        x, edge_index = data.x, data.edge_index\n",
    "        \n",
    "        x = self.gc1(x, edge_index)\n",
    "        x = x.relu()\n",
    "        # x = F.dropout(x, training=self.training)\n",
    "\n",
    "        x = self.gc2(x, edge_index)\n",
    "        x = x.relu()\n",
    "        # x = F.dropout(x, training=self.training)\n",
    "        \n",
    "        x = self.gc3(x, edge_index)\n",
    "        x = x.relu()\n",
    "        \n",
    "        x = self.fc1(x)\n",
    "        x = x.relu()\n",
    "        \n",
    "        x = self.fc2(x)\n",
    "        x = x.relu()\n",
    "        \n",
    "        x = self.Classifier(x)\n",
    "        x = self.Classifier(x)\n",
    "        \n",
    "        return x.relu()\n",
    "    \n",
    "\n",
    "\n",
    "nu_features    = Graphs_pyTorch[0].x.shape[1]\n",
    "# number_classes = 12 # there is 12 distict classes in our dataset\n",
    "number_classes = 7 # if we consider all rooms has the same label = 1\n",
    "\n",
    "\n",
    "model = GCN(nu_features, hidden_channels=16, nu_classes=number_classes)\n",
    "device = torch.device('cuda' if torch.cuda.is_available() else 'cpu')\n",
    "model = model.to(device)\n",
    "\n",
    "\n",
    "# to monitor the loss & accuracy.\n",
    "errors = []\n",
    "acc = []\n",
    "model"
   ]
  },
  {
   "cell_type": "code",
   "execution_count": 62,
   "id": "2684a77e",
   "metadata": {
    "tags": []
   },
   "outputs": [],
   "source": [
    "# Hyperparameters\n",
    "learning_rate = 0.001\n",
    "nu_epochs = 100\n",
    "\n",
    "optimizer = torch.optim.Adam(model.parameters(), lr=learning_rate)\n",
    "criterion = torch.nn.CrossEntropyLoss()\n",
    "\n",
    "scheduler = torch.optim.lr_scheduler.StepLR(optimizer, step_size=20, gamma=0.972)\n",
    "\n",
    "# def scheduler(epoch, lr)\n",
    "#     if epoch < 20:\n",
    "#         return lr\n",
    "#     else:\n",
    "#         return lr * 0.99"
   ]
  },
  {
   "cell_type": "markdown",
   "id": "271a7b40",
   "metadata": {},
   "source": [
    "<a id='train'></a>\n",
    "### Training\n"
   ]
  },
  {
   "cell_type": "code",
   "execution_count": 63,
   "id": "f60c070b",
   "metadata": {
    "tags": []
   },
   "outputs": [],
   "source": [
    "# Saving model function\n",
    "import os\n",
    "\n",
    "# checkpoint_dir = '/kaggle/working/checkpoints'\n",
    "# checkpoint_dir = '/media/mo/DATA/Grad/Planify_Dataset/Graph/checkpoints'\n",
    "checkpoint_dir = \"./checkpoints\"\n",
    "\n",
    "if not os.path.exists(checkpoint_dir):\n",
    "    os.makedirs(checkpoint_dir)\n",
    "    \n",
    "\n",
    "def save_checkpoint(model, optimizer, epoch):\n",
    "    checkpoint_path = os.path.join(checkpoint_dir, f'model_epoch_{epoch}.pt')\n",
    "    # Saving model each 15 epochs\n",
    "    if epoch % 20 == 0:\n",
    "        torch.save({\n",
    "            'model_state_dict': model.state_dict(),\n",
    "            'optimizer_state_dict': optimizer.state_dict(),\n",
    "            'epoch': epoch\n",
    "        }, checkpoint_path)\n",
    "        \n",
    "        print('Model saved :)')"
   ]
  },
  {
   "cell_type": "code",
   "execution_count": 64,
   "id": "c65819c7",
   "metadata": {
    "tags": []
   },
   "outputs": [
    {
     "name": "stderr",
     "output_type": "stream",
     "text": [
      "Planifying: 100%|███████████████████████████████| 632/632 [00:26<00:00, 24.26it/s]\n"
     ]
    },
    {
     "name": "stdout",
     "output_type": "stream",
     "text": [
      "tensor([1, 1, 4, 2, 0, 3, 4, 2, 1, 1], device='cuda:0')\n",
      "tensor([1, 4, 4, 0, 1, 4, 1, 4, 1, 1], device='cuda:0')\n",
      "Model saved :)\n",
      "Epoch: 1/100 | lr: 0.001 | avg_loss: 1.59739 | training_acc: 39.60247%\n"
     ]
    },
    {
     "name": "stderr",
     "output_type": "stream",
     "text": [
      "Planifying: 100%|███████████████████████████████| 632/632 [00:26<00:00, 24.06it/s]\n"
     ]
    },
    {
     "name": "stdout",
     "output_type": "stream",
     "text": [
      "tensor([2, 1, 3, 4, 1, 0, 1, 4, 3, 1], device='cuda:0')\n",
      "tensor([1, 1, 1, 4, 1, 0, 1, 1, 1, 1], device='cuda:0')\n",
      "Epoch: 2/100 | lr: 0.001 | avg_loss: 1.23310 | training_acc: 50.41240%\n"
     ]
    },
    {
     "name": "stderr",
     "output_type": "stream",
     "text": [
      "Planifying: 100%|███████████████████████████████| 632/632 [00:26<00:00, 23.80it/s]\n"
     ]
    },
    {
     "name": "stdout",
     "output_type": "stream",
     "text": [
      "tensor([0, 3, 2, 3, 1, 4, 1, 1, 2, 1], device='cuda:0')\n",
      "tensor([0, 1, 3, 1, 1, 4, 1, 1, 4, 1], device='cuda:0')\n",
      "Epoch: 3/100 | lr: 0.001 | avg_loss: 1.12636 | training_acc: 55.17489%\n"
     ]
    },
    {
     "name": "stderr",
     "output_type": "stream",
     "text": [
      "Planifying: 100%|███████████████████████████████| 632/632 [00:26<00:00, 23.80it/s]\n"
     ]
    },
    {
     "name": "stdout",
     "output_type": "stream",
     "text": [
      "tensor([4, 2, 1, 0, 3, 1, 3, 1, 1, 0], device='cuda:0')\n",
      "tensor([4, 1, 1, 0, 4, 1, 3, 1, 1, 0], device='cuda:0')\n",
      "Epoch: 4/100 | lr: 0.001 | avg_loss: 1.06889 | training_acc: 57.66642%\n"
     ]
    },
    {
     "name": "stderr",
     "output_type": "stream",
     "text": [
      "Planifying: 100%|███████████████████████████████| 632/632 [00:27<00:00, 22.92it/s]\n"
     ]
    },
    {
     "name": "stdout",
     "output_type": "stream",
     "text": [
      "tensor([3, 4, 1, 0, 1, 2, 1, 0, 3, 1], device='cuda:0')\n",
      "tensor([1, 4, 1, 0, 1, 1, 1, 0, 1, 1], device='cuda:0')\n",
      "Epoch: 5/100 | lr: 0.001 | avg_loss: 1.01950 | training_acc: 59.90967%\n"
     ]
    },
    {
     "name": "stderr",
     "output_type": "stream",
     "text": [
      "Planifying: 100%|███████████████████████████████| 632/632 [00:26<00:00, 23.42it/s]\n"
     ]
    },
    {
     "name": "stdout",
     "output_type": "stream",
     "text": [
      "tensor([1, 0, 3, 2, 1, 4, 3, 1, 2, 3], device='cuda:0')\n",
      "tensor([1, 0, 3, 1, 1, 4, 3, 1, 1, 4], device='cuda:0')\n",
      "Epoch: 6/100 | lr: 0.001 | avg_loss: 0.98036 | training_acc: 61.69815%\n"
     ]
    },
    {
     "name": "stderr",
     "output_type": "stream",
     "text": [
      "Planifying: 100%|███████████████████████████████| 632/632 [00:27<00:00, 23.15it/s]\n"
     ]
    },
    {
     "name": "stdout",
     "output_type": "stream",
     "text": [
      "tensor([0, 1, 4, 1, 2, 3, 1, 4, 1, 2], device='cuda:0')\n",
      "tensor([0, 3, 4, 1, 1, 3, 2, 4, 3, 1], device='cuda:0')\n",
      "Epoch: 7/100 | lr: 0.001 | avg_loss: 0.94765 | training_acc: 63.10794%\n"
     ]
    },
    {
     "name": "stderr",
     "output_type": "stream",
     "text": [
      "Planifying: 100%|███████████████████████████████| 632/632 [00:27<00:00, 22.94it/s]\n"
     ]
    },
    {
     "name": "stdout",
     "output_type": "stream",
     "text": [
      "tensor([1, 3, 3, 0, 1, 1, 2, 3, 4, 0], device='cuda:0')\n",
      "tensor([1, 1, 1, 0, 1, 1, 3, 3, 1, 0], device='cuda:0')\n",
      "Epoch: 8/100 | lr: 0.001 | avg_loss: 0.91824 | training_acc: 64.45505%\n"
     ]
    },
    {
     "name": "stderr",
     "output_type": "stream",
     "text": [
      "Planifying: 100%|███████████████████████████████| 632/632 [00:28<00:00, 22.35it/s]\n"
     ]
    },
    {
     "name": "stdout",
     "output_type": "stream",
     "text": [
      "tensor([1, 3, 1, 0, 2, 2, 1, 3, 0, 1], device='cuda:0')\n",
      "tensor([1, 1, 1, 0, 3, 3, 1, 3, 0, 1], device='cuda:0')\n",
      "Epoch: 9/100 | lr: 0.001 | avg_loss: 0.89251 | training_acc: 65.48094%\n"
     ]
    },
    {
     "name": "stderr",
     "output_type": "stream",
     "text": [
      "Planifying: 100%|███████████████████████████████| 632/632 [00:28<00:00, 21.80it/s]\n"
     ]
    },
    {
     "name": "stdout",
     "output_type": "stream",
     "text": [
      "tensor([5, 0, 4, 2, 3, 1, 1, 0, 3, 1], device='cuda:0')\n",
      "tensor([1, 0, 4, 1, 1, 1, 1, 0, 1, 1], device='cuda:0')\n",
      "Epoch: 10/100 | lr: 0.001 | avg_loss: 0.87209 | training_acc: 66.34194%\n"
     ]
    },
    {
     "name": "stderr",
     "output_type": "stream",
     "text": [
      "Planifying: 100%|███████████████████████████████| 632/632 [00:27<00:00, 22.71it/s]\n"
     ]
    },
    {
     "name": "stdout",
     "output_type": "stream",
     "text": [
      "tensor([1, 3, 2, 0, 1, 1, 0, 1, 2, 4], device='cuda:0')\n",
      "tensor([1, 1, 0, 0, 1, 1, 0, 1, 4, 4], device='cuda:0')\n",
      "Epoch: 11/100 | lr: 0.001 | avg_loss: 0.85575 | training_acc: 67.00509%\n"
     ]
    },
    {
     "name": "stderr",
     "output_type": "stream",
     "text": [
      "Planifying: 100%|███████████████████████████████| 632/632 [00:27<00:00, 22.93it/s]\n"
     ]
    },
    {
     "name": "stdout",
     "output_type": "stream",
     "text": [
      "tensor([4, 4, 4, 1, 3, 1, 2, 0, 3, 1], device='cuda:0')\n",
      "tensor([4, 4, 4, 0, 1, 1, 3, 0, 3, 1], device='cuda:0')\n",
      "Epoch: 12/100 | lr: 0.001 | avg_loss: 0.83881 | training_acc: 67.73577%\n"
     ]
    },
    {
     "name": "stderr",
     "output_type": "stream",
     "text": [
      "Planifying: 100%|███████████████████████████████| 632/632 [00:27<00:00, 22.76it/s]\n"
     ]
    },
    {
     "name": "stdout",
     "output_type": "stream",
     "text": [
      "tensor([3, 1, 2, 1, 0, 4, 0, 2, 3, 1], device='cuda:0')\n",
      "tensor([3, 1, 1, 1, 0, 4, 1, 1, 2, 1], device='cuda:0')\n",
      "Epoch: 13/100 | lr: 0.001 | avg_loss: 0.82337 | training_acc: 68.41641%\n"
     ]
    },
    {
     "name": "stderr",
     "output_type": "stream",
     "text": [
      "Planifying: 100%|███████████████████████████████| 632/632 [00:27<00:00, 22.90it/s]\n"
     ]
    },
    {
     "name": "stdout",
     "output_type": "stream",
     "text": [
      "tensor([0, 4, 1, 2, 1, 3, 1, 4, 5, 1], device='cuda:0')\n",
      "tensor([0, 4, 1, 1, 1, 2, 3, 4, 1, 1], device='cuda:0')\n",
      "Epoch: 14/100 | lr: 0.001 | avg_loss: 0.81251 | training_acc: 68.81351%\n"
     ]
    },
    {
     "name": "stderr",
     "output_type": "stream",
     "text": [
      "Planifying: 100%|███████████████████████████████| 632/632 [00:28<00:00, 22.31it/s]\n"
     ]
    },
    {
     "name": "stdout",
     "output_type": "stream",
     "text": [
      "tensor([0, 1, 3, 2, 1, 5, 4, 2, 1, 1], device='cuda:0')\n",
      "tensor([0, 1, 3, 1, 1, 2, 4, 2, 1, 1], device='cuda:0')\n",
      "Epoch: 15/100 | lr: 0.001 | avg_loss: 0.80033 | training_acc: 69.35730%\n"
     ]
    },
    {
     "name": "stderr",
     "output_type": "stream",
     "text": [
      "Planifying: 100%|███████████████████████████████| 632/632 [00:27<00:00, 22.91it/s]\n"
     ]
    },
    {
     "name": "stdout",
     "output_type": "stream",
     "text": [
      "tensor([2, 1, 1, 4, 3, 0, 1, 4, 3, 0], device='cuda:0')\n",
      "tensor([3, 1, 0, 4, 3, 0, 1, 4, 1, 0], device='cuda:0')\n",
      "Epoch: 16/100 | lr: 0.001 | avg_loss: 0.78983 | training_acc: 69.76256%\n"
     ]
    },
    {
     "name": "stderr",
     "output_type": "stream",
     "text": [
      "Planifying: 100%|███████████████████████████████| 632/632 [00:27<00:00, 22.87it/s]\n"
     ]
    },
    {
     "name": "stdout",
     "output_type": "stream",
     "text": [
      "tensor([3, 1, 1, 0, 4, 2, 1, 3, 4, 1], device='cuda:0')\n",
      "tensor([1, 1, 1, 0, 3, 1, 1, 1, 4, 2], device='cuda:0')\n",
      "Epoch: 17/100 | lr: 0.001 | avg_loss: 0.77860 | training_acc: 70.24977%\n"
     ]
    },
    {
     "name": "stderr",
     "output_type": "stream",
     "text": [
      "Planifying: 100%|███████████████████████████████| 632/632 [00:28<00:00, 22.18it/s]\n"
     ]
    },
    {
     "name": "stdout",
     "output_type": "stream",
     "text": [
      "tensor([1, 3, 1, 4, 1, 0, 2, 1, 3, 1], device='cuda:0')\n",
      "tensor([1, 3, 4, 4, 1, 0, 1, 1, 3, 1], device='cuda:0')\n",
      "Epoch: 18/100 | lr: 0.001 | avg_loss: 0.76772 | training_acc: 70.66808%\n"
     ]
    },
    {
     "name": "stderr",
     "output_type": "stream",
     "text": [
      "Planifying: 100%|███████████████████████████████| 632/632 [00:28<00:00, 22.53it/s]\n"
     ]
    },
    {
     "name": "stdout",
     "output_type": "stream",
     "text": [
      "tensor([1, 0, 1, 3, 4, 4, 2, 3, 4, 1], device='cuda:0')\n",
      "tensor([1, 1, 1, 1, 3, 1, 3, 1, 1, 1], device='cuda:0')\n",
      "Epoch: 19/100 | lr: 0.001 | avg_loss: 0.75836 | training_acc: 70.99006%\n"
     ]
    },
    {
     "name": "stderr",
     "output_type": "stream",
     "text": [
      "Planifying: 100%|███████████████████████████████| 632/632 [00:27<00:00, 22.75it/s]\n"
     ]
    },
    {
     "name": "stdout",
     "output_type": "stream",
     "text": [
      "tensor([0, 1, 1, 4, 2, 3, 4, 1, 1, 4], device='cuda:0')\n",
      "tensor([0, 1, 1, 4, 1, 1, 4, 1, 1, 4], device='cuda:0')\n",
      "Epoch: 20/100 | lr: 0.001 | avg_loss: 0.75065 | training_acc: 71.28847%\n"
     ]
    },
    {
     "name": "stderr",
     "output_type": "stream",
     "text": [
      "Planifying: 100%|███████████████████████████████| 632/632 [00:27<00:00, 22.74it/s]\n"
     ]
    },
    {
     "name": "stdout",
     "output_type": "stream",
     "text": [
      "tensor([2, 1, 3, 4, 0, 1, 1, 1, 0, 3], device='cuda:0')\n",
      "tensor([3, 1, 1, 4, 0, 1, 4, 1, 0, 2], device='cuda:0')\n",
      "Model saved :)\n",
      "Epoch: 21/100 | lr: 0.000972 | avg_loss: 0.74277 | training_acc: 71.59597%\n"
     ]
    },
    {
     "name": "stderr",
     "output_type": "stream",
     "text": [
      "Planifying: 100%|███████████████████████████████| 632/632 [00:27<00:00, 22.81it/s]\n"
     ]
    },
    {
     "name": "stdout",
     "output_type": "stream",
     "text": [
      "tensor([3, 2, 1, 0, 4, 1, 1, 1, 3, 1], device='cuda:0')\n",
      "tensor([3, 1, 1, 0, 4, 2, 1, 1, 3, 1], device='cuda:0')\n",
      "Epoch: 22/100 | lr: 0.000972 | avg_loss: 0.73471 | training_acc: 71.94805%\n"
     ]
    },
    {
     "name": "stderr",
     "output_type": "stream",
     "text": [
      "Planifying: 100%|███████████████████████████████| 632/632 [00:28<00:00, 22.41it/s]\n"
     ]
    },
    {
     "name": "stdout",
     "output_type": "stream",
     "text": [
      "tensor([0, 2, 3, 4, 1, 1, 4, 1, 1, 0], device='cuda:0')\n",
      "tensor([0, 2, 3, 4, 1, 1, 4, 1, 1, 0], device='cuda:0')\n",
      "Epoch: 23/100 | lr: 0.000972 | avg_loss: 0.72772 | training_acc: 72.26723%\n"
     ]
    },
    {
     "name": "stderr",
     "output_type": "stream",
     "text": [
      "Planifying: 100%|███████████████████████████████| 632/632 [00:29<00:00, 21.79it/s]\n"
     ]
    },
    {
     "name": "stdout",
     "output_type": "stream",
     "text": [
      "tensor([3, 2, 3, 1, 1, 0, 1, 1, 1, 0], device='cuda:0')\n",
      "tensor([3, 3, 3, 1, 1, 0, 1, 1, 1, 0], device='cuda:0')\n",
      "Epoch: 24/100 | lr: 0.000972 | avg_loss: 0.71313 | training_acc: 73.04566%\n"
     ]
    },
    {
     "name": "stderr",
     "output_type": "stream",
     "text": [
      "Planifying: 100%|███████████████████████████████| 632/632 [00:27<00:00, 22.69it/s]\n"
     ]
    },
    {
     "name": "stdout",
     "output_type": "stream",
     "text": [
      "tensor([3, 0, 4, 1, 1, 1, 2, 4, 0, 3], device='cuda:0')\n",
      "tensor([1, 0, 4, 1, 1, 1, 1, 4, 0, 3], device='cuda:0')\n",
      "Epoch: 25/100 | lr: 0.000972 | avg_loss: 0.69751 | training_acc: 73.77380%\n"
     ]
    },
    {
     "name": "stderr",
     "output_type": "stream",
     "text": [
      "Planifying: 100%|███████████████████████████████| 632/632 [00:27<00:00, 22.69it/s]\n"
     ]
    },
    {
     "name": "stdout",
     "output_type": "stream",
     "text": [
      "tensor([2, 4, 1, 3, 1, 0, 1, 3, 4, 1], device='cuda:0')\n",
      "tensor([4, 4, 1, 3, 1, 0, 1, 3, 4, 1], device='cuda:0')\n",
      "Epoch: 26/100 | lr: 0.000972 | avg_loss: 0.68650 | training_acc: 74.19550%\n"
     ]
    },
    {
     "name": "stderr",
     "output_type": "stream",
     "text": [
      "Planifying: 100%|███████████████████████████████| 632/632 [00:28<00:00, 22.05it/s]\n"
     ]
    },
    {
     "name": "stdout",
     "output_type": "stream",
     "text": [
      "tensor([2, 3, 4, 4, 1, 1, 0, 0, 2, 4], device='cuda:0')\n",
      "tensor([1, 3, 3, 4, 1, 1, 0, 0, 1, 4], device='cuda:0')\n",
      "Epoch: 27/100 | lr: 0.000972 | avg_loss: 0.67796 | training_acc: 74.57102%\n"
     ]
    },
    {
     "name": "stderr",
     "output_type": "stream",
     "text": [
      "Planifying: 100%|███████████████████████████████| 632/632 [00:27<00:00, 22.76it/s]\n"
     ]
    },
    {
     "name": "stdout",
     "output_type": "stream",
     "text": [
      "tensor([2, 0, 3, 4, 1, 1, 3, 1, 3, 2], device='cuda:0')\n",
      "tensor([4, 0, 3, 4, 1, 1, 3, 1, 1, 2], device='cuda:0')\n",
      "Epoch: 28/100 | lr: 0.000972 | avg_loss: 0.66993 | training_acc: 74.88226%\n"
     ]
    },
    {
     "name": "stderr",
     "output_type": "stream",
     "text": [
      "Planifying: 100%|███████████████████████████████| 632/632 [00:27<00:00, 22.74it/s]\n"
     ]
    },
    {
     "name": "stdout",
     "output_type": "stream",
     "text": [
      "tensor([3, 1, 4, 1, 2, 0, 2, 5, 1, 1], device='cuda:0')\n",
      "tensor([3, 1, 4, 1, 2, 0, 3, 2, 1, 1], device='cuda:0')\n",
      "Epoch: 29/100 | lr: 0.000972 | avg_loss: 0.66278 | training_acc: 75.22154%\n"
     ]
    },
    {
     "name": "stderr",
     "output_type": "stream",
     "text": [
      "Planifying: 100%|███████████████████████████████| 632/632 [00:27<00:00, 22.72it/s]\n"
     ]
    },
    {
     "name": "stdout",
     "output_type": "stream",
     "text": [
      "tensor([1, 0, 2, 1, 3, 1, 4, 4, 3, 1], device='cuda:0')\n",
      "tensor([1, 0, 2, 1, 3, 1, 4, 4, 3, 3], device='cuda:0')\n",
      "Epoch: 30/100 | lr: 0.000972 | avg_loss: 0.65511 | training_acc: 75.46960%\n"
     ]
    },
    {
     "name": "stderr",
     "output_type": "stream",
     "text": [
      "Planifying: 100%|███████████████████████████████| 632/632 [00:27<00:00, 22.69it/s]\n"
     ]
    },
    {
     "name": "stdout",
     "output_type": "stream",
     "text": [
      "tensor([1, 1, 4, 1, 0, 2, 3, 0, 1, 1], device='cuda:0')\n",
      "tensor([1, 1, 4, 1, 0, 2, 2, 0, 1, 1], device='cuda:0')\n",
      "Epoch: 31/100 | lr: 0.000972 | avg_loss: 0.64716 | training_acc: 75.82328%\n"
     ]
    },
    {
     "name": "stderr",
     "output_type": "stream",
     "text": [
      "Planifying: 100%|███████████████████████████████| 632/632 [00:28<00:00, 22.11it/s]\n"
     ]
    },
    {
     "name": "stdout",
     "output_type": "stream",
     "text": [
      "tensor([1, 4, 1, 0, 3, 3, 1, 4, 2, 1], device='cuda:0')\n",
      "tensor([1, 4, 1, 0, 1, 3, 1, 1, 1, 1], device='cuda:0')\n",
      "Epoch: 32/100 | lr: 0.000972 | avg_loss: 0.63988 | training_acc: 76.01093%\n"
     ]
    },
    {
     "name": "stderr",
     "output_type": "stream",
     "text": [
      "Planifying: 100%|███████████████████████████████| 632/632 [00:28<00:00, 22.14it/s]\n"
     ]
    },
    {
     "name": "stdout",
     "output_type": "stream",
     "text": [
      "tensor([0, 2, 4, 3, 1, 1, 1, 3, 1, 2], device='cuda:0')\n",
      "tensor([0, 2, 4, 1, 3, 1, 1, 1, 1, 2], device='cuda:0')\n",
      "Epoch: 33/100 | lr: 0.000972 | avg_loss: 0.63264 | training_acc: 76.30925%\n"
     ]
    },
    {
     "name": "stderr",
     "output_type": "stream",
     "text": [
      "Planifying: 100%|███████████████████████████████| 632/632 [00:27<00:00, 22.63it/s]\n"
     ]
    },
    {
     "name": "stdout",
     "output_type": "stream",
     "text": [
      "tensor([1, 1, 3, 0, 2, 1, 4, 4, 3, 1], device='cuda:0')\n",
      "tensor([1, 1, 3, 0, 2, 1, 4, 4, 3, 1], device='cuda:0')\n",
      "Epoch: 34/100 | lr: 0.000972 | avg_loss: 0.62572 | training_acc: 76.59221%\n"
     ]
    },
    {
     "name": "stderr",
     "output_type": "stream",
     "text": [
      "Planifying: 100%|███████████████████████████████| 632/632 [00:27<00:00, 22.72it/s]\n"
     ]
    },
    {
     "name": "stdout",
     "output_type": "stream",
     "text": [
      "tensor([4, 4, 1, 2, 0, 1, 3, 2, 1, 1], device='cuda:0')\n",
      "tensor([4, 4, 1, 2, 0, 1, 2, 3, 3, 1], device='cuda:0')\n",
      "Epoch: 35/100 | lr: 0.000972 | avg_loss: 0.61934 | training_acc: 76.87385%\n"
     ]
    },
    {
     "name": "stderr",
     "output_type": "stream",
     "text": [
      "Planifying: 100%|███████████████████████████████| 632/632 [00:27<00:00, 22.72it/s]\n"
     ]
    },
    {
     "name": "stdout",
     "output_type": "stream",
     "text": [
      "tensor([4, 3, 1, 1, 4, 0, 2, 1, 0, 4], device='cuda:0')\n",
      "tensor([4, 1, 1, 1, 4, 0, 2, 1, 0, 4], device='cuda:0')\n",
      "Epoch: 36/100 | lr: 0.000972 | avg_loss: 0.61214 | training_acc: 77.12551%\n"
     ]
    },
    {
     "name": "stderr",
     "output_type": "stream",
     "text": [
      "Planifying: 100%|███████████████████████████████| 632/632 [00:28<00:00, 22.12it/s]\n"
     ]
    },
    {
     "name": "stdout",
     "output_type": "stream",
     "text": [
      "tensor([0, 1, 4, 1, 1, 2, 3, 3, 3, 1], device='cuda:0')\n",
      "tensor([0, 1, 4, 1, 1, 4, 3, 3, 4, 1], device='cuda:0')\n",
      "Epoch: 37/100 | lr: 0.000972 | avg_loss: 0.60627 | training_acc: 77.33576%\n"
     ]
    },
    {
     "name": "stderr",
     "output_type": "stream",
     "text": [
      "Planifying: 100%|███████████████████████████████| 632/632 [00:27<00:00, 22.58it/s]\n"
     ]
    },
    {
     "name": "stdout",
     "output_type": "stream",
     "text": [
      "tensor([4, 3, 1, 0, 2, 1, 3, 5, 3, 1], device='cuda:0')\n",
      "tensor([4, 3, 1, 0, 2, 1, 3, 4, 3, 1], device='cuda:0')\n",
      "Epoch: 38/100 | lr: 0.000972 | avg_loss: 0.59823 | training_acc: 77.65646%\n"
     ]
    },
    {
     "name": "stderr",
     "output_type": "stream",
     "text": [
      "Planifying: 100%|███████████████████████████████| 632/632 [00:27<00:00, 22.71it/s]\n"
     ]
    },
    {
     "name": "stdout",
     "output_type": "stream",
     "text": [
      "tensor([3, 0, 5, 1, 2, 3, 1, 1, 1, 3], device='cuda:0')\n",
      "tensor([1, 1, 3, 1, 1, 3, 2, 1, 4, 3], device='cuda:0')\n",
      "Epoch: 39/100 | lr: 0.000972 | avg_loss: 0.59345 | training_acc: 77.86453%\n"
     ]
    },
    {
     "name": "stderr",
     "output_type": "stream",
     "text": [
      "Planifying: 100%|███████████████████████████████| 632/632 [00:27<00:00, 22.75it/s]\n"
     ]
    },
    {
     "name": "stdout",
     "output_type": "stream",
     "text": [
      "tensor([2, 3, 1, 0, 1, 3, 1, 3, 0, 1], device='cuda:0')\n",
      "tensor([3, 2, 1, 0, 1, 3, 1, 3, 0, 1], device='cuda:0')\n",
      "Epoch: 40/100 | lr: 0.000972 | avg_loss: 0.58749 | training_acc: 78.05870%\n"
     ]
    },
    {
     "name": "stderr",
     "output_type": "stream",
     "text": [
      "Planifying: 100%|███████████████████████████████| 632/632 [00:27<00:00, 22.75it/s]\n"
     ]
    },
    {
     "name": "stdout",
     "output_type": "stream",
     "text": [
      "tensor([3, 1, 0, 1, 1, 2, 4, 2, 4, 1], device='cuda:0')\n",
      "tensor([3, 1, 0, 1, 1, 4, 4, 1, 4, 1], device='cuda:0')\n",
      "Model saved :)\n",
      "Epoch: 41/100 | lr: 0.0009447839999999999 | avg_loss: 0.58242 | training_acc: 78.35176%\n"
     ]
    },
    {
     "name": "stderr",
     "output_type": "stream",
     "text": [
      "Planifying: 100%|███████████████████████████████| 632/632 [00:28<00:00, 22.09it/s]\n"
     ]
    },
    {
     "name": "stdout",
     "output_type": "stream",
     "text": [
      "tensor([1, 4, 2, 1, 3, 0, 1, 0, 2, 1], device='cuda:0')\n",
      "tensor([1, 4, 2, 1, 2, 0, 1, 1, 3, 1], device='cuda:0')\n",
      "Epoch: 42/100 | lr: 0.0009447839999999999 | avg_loss: 0.57618 | training_acc: 78.54009%\n"
     ]
    },
    {
     "name": "stderr",
     "output_type": "stream",
     "text": [
      "Planifying: 100%|███████████████████████████████| 632/632 [00:27<00:00, 22.78it/s]\n"
     ]
    },
    {
     "name": "stdout",
     "output_type": "stream",
     "text": [
      "tensor([1, 2, 1, 3, 0, 4, 1, 3, 1, 1], device='cuda:0')\n",
      "tensor([1, 1, 1, 3, 0, 4, 1, 3, 0, 1], device='cuda:0')\n",
      "Epoch: 43/100 | lr: 0.0009447839999999999 | avg_loss: 0.57019 | training_acc: 78.76294%\n"
     ]
    },
    {
     "name": "stderr",
     "output_type": "stream",
     "text": [
      "Planifying: 100%|███████████████████████████████| 632/632 [00:27<00:00, 22.71it/s]\n"
     ]
    },
    {
     "name": "stdout",
     "output_type": "stream",
     "text": [
      "tensor([3, 4, 4, 1, 1, 4, 0, 4, 3, 4], device='cuda:0')\n",
      "tensor([3, 4, 2, 1, 1, 3, 0, 4, 3, 2], device='cuda:0')\n",
      "Epoch: 44/100 | lr: 0.0009447839999999999 | avg_loss: 0.56326 | training_acc: 79.02966%\n"
     ]
    },
    {
     "name": "stderr",
     "output_type": "stream",
     "text": [
      "Planifying: 100%|███████████████████████████████| 632/632 [00:27<00:00, 22.68it/s]\n"
     ]
    },
    {
     "name": "stdout",
     "output_type": "stream",
     "text": [
      "tensor([1, 4, 0, 1, 4, 2, 3, 0, 4, 2], device='cuda:0')\n",
      "tensor([1, 4, 0, 1, 4, 3, 2, 0, 4, 2], device='cuda:0')\n",
      "Epoch: 45/100 | lr: 0.0009447839999999999 | avg_loss: 0.55985 | training_acc: 79.15222%\n"
     ]
    },
    {
     "name": "stderr",
     "output_type": "stream",
     "text": [
      "Planifying: 100%|███████████████████████████████| 632/632 [00:29<00:00, 21.70it/s]\n"
     ]
    },
    {
     "name": "stdout",
     "output_type": "stream",
     "text": [
      "tensor([0, 2, 1, 4, 3, 1, 4, 3, 2, 1], device='cuda:0')\n",
      "tensor([0, 1, 1, 4, 3, 1, 3, 1, 2, 3], device='cuda:0')\n",
      "Epoch: 46/100 | lr: 0.0009447839999999999 | avg_loss: 0.55616 | training_acc: 79.29363%\n"
     ]
    },
    {
     "name": "stderr",
     "output_type": "stream",
     "text": [
      "Planifying: 100%|███████████████████████████████| 632/632 [00:28<00:00, 22.39it/s]\n"
     ]
    },
    {
     "name": "stdout",
     "output_type": "stream",
     "text": [
      "tensor([2, 0, 1, 4, 3, 4, 1, 1, 1, 4], device='cuda:0')\n",
      "tensor([2, 0, 1, 4, 3, 4, 2, 1, 3, 4], device='cuda:0')\n",
      "Epoch: 47/100 | lr: 0.0009447839999999999 | avg_loss: 0.55049 | training_acc: 79.47503%\n"
     ]
    },
    {
     "name": "stderr",
     "output_type": "stream",
     "text": [
      "Planifying: 100%|███████████████████████████████| 632/632 [00:27<00:00, 22.77it/s]\n"
     ]
    },
    {
     "name": "stdout",
     "output_type": "stream",
     "text": [
      "tensor([3, 4, 1, 0, 2, 3, 1, 1, 1, 1], device='cuda:0')\n",
      "tensor([3, 4, 2, 0, 2, 3, 1, 1, 1, 1], device='cuda:0')\n",
      "Epoch: 48/100 | lr: 0.0009447839999999999 | avg_loss: 0.54385 | training_acc: 79.76426%\n"
     ]
    },
    {
     "name": "stderr",
     "output_type": "stream",
     "text": [
      "Planifying: 100%|███████████████████████████████| 632/632 [00:27<00:00, 22.67it/s]\n"
     ]
    },
    {
     "name": "stdout",
     "output_type": "stream",
     "text": [
      "tensor([3, 1, 4, 1, 1, 0, 2, 1, 1, 2], device='cuda:0')\n",
      "tensor([3, 1, 4, 1, 1, 0, 2, 0, 1, 2], device='cuda:0')\n",
      "Epoch: 49/100 | lr: 0.0009447839999999999 | avg_loss: 0.54127 | training_acc: 79.84156%\n"
     ]
    },
    {
     "name": "stderr",
     "output_type": "stream",
     "text": [
      "Planifying: 100%|███████████████████████████████| 632/632 [00:27<00:00, 22.74it/s]\n"
     ]
    },
    {
     "name": "stdout",
     "output_type": "stream",
     "text": [
      "tensor([3, 4, 1, 3, 0, 1, 2, 1, 4, 1], device='cuda:0')\n",
      "tensor([3, 4, 1, 3, 0, 1, 1, 1, 4, 1], device='cuda:0')\n",
      "Epoch: 50/100 | lr: 0.0009447839999999999 | avg_loss: 0.53597 | training_acc: 80.05079%\n"
     ]
    },
    {
     "name": "stderr",
     "output_type": "stream",
     "text": [
      "Planifying: 100%|███████████████████████████████| 632/632 [00:27<00:00, 22.75it/s]\n"
     ]
    },
    {
     "name": "stdout",
     "output_type": "stream",
     "text": [
      "tensor([1, 0, 4, 1, 3, 1, 2, 1, 4, 1], device='cuda:0')\n",
      "tensor([1, 0, 4, 1, 3, 1, 1, 1, 4, 1], device='cuda:0')\n",
      "Epoch: 51/100 | lr: 0.0009447839999999999 | avg_loss: 0.53337 | training_acc: 80.14965%\n"
     ]
    },
    {
     "name": "stderr",
     "output_type": "stream",
     "text": [
      "Planifying: 100%|███████████████████████████████| 632/632 [00:28<00:00, 22.00it/s]\n"
     ]
    },
    {
     "name": "stdout",
     "output_type": "stream",
     "text": [
      "tensor([1, 2, 3, 1, 1, 0, 1, 1, 4, 3], device='cuda:0')\n",
      "tensor([1, 2, 3, 2, 1, 0, 1, 1, 4, 3], device='cuda:0')\n",
      "Epoch: 52/100 | lr: 0.0009447839999999999 | avg_loss: 0.52819 | training_acc: 80.34716%\n"
     ]
    },
    {
     "name": "stderr",
     "output_type": "stream",
     "text": [
      "Planifying: 100%|███████████████████████████████| 632/632 [00:27<00:00, 22.73it/s]\n"
     ]
    },
    {
     "name": "stdout",
     "output_type": "stream",
     "text": [
      "tensor([4, 1, 4, 3, 2, 1, 0, 1, 1, 3], device='cuda:0')\n",
      "tensor([4, 1, 4, 3, 2, 1, 0, 1, 1, 3], device='cuda:0')\n",
      "Epoch: 53/100 | lr: 0.0009447839999999999 | avg_loss: 0.52525 | training_acc: 80.45812%\n"
     ]
    },
    {
     "name": "stderr",
     "output_type": "stream",
     "text": [
      "Planifying: 100%|███████████████████████████████| 632/632 [00:27<00:00, 22.74it/s]\n"
     ]
    },
    {
     "name": "stdout",
     "output_type": "stream",
     "text": [
      "tensor([1, 0, 2, 1, 4, 1, 3, 1, 1, 4], device='cuda:0')\n",
      "tensor([1, 0, 1, 1, 4, 3, 2, 1, 1, 4], device='cuda:0')\n",
      "Epoch: 54/100 | lr: 0.0009447839999999999 | avg_loss: 0.52179 | training_acc: 80.61886%\n"
     ]
    },
    {
     "name": "stderr",
     "output_type": "stream",
     "text": [
      "Planifying: 100%|███████████████████████████████| 632/632 [00:28<00:00, 22.18it/s]\n"
     ]
    },
    {
     "name": "stdout",
     "output_type": "stream",
     "text": [
      "tensor([0, 3, 1, 2, 1, 1, 4, 5, 2, 4], device='cuda:0')\n",
      "tensor([0, 3, 1, 2, 1, 1, 4, 4, 1, 3], device='cuda:0')\n",
      "Epoch: 55/100 | lr: 0.0009447839999999999 | avg_loss: 0.51919 | training_acc: 80.71925%\n"
     ]
    },
    {
     "name": "stderr",
     "output_type": "stream",
     "text": [
      "Planifying: 100%|███████████████████████████████| 632/632 [00:27<00:00, 22.79it/s]\n"
     ]
    },
    {
     "name": "stdout",
     "output_type": "stream",
     "text": [
      "tensor([1, 3, 4, 0, 2, 4, 1, 4, 0, 3], device='cuda:0')\n",
      "tensor([1, 3, 4, 0, 3, 4, 1, 4, 0, 3], device='cuda:0')\n",
      "Epoch: 56/100 | lr: 0.0009447839999999999 | avg_loss: 0.51359 | training_acc: 80.89182%\n"
     ]
    },
    {
     "name": "stderr",
     "output_type": "stream",
     "text": [
      "Planifying: 100%|███████████████████████████████| 632/632 [00:27<00:00, 22.73it/s]\n"
     ]
    },
    {
     "name": "stdout",
     "output_type": "stream",
     "text": [
      "tensor([1, 0, 4, 1, 2, 3, 1, 2, 4, 1], device='cuda:0')\n",
      "tensor([1, 0, 4, 1, 2, 3, 1, 2, 4, 1], device='cuda:0')\n",
      "Epoch: 57/100 | lr: 0.0009447839999999999 | avg_loss: 0.51195 | training_acc: 81.03259%\n"
     ]
    },
    {
     "name": "stderr",
     "output_type": "stream",
     "text": [
      "Planifying: 100%|███████████████████████████████| 632/632 [00:27<00:00, 22.76it/s]\n"
     ]
    },
    {
     "name": "stdout",
     "output_type": "stream",
     "text": [
      "tensor([2, 0, 1, 4, 1, 3, 1, 3, 4, 1], device='cuda:0')\n",
      "tensor([3, 0, 3, 4, 1, 2, 1, 2, 4, 1], device='cuda:0')\n",
      "Epoch: 58/100 | lr: 0.0009447839999999999 | avg_loss: 0.50840 | training_acc: 81.09057%\n"
     ]
    },
    {
     "name": "stderr",
     "output_type": "stream",
     "text": [
      "Planifying: 100%|███████████████████████████████| 632/632 [00:27<00:00, 22.82it/s]\n"
     ]
    },
    {
     "name": "stdout",
     "output_type": "stream",
     "text": [
      "tensor([4, 2, 1, 1, 0, 3, 1, 1, 2, 0], device='cuda:0')\n",
      "tensor([4, 2, 1, 1, 0, 3, 1, 1, 2, 0], device='cuda:0')\n",
      "Epoch: 59/100 | lr: 0.0009447839999999999 | avg_loss: 0.50434 | training_acc: 81.34344%\n"
     ]
    },
    {
     "name": "stderr",
     "output_type": "stream",
     "text": [
      "Planifying: 100%|███████████████████████████████| 632/632 [00:27<00:00, 22.90it/s]\n"
     ]
    },
    {
     "name": "stdout",
     "output_type": "stream",
     "text": [
      "tensor([3, 1, 4, 1, 2, 0, 2, 1, 3, 1], device='cuda:0')\n",
      "tensor([3, 1, 4, 1, 3, 0, 2, 2, 3, 1], device='cuda:0')\n",
      "Epoch: 60/100 | lr: 0.0009447839999999999 | avg_loss: 0.50187 | training_acc: 81.43841%\n"
     ]
    },
    {
     "name": "stderr",
     "output_type": "stream",
     "text": [
      "Planifying: 100%|███████████████████████████████| 632/632 [00:28<00:00, 22.44it/s]\n"
     ]
    },
    {
     "name": "stdout",
     "output_type": "stream",
     "text": [
      "tensor([1, 0, 4, 1, 2, 1, 3, 3, 1, 1], device='cuda:0')\n",
      "tensor([1, 0, 4, 1, 2, 3, 3, 1, 1, 1], device='cuda:0')\n",
      "Model saved :)\n",
      "Epoch: 61/100 | lr: 0.0009183300479999999 | avg_loss: 0.49759 | training_acc: 81.58666%\n"
     ]
    },
    {
     "name": "stderr",
     "output_type": "stream",
     "text": [
      "Planifying: 100%|███████████████████████████████| 632/632 [00:27<00:00, 23.09it/s]\n"
     ]
    },
    {
     "name": "stdout",
     "output_type": "stream",
     "text": [
      "tensor([3, 1, 3, 1, 2, 4, 0, 1, 0, 1], device='cuda:0')\n",
      "tensor([3, 1, 3, 1, 2, 4, 0, 1, 0, 1], device='cuda:0')\n",
      "Epoch: 62/100 | lr: 0.0009183300479999999 | avg_loss: 0.49539 | training_acc: 81.65164%\n"
     ]
    },
    {
     "name": "stderr",
     "output_type": "stream",
     "text": [
      "Planifying: 100%|███████████████████████████████| 632/632 [00:27<00:00, 23.13it/s]\n"
     ]
    },
    {
     "name": "stdout",
     "output_type": "stream",
     "text": [
      "tensor([0, 3, 1, 1, 4, 2, 1, 3, 1, 4], device='cuda:0')\n",
      "tensor([0, 3, 1, 1, 4, 4, 3, 3, 1, 4], device='cuda:0')\n",
      "Epoch: 63/100 | lr: 0.0009183300479999999 | avg_loss: 0.49126 | training_acc: 81.87316%\n"
     ]
    },
    {
     "name": "stderr",
     "output_type": "stream",
     "text": [
      "Planifying: 100%|███████████████████████████████| 632/632 [00:28<00:00, 22.37it/s]\n"
     ]
    },
    {
     "name": "stdout",
     "output_type": "stream",
     "text": [
      "tensor([0, 1, 2, 3, 1, 1, 3, 4, 3, 0], device='cuda:0')\n",
      "tensor([0, 1, 1, 3, 1, 1, 3, 3, 3, 0], device='cuda:0')\n",
      "Epoch: 64/100 | lr: 0.0009183300479999999 | avg_loss: 0.49130 | training_acc: 81.81309%\n"
     ]
    },
    {
     "name": "stderr",
     "output_type": "stream",
     "text": [
      "Planifying: 100%|███████████████████████████████| 632/632 [00:27<00:00, 23.18it/s]\n"
     ]
    },
    {
     "name": "stdout",
     "output_type": "stream",
     "text": [
      "tensor([4, 0, 1, 2, 3, 1, 4, 4, 1, 0], device='cuda:0')\n",
      "tensor([4, 0, 1, 2, 2, 1, 4, 4, 1, 0], device='cuda:0')\n",
      "Epoch: 65/100 | lr: 0.0009183300479999999 | avg_loss: 0.48680 | training_acc: 81.97998%\n"
     ]
    },
    {
     "name": "stderr",
     "output_type": "stream",
     "text": [
      "Planifying: 100%|███████████████████████████████| 632/632 [00:27<00:00, 23.09it/s]\n"
     ]
    },
    {
     "name": "stdout",
     "output_type": "stream",
     "text": [
      "tensor([0, 1, 1, 1, 3, 2, 3, 1, 4, 2], device='cuda:0')\n",
      "tensor([0, 1, 1, 1, 3, 1, 3, 1, 4, 3], device='cuda:0')\n",
      "Epoch: 66/100 | lr: 0.0009183300479999999 | avg_loss: 0.48468 | training_acc: 82.12085%\n"
     ]
    },
    {
     "name": "stderr",
     "output_type": "stream",
     "text": [
      "Planifying: 100%|███████████████████████████████| 632/632 [00:27<00:00, 23.06it/s]\n"
     ]
    },
    {
     "name": "stdout",
     "output_type": "stream",
     "text": [
      "tensor([1, 3, 1, 0, 1, 4, 2, 0, 3, 1], device='cuda:0')\n",
      "tensor([0, 3, 1, 0, 1, 4, 2, 0, 3, 1], device='cuda:0')\n",
      "Epoch: 67/100 | lr: 0.0009183300479999999 | avg_loss: 0.48415 | training_acc: 82.13164%\n"
     ]
    },
    {
     "name": "stderr",
     "output_type": "stream",
     "text": [
      "Planifying: 100%|███████████████████████████████| 632/632 [00:27<00:00, 23.01it/s]\n"
     ]
    },
    {
     "name": "stdout",
     "output_type": "stream",
     "text": [
      "tensor([1, 1, 0, 4, 1, 3, 2, 1, 1, 4], device='cuda:0')\n",
      "tensor([2, 1, 0, 4, 1, 3, 1, 1, 1, 3], device='cuda:0')\n",
      "Epoch: 68/100 | lr: 0.0009183300479999999 | avg_loss: 0.47966 | training_acc: 82.33016%\n"
     ]
    },
    {
     "name": "stderr",
     "output_type": "stream",
     "text": [
      "Planifying: 100%|███████████████████████████████| 632/632 [00:27<00:00, 23.17it/s]\n"
     ]
    },
    {
     "name": "stdout",
     "output_type": "stream",
     "text": [
      "tensor([4, 0, 4, 3, 2, 1, 1, 3, 1, 0], device='cuda:0')\n",
      "tensor([3, 0, 4, 3, 2, 1, 1, 3, 1, 0], device='cuda:0')\n",
      "Epoch: 69/100 | lr: 0.0009183300479999999 | avg_loss: 0.47740 | training_acc: 82.36686%\n"
     ]
    },
    {
     "name": "stderr",
     "output_type": "stream",
     "text": [
      "Planifying: 100%|███████████████████████████████| 632/632 [00:28<00:00, 22.50it/s]\n"
     ]
    },
    {
     "name": "stdout",
     "output_type": "stream",
     "text": [
      "tensor([1, 2, 1, 0, 3, 3, 4, 1, 2, 4], device='cuda:0')\n",
      "tensor([0, 1, 1, 1, 3, 3, 1, 1, 1, 4], device='cuda:0')\n",
      "Epoch: 70/100 | lr: 0.0009183300479999999 | avg_loss: 0.47588 | training_acc: 82.46682%\n"
     ]
    },
    {
     "name": "stderr",
     "output_type": "stream",
     "text": [
      "Planifying: 100%|███████████████████████████████| 632/632 [00:27<00:00, 23.22it/s]\n"
     ]
    },
    {
     "name": "stdout",
     "output_type": "stream",
     "text": [
      "tensor([1, 1, 0, 3, 4, 1, 1, 2, 4, 0], device='cuda:0')\n",
      "tensor([1, 1, 0, 3, 4, 1, 1, 2, 4, 0], device='cuda:0')\n",
      "Epoch: 71/100 | lr: 0.0009183300479999999 | avg_loss: 0.47398 | training_acc: 82.52915%\n"
     ]
    },
    {
     "name": "stderr",
     "output_type": "stream",
     "text": [
      "Planifying: 100%|███████████████████████████████| 632/632 [00:27<00:00, 23.21it/s]\n"
     ]
    },
    {
     "name": "stdout",
     "output_type": "stream",
     "text": [
      "tensor([3, 1, 0, 3, 1, 1, 1, 1, 0, 1], device='cuda:0')\n",
      "tensor([3, 1, 0, 3, 1, 1, 1, 1, 0, 1], device='cuda:0')\n",
      "Epoch: 72/100 | lr: 0.0009183300479999999 | avg_loss: 0.47024 | training_acc: 82.71088%\n"
     ]
    },
    {
     "name": "stderr",
     "output_type": "stream",
     "text": [
      "Planifying: 100%|███████████████████████████████| 632/632 [00:27<00:00, 23.22it/s]\n"
     ]
    },
    {
     "name": "stdout",
     "output_type": "stream",
     "text": [
      "tensor([1, 4, 2, 0, 3, 1, 1, 3, 2, 0], device='cuda:0')\n",
      "tensor([1, 4, 2, 0, 3, 1, 1, 3, 2, 0], device='cuda:0')\n",
      "Epoch: 73/100 | lr: 0.0009183300479999999 | avg_loss: 0.46984 | training_acc: 82.67522%\n"
     ]
    },
    {
     "name": "stderr",
     "output_type": "stream",
     "text": [
      "Planifying: 100%|███████████████████████████████| 632/632 [00:27<00:00, 22.59it/s]\n"
     ]
    },
    {
     "name": "stdout",
     "output_type": "stream",
     "text": [
      "tensor([1, 1, 0, 2, 4, 4, 4, 3, 0, 4], device='cuda:0')\n",
      "tensor([1, 1, 0, 3, 4, 4, 1, 1, 0, 4], device='cuda:0')\n",
      "Epoch: 74/100 | lr: 0.0009183300479999999 | avg_loss: 0.46675 | training_acc: 82.79234%\n"
     ]
    },
    {
     "name": "stderr",
     "output_type": "stream",
     "text": [
      "Planifying: 100%|███████████████████████████████| 632/632 [00:27<00:00, 23.24it/s]\n"
     ]
    },
    {
     "name": "stdout",
     "output_type": "stream",
     "text": [
      "tensor([3, 1, 1, 2, 0, 3, 1, 4, 2, 1], device='cuda:0')\n",
      "tensor([1, 1, 1, 1, 0, 3, 1, 3, 4, 1], device='cuda:0')\n",
      "Epoch: 75/100 | lr: 0.0009183300479999999 | avg_loss: 0.46387 | training_acc: 82.94040%\n"
     ]
    },
    {
     "name": "stderr",
     "output_type": "stream",
     "text": [
      "Planifying: 100%|███████████████████████████████| 632/632 [00:27<00:00, 23.29it/s]\n"
     ]
    },
    {
     "name": "stdout",
     "output_type": "stream",
     "text": [
      "tensor([1, 3, 2, 4, 1, 4, 0, 0, 2, 1], device='cuda:0')\n",
      "tensor([1, 3, 1, 4, 1, 2, 0, 0, 3, 1], device='cuda:0')\n",
      "Epoch: 76/100 | lr: 0.0009183300479999999 | avg_loss: 0.46279 | training_acc: 83.02069%\n"
     ]
    },
    {
     "name": "stderr",
     "output_type": "stream",
     "text": [
      "Planifying: 100%|███████████████████████████████| 632/632 [00:27<00:00, 23.21it/s]\n"
     ]
    },
    {
     "name": "stdout",
     "output_type": "stream",
     "text": [
      "tensor([3, 0, 1, 3, 1, 2, 4, 1, 2, 0], device='cuda:0')\n",
      "tensor([3, 0, 1, 2, 1, 3, 4, 1, 1, 0], device='cuda:0')\n",
      "Epoch: 77/100 | lr: 0.0009183300479999999 | avg_loss: 0.45993 | training_acc: 83.08795%\n"
     ]
    },
    {
     "name": "stderr",
     "output_type": "stream",
     "text": [
      "Planifying: 100%|███████████████████████████████| 632/632 [00:27<00:00, 23.24it/s]\n"
     ]
    },
    {
     "name": "stdout",
     "output_type": "stream",
     "text": [
      "tensor([3, 1, 2, 0, 1, 4, 1, 3, 4, 1], device='cuda:0')\n",
      "tensor([3, 1, 2, 0, 1, 4, 1, 3, 4, 1], device='cuda:0')\n",
      "Epoch: 78/100 | lr: 0.0009183300479999999 | avg_loss: 0.45867 | training_acc: 83.13283%\n"
     ]
    },
    {
     "name": "stderr",
     "output_type": "stream",
     "text": [
      "Planifying: 100%|███████████████████████████████| 632/632 [00:28<00:00, 22.47it/s]\n"
     ]
    },
    {
     "name": "stdout",
     "output_type": "stream",
     "text": [
      "tensor([1, 2, 3, 4, 0, 1, 2, 4, 0, 1], device='cuda:0')\n",
      "tensor([1, 2, 3, 4, 0, 1, 2, 1, 0, 1], device='cuda:0')\n",
      "Epoch: 79/100 | lr: 0.0009183300479999999 | avg_loss: 0.45676 | training_acc: 83.19493%\n"
     ]
    },
    {
     "name": "stderr",
     "output_type": "stream",
     "text": [
      "Planifying: 100%|███████████████████████████████| 632/632 [00:27<00:00, 23.29it/s]\n"
     ]
    },
    {
     "name": "stdout",
     "output_type": "stream",
     "text": [
      "tensor([1, 2, 3, 1, 4, 0, 1, 3, 0, 3], device='cuda:0')\n",
      "tensor([1, 1, 1, 1, 4, 0, 1, 3, 0, 2], device='cuda:0')\n",
      "Epoch: 80/100 | lr: 0.0009183300479999999 | avg_loss: 0.45699 | training_acc: 83.21734%\n"
     ]
    },
    {
     "name": "stderr",
     "output_type": "stream",
     "text": [
      "Planifying: 100%|███████████████████████████████| 632/632 [00:27<00:00, 23.25it/s]\n"
     ]
    },
    {
     "name": "stdout",
     "output_type": "stream",
     "text": [
      "tensor([3, 1, 1, 3, 1, 0, 4, 2, 3, 3], device='cuda:0')\n",
      "tensor([3, 1, 1, 3, 1, 0, 4, 2, 3, 3], device='cuda:0')\n",
      "Model saved :)\n",
      "Epoch: 81/100 | lr: 0.0008926168066559999 | avg_loss: 0.45296 | training_acc: 83.37391%\n"
     ]
    },
    {
     "name": "stderr",
     "output_type": "stream",
     "text": [
      "Planifying: 100%|███████████████████████████████| 632/632 [00:27<00:00, 23.28it/s]\n"
     ]
    },
    {
     "name": "stdout",
     "output_type": "stream",
     "text": [
      "tensor([4, 1, 0, 1, 2, 1, 3, 1, 3, 0], device='cuda:0')\n",
      "tensor([4, 1, 0, 1, 2, 1, 3, 1, 3, 0], device='cuda:0')\n",
      "Epoch: 82/100 | lr: 0.0008926168066559999 | avg_loss: 0.44905 | training_acc: 83.56906%\n"
     ]
    },
    {
     "name": "stderr",
     "output_type": "stream",
     "text": [
      "Planifying: 100%|███████████████████████████████| 632/632 [00:27<00:00, 22.66it/s]\n"
     ]
    },
    {
     "name": "stdout",
     "output_type": "stream",
     "text": [
      "tensor([2, 3, 1, 1, 0, 1, 1, 2, 3, 0], device='cuda:0')\n",
      "tensor([2, 3, 1, 1, 0, 1, 1, 3, 3, 0], device='cuda:0')\n",
      "Epoch: 83/100 | lr: 0.0008926168066559999 | avg_loss: 0.45002 | training_acc: 83.52604%\n"
     ]
    },
    {
     "name": "stderr",
     "output_type": "stream",
     "text": [
      "Planifying: 100%|███████████████████████████████| 632/632 [00:27<00:00, 23.26it/s]\n"
     ]
    },
    {
     "name": "stdout",
     "output_type": "stream",
     "text": [
      "tensor([4, 1, 1, 3, 2, 4, 0, 5, 1, 1], device='cuda:0')\n",
      "tensor([2, 1, 1, 3, 1, 4, 0, 3, 1, 1], device='cuda:0')\n",
      "Epoch: 84/100 | lr: 0.0008926168066559999 | avg_loss: 0.44786 | training_acc: 83.60110%\n"
     ]
    },
    {
     "name": "stderr",
     "output_type": "stream",
     "text": [
      "Planifying: 100%|███████████████████████████████| 632/632 [00:27<00:00, 23.26it/s]\n"
     ]
    },
    {
     "name": "stdout",
     "output_type": "stream",
     "text": [
      "tensor([1, 1, 0, 2, 3, 4, 1, 4, 1, 0], device='cuda:0')\n",
      "tensor([1, 0, 0, 2, 3, 2, 1, 4, 1, 0], device='cuda:0')\n",
      "Epoch: 85/100 | lr: 0.0008926168066559999 | avg_loss: 0.44636 | training_acc: 83.66761%\n"
     ]
    },
    {
     "name": "stderr",
     "output_type": "stream",
     "text": [
      "Planifying: 100%|███████████████████████████████| 632/632 [00:27<00:00, 23.24it/s]\n"
     ]
    },
    {
     "name": "stdout",
     "output_type": "stream",
     "text": [
      "tensor([0, 4, 1, 1, 2, 4, 3, 4, 3, 0], device='cuda:0')\n",
      "tensor([0, 1, 1, 1, 1, 2, 3, 4, 3, 0], device='cuda:0')\n",
      "Epoch: 86/100 | lr: 0.0008926168066559999 | avg_loss: 0.44497 | training_acc: 83.71447%\n"
     ]
    },
    {
     "name": "stderr",
     "output_type": "stream",
     "text": [
      "Planifying: 100%|███████████████████████████████| 632/632 [00:27<00:00, 23.33it/s]\n"
     ]
    },
    {
     "name": "stdout",
     "output_type": "stream",
     "text": [
      "tensor([0, 4, 1, 2, 1, 1, 3, 3, 4, 0], device='cuda:0')\n",
      "tensor([0, 4, 1, 2, 1, 1, 3, 3, 4, 0], device='cuda:0')\n",
      "Epoch: 87/100 | lr: 0.0008926168066559999 | avg_loss: 0.44261 | training_acc: 83.83234%\n"
     ]
    },
    {
     "name": "stderr",
     "output_type": "stream",
     "text": [
      "Planifying: 100%|███████████████████████████████| 632/632 [00:27<00:00, 23.20it/s]\n"
     ]
    },
    {
     "name": "stdout",
     "output_type": "stream",
     "text": [
      "tensor([1, 1, 1, 4, 2, 4, 3, 0, 3, 1], device='cuda:0')\n",
      "tensor([1, 1, 1, 4, 3, 4, 1, 0, 2, 1], device='cuda:0')\n",
      "Epoch: 88/100 | lr: 0.0008926168066559999 | avg_loss: 0.44029 | training_acc: 83.93879%\n"
     ]
    },
    {
     "name": "stderr",
     "output_type": "stream",
     "text": [
      "Planifying: 100%|███████████████████████████████| 632/632 [00:27<00:00, 22.67it/s]\n"
     ]
    },
    {
     "name": "stdout",
     "output_type": "stream",
     "text": [
      "tensor([3, 0, 4, 2, 1, 1, 3, 1, 5, 0], device='cuda:0')\n",
      "tensor([2, 0, 4, 3, 1, 1, 1, 1, 3, 0], device='cuda:0')\n",
      "Epoch: 89/100 | lr: 0.0008926168066559999 | avg_loss: 0.43912 | training_acc: 83.89791%\n"
     ]
    },
    {
     "name": "stderr",
     "output_type": "stream",
     "text": [
      "Planifying: 100%|███████████████████████████████| 632/632 [00:27<00:00, 23.32it/s]\n"
     ]
    },
    {
     "name": "stdout",
     "output_type": "stream",
     "text": [
      "tensor([4, 0, 1, 1, 3, 4, 2, 3, 1, 3], device='cuda:0')\n",
      "tensor([4, 0, 1, 1, 3, 2, 4, 2, 3, 3], device='cuda:0')\n",
      "Epoch: 90/100 | lr: 0.0008926168066559999 | avg_loss: 0.44059 | training_acc: 83.91504%\n"
     ]
    },
    {
     "name": "stderr",
     "output_type": "stream",
     "text": [
      "Planifying: 100%|███████████████████████████████| 632/632 [00:27<00:00, 23.33it/s]\n"
     ]
    },
    {
     "name": "stdout",
     "output_type": "stream",
     "text": [
      "tensor([1, 2, 0, 1, 1, 3, 1, 3, 2, 1], device='cuda:0')\n",
      "tensor([1, 2, 0, 1, 1, 3, 1, 3, 1, 1], device='cuda:0')\n",
      "Epoch: 91/100 | lr: 0.0008926168066559999 | avg_loss: 0.43851 | training_acc: 83.97442%\n"
     ]
    },
    {
     "name": "stderr",
     "output_type": "stream",
     "text": [
      "Planifying: 100%|███████████████████████████████| 632/632 [00:27<00:00, 22.73it/s]\n"
     ]
    },
    {
     "name": "stdout",
     "output_type": "stream",
     "text": [
      "tensor([3, 2, 0, 1, 1, 4, 1, 0, 4, 4], device='cuda:0')\n",
      "tensor([3, 2, 0, 1, 1, 4, 1, 0, 4, 4], device='cuda:0')\n",
      "Epoch: 92/100 | lr: 0.0008926168066559999 | avg_loss: 0.43490 | training_acc: 84.11613%\n"
     ]
    },
    {
     "name": "stderr",
     "output_type": "stream",
     "text": [
      "Planifying: 100%|█████████████████████████████| 632/632 [2:58:59<00:00, 16.99s/it]\n"
     ]
    },
    {
     "name": "stdout",
     "output_type": "stream",
     "text": [
      "tensor([0, 3, 4, 3, 2, 1, 1, 1, 1, 4], device='cuda:0')\n",
      "tensor([0, 3, 4, 3, 2, 1, 1, 1, 1, 4], device='cuda:0')\n",
      "Epoch: 93/100 | lr: 0.0008926168066559999 | avg_loss: 0.43402 | training_acc: 84.14147%\n"
     ]
    },
    {
     "name": "stderr",
     "output_type": "stream",
     "text": [
      "Planifying: 100%|███████████████████████████████| 632/632 [00:42<00:00, 14.76it/s]\n"
     ]
    },
    {
     "name": "stdout",
     "output_type": "stream",
     "text": [
      "tensor([2, 1, 3, 4, 0, 1, 1, 3, 1, 4], device='cuda:0')\n",
      "tensor([2, 1, 3, 4, 0, 1, 1, 3, 1, 4], device='cuda:0')\n",
      "Epoch: 94/100 | lr: 0.0008926168066559999 | avg_loss: 0.43326 | training_acc: 84.20471%\n"
     ]
    },
    {
     "name": "stderr",
     "output_type": "stream",
     "text": [
      "Planifying: 100%|███████████████████████████████| 632/632 [00:55<00:00, 11.43it/s]\n"
     ]
    },
    {
     "name": "stdout",
     "output_type": "stream",
     "text": [
      "tensor([2, 1, 3, 0, 3, 1, 1, 4, 4, 2], device='cuda:0')\n",
      "tensor([3, 1, 3, 0, 3, 3, 1, 4, 2, 2], device='cuda:0')\n",
      "Epoch: 95/100 | lr: 0.0008926168066559999 | avg_loss: 0.43208 | training_acc: 84.24030%\n"
     ]
    },
    {
     "name": "stderr",
     "output_type": "stream",
     "text": [
      "Planifying: 100%|███████████████████████████████| 632/632 [00:59<00:00, 10.66it/s]\n"
     ]
    },
    {
     "name": "stdout",
     "output_type": "stream",
     "text": [
      "tensor([1, 1, 0, 3, 4, 2, 1, 1, 3, 1], device='cuda:0')\n",
      "tensor([1, 1, 0, 3, 4, 2, 1, 1, 3, 1], device='cuda:0')\n",
      "Epoch: 96/100 | lr: 0.0008926168066559999 | avg_loss: 0.43095 | training_acc: 84.24446%\n"
     ]
    },
    {
     "name": "stderr",
     "output_type": "stream",
     "text": [
      "Planifying: 100%|███████████████████████████████| 632/632 [00:59<00:00, 10.64it/s]\n"
     ]
    },
    {
     "name": "stdout",
     "output_type": "stream",
     "text": [
      "tensor([4, 3, 1, 1, 0, 2, 4, 1, 1, 2], device='cuda:0')\n",
      "tensor([4, 3, 1, 1, 0, 2, 4, 1, 1, 2], device='cuda:0')\n",
      "Epoch: 97/100 | lr: 0.0008926168066559999 | avg_loss: 0.42858 | training_acc: 84.39312%\n"
     ]
    },
    {
     "name": "stderr",
     "output_type": "stream",
     "text": [
      "Planifying: 100%|███████████████████████████████| 632/632 [01:01<00:00, 10.27it/s]\n"
     ]
    },
    {
     "name": "stdout",
     "output_type": "stream",
     "text": [
      "tensor([1, 1, 4, 3, 1, 4, 2, 0, 1, 2], device='cuda:0')\n",
      "tensor([1, 1, 3, 3, 1, 4, 2, 0, 1, 2], device='cuda:0')\n",
      "Epoch: 98/100 | lr: 0.0008926168066559999 | avg_loss: 0.42827 | training_acc: 84.42208%\n"
     ]
    },
    {
     "name": "stderr",
     "output_type": "stream",
     "text": [
      "Planifying: 100%|███████████████████████████████| 632/632 [01:00<00:00, 10.48it/s]\n"
     ]
    },
    {
     "name": "stdout",
     "output_type": "stream",
     "text": [
      "tensor([5, 2, 4, 3, 1, 0, 1, 1, 6, 3], device='cuda:0')\n",
      "tensor([4, 4, 2, 3, 1, 0, 1, 3, 4, 3], device='cuda:0')\n",
      "Epoch: 99/100 | lr: 0.0008926168066559999 | avg_loss: 0.42562 | training_acc: 84.48496%\n"
     ]
    },
    {
     "name": "stderr",
     "output_type": "stream",
     "text": [
      "Planifying: 100%|███████████████████████████████| 632/632 [01:00<00:00, 10.49it/s]"
     ]
    },
    {
     "name": "stdout",
     "output_type": "stream",
     "text": [
      "tensor([3, 4, 0, 3, 1, 1, 1, 2, 4, 0], device='cuda:0')\n",
      "tensor([4, 4, 0, 2, 1, 1, 1, 2, 4, 0], device='cuda:0')\n",
      "Epoch: 100/100 | lr: 0.0008926168066559999 | avg_loss: 0.42700 | training_acc: 84.41921%\n"
     ]
    },
    {
     "name": "stderr",
     "output_type": "stream",
     "text": [
      "\n"
     ]
    }
   ],
   "source": [
    "for epoch in range(nu_epochs):\n",
    "    running_loss = 0.0\n",
    "    train_acc    = 0.0\n",
    "    for i, data in tqdm(enumerate(loader), desc='Planifying', total=len(loader)):\n",
    "        optimizer.zero_grad()\n",
    "        \n",
    "        # Forward pass \n",
    "        logits    = model(data.to(device)).to(device)\n",
    "        \n",
    "        # print(logits.shape)\n",
    "        # one_hot_y = F.one_hot(data.roomType_embd, num_classes=number_classes).float()\n",
    "        # computing loss through crossEntropy loss function\n",
    "        loss = criterion(logits, data.roomType_embd)\n",
    "\n",
    "        # Backward pass\n",
    "        loss.backward()\n",
    "\n",
    "        # Updating parameters\n",
    "        optimizer.step()\n",
    "        # current_lr = optimizer.param_groups[0]['lr']\n",
    "        # optimizer = torch.optim.Adam(model.parameters(), lr=scheduler(epoch, current_lr))\n",
    "\n",
    "        # Monitoring\n",
    "        running_loss += loss.item()\n",
    "        train_acc += (torch.argmax(logits, 1).flatten() == data.roomType_embd).type(torch.float).mean().item()\n",
    "        lr = optimizer.param_groups[0]['lr']\n",
    "        \n",
    "        \n",
    "    print(data.roomType_embd[:10])\n",
    "    print(torch.argmax(logits, 1)[:10])\n",
    "        \n",
    "    errors.append(running_loss/batch_size)\n",
    "    acc.append(train_acc/batch_size)\n",
    "\n",
    "    # Updating scheduler each 15 epochs.\n",
    "    scheduler.step()\n",
    "    \n",
    "    # Saving the model.\n",
    "    save_checkpoint(model, optimizer, epoch)\n",
    "    \n",
    "    # Monitoring and printing.\n",
    "    batch_size = len(loader)\n",
    "    print(f'Epoch: {epoch + 1}/{nu_epochs} | lr: {lr} | avg_loss: {running_loss/batch_size:.5f} | training_acc: {train_acc/batch_size * 100:.5f}%')"
   ]
  },
  {
   "cell_type": "code",
   "execution_count": 66,
   "id": "14303ee4",
   "metadata": {
    "tags": []
   },
   "outputs": [
    {
     "data": {
      "image/png": "[encoded data removed]",
      "text/plain": [
       "<Figure size 640x480 with 1 Axes>"
      ]
     },
     "metadata": {},
     "output_type": "display_data"
    }
   ],
   "source": [
    "# plt.plot(errors);\n",
    "plt.plot(acc, label='accuracy');\n",
    "plt.plot(errors, label='error');\n",
    "plt.xlabel('Epochs')\n",
    "plt.title('Monitoring the model')\n",
    "plt.legend();"
   ]
  },
  {
   "cell_type": "markdown",
   "id": "c924dad5-6eb5-40b5-a292-a41ba4f90a08",
   "metadata": {},
   "source": [
    "> Testing random graphs"
   ]
  },
  {
   "cell_type": "code",
   "execution_count": 95,
   "id": "f2b0ac24-5fb6-4b27-af97-7634b028a0ee",
   "metadata": {},
   "outputs": [
    {
     "name": "stdout",
     "output_type": "stream",
     "text": [
      "The real values: tensor([0, 1, 2, 3, 3, 1, 4, 4], device='cuda:0')\n",
      "Predicted values: tensor([0, 1, 2, 3, 3, 1, 4, 4], device='cuda:0')\n"
     ]
    }
   ],
   "source": [
    "idx = random.randint(0, len(Graphs_pyTorch))\n",
    "G = Graphs_pyTorch[idx].to(device)\n",
    "logits = model(G)\n",
    "predicts = torch.argmax(logits, 1)\n",
    "\n",
    "print(f'The real values: {G.roomType_embd}')\n",
    "print(f'Predicted values: {predicts}')"
   ]
  }
 ],
 "metadata": {
  "kernelspec": {
   "display_name": "Python 3 (ipykernel)",
   "language": "python",
   "name": "python3"
  },
  "language_info": {
   "codemirror_mode": {
    "name": "ipython",
    "version": 3
   },
   "file_extension": ".py",
   "mimetype": "text/x-python",
   "name": "python",
   "nbconvert_exporter": "python",
   "pygments_lexer": "ipython3",
   "version": "3.9.16"
  },
  "vscode": {
   "interpreter": {
    "hash": "916dbcbb3f70747c44a77c7bcd40155683ae19c65e1c03b4aa3499c5328201f1"
   }
  }
 },
 "nbformat": 4,
 "nbformat_minor": 5
}
